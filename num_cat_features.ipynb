{
  "nbformat": 4,
  "nbformat_minor": 0,
  "metadata": {
    "colab": {
      "name": "num_cat_features.ipynb",
      "provenance": [],
      "authorship_tag": "ABX9TyNzYGUhKGcgT40H6wY8keoZ",
      "include_colab_link": true
    },
    "kernelspec": {
      "name": "python3",
      "display_name": "Python 3"
    },
    "language_info": {
      "name": "python"
    }
  },
  "cells": [
    {
      "cell_type": "markdown",
      "metadata": {
        "id": "view-in-github",
        "colab_type": "text"
      },
      "source": [
        "<a href=\"https://colab.research.google.com/github/dajebbar/FreeCodeCamp-python-data-analysis/blob/main/num_cat_features.ipynb\" target=\"_parent\"><img src=\"https://colab.research.google.com/assets/colab-badge.svg\" alt=\"Open In Colab\"/></a>"
      ]
    },
    {
      "cell_type": "markdown",
      "source": [
        "---\n",
        "# Using numerical and categorical variables together\n",
        "---\n"
      ],
      "metadata": {
        "id": "OXQLLXm-r9FV"
      }
    },
    {
      "cell_type": "code",
      "execution_count": 1,
      "metadata": {
        "id": "K4-rN6fmrudX"
      },
      "outputs": [],
      "source": [
        "import pandas as pd\n",
        "\n",
        "adult_census = pd.read_csv(\"./adult.csv\")\n",
        "# drop the duplicated column `\"education-num\"` as stated in the first notebook\n",
        "adult_census = adult_census.drop(columns=\"education-num\")\n",
        "\n",
        "target_name = \"class\"\n",
        "target = adult_census[target_name]\n",
        "\n",
        "data = adult_census.drop(columns=[target_name])"
      ]
    },
    {
      "cell_type": "markdown",
      "source": [
        "## Selection based on data types\n",
        "We will separate categorical and numerical variables using their data types to identify them, as we saw previously that object corresponds to categorical columns (strings). We make use of `make_column_selector` helper to select the corresponding columns.\n",
        "\n"
      ],
      "metadata": {
        "id": "9Ho4yCNystoI"
      }
    },
    {
      "cell_type": "code",
      "source": [
        "from sklearn.compose import make_column_selector as selector\n",
        "\n",
        "numerical_data_selector = selector(dtype_include='number')\n",
        "categorical_data_selector = selector(dtype_include='object')\n",
        "\n",
        "numerical_columns = numerical_data_selector(data)\n",
        "categorical_columns = categorical_data_selector(data)"
      ],
      "metadata": {
        "id": "53EPEwLsshR3"
      },
      "execution_count": 8,
      "outputs": []
    },
    {
      "cell_type": "code",
      "source": [
        "categorical_columns"
      ],
      "metadata": {
        "colab": {
          "base_uri": "https://localhost:8080/"
        },
        "id": "EtLXu8w-txBH",
        "outputId": "9e4e8eae-b133-4bec-a07f-df419e05ee1c"
      },
      "execution_count": 9,
      "outputs": [
        {
          "output_type": "execute_result",
          "data": {
            "text/plain": [
              "['workclass',\n",
              " 'education',\n",
              " 'marital-status',\n",
              " 'occupation',\n",
              " 'relationship',\n",
              " 'race',\n",
              " 'sex',\n",
              " 'native-country']"
            ]
          },
          "metadata": {},
          "execution_count": 9
        }
      ]
    },
    {
      "cell_type": "markdown",
      "source": [
        "## Dispatch columns to a specific processor\n",
        "\n",
        "In the previous sections, we saw that we need to treat data differently depending on their nature (i.e. numerical or categorical).\n",
        "\n",
        "Scikit-learn provides a `ColumnTransformer` class which will send specific columns to a specific transformer, making it easy to fit a single predictive model on a dataset that combines both kinds of variables together (heterogeneously typed tabular data).\n",
        "\n",
        "We first define the columns depending on their data type:\n",
        "\n",
        "-  **one-hot encoding** will be applied to categorical columns. Besides, we use `handle_unknown=\"ignore\"` to solve the potential issues due to rare categories.\n",
        "-  **numerical scaling** numerical features which will be standardized.  \n",
        "\n",
        "Now, we create our `ColumnTransfomer` by specifying three values: the preprocessor name, the transformer, and the columns. First, let's create the preprocessors for the numerical and categorical parts."
      ],
      "metadata": {
        "id": "6EYUabX_upHp"
      }
    },
    {
      "cell_type": "code",
      "source": [
        "from sklearn.preprocessing import OneHotEncoder, StandardScaler\n",
        "\n",
        "categorical_preprocessor = OneHotEncoder(handle_unknown='ignore')\n",
        "numerical_preprocessor = StandardScaler()"
      ],
      "metadata": {
        "id": "wjsDG_OStzbp"
      },
      "execution_count": 10,
      "outputs": []
    },
    {
      "cell_type": "markdown",
      "source": [
        "Now, we create the transformer and associate each of these preprocessors with their respective columns."
      ],
      "metadata": {
        "id": "4KcYkzApwMPX"
      }
    },
    {
      "cell_type": "code",
      "source": [
        "from sklearn.compose import ColumnTransformer\n",
        "\n",
        "preprocessor = ColumnTransformer([\n",
        "                                  ('one-hot-encoder', \n",
        "                                   categorical_preprocessor, \n",
        "                                   categorical_columns),\n",
        "                                  ('standard-scaler', \n",
        "                                  numerical_preprocessor, \n",
        "                                   numerical_columns),\n",
        "])"
      ],
      "metadata": {
        "id": "Z5Eh5Mn0wLuz"
      },
      "execution_count": 11,
      "outputs": []
    },
    {
      "cell_type": "markdown",
      "source": [
        "A `ColumnTransformer` does the following:\n",
        "\n",
        "-  It **splits the columns** of the original dataset based on the column names or indices provided. We will obtain as many subsets as the number of transformers passed into the `ColumnTransformer`.\n",
        "-  It **transforms each subsets**. A specific transformer is applied to each subset: it will internally call `fit_transform` or `transform`. The output of this step is a set of transformed datasets.\n",
        "-  It then **concatenates the transformed datasets** into a single dataset.  \n",
        "\n",
        "The important thing is that `ColumnTransformer` is like any other scikit-learn transformer. In particular it can be combined with a classifier in a `Pipeline`:"
      ],
      "metadata": {
        "id": "R4YNuSFgxT2e"
      }
    },
    {
      "cell_type": "code",
      "source": [
        "from sklearn.linear_model import LogisticRegression\n",
        "from sklearn.pipeline import make_pipeline\n",
        "\n",
        "model = make_pipeline(preprocessor, LogisticRegression(max_iter=500))"
      ],
      "metadata": {
        "id": "mxFSiHRSxGZI"
      },
      "execution_count": 12,
      "outputs": []
    },
    {
      "cell_type": "markdown",
      "source": [
        "We can display an interactive diagram with the following command:"
      ],
      "metadata": {
        "id": "V2RafBYzyQCv"
      }
    },
    {
      "cell_type": "code",
      "source": [
        "from sklearn import set_config\n",
        "set_config(display='diagram')\n",
        "model"
      ],
      "metadata": {
        "colab": {
          "base_uri": "https://localhost:8080/",
          "height": 192
        },
        "id": "3leCMa6oyF1E",
        "outputId": "123945b5-fadc-4f0d-bef4-e2b2218e8701"
      },
      "execution_count": 13,
      "outputs": [
        {
          "output_type": "execute_result",
          "data": {
            "text/html": [
              "<style>#sk-02fa3952-f83c-417f-a51f-b4f9d55ab67d {color: black;background-color: white;}#sk-02fa3952-f83c-417f-a51f-b4f9d55ab67d pre{padding: 0;}#sk-02fa3952-f83c-417f-a51f-b4f9d55ab67d div.sk-toggleable {background-color: white;}#sk-02fa3952-f83c-417f-a51f-b4f9d55ab67d label.sk-toggleable__label {cursor: pointer;display: block;width: 100%;margin-bottom: 0;padding: 0.3em;box-sizing: border-box;text-align: center;}#sk-02fa3952-f83c-417f-a51f-b4f9d55ab67d label.sk-toggleable__label-arrow:before {content: \"▸\";float: left;margin-right: 0.25em;color: #696969;}#sk-02fa3952-f83c-417f-a51f-b4f9d55ab67d label.sk-toggleable__label-arrow:hover:before {color: black;}#sk-02fa3952-f83c-417f-a51f-b4f9d55ab67d div.sk-estimator:hover label.sk-toggleable__label-arrow:before {color: black;}#sk-02fa3952-f83c-417f-a51f-b4f9d55ab67d div.sk-toggleable__content {max-height: 0;max-width: 0;overflow: hidden;text-align: left;background-color: #f0f8ff;}#sk-02fa3952-f83c-417f-a51f-b4f9d55ab67d div.sk-toggleable__content pre {margin: 0.2em;color: black;border-radius: 0.25em;background-color: #f0f8ff;}#sk-02fa3952-f83c-417f-a51f-b4f9d55ab67d input.sk-toggleable__control:checked~div.sk-toggleable__content {max-height: 200px;max-width: 100%;overflow: auto;}#sk-02fa3952-f83c-417f-a51f-b4f9d55ab67d input.sk-toggleable__control:checked~label.sk-toggleable__label-arrow:before {content: \"▾\";}#sk-02fa3952-f83c-417f-a51f-b4f9d55ab67d div.sk-estimator input.sk-toggleable__control:checked~label.sk-toggleable__label {background-color: #d4ebff;}#sk-02fa3952-f83c-417f-a51f-b4f9d55ab67d div.sk-label input.sk-toggleable__control:checked~label.sk-toggleable__label {background-color: #d4ebff;}#sk-02fa3952-f83c-417f-a51f-b4f9d55ab67d input.sk-hidden--visually {border: 0;clip: rect(1px 1px 1px 1px);clip: rect(1px, 1px, 1px, 1px);height: 1px;margin: -1px;overflow: hidden;padding: 0;position: absolute;width: 1px;}#sk-02fa3952-f83c-417f-a51f-b4f9d55ab67d div.sk-estimator {font-family: monospace;background-color: #f0f8ff;border: 1px dotted black;border-radius: 0.25em;box-sizing: border-box;margin-bottom: 0.5em;}#sk-02fa3952-f83c-417f-a51f-b4f9d55ab67d div.sk-estimator:hover {background-color: #d4ebff;}#sk-02fa3952-f83c-417f-a51f-b4f9d55ab67d div.sk-parallel-item::after {content: \"\";width: 100%;border-bottom: 1px solid gray;flex-grow: 1;}#sk-02fa3952-f83c-417f-a51f-b4f9d55ab67d div.sk-label:hover label.sk-toggleable__label {background-color: #d4ebff;}#sk-02fa3952-f83c-417f-a51f-b4f9d55ab67d div.sk-serial::before {content: \"\";position: absolute;border-left: 1px solid gray;box-sizing: border-box;top: 2em;bottom: 0;left: 50%;}#sk-02fa3952-f83c-417f-a51f-b4f9d55ab67d div.sk-serial {display: flex;flex-direction: column;align-items: center;background-color: white;padding-right: 0.2em;padding-left: 0.2em;}#sk-02fa3952-f83c-417f-a51f-b4f9d55ab67d div.sk-item {z-index: 1;}#sk-02fa3952-f83c-417f-a51f-b4f9d55ab67d div.sk-parallel {display: flex;align-items: stretch;justify-content: center;background-color: white;}#sk-02fa3952-f83c-417f-a51f-b4f9d55ab67d div.sk-parallel::before {content: \"\";position: absolute;border-left: 1px solid gray;box-sizing: border-box;top: 2em;bottom: 0;left: 50%;}#sk-02fa3952-f83c-417f-a51f-b4f9d55ab67d div.sk-parallel-item {display: flex;flex-direction: column;position: relative;background-color: white;}#sk-02fa3952-f83c-417f-a51f-b4f9d55ab67d div.sk-parallel-item:first-child::after {align-self: flex-end;width: 50%;}#sk-02fa3952-f83c-417f-a51f-b4f9d55ab67d div.sk-parallel-item:last-child::after {align-self: flex-start;width: 50%;}#sk-02fa3952-f83c-417f-a51f-b4f9d55ab67d div.sk-parallel-item:only-child::after {width: 0;}#sk-02fa3952-f83c-417f-a51f-b4f9d55ab67d div.sk-dashed-wrapped {border: 1px dashed gray;margin: 0 0.4em 0.5em 0.4em;box-sizing: border-box;padding-bottom: 0.4em;background-color: white;position: relative;}#sk-02fa3952-f83c-417f-a51f-b4f9d55ab67d div.sk-label label {font-family: monospace;font-weight: bold;background-color: white;display: inline-block;line-height: 1.2em;}#sk-02fa3952-f83c-417f-a51f-b4f9d55ab67d div.sk-label-container {position: relative;z-index: 2;text-align: center;}#sk-02fa3952-f83c-417f-a51f-b4f9d55ab67d div.sk-container {/* jupyter's `normalize.less` sets `[hidden] { display: none; }` but bootstrap.min.css set `[hidden] { display: none !important; }` so we also need the `!important` here to be able to override the default hidden behavior on the sphinx rendered scikit-learn.org. See: https://github.com/scikit-learn/scikit-learn/issues/21755 */display: inline-block !important;position: relative;}#sk-02fa3952-f83c-417f-a51f-b4f9d55ab67d div.sk-text-repr-fallback {display: none;}</style><div id=\"sk-02fa3952-f83c-417f-a51f-b4f9d55ab67d\" class=\"sk-top-container\"><div class=\"sk-text-repr-fallback\"><pre>Pipeline(steps=[(&#x27;columntransformer&#x27;,\n",
              "                 ColumnTransformer(transformers=[(&#x27;one-hot-encoder&#x27;,\n",
              "                                                  OneHotEncoder(handle_unknown=&#x27;ignore&#x27;),\n",
              "                                                  [&#x27;workclass&#x27;, &#x27;education&#x27;,\n",
              "                                                   &#x27;marital-status&#x27;,\n",
              "                                                   &#x27;occupation&#x27;, &#x27;relationship&#x27;,\n",
              "                                                   &#x27;race&#x27;, &#x27;sex&#x27;,\n",
              "                                                   &#x27;native-country&#x27;]),\n",
              "                                                 (&#x27;standard-scaler&#x27;,\n",
              "                                                  StandardScaler(),\n",
              "                                                  [&#x27;age&#x27;, &#x27;fnlwgt&#x27;,\n",
              "                                                   &#x27;capital-gain&#x27;,\n",
              "                                                   &#x27;capital-loss&#x27;,\n",
              "                                                   &#x27;hours-per-week&#x27;])])),\n",
              "                (&#x27;logisticregression&#x27;, LogisticRegression(max_iter=500))])</pre><b>Please rerun this cell to show the HTML repr or trust the notebook.</b></div><div class=\"sk-container\" hidden><div class=\"sk-item sk-dashed-wrapped\"><div class=\"sk-label-container\"><div class=\"sk-label sk-toggleable\"><input class=\"sk-toggleable__control sk-hidden--visually\" id=\"25a83a6f-1874-4121-857c-2b0451c40727\" type=\"checkbox\" ><label for=\"25a83a6f-1874-4121-857c-2b0451c40727\" class=\"sk-toggleable__label sk-toggleable__label-arrow\">Pipeline</label><div class=\"sk-toggleable__content\"><pre>Pipeline(steps=[(&#x27;columntransformer&#x27;,\n",
              "                 ColumnTransformer(transformers=[(&#x27;one-hot-encoder&#x27;,\n",
              "                                                  OneHotEncoder(handle_unknown=&#x27;ignore&#x27;),\n",
              "                                                  [&#x27;workclass&#x27;, &#x27;education&#x27;,\n",
              "                                                   &#x27;marital-status&#x27;,\n",
              "                                                   &#x27;occupation&#x27;, &#x27;relationship&#x27;,\n",
              "                                                   &#x27;race&#x27;, &#x27;sex&#x27;,\n",
              "                                                   &#x27;native-country&#x27;]),\n",
              "                                                 (&#x27;standard-scaler&#x27;,\n",
              "                                                  StandardScaler(),\n",
              "                                                  [&#x27;age&#x27;, &#x27;fnlwgt&#x27;,\n",
              "                                                   &#x27;capital-gain&#x27;,\n",
              "                                                   &#x27;capital-loss&#x27;,\n",
              "                                                   &#x27;hours-per-week&#x27;])])),\n",
              "                (&#x27;logisticregression&#x27;, LogisticRegression(max_iter=500))])</pre></div></div></div><div class=\"sk-serial\"><div class=\"sk-item sk-dashed-wrapped\"><div class=\"sk-label-container\"><div class=\"sk-label sk-toggleable\"><input class=\"sk-toggleable__control sk-hidden--visually\" id=\"29e7d672-2be5-4bbd-b806-1eef4bdcbaa2\" type=\"checkbox\" ><label for=\"29e7d672-2be5-4bbd-b806-1eef4bdcbaa2\" class=\"sk-toggleable__label sk-toggleable__label-arrow\">columntransformer: ColumnTransformer</label><div class=\"sk-toggleable__content\"><pre>ColumnTransformer(transformers=[(&#x27;one-hot-encoder&#x27;,\n",
              "                                 OneHotEncoder(handle_unknown=&#x27;ignore&#x27;),\n",
              "                                 [&#x27;workclass&#x27;, &#x27;education&#x27;, &#x27;marital-status&#x27;,\n",
              "                                  &#x27;occupation&#x27;, &#x27;relationship&#x27;, &#x27;race&#x27;, &#x27;sex&#x27;,\n",
              "                                  &#x27;native-country&#x27;]),\n",
              "                                (&#x27;standard-scaler&#x27;, StandardScaler(),\n",
              "                                 [&#x27;age&#x27;, &#x27;fnlwgt&#x27;, &#x27;capital-gain&#x27;,\n",
              "                                  &#x27;capital-loss&#x27;, &#x27;hours-per-week&#x27;])])</pre></div></div></div><div class=\"sk-parallel\"><div class=\"sk-parallel-item\"><div class=\"sk-item\"><div class=\"sk-label-container\"><div class=\"sk-label sk-toggleable\"><input class=\"sk-toggleable__control sk-hidden--visually\" id=\"80d5f9b3-9342-46c5-b671-9e2e595afbcd\" type=\"checkbox\" ><label for=\"80d5f9b3-9342-46c5-b671-9e2e595afbcd\" class=\"sk-toggleable__label sk-toggleable__label-arrow\">one-hot-encoder</label><div class=\"sk-toggleable__content\"><pre>[&#x27;workclass&#x27;, &#x27;education&#x27;, &#x27;marital-status&#x27;, &#x27;occupation&#x27;, &#x27;relationship&#x27;, &#x27;race&#x27;, &#x27;sex&#x27;, &#x27;native-country&#x27;]</pre></div></div></div><div class=\"sk-serial\"><div class=\"sk-item\"><div class=\"sk-estimator sk-toggleable\"><input class=\"sk-toggleable__control sk-hidden--visually\" id=\"7acc975c-508e-4b68-be01-b856ab088d39\" type=\"checkbox\" ><label for=\"7acc975c-508e-4b68-be01-b856ab088d39\" class=\"sk-toggleable__label sk-toggleable__label-arrow\">OneHotEncoder</label><div class=\"sk-toggleable__content\"><pre>OneHotEncoder(handle_unknown=&#x27;ignore&#x27;)</pre></div></div></div></div></div></div><div class=\"sk-parallel-item\"><div class=\"sk-item\"><div class=\"sk-label-container\"><div class=\"sk-label sk-toggleable\"><input class=\"sk-toggleable__control sk-hidden--visually\" id=\"c37a47c4-2ae6-4e56-ad25-6bb49081abec\" type=\"checkbox\" ><label for=\"c37a47c4-2ae6-4e56-ad25-6bb49081abec\" class=\"sk-toggleable__label sk-toggleable__label-arrow\">standard-scaler</label><div class=\"sk-toggleable__content\"><pre>[&#x27;age&#x27;, &#x27;fnlwgt&#x27;, &#x27;capital-gain&#x27;, &#x27;capital-loss&#x27;, &#x27;hours-per-week&#x27;]</pre></div></div></div><div class=\"sk-serial\"><div class=\"sk-item\"><div class=\"sk-estimator sk-toggleable\"><input class=\"sk-toggleable__control sk-hidden--visually\" id=\"057b6630-e844-4620-a12d-38a31ab4d3e1\" type=\"checkbox\" ><label for=\"057b6630-e844-4620-a12d-38a31ab4d3e1\" class=\"sk-toggleable__label sk-toggleable__label-arrow\">StandardScaler</label><div class=\"sk-toggleable__content\"><pre>StandardScaler()</pre></div></div></div></div></div></div></div></div><div class=\"sk-item\"><div class=\"sk-estimator sk-toggleable\"><input class=\"sk-toggleable__control sk-hidden--visually\" id=\"98607791-bd37-4a30-bec2-e5e188c01df3\" type=\"checkbox\" ><label for=\"98607791-bd37-4a30-bec2-e5e188c01df3\" class=\"sk-toggleable__label sk-toggleable__label-arrow\">LogisticRegression</label><div class=\"sk-toggleable__content\"><pre>LogisticRegression(max_iter=500)</pre></div></div></div></div></div></div></div>"
            ],
            "text/plain": [
              "Pipeline(steps=[('columntransformer',\n",
              "                 ColumnTransformer(transformers=[('one-hot-encoder',\n",
              "                                                  OneHotEncoder(handle_unknown='ignore'),\n",
              "                                                  ['workclass', 'education',\n",
              "                                                   'marital-status',\n",
              "                                                   'occupation', 'relationship',\n",
              "                                                   'race', 'sex',\n",
              "                                                   'native-country']),\n",
              "                                                 ('standard-scaler',\n",
              "                                                  StandardScaler(),\n",
              "                                                  ['age', 'fnlwgt',\n",
              "                                                   'capital-gain',\n",
              "                                                   'capital-loss',\n",
              "                                                   'hours-per-week'])])),\n",
              "                ('logisticregression', LogisticRegression(max_iter=500))])"
            ]
          },
          "metadata": {},
          "execution_count": 13
        }
      ]
    },
    {
      "cell_type": "markdown",
      "source": [
        "The final model is more complex than the previous models but still follows the same API (the same set of methods that can be called by the user):\n",
        "\n",
        "-  the `fit` method is called to preprocess the data and then train the classifier of the preprocessed data;\n",
        "-  the `predict` method makes predictions on new data;\n",
        "-  the `score` method is used to predict on the test data and compare the predictions to the expected test labels to compute the accuracy.  \n",
        "\n",
        "Let's start by splitting our data into train and test sets."
      ],
      "metadata": {
        "id": "HCirVhU2y1dP"
      }
    },
    {
      "cell_type": "code",
      "source": [
        "from sklearn.model_selection import train_test_split\n",
        "\n",
        "X_train, X_test, y_train, y_test = train_test_split(\n",
        "    data,\n",
        "    target,\n",
        "    random_state=42\n",
        ")"
      ],
      "metadata": {
        "id": "Zci_5ZfHyTDV"
      },
      "execution_count": 14,
      "outputs": []
    },
    {
      "cell_type": "markdown",
      "source": [
        "Now, we can train the model on the train set."
      ],
      "metadata": {
        "id": "MrmSw6uF0dT3"
      }
    },
    {
      "cell_type": "code",
      "source": [
        "_= model.fit(X_train, y_train)"
      ],
      "metadata": {
        "id": "rRVmQVNH0cya"
      },
      "execution_count": 15,
      "outputs": []
    },
    {
      "cell_type": "markdown",
      "source": [
        "Then, we can send the raw dataset straight to the pipeline. Indeed, we do not need to make any manual preprocessing (calling the `transform` or `fit_transform` methods) as it will be handled when calling the `predict` method. As an example, we predict on the five first samples from the test set."
      ],
      "metadata": {
        "id": "piHT188w01Zo"
      }
    },
    {
      "cell_type": "code",
      "source": [
        "X_test.head()"
      ],
      "metadata": {
        "colab": {
          "base_uri": "https://localhost:8080/",
          "height": 320
        },
        "id": "mkmYffEY0pBf",
        "outputId": "c6eb014b-c016-4f51-eef8-7ddf28816142"
      },
      "execution_count": 16,
      "outputs": [
        {
          "output_type": "execute_result",
          "data": {
            "text/html": [
              "\n",
              "  <div id=\"df-e8f285ba-de23-45ae-9f8e-dc07eda9c3b2\">\n",
              "    <div class=\"colab-df-container\">\n",
              "      <div>\n",
              "<style scoped>\n",
              "    .dataframe tbody tr th:only-of-type {\n",
              "        vertical-align: middle;\n",
              "    }\n",
              "\n",
              "    .dataframe tbody tr th {\n",
              "        vertical-align: top;\n",
              "    }\n",
              "\n",
              "    .dataframe thead th {\n",
              "        text-align: right;\n",
              "    }\n",
              "</style>\n",
              "<table border=\"1\" class=\"dataframe\">\n",
              "  <thead>\n",
              "    <tr style=\"text-align: right;\">\n",
              "      <th></th>\n",
              "      <th>age</th>\n",
              "      <th>workclass</th>\n",
              "      <th>fnlwgt</th>\n",
              "      <th>education</th>\n",
              "      <th>marital-status</th>\n",
              "      <th>occupation</th>\n",
              "      <th>relationship</th>\n",
              "      <th>race</th>\n",
              "      <th>sex</th>\n",
              "      <th>capital-gain</th>\n",
              "      <th>capital-loss</th>\n",
              "      <th>hours-per-week</th>\n",
              "      <th>native-country</th>\n",
              "    </tr>\n",
              "  </thead>\n",
              "  <tbody>\n",
              "    <tr>\n",
              "      <th>7762</th>\n",
              "      <td>56</td>\n",
              "      <td>Private</td>\n",
              "      <td>33115</td>\n",
              "      <td>HS-grad</td>\n",
              "      <td>Divorced</td>\n",
              "      <td>Other-service</td>\n",
              "      <td>Unmarried</td>\n",
              "      <td>White</td>\n",
              "      <td>Female</td>\n",
              "      <td>0</td>\n",
              "      <td>0</td>\n",
              "      <td>40</td>\n",
              "      <td>United-States</td>\n",
              "    </tr>\n",
              "    <tr>\n",
              "      <th>23881</th>\n",
              "      <td>25</td>\n",
              "      <td>Private</td>\n",
              "      <td>112847</td>\n",
              "      <td>HS-grad</td>\n",
              "      <td>Married-civ-spouse</td>\n",
              "      <td>Transport-moving</td>\n",
              "      <td>Own-child</td>\n",
              "      <td>Other</td>\n",
              "      <td>Male</td>\n",
              "      <td>0</td>\n",
              "      <td>0</td>\n",
              "      <td>40</td>\n",
              "      <td>United-States</td>\n",
              "    </tr>\n",
              "    <tr>\n",
              "      <th>30507</th>\n",
              "      <td>43</td>\n",
              "      <td>Private</td>\n",
              "      <td>170525</td>\n",
              "      <td>Bachelors</td>\n",
              "      <td>Divorced</td>\n",
              "      <td>Prof-specialty</td>\n",
              "      <td>Not-in-family</td>\n",
              "      <td>White</td>\n",
              "      <td>Female</td>\n",
              "      <td>14344</td>\n",
              "      <td>0</td>\n",
              "      <td>40</td>\n",
              "      <td>United-States</td>\n",
              "    </tr>\n",
              "    <tr>\n",
              "      <th>28911</th>\n",
              "      <td>32</td>\n",
              "      <td>Private</td>\n",
              "      <td>186788</td>\n",
              "      <td>HS-grad</td>\n",
              "      <td>Married-civ-spouse</td>\n",
              "      <td>Transport-moving</td>\n",
              "      <td>Husband</td>\n",
              "      <td>White</td>\n",
              "      <td>Male</td>\n",
              "      <td>0</td>\n",
              "      <td>0</td>\n",
              "      <td>40</td>\n",
              "      <td>United-States</td>\n",
              "    </tr>\n",
              "    <tr>\n",
              "      <th>19484</th>\n",
              "      <td>39</td>\n",
              "      <td>Private</td>\n",
              "      <td>277886</td>\n",
              "      <td>Bachelors</td>\n",
              "      <td>Married-civ-spouse</td>\n",
              "      <td>Sales</td>\n",
              "      <td>Wife</td>\n",
              "      <td>White</td>\n",
              "      <td>Female</td>\n",
              "      <td>0</td>\n",
              "      <td>0</td>\n",
              "      <td>30</td>\n",
              "      <td>United-States</td>\n",
              "    </tr>\n",
              "  </tbody>\n",
              "</table>\n",
              "</div>\n",
              "      <button class=\"colab-df-convert\" onclick=\"convertToInteractive('df-e8f285ba-de23-45ae-9f8e-dc07eda9c3b2')\"\n",
              "              title=\"Convert this dataframe to an interactive table.\"\n",
              "              style=\"display:none;\">\n",
              "        \n",
              "  <svg xmlns=\"http://www.w3.org/2000/svg\" height=\"24px\"viewBox=\"0 0 24 24\"\n",
              "       width=\"24px\">\n",
              "    <path d=\"M0 0h24v24H0V0z\" fill=\"none\"/>\n",
              "    <path d=\"M18.56 5.44l.94 2.06.94-2.06 2.06-.94-2.06-.94-.94-2.06-.94 2.06-2.06.94zm-11 1L8.5 8.5l.94-2.06 2.06-.94-2.06-.94L8.5 2.5l-.94 2.06-2.06.94zm10 10l.94 2.06.94-2.06 2.06-.94-2.06-.94-.94-2.06-.94 2.06-2.06.94z\"/><path d=\"M17.41 7.96l-1.37-1.37c-.4-.4-.92-.59-1.43-.59-.52 0-1.04.2-1.43.59L10.3 9.45l-7.72 7.72c-.78.78-.78 2.05 0 2.83L4 21.41c.39.39.9.59 1.41.59.51 0 1.02-.2 1.41-.59l7.78-7.78 2.81-2.81c.8-.78.8-2.07 0-2.86zM5.41 20L4 18.59l7.72-7.72 1.47 1.35L5.41 20z\"/>\n",
              "  </svg>\n",
              "      </button>\n",
              "      \n",
              "  <style>\n",
              "    .colab-df-container {\n",
              "      display:flex;\n",
              "      flex-wrap:wrap;\n",
              "      gap: 12px;\n",
              "    }\n",
              "\n",
              "    .colab-df-convert {\n",
              "      background-color: #E8F0FE;\n",
              "      border: none;\n",
              "      border-radius: 50%;\n",
              "      cursor: pointer;\n",
              "      display: none;\n",
              "      fill: #1967D2;\n",
              "      height: 32px;\n",
              "      padding: 0 0 0 0;\n",
              "      width: 32px;\n",
              "    }\n",
              "\n",
              "    .colab-df-convert:hover {\n",
              "      background-color: #E2EBFA;\n",
              "      box-shadow: 0px 1px 2px rgba(60, 64, 67, 0.3), 0px 1px 3px 1px rgba(60, 64, 67, 0.15);\n",
              "      fill: #174EA6;\n",
              "    }\n",
              "\n",
              "    [theme=dark] .colab-df-convert {\n",
              "      background-color: #3B4455;\n",
              "      fill: #D2E3FC;\n",
              "    }\n",
              "\n",
              "    [theme=dark] .colab-df-convert:hover {\n",
              "      background-color: #434B5C;\n",
              "      box-shadow: 0px 1px 3px 1px rgba(0, 0, 0, 0.15);\n",
              "      filter: drop-shadow(0px 1px 2px rgba(0, 0, 0, 0.3));\n",
              "      fill: #FFFFFF;\n",
              "    }\n",
              "  </style>\n",
              "\n",
              "      <script>\n",
              "        const buttonEl =\n",
              "          document.querySelector('#df-e8f285ba-de23-45ae-9f8e-dc07eda9c3b2 button.colab-df-convert');\n",
              "        buttonEl.style.display =\n",
              "          google.colab.kernel.accessAllowed ? 'block' : 'none';\n",
              "\n",
              "        async function convertToInteractive(key) {\n",
              "          const element = document.querySelector('#df-e8f285ba-de23-45ae-9f8e-dc07eda9c3b2');\n",
              "          const dataTable =\n",
              "            await google.colab.kernel.invokeFunction('convertToInteractive',\n",
              "                                                     [key], {});\n",
              "          if (!dataTable) return;\n",
              "\n",
              "          const docLinkHtml = 'Like what you see? Visit the ' +\n",
              "            '<a target=\"_blank\" href=https://colab.research.google.com/notebooks/data_table.ipynb>data table notebook</a>'\n",
              "            + ' to learn more about interactive tables.';\n",
              "          element.innerHTML = '';\n",
              "          dataTable['output_type'] = 'display_data';\n",
              "          await google.colab.output.renderOutput(dataTable, element);\n",
              "          const docLink = document.createElement('div');\n",
              "          docLink.innerHTML = docLinkHtml;\n",
              "          element.appendChild(docLink);\n",
              "        }\n",
              "      </script>\n",
              "    </div>\n",
              "  </div>\n",
              "  "
            ],
            "text/plain": [
              "       age workclass  fnlwgt  ... capital-loss hours-per-week  native-country\n",
              "7762    56   Private   33115  ...            0             40   United-States\n",
              "23881   25   Private  112847  ...            0             40   United-States\n",
              "30507   43   Private  170525  ...            0             40   United-States\n",
              "28911   32   Private  186788  ...            0             40   United-States\n",
              "19484   39   Private  277886  ...            0             30   United-States\n",
              "\n",
              "[5 rows x 13 columns]"
            ]
          },
          "metadata": {},
          "execution_count": 16
        }
      ]
    },
    {
      "cell_type": "code",
      "source": [
        "model.predict(X_test)[:5]"
      ],
      "metadata": {
        "colab": {
          "base_uri": "https://localhost:8080/"
        },
        "id": "vfc5qIVj1CfM",
        "outputId": "46d28bad-6e3b-4646-b489-9048938106f5"
      },
      "execution_count": 17,
      "outputs": [
        {
          "output_type": "execute_result",
          "data": {
            "text/plain": [
              "array([' <=50K', ' <=50K', ' >50K', ' <=50K', ' >50K'], dtype=object)"
            ]
          },
          "metadata": {},
          "execution_count": 17
        }
      ]
    },
    {
      "cell_type": "code",
      "source": [
        "y_test[:5]"
      ],
      "metadata": {
        "colab": {
          "base_uri": "https://localhost:8080/"
        },
        "id": "xr60Z-kh1QUy",
        "outputId": "62af492c-de31-43d7-d41e-d31b2cb7ab5b"
      },
      "execution_count": 18,
      "outputs": [
        {
          "output_type": "execute_result",
          "data": {
            "text/plain": [
              "7762      <=50K\n",
              "23881     <=50K\n",
              "30507      >50K\n",
              "28911     <=50K\n",
              "19484     <=50K\n",
              "Name: class, dtype: object"
            ]
          },
          "metadata": {},
          "execution_count": 18
        }
      ]
    },
    {
      "cell_type": "markdown",
      "source": [
        "To get directly the accuracy score, we need to call the score method. Let's compute the accuracy score on the entire test set."
      ],
      "metadata": {
        "id": "DEdjENax1cZf"
      }
    },
    {
      "cell_type": "code",
      "source": [
        "model.score(X_test, y_test)"
      ],
      "metadata": {
        "colab": {
          "base_uri": "https://localhost:8080/"
        },
        "id": "_MLHrq091T0w",
        "outputId": "d1bf7953-07bf-486e-f208-c823367ec400"
      },
      "execution_count": 20,
      "outputs": [
        {
          "output_type": "execute_result",
          "data": {
            "text/plain": [
              "0.8583244615510606"
            ]
          },
          "metadata": {},
          "execution_count": 20
        }
      ]
    },
    {
      "cell_type": "markdown",
      "source": [
        "## Evaluation of the model with cross-validation\n",
        "As previously stated, a predictive model should be evaluated by cross-validation. Our model is usable with the cross-validation tools of scikit-learn as any other predictors:"
      ],
      "metadata": {
        "id": "_78mwuZC1p5B"
      }
    },
    {
      "cell_type": "code",
      "source": [
        "from sklearn.model_selection import cross_validate, KFold\n",
        "\n",
        "kfold = KFold(n_splits=10, shuffle=True, random_state=42)\n",
        "cv_results = cross_validate(model,\n",
        "                            data,\n",
        "                            target,\n",
        "                            cv=kfold)\n",
        "\n",
        "cv_results"
      ],
      "metadata": {
        "colab": {
          "base_uri": "https://localhost:8080/"
        },
        "id": "xVblhats1fbZ",
        "outputId": "997764c9-3375-4f6d-bc61-1c2be7aa3406"
      },
      "execution_count": 21,
      "outputs": [
        {
          "output_type": "execute_result",
          "data": {
            "text/plain": [
              "{'fit_time': array([3.7650156 , 2.37976193, 2.32669282, 2.2351191 , 2.22663641,\n",
              "        2.30055547, 2.45320868, 2.32616472, 2.71137977, 2.29445505]),\n",
              " 'score_time': array([0.02877688, 0.02840304, 0.02745271, 0.02725101, 0.02720189,\n",
              "        0.02994108, 0.02924705, 0.03813934, 0.0273807 , 0.02701426]),\n",
              " 'test_score': array([0.85772774, 0.85609007, 0.86036036, 0.83947584, 0.85298935,\n",
              "        0.85421785, 0.85176085, 0.85257985, 0.8503276 , 0.84766585])}"
            ]
          },
          "metadata": {},
          "execution_count": 21
        }
      ]
    },
    {
      "cell_type": "code",
      "source": [
        "scores = cv_results[\"test_score\"]\n",
        "print(\"The mean cross-validation accuracy is: \"\n",
        "      f\"{scores.mean():.3f} +/- {scores.std():.3f}\")"
      ],
      "metadata": {
        "colab": {
          "base_uri": "https://localhost:8080/"
        },
        "id": "FI5RBHUZ2hHQ",
        "outputId": "84e0cb20-a51f-4d12-f8d1-992aac9179c2"
      },
      "execution_count": 22,
      "outputs": [
        {
          "output_type": "stream",
          "name": "stdout",
          "text": [
            "The mean cross-validation accuracy is: 0.852 +/- 0.006\n"
          ]
        }
      ]
    },
    {
      "cell_type": "markdown",
      "source": [
        "The compound model has a higher predictive accuracy than the two models that used numerical and categorical variables in isolation."
      ],
      "metadata": {
        "id": "KBOxVqMt2zrQ"
      }
    },
    {
      "cell_type": "markdown",
      "source": [
        "---\n",
        "## Fitting a more powerful model\n",
        "**Linear models** are nice because they are usually cheap to train, **small** to deploy, **fast** to predict and give a **good baseline**.\n",
        "\n",
        "However, it is often useful to check whether more complex models such as an ensemble of decision trees can lead to higher predictive performance. In this section we will use such a model called **gradient-boosting trees** and evaluate its generalization performance. More precisely, the scikit-learn model we will use is called `HistGradientBoostingClassifier`. Note that boosting models will be covered in more detail in a future module.\n",
        "\n",
        "For tree-based models, the handling of numerical and categorical variables is simpler than for linear models:\n",
        "\n",
        "-  we do **not need to scale the numerical features**\n",
        "-  using an **ordinal encoding for the categorical variables** is fine even if the encoding results in an arbitrary ordering  \n",
        "\n",
        "Therefore, for `HistGradientBoostingClassifier`, the preprocessing pipeline is slightly simpler than the one we saw earlier for the `LogisticRegression`:"
      ],
      "metadata": {
        "id": "YRl323ig3NZD"
      }
    },
    {
      "cell_type": "code",
      "source": [
        "from sklearn.ensemble import HistGradientBoostingClassifier\n",
        "from sklearn.preprocessing import OrdinalEncoder\n",
        "\n",
        "categorical_preprocessor = OrdinalEncoder(handle_unknown='use_encoded_value', \n",
        "                                          unknown_value=-1\n",
        "                                          )\n",
        "\n",
        "preprocessor = ColumnTransformer([('categorical',\n",
        "                                   categorical_preprocessor, \n",
        "                                   categorical_columns\n",
        "                                   )], \n",
        "                                 remainder='passthrough'\n",
        "                              )\n",
        "\n",
        "model2 = make_pipeline(preprocessor, HistGradientBoostingClassifier())"
      ],
      "metadata": {
        "id": "qIvn1hOo2q7T"
      },
      "execution_count": 24,
      "outputs": []
    },
    {
      "cell_type": "markdown",
      "source": [
        "Now that we created our model, we can check its generalization performance."
      ],
      "metadata": {
        "id": "ixDJnsmb5h8G"
      }
    },
    {
      "cell_type": "code",
      "source": [
        "%%time\n",
        "_ = model2.fit(X_train, y_train)"
      ],
      "metadata": {
        "colab": {
          "base_uri": "https://localhost:8080/"
        },
        "id": "yVWSL5Pt5Y4g",
        "outputId": "2eacf2ba-1f42-4bae-ea53-78bce99a9849"
      },
      "execution_count": 27,
      "outputs": [
        {
          "output_type": "stream",
          "name": "stdout",
          "text": [
            "CPU times: user 2.83 s, sys: 32.1 ms, total: 2.86 s\n",
            "Wall time: 1.95 s\n"
          ]
        }
      ]
    },
    {
      "cell_type": "code",
      "source": [
        "model2.score(X_test, y_test)"
      ],
      "metadata": {
        "colab": {
          "base_uri": "https://localhost:8080/"
        },
        "id": "PC_A1WBv5ozg",
        "outputId": "c06fa1e5-b2fb-4a58-cada-e1b1ec6a7935"
      },
      "execution_count": 28,
      "outputs": [
        {
          "output_type": "execute_result",
          "data": {
            "text/plain": [
              "0.8800262058799443"
            ]
          },
          "metadata": {},
          "execution_count": 28
        }
      ]
    },
    {
      "cell_type": "code",
      "source": [
        "kfold = KFold(n_splits=10, shuffle=True, random_state=42)\n",
        "cv_results = cross_validate(model2,\n",
        "                            data,\n",
        "                            target,\n",
        "                            cv=kfold)\n",
        "\n",
        "cv_results"
      ],
      "metadata": {
        "colab": {
          "base_uri": "https://localhost:8080/"
        },
        "id": "28WFA4SP56EL",
        "outputId": "a855d56e-93db-42fb-cf43-838e00f0a075"
      },
      "execution_count": 29,
      "outputs": [
        {
          "output_type": "execute_result",
          "data": {
            "text/plain": [
              "{'fit_time': array([4.30610633, 1.44111419, 1.40526009, 1.34505892, 1.41106844,\n",
              "        2.78267336, 2.28661108, 1.45770597, 1.4808116 , 2.19730568]),\n",
              " 'score_time': array([0.06439042, 0.06348515, 0.06247473, 0.06250215, 0.06964469,\n",
              "        0.11655188, 0.06599736, 0.06501269, 0.06849504, 0.34801722]),\n",
              " 'test_score': array([0.8790174 , 0.88065507, 0.87878788, 0.86793612, 0.87387387,\n",
              "        0.87448812, 0.87100737, 0.87469287, 0.86957412, 0.87080262])}"
            ]
          },
          "metadata": {},
          "execution_count": 29
        }
      ]
    },
    {
      "cell_type": "code",
      "source": [
        "scores = cv_results[\"test_score\"]\n",
        "print(\"The mean cross-validation accuracy is: \"\n",
        "      f\"{scores.mean():.3f} +/- {scores.std():.3f}\")"
      ],
      "metadata": {
        "colab": {
          "base_uri": "https://localhost:8080/"
        },
        "id": "BmkcGuv86CxB",
        "outputId": "661988a8-e76d-44eb-a3d3-7df9b9abec8e"
      },
      "execution_count": 30,
      "outputs": [
        {
          "output_type": "stream",
          "name": "stdout",
          "text": [
            "The mean cross-validation accuracy is: 0.874 +/- 0.004\n"
          ]
        }
      ]
    },
    {
      "cell_type": "markdown",
      "source": [
        "We can observe that we get significantly higher accuracies with the Gradient Boosting model. This is often what we observe whenever the dataset has a large number of samples and limited number of informative features (e.g. less than 1000) with a mix of numerical and categorical variables.\n",
        "\n",
        "This explains why Gradient Boosted Machines are very popular among datascience practitioners who work with tabular data."
      ],
      "metadata": {
        "id": "FHhEzppK6J_Q"
      }
    },
    {
      "cell_type": "code",
      "source": [
        "preprocessor = ColumnTransformer([\n",
        "                                  ('one-hot-encoder', \n",
        "                                   categorical_preprocessor, \n",
        "                                   categorical_columns),\n",
        "                                  ('standard-scaler', \n",
        "                                  numerical_preprocessor, \n",
        "                                   numerical_columns),\n",
        "], remainder='passthrough')\n",
        "\n",
        "\n",
        "model3 = make_pipeline(preprocessor, HistGradientBoostingClassifier())\n",
        "\n",
        "kfold = KFold(n_splits=10, shuffle=True, random_state=42)\n",
        "cv_results = cross_validate(model3,\n",
        "                            data,\n",
        "                            target,\n",
        "                            cv=kfold)\n",
        "\n",
        "# cv_results\n",
        "\n",
        "scores = cv_results[\"test_score\"]\n",
        "print(\"The mean cross-validation accuracy is: \"\n",
        "      f\"{scores.mean():.3f} +/- {scores.std():.3f}\")"
      ],
      "metadata": {
        "colab": {
          "base_uri": "https://localhost:8080/"
        },
        "id": "Mo3o7tTL8ucm",
        "outputId": "833e9b08-d22e-4a20-d451-d87c6cd8c9fa"
      },
      "execution_count": 31,
      "outputs": [
        {
          "output_type": "stream",
          "name": "stdout",
          "text": [
            "The mean cross-validation accuracy is: 0.873 +/- 0.005\n"
          ]
        }
      ]
    },
    {
      "cell_type": "markdown",
      "source": [
        "-  **OneHotEncoder**: will always do something meaningful, but can be unnecessary slow with trees.\n",
        "\n",
        "- **OrdinalEncoder**: can be detrimental for linear models unless your category has a meaningful order and you make sure that OrdinalEncoder respects this order. Trees can deal with OrdinalEncoder fine as long as they are deep enough."
      ],
      "metadata": {
        "id": "CquI3iMv-HsZ"
      }
    },
    {
      "cell_type": "code",
      "source": [
        ""
      ],
      "metadata": {
        "id": "5bJ87tWZ-Rv_"
      },
      "execution_count": null,
      "outputs": []
    }
  ]
}