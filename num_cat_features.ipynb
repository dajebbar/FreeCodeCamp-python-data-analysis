{
  "nbformat": 4,
  "nbformat_minor": 0,
  "metadata": {
    "colab": {
      "name": "num_cat_features.ipynb",
      "provenance": [],
      "authorship_tag": "ABX9TyMGAd60ONW2uxrdKar60tKC",
      "include_colab_link": true
    },
    "kernelspec": {
      "name": "python3",
      "display_name": "Python 3"
    },
    "language_info": {
      "name": "python"
    }
  },
  "cells": [
    {
      "cell_type": "markdown",
      "metadata": {
        "id": "view-in-github",
        "colab_type": "text"
      },
      "source": [
        "<a href=\"https://colab.research.google.com/github/dajebbar/FreeCodeCamp-python-data-analysis/blob/main/num_cat_features.ipynb\" target=\"_parent\"><img src=\"https://colab.research.google.com/assets/colab-badge.svg\" alt=\"Open In Colab\"/></a>"
      ]
    },
    {
      "cell_type": "markdown",
      "source": [
        "---\n",
        "# Using numerical and categorical variables together\n",
        "---\n"
      ],
      "metadata": {
        "id": "OXQLLXm-r9FV"
      }
    },
    {
      "cell_type": "code",
      "execution_count": 1,
      "metadata": {
        "id": "K4-rN6fmrudX"
      },
      "outputs": [],
      "source": [
        "import pandas as pd\n",
        "\n",
        "adult_census = pd.read_csv(\"./adult.csv\")\n",
        "# drop the duplicated column `\"education-num\"` as stated in the first notebook\n",
        "adult_census = adult_census.drop(columns=\"education-num\")\n",
        "\n",
        "target_name = \"class\"\n",
        "target = adult_census[target_name]\n",
        "\n",
        "data = adult_census.drop(columns=[target_name])"
      ]
    },
    {
      "cell_type": "markdown",
      "source": [
        "## Selection based on data types\n",
        "We will separate categorical and numerical variables using their data types to identify them, as we saw previously that object corresponds to categorical columns (strings). We make use of `make_column_selector` helper to select the corresponding columns.\n",
        "\n"
      ],
      "metadata": {
        "id": "9Ho4yCNystoI"
      }
    },
    {
      "cell_type": "code",
      "source": [
        "from sklearn.compose import make_column_selector as selector\n",
        "\n",
        "numerical_data_selector = selector(dtype_include='number')\n",
        "categorical_data_selector = selector(dtype_include='object')\n",
        "\n",
        "numerical_columns = numerical_data_selector(data)\n",
        "categorical_columns = categorical_data_selector(data)"
      ],
      "metadata": {
        "id": "53EPEwLsshR3"
      },
      "execution_count": 8,
      "outputs": []
    },
    {
      "cell_type": "code",
      "source": [
        "categorical_columns"
      ],
      "metadata": {
        "colab": {
          "base_uri": "https://localhost:8080/"
        },
        "id": "EtLXu8w-txBH",
        "outputId": "9e4e8eae-b133-4bec-a07f-df419e05ee1c"
      },
      "execution_count": 9,
      "outputs": [
        {
          "output_type": "execute_result",
          "data": {
            "text/plain": [
              "['workclass',\n",
              " 'education',\n",
              " 'marital-status',\n",
              " 'occupation',\n",
              " 'relationship',\n",
              " 'race',\n",
              " 'sex',\n",
              " 'native-country']"
            ]
          },
          "metadata": {},
          "execution_count": 9
        }
      ]
    },
    {
      "cell_type": "code",
      "source": [
        ""
      ],
      "metadata": {
        "id": "wjsDG_OStzbp"
      },
      "execution_count": null,
      "outputs": []
    }
  ]
}