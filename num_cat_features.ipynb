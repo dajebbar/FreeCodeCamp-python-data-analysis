{
  "nbformat": 4,
  "nbformat_minor": 0,
  "metadata": {
    "colab": {
      "name": "num_cat_features.ipynb",
      "provenance": [],
      "authorship_tag": "ABX9TyOzWRBJca498HsiAh920Azw",
      "include_colab_link": true
    },
    "kernelspec": {
      "name": "python3",
      "display_name": "Python 3"
    },
    "language_info": {
      "name": "python"
    }
  },
  "cells": [
    {
      "cell_type": "markdown",
      "metadata": {
        "id": "view-in-github",
        "colab_type": "text"
      },
      "source": [
        "<a href=\"https://colab.research.google.com/github/dajebbar/FreeCodeCamp-python-data-analysis/blob/main/num_cat_features.ipynb\" target=\"_parent\"><img src=\"https://colab.research.google.com/assets/colab-badge.svg\" alt=\"Open In Colab\"/></a>"
      ]
    },
    {
      "cell_type": "markdown",
      "source": [
        "---\n",
        "# Using numerical and categorical variables together\n",
        "---\n"
      ],
      "metadata": {
        "id": "OXQLLXm-r9FV"
      }
    },
    {
      "cell_type": "code",
      "execution_count": 1,
      "metadata": {
        "id": "K4-rN6fmrudX"
      },
      "outputs": [],
      "source": [
        "import pandas as pd\n",
        "\n",
        "adult_census = pd.read_csv(\"./adult.csv\")\n",
        "# drop the duplicated column `\"education-num\"` as stated in the first notebook\n",
        "adult_census = adult_census.drop(columns=\"education-num\")\n",
        "\n",
        "target_name = \"class\"\n",
        "target = adult_census[target_name]\n",
        "\n",
        "data = adult_census.drop(columns=[target_name])"
      ]
    },
    {
      "cell_type": "markdown",
      "source": [
        "## Selection based on data types\n",
        "We will separate categorical and numerical variables using their data types to identify them, as we saw previously that object corresponds to categorical columns (strings). We make use of `make_column_selector` helper to select the corresponding columns.\n",
        "\n"
      ],
      "metadata": {
        "id": "9Ho4yCNystoI"
      }
    },
    {
      "cell_type": "code",
      "source": [
        "from sklearn.compose import make_column_selector as selector\n",
        "\n",
        "numerical_data_selector = selector(dtype_include='number')\n",
        "categorical_data_selector = selector(dtype_include='object')\n",
        "\n",
        "numerical_columns = numerical_data_selector(data)\n",
        "categorical_columns = categorical_data_selector(data)"
      ],
      "metadata": {
        "id": "53EPEwLsshR3"
      },
      "execution_count": 8,
      "outputs": []
    },
    {
      "cell_type": "code",
      "source": [
        "categorical_columns"
      ],
      "metadata": {
        "colab": {
          "base_uri": "https://localhost:8080/"
        },
        "id": "EtLXu8w-txBH",
        "outputId": "9e4e8eae-b133-4bec-a07f-df419e05ee1c"
      },
      "execution_count": 9,
      "outputs": [
        {
          "output_type": "execute_result",
          "data": {
            "text/plain": [
              "['workclass',\n",
              " 'education',\n",
              " 'marital-status',\n",
              " 'occupation',\n",
              " 'relationship',\n",
              " 'race',\n",
              " 'sex',\n",
              " 'native-country']"
            ]
          },
          "metadata": {},
          "execution_count": 9
        }
      ]
    },
    {
      "cell_type": "markdown",
      "source": [
        "## Dispatch columns to a specific processor\n",
        "\n",
        "In the previous sections, we saw that we need to treat data differently depending on their nature (i.e. numerical or categorical).\n",
        "\n",
        "Scikit-learn provides a `ColumnTransformer` class which will send specific columns to a specific transformer, making it easy to fit a single predictive model on a dataset that combines both kinds of variables together (heterogeneously typed tabular data).\n",
        "\n",
        "We first define the columns depending on their data type:\n",
        "\n",
        "-  **one-hot encoding** will be applied to categorical columns. Besides, we use `handle_unknown=\"ignore\"` to solve the potential issues due to rare categories.\n",
        "-  **numerical scaling** numerical features which will be standardized.  \n",
        "\n",
        "Now, we create our `ColumnTransfomer` by specifying three values: the preprocessor name, the transformer, and the columns. First, let's create the preprocessors for the numerical and categorical parts."
      ],
      "metadata": {
        "id": "6EYUabX_upHp"
      }
    },
    {
      "cell_type": "code",
      "source": [
        "from sklearn.preprocessing import OneHotEncoder, StandardScaler\n",
        "\n",
        "categorical_preprocessor = OneHotEncoder(handle_unknown='ignore')\n",
        "numerical_preprocessor = StandardScaler()"
      ],
      "metadata": {
        "id": "wjsDG_OStzbp"
      },
      "execution_count": 10,
      "outputs": []
    },
    {
      "cell_type": "markdown",
      "source": [
        "Now, we create the transformer and associate each of these preprocessors with their respective columns."
      ],
      "metadata": {
        "id": "4KcYkzApwMPX"
      }
    },
    {
      "cell_type": "code",
      "source": [
        "from sklearn.compose import ColumnTransformer\n",
        "\n",
        "preprocessor = ColumnTransformer([\n",
        "                                  ('one-hot-encoder', \n",
        "                                   categorical_preprocessor, \n",
        "                                   categorical_columns),\n",
        "                                  ('standard-scaler', \n",
        "                                  numerical_preprocessor, \n",
        "                                   numerical_columns),\n",
        "])"
      ],
      "metadata": {
        "id": "Z5Eh5Mn0wLuz"
      },
      "execution_count": 11,
      "outputs": []
    },
    {
      "cell_type": "markdown",
      "source": [
        "A `ColumnTransformer` does the following:\n",
        "\n",
        "-  It **splits the columns** of the original dataset based on the column names or indices provided. We will obtain as many subsets as the number of transformers passed into the `ColumnTransformer`.\n",
        "-  It **transforms each subsets**. A specific transformer is applied to each subset: it will internally call `fit_transform` or `transform`. The output of this step is a set of transformed datasets.\n",
        "-  It then **concatenates the transformed datasets** into a single dataset.  \n",
        "\n",
        "The important thing is that `ColumnTransformer` is like any other scikit-learn transformer. In particular it can be combined with a classifier in a `Pipeline`:"
      ],
      "metadata": {
        "id": "R4YNuSFgxT2e"
      }
    },
    {
      "cell_type": "code",
      "source": [
        "from sklearn.linear_model import LogisticRegression\n",
        "from sklearn.pipeline import make_pipeline\n",
        "\n",
        "model = make_pipeline(preprocessor, LogisticRegression(max_iter=500))"
      ],
      "metadata": {
        "id": "mxFSiHRSxGZI"
      },
      "execution_count": 12,
      "outputs": []
    },
    {
      "cell_type": "markdown",
      "source": [
        "We can display an interactive diagram with the following command:"
      ],
      "metadata": {
        "id": "V2RafBYzyQCv"
      }
    },
    {
      "cell_type": "code",
      "source": [
        "from sklearn import set_config\n",
        "set_config(display='diagram')\n",
        "model"
      ],
      "metadata": {
        "colab": {
          "base_uri": "https://localhost:8080/",
          "height": 192
        },
        "id": "3leCMa6oyF1E",
        "outputId": "123945b5-fadc-4f0d-bef4-e2b2218e8701"
      },
      "execution_count": 13,
      "outputs": [
        {
          "output_type": "execute_result",
          "data": {
            "text/html": [
              "<style>#sk-02fa3952-f83c-417f-a51f-b4f9d55ab67d {color: black;background-color: white;}#sk-02fa3952-f83c-417f-a51f-b4f9d55ab67d pre{padding: 0;}#sk-02fa3952-f83c-417f-a51f-b4f9d55ab67d div.sk-toggleable {background-color: white;}#sk-02fa3952-f83c-417f-a51f-b4f9d55ab67d label.sk-toggleable__label {cursor: pointer;display: block;width: 100%;margin-bottom: 0;padding: 0.3em;box-sizing: border-box;text-align: center;}#sk-02fa3952-f83c-417f-a51f-b4f9d55ab67d label.sk-toggleable__label-arrow:before {content: \"▸\";float: left;margin-right: 0.25em;color: #696969;}#sk-02fa3952-f83c-417f-a51f-b4f9d55ab67d label.sk-toggleable__label-arrow:hover:before {color: black;}#sk-02fa3952-f83c-417f-a51f-b4f9d55ab67d div.sk-estimator:hover label.sk-toggleable__label-arrow:before {color: black;}#sk-02fa3952-f83c-417f-a51f-b4f9d55ab67d div.sk-toggleable__content {max-height: 0;max-width: 0;overflow: hidden;text-align: left;background-color: #f0f8ff;}#sk-02fa3952-f83c-417f-a51f-b4f9d55ab67d div.sk-toggleable__content pre {margin: 0.2em;color: black;border-radius: 0.25em;background-color: #f0f8ff;}#sk-02fa3952-f83c-417f-a51f-b4f9d55ab67d input.sk-toggleable__control:checked~div.sk-toggleable__content {max-height: 200px;max-width: 100%;overflow: auto;}#sk-02fa3952-f83c-417f-a51f-b4f9d55ab67d input.sk-toggleable__control:checked~label.sk-toggleable__label-arrow:before {content: \"▾\";}#sk-02fa3952-f83c-417f-a51f-b4f9d55ab67d div.sk-estimator input.sk-toggleable__control:checked~label.sk-toggleable__label {background-color: #d4ebff;}#sk-02fa3952-f83c-417f-a51f-b4f9d55ab67d div.sk-label input.sk-toggleable__control:checked~label.sk-toggleable__label {background-color: #d4ebff;}#sk-02fa3952-f83c-417f-a51f-b4f9d55ab67d input.sk-hidden--visually {border: 0;clip: rect(1px 1px 1px 1px);clip: rect(1px, 1px, 1px, 1px);height: 1px;margin: -1px;overflow: hidden;padding: 0;position: absolute;width: 1px;}#sk-02fa3952-f83c-417f-a51f-b4f9d55ab67d div.sk-estimator {font-family: monospace;background-color: #f0f8ff;border: 1px dotted black;border-radius: 0.25em;box-sizing: border-box;margin-bottom: 0.5em;}#sk-02fa3952-f83c-417f-a51f-b4f9d55ab67d div.sk-estimator:hover {background-color: #d4ebff;}#sk-02fa3952-f83c-417f-a51f-b4f9d55ab67d div.sk-parallel-item::after {content: \"\";width: 100%;border-bottom: 1px solid gray;flex-grow: 1;}#sk-02fa3952-f83c-417f-a51f-b4f9d55ab67d div.sk-label:hover label.sk-toggleable__label {background-color: #d4ebff;}#sk-02fa3952-f83c-417f-a51f-b4f9d55ab67d div.sk-serial::before {content: \"\";position: absolute;border-left: 1px solid gray;box-sizing: border-box;top: 2em;bottom: 0;left: 50%;}#sk-02fa3952-f83c-417f-a51f-b4f9d55ab67d div.sk-serial {display: flex;flex-direction: column;align-items: center;background-color: white;padding-right: 0.2em;padding-left: 0.2em;}#sk-02fa3952-f83c-417f-a51f-b4f9d55ab67d div.sk-item {z-index: 1;}#sk-02fa3952-f83c-417f-a51f-b4f9d55ab67d div.sk-parallel {display: flex;align-items: stretch;justify-content: center;background-color: white;}#sk-02fa3952-f83c-417f-a51f-b4f9d55ab67d div.sk-parallel::before {content: \"\";position: absolute;border-left: 1px solid gray;box-sizing: border-box;top: 2em;bottom: 0;left: 50%;}#sk-02fa3952-f83c-417f-a51f-b4f9d55ab67d div.sk-parallel-item {display: flex;flex-direction: column;position: relative;background-color: white;}#sk-02fa3952-f83c-417f-a51f-b4f9d55ab67d div.sk-parallel-item:first-child::after {align-self: flex-end;width: 50%;}#sk-02fa3952-f83c-417f-a51f-b4f9d55ab67d div.sk-parallel-item:last-child::after {align-self: flex-start;width: 50%;}#sk-02fa3952-f83c-417f-a51f-b4f9d55ab67d div.sk-parallel-item:only-child::after {width: 0;}#sk-02fa3952-f83c-417f-a51f-b4f9d55ab67d div.sk-dashed-wrapped {border: 1px dashed gray;margin: 0 0.4em 0.5em 0.4em;box-sizing: border-box;padding-bottom: 0.4em;background-color: white;position: relative;}#sk-02fa3952-f83c-417f-a51f-b4f9d55ab67d div.sk-label label {font-family: monospace;font-weight: bold;background-color: white;display: inline-block;line-height: 1.2em;}#sk-02fa3952-f83c-417f-a51f-b4f9d55ab67d div.sk-label-container {position: relative;z-index: 2;text-align: center;}#sk-02fa3952-f83c-417f-a51f-b4f9d55ab67d div.sk-container {/* jupyter's `normalize.less` sets `[hidden] { display: none; }` but bootstrap.min.css set `[hidden] { display: none !important; }` so we also need the `!important` here to be able to override the default hidden behavior on the sphinx rendered scikit-learn.org. See: https://github.com/scikit-learn/scikit-learn/issues/21755 */display: inline-block !important;position: relative;}#sk-02fa3952-f83c-417f-a51f-b4f9d55ab67d div.sk-text-repr-fallback {display: none;}</style><div id=\"sk-02fa3952-f83c-417f-a51f-b4f9d55ab67d\" class=\"sk-top-container\"><div class=\"sk-text-repr-fallback\"><pre>Pipeline(steps=[(&#x27;columntransformer&#x27;,\n",
              "                 ColumnTransformer(transformers=[(&#x27;one-hot-encoder&#x27;,\n",
              "                                                  OneHotEncoder(handle_unknown=&#x27;ignore&#x27;),\n",
              "                                                  [&#x27;workclass&#x27;, &#x27;education&#x27;,\n",
              "                                                   &#x27;marital-status&#x27;,\n",
              "                                                   &#x27;occupation&#x27;, &#x27;relationship&#x27;,\n",
              "                                                   &#x27;race&#x27;, &#x27;sex&#x27;,\n",
              "                                                   &#x27;native-country&#x27;]),\n",
              "                                                 (&#x27;standard-scaler&#x27;,\n",
              "                                                  StandardScaler(),\n",
              "                                                  [&#x27;age&#x27;, &#x27;fnlwgt&#x27;,\n",
              "                                                   &#x27;capital-gain&#x27;,\n",
              "                                                   &#x27;capital-loss&#x27;,\n",
              "                                                   &#x27;hours-per-week&#x27;])])),\n",
              "                (&#x27;logisticregression&#x27;, LogisticRegression(max_iter=500))])</pre><b>Please rerun this cell to show the HTML repr or trust the notebook.</b></div><div class=\"sk-container\" hidden><div class=\"sk-item sk-dashed-wrapped\"><div class=\"sk-label-container\"><div class=\"sk-label sk-toggleable\"><input class=\"sk-toggleable__control sk-hidden--visually\" id=\"25a83a6f-1874-4121-857c-2b0451c40727\" type=\"checkbox\" ><label for=\"25a83a6f-1874-4121-857c-2b0451c40727\" class=\"sk-toggleable__label sk-toggleable__label-arrow\">Pipeline</label><div class=\"sk-toggleable__content\"><pre>Pipeline(steps=[(&#x27;columntransformer&#x27;,\n",
              "                 ColumnTransformer(transformers=[(&#x27;one-hot-encoder&#x27;,\n",
              "                                                  OneHotEncoder(handle_unknown=&#x27;ignore&#x27;),\n",
              "                                                  [&#x27;workclass&#x27;, &#x27;education&#x27;,\n",
              "                                                   &#x27;marital-status&#x27;,\n",
              "                                                   &#x27;occupation&#x27;, &#x27;relationship&#x27;,\n",
              "                                                   &#x27;race&#x27;, &#x27;sex&#x27;,\n",
              "                                                   &#x27;native-country&#x27;]),\n",
              "                                                 (&#x27;standard-scaler&#x27;,\n",
              "                                                  StandardScaler(),\n",
              "                                                  [&#x27;age&#x27;, &#x27;fnlwgt&#x27;,\n",
              "                                                   &#x27;capital-gain&#x27;,\n",
              "                                                   &#x27;capital-loss&#x27;,\n",
              "                                                   &#x27;hours-per-week&#x27;])])),\n",
              "                (&#x27;logisticregression&#x27;, LogisticRegression(max_iter=500))])</pre></div></div></div><div class=\"sk-serial\"><div class=\"sk-item sk-dashed-wrapped\"><div class=\"sk-label-container\"><div class=\"sk-label sk-toggleable\"><input class=\"sk-toggleable__control sk-hidden--visually\" id=\"29e7d672-2be5-4bbd-b806-1eef4bdcbaa2\" type=\"checkbox\" ><label for=\"29e7d672-2be5-4bbd-b806-1eef4bdcbaa2\" class=\"sk-toggleable__label sk-toggleable__label-arrow\">columntransformer: ColumnTransformer</label><div class=\"sk-toggleable__content\"><pre>ColumnTransformer(transformers=[(&#x27;one-hot-encoder&#x27;,\n",
              "                                 OneHotEncoder(handle_unknown=&#x27;ignore&#x27;),\n",
              "                                 [&#x27;workclass&#x27;, &#x27;education&#x27;, &#x27;marital-status&#x27;,\n",
              "                                  &#x27;occupation&#x27;, &#x27;relationship&#x27;, &#x27;race&#x27;, &#x27;sex&#x27;,\n",
              "                                  &#x27;native-country&#x27;]),\n",
              "                                (&#x27;standard-scaler&#x27;, StandardScaler(),\n",
              "                                 [&#x27;age&#x27;, &#x27;fnlwgt&#x27;, &#x27;capital-gain&#x27;,\n",
              "                                  &#x27;capital-loss&#x27;, &#x27;hours-per-week&#x27;])])</pre></div></div></div><div class=\"sk-parallel\"><div class=\"sk-parallel-item\"><div class=\"sk-item\"><div class=\"sk-label-container\"><div class=\"sk-label sk-toggleable\"><input class=\"sk-toggleable__control sk-hidden--visually\" id=\"80d5f9b3-9342-46c5-b671-9e2e595afbcd\" type=\"checkbox\" ><label for=\"80d5f9b3-9342-46c5-b671-9e2e595afbcd\" class=\"sk-toggleable__label sk-toggleable__label-arrow\">one-hot-encoder</label><div class=\"sk-toggleable__content\"><pre>[&#x27;workclass&#x27;, &#x27;education&#x27;, &#x27;marital-status&#x27;, &#x27;occupation&#x27;, &#x27;relationship&#x27;, &#x27;race&#x27;, &#x27;sex&#x27;, &#x27;native-country&#x27;]</pre></div></div></div><div class=\"sk-serial\"><div class=\"sk-item\"><div class=\"sk-estimator sk-toggleable\"><input class=\"sk-toggleable__control sk-hidden--visually\" id=\"7acc975c-508e-4b68-be01-b856ab088d39\" type=\"checkbox\" ><label for=\"7acc975c-508e-4b68-be01-b856ab088d39\" class=\"sk-toggleable__label sk-toggleable__label-arrow\">OneHotEncoder</label><div class=\"sk-toggleable__content\"><pre>OneHotEncoder(handle_unknown=&#x27;ignore&#x27;)</pre></div></div></div></div></div></div><div class=\"sk-parallel-item\"><div class=\"sk-item\"><div class=\"sk-label-container\"><div class=\"sk-label sk-toggleable\"><input class=\"sk-toggleable__control sk-hidden--visually\" id=\"c37a47c4-2ae6-4e56-ad25-6bb49081abec\" type=\"checkbox\" ><label for=\"c37a47c4-2ae6-4e56-ad25-6bb49081abec\" class=\"sk-toggleable__label sk-toggleable__label-arrow\">standard-scaler</label><div class=\"sk-toggleable__content\"><pre>[&#x27;age&#x27;, &#x27;fnlwgt&#x27;, &#x27;capital-gain&#x27;, &#x27;capital-loss&#x27;, &#x27;hours-per-week&#x27;]</pre></div></div></div><div class=\"sk-serial\"><div class=\"sk-item\"><div class=\"sk-estimator sk-toggleable\"><input class=\"sk-toggleable__control sk-hidden--visually\" id=\"057b6630-e844-4620-a12d-38a31ab4d3e1\" type=\"checkbox\" ><label for=\"057b6630-e844-4620-a12d-38a31ab4d3e1\" class=\"sk-toggleable__label sk-toggleable__label-arrow\">StandardScaler</label><div class=\"sk-toggleable__content\"><pre>StandardScaler()</pre></div></div></div></div></div></div></div></div><div class=\"sk-item\"><div class=\"sk-estimator sk-toggleable\"><input class=\"sk-toggleable__control sk-hidden--visually\" id=\"98607791-bd37-4a30-bec2-e5e188c01df3\" type=\"checkbox\" ><label for=\"98607791-bd37-4a30-bec2-e5e188c01df3\" class=\"sk-toggleable__label sk-toggleable__label-arrow\">LogisticRegression</label><div class=\"sk-toggleable__content\"><pre>LogisticRegression(max_iter=500)</pre></div></div></div></div></div></div></div>"
            ],
            "text/plain": [
              "Pipeline(steps=[('columntransformer',\n",
              "                 ColumnTransformer(transformers=[('one-hot-encoder',\n",
              "                                                  OneHotEncoder(handle_unknown='ignore'),\n",
              "                                                  ['workclass', 'education',\n",
              "                                                   'marital-status',\n",
              "                                                   'occupation', 'relationship',\n",
              "                                                   'race', 'sex',\n",
              "                                                   'native-country']),\n",
              "                                                 ('standard-scaler',\n",
              "                                                  StandardScaler(),\n",
              "                                                  ['age', 'fnlwgt',\n",
              "                                                   'capital-gain',\n",
              "                                                   'capital-loss',\n",
              "                                                   'hours-per-week'])])),\n",
              "                ('logisticregression', LogisticRegression(max_iter=500))])"
            ]
          },
          "metadata": {},
          "execution_count": 13
        }
      ]
    },
    {
      "cell_type": "markdown",
      "source": [
        "The final model is more complex than the previous models but still follows the same API (the same set of methods that can be called by the user):\n",
        "\n",
        "-  the `fit` method is called to preprocess the data and then train the classifier of the preprocessed data;\n",
        "-  the `predict` method makes predictions on new data;\n",
        "-  the `score` method is used to predict on the test data and compare the predictions to the expected test labels to compute the accuracy.  \n",
        "\n",
        "Let's start by splitting our data into train and test sets."
      ],
      "metadata": {
        "id": "HCirVhU2y1dP"
      }
    },
    {
      "cell_type": "code",
      "source": [
        ""
      ],
      "metadata": {
        "id": "Zci_5ZfHyTDV"
      },
      "execution_count": null,
      "outputs": []
    }
  ]
}