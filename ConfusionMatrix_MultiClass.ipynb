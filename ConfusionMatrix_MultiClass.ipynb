{
  "nbformat": 4,
  "nbformat_minor": 0,
  "metadata": {
    "colab": {
      "name": "ConfusionMatrix_MultiClass.ipynb",
      "provenance": [],
      "authorship_tag": "ABX9TyNc0PUc3neNM/V4hvUsZLz6",
      "include_colab_link": true
    },
    "kernelspec": {
      "name": "python3",
      "display_name": "Python 3"
    },
    "language_info": {
      "name": "python"
    }
  },
  "cells": [
    {
      "cell_type": "markdown",
      "metadata": {
        "id": "view-in-github",
        "colab_type": "text"
      },
      "source": [
        "<a href=\"https://colab.research.google.com/github/dajebbar/FreeCodeCamp-python-data-analysis/blob/main/ConfusionMatrix_MultiClass.ipynb\" target=\"_parent\"><img src=\"https://colab.research.google.com/assets/colab-badge.svg\" alt=\"Open In Colab\"/></a>"
      ]
    },
    {
      "cell_type": "markdown",
      "source": [
        "# Confusion Matrix for multi-class classification"
      ],
      "metadata": {
        "id": "2jXV8gmgtgl4"
      }
    },
    {
      "cell_type": "code",
      "execution_count": 1,
      "metadata": {
        "id": "GLIFHPKMqc21"
      },
      "outputs": [],
      "source": [
        "import numpy as np\n",
        "import pandas as pd"
      ]
    },
    {
      "cell_type": "code",
      "source": [
        "# Actual values\n",
        "data = ['A', 'A', 'B', 'B', 'C', 'C', 'A', 'B', 'B', 'A']\n",
        "actual = pd.Series(data=data, name='Actual')\n",
        "actual"
      ],
      "metadata": {
        "colab": {
          "base_uri": "https://localhost:8080/"
        },
        "id": "7Wz0vh9qtsGc",
        "outputId": "ff6d2b52-9345-478b-ca7b-c9185776c6f6"
      },
      "execution_count": 2,
      "outputs": [
        {
          "output_type": "execute_result",
          "data": {
            "text/plain": [
              "0    A\n",
              "1    A\n",
              "2    B\n",
              "3    B\n",
              "4    C\n",
              "5    C\n",
              "6    A\n",
              "7    B\n",
              "8    B\n",
              "9    A\n",
              "Name: Actual, dtype: object"
            ]
          },
          "metadata": {},
          "execution_count": 2
        }
      ]
    },
    {
      "cell_type": "code",
      "source": [
        "# Pred values\n",
        "data = ['B', 'A', 'A', 'C', 'C', 'C', 'B', 'A', 'B', 'A']\n",
        "pred = pd.Series(data=data, name='Pred')\n",
        "pred"
      ],
      "metadata": {
        "colab": {
          "base_uri": "https://localhost:8080/"
        },
        "id": "sPRUZHKduOnr",
        "outputId": "bf4fb8f7-f348-4fd6-d3ae-cb0ca990ca17"
      },
      "execution_count": 3,
      "outputs": [
        {
          "output_type": "execute_result",
          "data": {
            "text/plain": [
              "0    B\n",
              "1    A\n",
              "2    A\n",
              "3    C\n",
              "4    C\n",
              "5    C\n",
              "6    B\n",
              "7    A\n",
              "8    B\n",
              "9    A\n",
              "Name: Pred, dtype: object"
            ]
          },
          "metadata": {},
          "execution_count": 3
        }
      ]
    },
    {
      "cell_type": "code",
      "source": [
        "# Confusion matrix\n",
        "from sklearn.metrics import confusion_matrix\n",
        "\n",
        "cm = confusion_matrix(actual, pred)\n",
        "cm"
      ],
      "metadata": {
        "colab": {
          "base_uri": "https://localhost:8080/"
        },
        "id": "auruEV9IutQ4",
        "outputId": "35ec395f-13df-4a70-b1d8-04bd72c3dc28"
      },
      "execution_count": 4,
      "outputs": [
        {
          "output_type": "execute_result",
          "data": {
            "text/plain": [
              "array([[2, 2, 0],\n",
              "       [2, 1, 1],\n",
              "       [0, 0, 2]])"
            ]
          },
          "metadata": {},
          "execution_count": 4
        }
      ]
    },
    {
      "cell_type": "code",
      "source": [
        "# classification repport\n",
        "from sklearn.metrics import classification_report\n",
        "\n",
        "matrix = classification_report(actual, pred)\n",
        "print(f'Classification report: \\n {matrix}')"
      ],
      "metadata": {
        "colab": {
          "base_uri": "https://localhost:8080/"
        },
        "id": "5bTmT-IdvFTt",
        "outputId": "a06fb78e-1dfe-4823-d605-2a19f234188d"
      },
      "execution_count": 6,
      "outputs": [
        {
          "output_type": "stream",
          "name": "stdout",
          "text": [
            "Classification report: \n",
            "               precision    recall  f1-score   support\n",
            "\n",
            "           A       0.50      0.50      0.50         4\n",
            "           B       0.33      0.25      0.29         4\n",
            "           C       0.67      1.00      0.80         2\n",
            "\n",
            "    accuracy                           0.50        10\n",
            "   macro avg       0.50      0.58      0.53        10\n",
            "weighted avg       0.47      0.50      0.47        10\n",
            "\n"
          ]
        }
      ]
    },
    {
      "cell_type": "code",
      "source": [
        ""
      ],
      "metadata": {
        "id": "DO5L-4vUvftE"
      },
      "execution_count": null,
      "outputs": []
    }
  ]
}