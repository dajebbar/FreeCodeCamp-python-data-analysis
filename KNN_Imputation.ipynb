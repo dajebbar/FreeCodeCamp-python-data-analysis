{
  "nbformat": 4,
  "nbformat_minor": 0,
  "metadata": {
    "colab": {
      "name": "KNN_Imputation.ipynb",
      "provenance": [],
      "authorship_tag": "ABX9TyPJRgfVuKZ5jrq+dSZ7F615",
      "include_colab_link": true
    },
    "kernelspec": {
      "name": "python3",
      "display_name": "Python 3"
    },
    "language_info": {
      "name": "python"
    }
  },
  "cells": [
    {
      "cell_type": "markdown",
      "metadata": {
        "id": "view-in-github",
        "colab_type": "text"
      },
      "source": [
        "<a href=\"https://colab.research.google.com/github/dajebbar/FreeCodeCamp-python-data-analysis/blob/main/KNN_Imputation.ipynb\" target=\"_parent\"><img src=\"https://colab.research.google.com/assets/colab-badge.svg\" alt=\"Open In Colab\"/></a>"
      ]
    },
    {
      "cell_type": "markdown",
      "source": [
        "# Handling Missing values by using KNN Imputation\n",
        "- Choose a missing value of one variable\n",
        "- Select values of other columns in that row(observation)\n",
        "- Choose number of neighbors\n",
        "- Calculate non_Eclidean distance from all other data corresponding row elements $d_{xy} = \\sqrt{weight * squaredDistanceFromPresentCoordinates}$   \n",
        "$weight = \\frac{Total Number Of Coordinates}{Number Of Present Coordinates}$\n",
        "- Choose smallest two distances wich are corresponding values of same feature and calculate the mean of these values and fill the missing value with that mean."
      ],
      "metadata": {
        "id": "BNLrFDmsRk_w"
      }
    },
    {
      "cell_type": "code",
      "execution_count": null,
      "metadata": {
        "id": "Luz0H0w7Rf82"
      },
      "outputs": [],
      "source": [
        ""
      ]
    }
  ]
}