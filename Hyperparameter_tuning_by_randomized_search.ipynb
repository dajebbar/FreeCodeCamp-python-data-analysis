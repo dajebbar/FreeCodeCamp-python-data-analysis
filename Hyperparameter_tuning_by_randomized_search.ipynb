{
  "nbformat": 4,
  "nbformat_minor": 0,
  "metadata": {
    "colab": {
      "name": "Hyperparameter tuning by randomized-search.ipynb",
      "provenance": [],
      "authorship_tag": "ABX9TyNmgPPTVJCVzoDPKH6L8aYv",
      "include_colab_link": true
    },
    "kernelspec": {
      "name": "python3",
      "display_name": "Python 3"
    },
    "language_info": {
      "name": "python"
    }
  },
  "cells": [
    {
      "cell_type": "markdown",
      "metadata": {
        "id": "view-in-github",
        "colab_type": "text"
      },
      "source": [
        "<a href=\"https://colab.research.google.com/github/dajebbar/FreeCodeCamp-python-data-analysis/blob/main/Hyperparameter_tuning_by_randomized_search.ipynb\" target=\"_parent\"><img src=\"https://colab.research.google.com/assets/colab-badge.svg\" alt=\"Open In Colab\"/></a>"
      ]
    },
    {
      "cell_type": "markdown",
      "source": [
        "---\n",
        "# Hyperparameter tuning by randomized-search\n",
        "---\n",
        "In the previous notebook, we showed how to use a grid-search approach to search for the best hyperparameters maximizing the generalization performance of a predictive model.\n",
        "\n",
        "However, a grid-search approach has limitations. It does not scale when the number of parameters to tune is increasing. Also, the grid will impose a regularity during the search which might be problematic.\n",
        "\n",
        "In this notebook, we will present another method to tune hyperparameters called randomized search."
      ],
      "metadata": {
        "id": "6mcxWxXWeiXV"
      }
    },
    {
      "cell_type": "markdown",
      "source": [
        "## Predictive model"
      ],
      "metadata": {
        "id": "bcm-FdLLe2-N"
      }
    },
    {
      "cell_type": "code",
      "execution_count": 1,
      "metadata": {
        "id": "wQ5gtyE4ee7H"
      },
      "outputs": [],
      "source": [
        "from sklearn import set_config\n",
        "\n",
        "set_config(display=\"diagram\")"
      ]
    },
    {
      "cell_type": "code",
      "source": [
        "import pandas as pd\n",
        "\n",
        "adult_census = pd.read_csv(\"./adult.csv\")"
      ],
      "metadata": {
        "id": "-8XUsqrQe8U7"
      },
      "execution_count": 2,
      "outputs": []
    },
    {
      "cell_type": "markdown",
      "source": [
        "We extract the column containing the target.\n"
      ],
      "metadata": {
        "id": "V9UmC8rMfh7F"
      }
    },
    {
      "cell_type": "code",
      "source": [
        "target_name = \"class\"\n",
        "target = adult_census[target_name]\n",
        "target"
      ],
      "metadata": {
        "colab": {
          "base_uri": "https://localhost:8080/"
        },
        "id": "DDAPqCEafdth",
        "outputId": "a3a1a91e-70e1-42c0-a549-6b3b7379c7e6"
      },
      "execution_count": 3,
      "outputs": [
        {
          "output_type": "execute_result",
          "data": {
            "text/plain": [
              "0         <=50K\n",
              "1         <=50K\n",
              "2          >50K\n",
              "3          >50K\n",
              "4         <=50K\n",
              "          ...  \n",
              "48837     <=50K\n",
              "48838      >50K\n",
              "48839     <=50K\n",
              "48840     <=50K\n",
              "48841      >50K\n",
              "Name: class, Length: 48842, dtype: object"
            ]
          },
          "metadata": {},
          "execution_count": 3
        }
      ]
    },
    {
      "cell_type": "markdown",
      "source": [
        "We drop from our data the target and the \"`education-num`\" column which duplicates the information with \"`education`\" columns."
      ],
      "metadata": {
        "id": "K0WNIBLJfppM"
      }
    },
    {
      "cell_type": "code",
      "source": [
        "data = adult_census.drop(columns=[target_name, \"education-num\"])\n",
        "data.head()"
      ],
      "metadata": {
        "colab": {
          "base_uri": "https://localhost:8080/",
          "height": 354
        },
        "id": "OUjR6aQMflSc",
        "outputId": "33fec9b6-2c16-4181-f8e6-a9a144c481f3"
      },
      "execution_count": 4,
      "outputs": [
        {
          "output_type": "execute_result",
          "data": {
            "text/html": [
              "\n",
              "  <div id=\"df-5f1243ab-09a5-4fd8-b0ec-4b4e3ea1660f\">\n",
              "    <div class=\"colab-df-container\">\n",
              "      <div>\n",
              "<style scoped>\n",
              "    .dataframe tbody tr th:only-of-type {\n",
              "        vertical-align: middle;\n",
              "    }\n",
              "\n",
              "    .dataframe tbody tr th {\n",
              "        vertical-align: top;\n",
              "    }\n",
              "\n",
              "    .dataframe thead th {\n",
              "        text-align: right;\n",
              "    }\n",
              "</style>\n",
              "<table border=\"1\" class=\"dataframe\">\n",
              "  <thead>\n",
              "    <tr style=\"text-align: right;\">\n",
              "      <th></th>\n",
              "      <th>age</th>\n",
              "      <th>workclass</th>\n",
              "      <th>fnlwgt</th>\n",
              "      <th>education</th>\n",
              "      <th>marital-status</th>\n",
              "      <th>occupation</th>\n",
              "      <th>relationship</th>\n",
              "      <th>race</th>\n",
              "      <th>sex</th>\n",
              "      <th>capital-gain</th>\n",
              "      <th>capital-loss</th>\n",
              "      <th>hours-per-week</th>\n",
              "      <th>native-country</th>\n",
              "    </tr>\n",
              "  </thead>\n",
              "  <tbody>\n",
              "    <tr>\n",
              "      <th>0</th>\n",
              "      <td>25</td>\n",
              "      <td>Private</td>\n",
              "      <td>226802</td>\n",
              "      <td>11th</td>\n",
              "      <td>Never-married</td>\n",
              "      <td>Machine-op-inspct</td>\n",
              "      <td>Own-child</td>\n",
              "      <td>Black</td>\n",
              "      <td>Male</td>\n",
              "      <td>0</td>\n",
              "      <td>0</td>\n",
              "      <td>40</td>\n",
              "      <td>United-States</td>\n",
              "    </tr>\n",
              "    <tr>\n",
              "      <th>1</th>\n",
              "      <td>38</td>\n",
              "      <td>Private</td>\n",
              "      <td>89814</td>\n",
              "      <td>HS-grad</td>\n",
              "      <td>Married-civ-spouse</td>\n",
              "      <td>Farming-fishing</td>\n",
              "      <td>Husband</td>\n",
              "      <td>White</td>\n",
              "      <td>Male</td>\n",
              "      <td>0</td>\n",
              "      <td>0</td>\n",
              "      <td>50</td>\n",
              "      <td>United-States</td>\n",
              "    </tr>\n",
              "    <tr>\n",
              "      <th>2</th>\n",
              "      <td>28</td>\n",
              "      <td>Local-gov</td>\n",
              "      <td>336951</td>\n",
              "      <td>Assoc-acdm</td>\n",
              "      <td>Married-civ-spouse</td>\n",
              "      <td>Protective-serv</td>\n",
              "      <td>Husband</td>\n",
              "      <td>White</td>\n",
              "      <td>Male</td>\n",
              "      <td>0</td>\n",
              "      <td>0</td>\n",
              "      <td>40</td>\n",
              "      <td>United-States</td>\n",
              "    </tr>\n",
              "    <tr>\n",
              "      <th>3</th>\n",
              "      <td>44</td>\n",
              "      <td>Private</td>\n",
              "      <td>160323</td>\n",
              "      <td>Some-college</td>\n",
              "      <td>Married-civ-spouse</td>\n",
              "      <td>Machine-op-inspct</td>\n",
              "      <td>Husband</td>\n",
              "      <td>Black</td>\n",
              "      <td>Male</td>\n",
              "      <td>7688</td>\n",
              "      <td>0</td>\n",
              "      <td>40</td>\n",
              "      <td>United-States</td>\n",
              "    </tr>\n",
              "    <tr>\n",
              "      <th>4</th>\n",
              "      <td>18</td>\n",
              "      <td>?</td>\n",
              "      <td>103497</td>\n",
              "      <td>Some-college</td>\n",
              "      <td>Never-married</td>\n",
              "      <td>?</td>\n",
              "      <td>Own-child</td>\n",
              "      <td>White</td>\n",
              "      <td>Female</td>\n",
              "      <td>0</td>\n",
              "      <td>0</td>\n",
              "      <td>30</td>\n",
              "      <td>United-States</td>\n",
              "    </tr>\n",
              "  </tbody>\n",
              "</table>\n",
              "</div>\n",
              "      <button class=\"colab-df-convert\" onclick=\"convertToInteractive('df-5f1243ab-09a5-4fd8-b0ec-4b4e3ea1660f')\"\n",
              "              title=\"Convert this dataframe to an interactive table.\"\n",
              "              style=\"display:none;\">\n",
              "        \n",
              "  <svg xmlns=\"http://www.w3.org/2000/svg\" height=\"24px\"viewBox=\"0 0 24 24\"\n",
              "       width=\"24px\">\n",
              "    <path d=\"M0 0h24v24H0V0z\" fill=\"none\"/>\n",
              "    <path d=\"M18.56 5.44l.94 2.06.94-2.06 2.06-.94-2.06-.94-.94-2.06-.94 2.06-2.06.94zm-11 1L8.5 8.5l.94-2.06 2.06-.94-2.06-.94L8.5 2.5l-.94 2.06-2.06.94zm10 10l.94 2.06.94-2.06 2.06-.94-2.06-.94-.94-2.06-.94 2.06-2.06.94z\"/><path d=\"M17.41 7.96l-1.37-1.37c-.4-.4-.92-.59-1.43-.59-.52 0-1.04.2-1.43.59L10.3 9.45l-7.72 7.72c-.78.78-.78 2.05 0 2.83L4 21.41c.39.39.9.59 1.41.59.51 0 1.02-.2 1.41-.59l7.78-7.78 2.81-2.81c.8-.78.8-2.07 0-2.86zM5.41 20L4 18.59l7.72-7.72 1.47 1.35L5.41 20z\"/>\n",
              "  </svg>\n",
              "      </button>\n",
              "      \n",
              "  <style>\n",
              "    .colab-df-container {\n",
              "      display:flex;\n",
              "      flex-wrap:wrap;\n",
              "      gap: 12px;\n",
              "    }\n",
              "\n",
              "    .colab-df-convert {\n",
              "      background-color: #E8F0FE;\n",
              "      border: none;\n",
              "      border-radius: 50%;\n",
              "      cursor: pointer;\n",
              "      display: none;\n",
              "      fill: #1967D2;\n",
              "      height: 32px;\n",
              "      padding: 0 0 0 0;\n",
              "      width: 32px;\n",
              "    }\n",
              "\n",
              "    .colab-df-convert:hover {\n",
              "      background-color: #E2EBFA;\n",
              "      box-shadow: 0px 1px 2px rgba(60, 64, 67, 0.3), 0px 1px 3px 1px rgba(60, 64, 67, 0.15);\n",
              "      fill: #174EA6;\n",
              "    }\n",
              "\n",
              "    [theme=dark] .colab-df-convert {\n",
              "      background-color: #3B4455;\n",
              "      fill: #D2E3FC;\n",
              "    }\n",
              "\n",
              "    [theme=dark] .colab-df-convert:hover {\n",
              "      background-color: #434B5C;\n",
              "      box-shadow: 0px 1px 3px 1px rgba(0, 0, 0, 0.15);\n",
              "      filter: drop-shadow(0px 1px 2px rgba(0, 0, 0, 0.3));\n",
              "      fill: #FFFFFF;\n",
              "    }\n",
              "  </style>\n",
              "\n",
              "      <script>\n",
              "        const buttonEl =\n",
              "          document.querySelector('#df-5f1243ab-09a5-4fd8-b0ec-4b4e3ea1660f button.colab-df-convert');\n",
              "        buttonEl.style.display =\n",
              "          google.colab.kernel.accessAllowed ? 'block' : 'none';\n",
              "\n",
              "        async function convertToInteractive(key) {\n",
              "          const element = document.querySelector('#df-5f1243ab-09a5-4fd8-b0ec-4b4e3ea1660f');\n",
              "          const dataTable =\n",
              "            await google.colab.kernel.invokeFunction('convertToInteractive',\n",
              "                                                     [key], {});\n",
              "          if (!dataTable) return;\n",
              "\n",
              "          const docLinkHtml = 'Like what you see? Visit the ' +\n",
              "            '<a target=\"_blank\" href=https://colab.research.google.com/notebooks/data_table.ipynb>data table notebook</a>'\n",
              "            + ' to learn more about interactive tables.';\n",
              "          element.innerHTML = '';\n",
              "          dataTable['output_type'] = 'display_data';\n",
              "          await google.colab.output.renderOutput(dataTable, element);\n",
              "          const docLink = document.createElement('div');\n",
              "          docLink.innerHTML = docLinkHtml;\n",
              "          element.appendChild(docLink);\n",
              "        }\n",
              "      </script>\n",
              "    </div>\n",
              "  </div>\n",
              "  "
            ],
            "text/plain": [
              "   age   workclass  fnlwgt  ... capital-loss hours-per-week  native-country\n",
              "0   25     Private  226802  ...            0             40   United-States\n",
              "1   38     Private   89814  ...            0             50   United-States\n",
              "2   28   Local-gov  336951  ...            0             40   United-States\n",
              "3   44     Private  160323  ...            0             40   United-States\n",
              "4   18           ?  103497  ...            0             30   United-States\n",
              "\n",
              "[5 rows x 13 columns]"
            ]
          },
          "metadata": {},
          "execution_count": 4
        }
      ]
    },
    {
      "cell_type": "markdown",
      "source": [
        "Once the dataset is loaded, we split it into a training and testing sets."
      ],
      "metadata": {
        "id": "7ljwgMD3f4q0"
      }
    },
    {
      "cell_type": "code",
      "source": [
        "from sklearn.model_selection import train_test_split\n",
        "\n",
        "X_train, X_test, y_train, y_test = train_test_split(\n",
        "    data, target, random_state=42)"
      ],
      "metadata": {
        "id": "Cr7UtJQVfyeu"
      },
      "execution_count": 5,
      "outputs": []
    },
    {
      "cell_type": "markdown",
      "source": [
        "## Predictive Pipeline"
      ],
      "metadata": {
        "id": "zA5iw2zmgFNK"
      }
    },
    {
      "cell_type": "code",
      "source": [
        "from sklearn.compose import ColumnTransformer\n",
        "from sklearn.preprocessing import OrdinalEncoder, StandardScaler\n",
        "from sklearn.compose import make_column_selector as selector\n",
        "\n",
        "categorical_column = selector(dtype_include='object')(data)\n",
        "numerical_column = selector(dtype_include='number')(data)\n",
        "categorical_preprocessor = OrdinalEncoder(handle_unknown='use_encoded_value', \n",
        "                                          unknown_value=-1)\n",
        "numerical_preprocessor = StandardScaler()\n",
        "preprocessor = ColumnTransformer([\n",
        "                                  ('standard-scaler', \n",
        "                                   numerical_preprocessor, \n",
        "                                   numerical_column),\n",
        "                                  ('cat-prep', categorical_preprocessor, categorical_column)\n",
        "], remainder='passthrough', sparse_threshold=0)"
      ],
      "metadata": {
        "id": "n6RDc5AGgAff"
      },
      "execution_count": 6,
      "outputs": []
    },
    {
      "cell_type": "code",
      "source": [
        "from sklearn.ensemble import HistGradientBoostingClassifier\n",
        "from sklearn.pipeline import Pipeline\n",
        "\n",
        "model = Pipeline([\n",
        "                  ('preprocessor', preprocessor),\n",
        "                  ('classifier', HistGradientBoostingClassifier(\n",
        "                      random_state=42,\n",
        "                      max_leaf_nodes=4)\n",
        "                  )\n",
        "])"
      ],
      "metadata": {
        "id": "ccSrVa_WiC3j"
      },
      "execution_count": 7,
      "outputs": []
    },
    {
      "cell_type": "markdown",
      "source": [
        "Tuning using a randomized-search\n",
        "With the GridSearchCV estimator, the parameters need to be specified explicitly. We already mentioned that exploring a large number of values for different parameters will be quickly untractable.\n",
        "\n",
        "Instead, we can randomly generate the parameter candidates. Indeed, such approach avoids the regularity of the grid. Hence, adding more evaluations can increase the resolution in each direction. This is the case in the frequent situation where the choice of some hyperparameters is not very important.  \n",
        "Indeed, the number of evaluation points need to be divided across the two different hyperparameters. With a grid, the danger is that the region of good hyperparameters fall between the line of the grid: this region is aligned with the grid given that hyperparameter 2 has a weak influence. Rather, stochastic search will sample hyperparameter 1 independently from hyperparameter 2 and find the optimal region.\n",
        "\n",
        "The RandomizedSearchCV class allows for such stochastic search. It is used similarly to the GridSearchCV but the sampling distributions need to be specified instead of the parameter values. For instance, we will draw candidates using a log-uniform distribution because the parameters we are interested in take positive values with a natural log scaling (.1 is as close to 1 as 10 is).\n",
        "\n",
        "Random search (with RandomizedSearchCV) is typically beneficial compared to grid search (with GridSearchCV) to optimize 3 or more hyperparameters."
      ],
      "metadata": {
        "id": "Wpco6u9cjC3R"
      }
    },
    {
      "cell_type": "markdown",
      "source": [
        "We will optimize 3 other parameters in addition to the ones we optimized in the notebook presenting the `GridSearchCV`:\n",
        "\n",
        "-  `l2_regularization`: it corresponds to the constant to regularized the loss function\n",
        "- `min_samples_leaf`: it corresponds to the minimum number of samples required in a leaf;\n",
        "- `max_bins`: it corresponds to the maximum number of bins to construct the histograms.  \n",
        "\n",
        "We recall the meaning of the 2 remaining parameters:\n",
        "\n",
        "- `learning_rate`: it corresponds to the speed at which the - gradient-boosting will correct the residuals at each boosting iteration;\n",
        "- `max_leaf_nodes`: it corresponds to the maximum number of leaves for each tree in the ensemble."
      ],
      "metadata": {
        "id": "b6IdK054kCkA"
      }
    },
    {
      "cell_type": "markdown",
      "source": [
        "Note:\n",
        "scipy.stats.loguniform can be used to generate floating numbers. To generate random values for integer-valued parameters (e.g. min_samples_leaf) we can adapt is as follows:"
      ],
      "metadata": {
        "id": "he0zINZnk6sC"
      }
    },
    {
      "cell_type": "code",
      "source": [
        "from scipy.stats import loguniform\n",
        "\n",
        "\n",
        "class LogUniformInt:\n",
        "    \"\"\"Integer valued version of the log-uniform distribution\"\"\"\n",
        "    def __init__(self, a, b):\n",
        "        self._distribution = loguniform(a, b)\n",
        "\n",
        "    def rvs(self, *args, **kwargs):\n",
        "        \"\"\"Random variable sample\"\"\"\n",
        "        return self._distribution.rvs(*args, **kwargs).astype(int)"
      ],
      "metadata": {
        "id": "7m5QErSnimau"
      },
      "execution_count": 8,
      "outputs": []
    },
    {
      "cell_type": "markdown",
      "source": [
        "Now, we can define the randomized search using the different distributions. Executing 10 iterations of 5-fold cross-validation for random parametrizations of this model on this dataset can take from 10 seconds to several minutes, depending on the speed of the host computer and the number of available processors."
      ],
      "metadata": {
        "id": "aFpcXb1kljRY"
      }
    },
    {
      "cell_type": "code",
      "source": [
        "for p in model.get_params():\n",
        "  print(p)"
      ],
      "metadata": {
        "colab": {
          "base_uri": "https://localhost:8080/"
        },
        "id": "YXqQ4PmbmMhn",
        "outputId": "74e9f7f6-9d4e-4afe-84b9-e80650c07bcb"
      },
      "execution_count": 10,
      "outputs": [
        {
          "output_type": "stream",
          "name": "stdout",
          "text": [
            "memory\n",
            "steps\n",
            "verbose\n",
            "preprocessor\n",
            "classifier\n",
            "preprocessor__n_jobs\n",
            "preprocessor__remainder\n",
            "preprocessor__sparse_threshold\n",
            "preprocessor__transformer_weights\n",
            "preprocessor__transformers\n",
            "preprocessor__verbose\n",
            "preprocessor__verbose_feature_names_out\n",
            "preprocessor__standard-scaler\n",
            "preprocessor__cat-prep\n",
            "preprocessor__standard-scaler__copy\n",
            "preprocessor__standard-scaler__with_mean\n",
            "preprocessor__standard-scaler__with_std\n",
            "preprocessor__cat-prep__categories\n",
            "preprocessor__cat-prep__dtype\n",
            "preprocessor__cat-prep__handle_unknown\n",
            "preprocessor__cat-prep__unknown_value\n",
            "classifier__categorical_features\n",
            "classifier__early_stopping\n",
            "classifier__l2_regularization\n",
            "classifier__learning_rate\n",
            "classifier__loss\n",
            "classifier__max_bins\n",
            "classifier__max_depth\n",
            "classifier__max_iter\n",
            "classifier__max_leaf_nodes\n",
            "classifier__min_samples_leaf\n",
            "classifier__monotonic_cst\n",
            "classifier__n_iter_no_change\n",
            "classifier__random_state\n",
            "classifier__scoring\n",
            "classifier__tol\n",
            "classifier__validation_fraction\n",
            "classifier__verbose\n",
            "classifier__warm_start\n"
          ]
        }
      ]
    },
    {
      "cell_type": "code",
      "source": [
        "%%time\n",
        "from sklearn.model_selection import RandomizedSearchCV\n",
        "\n",
        "param_distributions = {\n",
        "    'classifier__l2_regularization': loguniform(1e-6, 1e3),\n",
        "    'classifier__learning_rate': loguniform(.001, 10),\n",
        "    'classifier__max_leaf_nodes': LogUniformInt(2, 256),\n",
        "    'classifier__min_samples_leaf': LogUniformInt(1, 100),\n",
        "    'classifier__max_bins': LogUniformInt(2, 255),\n",
        "}\n",
        "\n",
        "model_random_search = RandomizedSearchCV(model,\n",
        "                                         param_distributions=param_distributions,\n",
        "                                         n_jobs=4,\n",
        "                                         cv=10,\n",
        "                                         verbose=1)\n",
        "\n",
        "model_random_search.fit(X_train, y_train)"
      ],
      "metadata": {
        "colab": {
          "base_uri": "https://localhost:8080/"
        },
        "id": "zVsVGqZSlQGV",
        "outputId": "34a0d485-c9af-4d66-a58b-f4a41ff9e130"
      },
      "execution_count": 11,
      "outputs": [
        {
          "output_type": "stream",
          "name": "stdout",
          "text": [
            "Fitting 10 folds for each of 10 candidates, totalling 100 fits\n",
            "CPU times: user 5.67 s, sys: 221 ms, total: 5.89 s\n",
            "Wall time: 1min 10s\n"
          ]
        }
      ]
    },
    {
      "cell_type": "markdown",
      "source": [
        "Then, we can compute the accuracy score on the test set."
      ],
      "metadata": {
        "id": "FQZi3XS2omMj"
      }
    },
    {
      "cell_type": "code",
      "source": [
        "accuracy = model_random_search.score(X_test, y_test)\n",
        "print(f\"The test accuracy score of the best model is \"\n",
        "      f\"{accuracy:.2f}\")"
      ],
      "metadata": {
        "colab": {
          "base_uri": "https://localhost:8080/"
        },
        "id": "shSeqU7doDE8",
        "outputId": "19a99b48-82e2-4b65-f9c7-4c5bb8f40dcd"
      },
      "execution_count": 12,
      "outputs": [
        {
          "output_type": "stream",
          "name": "stdout",
          "text": [
            "The test accuracy score of the best model is 0.88\n"
          ]
        }
      ]
    },
    {
      "cell_type": "code",
      "source": [
        "from pprint import pprint\n",
        "\n",
        "print(\"The best parameters are:\")\n",
        "pprint(model_random_search.best_params_)"
      ],
      "metadata": {
        "colab": {
          "base_uri": "https://localhost:8080/"
        },
        "id": "Ag9t3tAYo0Sc",
        "outputId": "d3b2205b-4cf2-4e3e-f7e3-6100f9d16c21"
      },
      "execution_count": 13,
      "outputs": [
        {
          "output_type": "stream",
          "name": "stdout",
          "text": [
            "The best parameters are:\n",
            "{'classifier__l2_regularization': 1.1844610669907354e-05,\n",
            " 'classifier__learning_rate': 0.05563825121657506,\n",
            " 'classifier__max_bins': 197,\n",
            " 'classifier__max_leaf_nodes': 10,\n",
            " 'classifier__min_samples_leaf': 2}\n"
          ]
        }
      ]
    },
    {
      "cell_type": "markdown",
      "source": [
        "We can inspect the results using the attributes `cv_results`"
      ],
      "metadata": {
        "id": "CivUkjejpD6y"
      }
    },
    {
      "cell_type": "code",
      "source": [
        "def shorten_param(param_name):\n",
        "    if \"__\" in param_name:\n",
        "        return param_name.rsplit(\"__\", 1)[1]\n",
        "    return param_name"
      ],
      "metadata": {
        "id": "m9B4wEdro54H"
      },
      "execution_count": 14,
      "outputs": []
    },
    {
      "cell_type": "code",
      "source": [
        "# get the parameter names\n",
        "column_results = [\n",
        "    f\"param_{name}\" for name in param_distributions.keys()]\n",
        "column_results += [\n",
        "    \"mean_test_score\", \"std_test_score\", \"rank_test_score\"]\n",
        "\n",
        "cv_results = pd.DataFrame(model_random_search.cv_results_)\n",
        "cv_results = cv_results[column_results].sort_values(\n",
        "    \"mean_test_score\", ascending=False)\n",
        "cv_results = cv_results.rename(shorten_param, axis=1)\n",
        "cv_results"
      ],
      "metadata": {
        "colab": {
          "base_uri": "https://localhost:8080/",
          "height": 363
        },
        "id": "5_2PBDAqpQoK",
        "outputId": "bad37c6c-3625-434d-9646-ca03d57a37bc"
      },
      "execution_count": 15,
      "outputs": [
        {
          "output_type": "execute_result",
          "data": {
            "text/html": [
              "\n",
              "  <div id=\"df-15685999-f26e-4eca-88ae-13fcb112aaab\">\n",
              "    <div class=\"colab-df-container\">\n",
              "      <div>\n",
              "<style scoped>\n",
              "    .dataframe tbody tr th:only-of-type {\n",
              "        vertical-align: middle;\n",
              "    }\n",
              "\n",
              "    .dataframe tbody tr th {\n",
              "        vertical-align: top;\n",
              "    }\n",
              "\n",
              "    .dataframe thead th {\n",
              "        text-align: right;\n",
              "    }\n",
              "</style>\n",
              "<table border=\"1\" class=\"dataframe\">\n",
              "  <thead>\n",
              "    <tr style=\"text-align: right;\">\n",
              "      <th></th>\n",
              "      <th>l2_regularization</th>\n",
              "      <th>learning_rate</th>\n",
              "      <th>max_leaf_nodes</th>\n",
              "      <th>min_samples_leaf</th>\n",
              "      <th>max_bins</th>\n",
              "      <th>mean_test_score</th>\n",
              "      <th>std_test_score</th>\n",
              "      <th>rank_test_score</th>\n",
              "    </tr>\n",
              "  </thead>\n",
              "  <tbody>\n",
              "    <tr>\n",
              "      <th>5</th>\n",
              "      <td>0.000012</td>\n",
              "      <td>0.055638</td>\n",
              "      <td>10</td>\n",
              "      <td>2</td>\n",
              "      <td>197</td>\n",
              "      <td>0.864650</td>\n",
              "      <td>0.003885</td>\n",
              "      <td>1</td>\n",
              "    </tr>\n",
              "    <tr>\n",
              "      <th>6</th>\n",
              "      <td>0.000003</td>\n",
              "      <td>0.491738</td>\n",
              "      <td>3</td>\n",
              "      <td>39</td>\n",
              "      <td>23</td>\n",
              "      <td>0.854549</td>\n",
              "      <td>0.003653</td>\n",
              "      <td>2</td>\n",
              "    </tr>\n",
              "    <tr>\n",
              "      <th>1</th>\n",
              "      <td>0.002761</td>\n",
              "      <td>0.160468</td>\n",
              "      <td>48</td>\n",
              "      <td>1</td>\n",
              "      <td>15</td>\n",
              "      <td>0.845186</td>\n",
              "      <td>0.004450</td>\n",
              "      <td>3</td>\n",
              "    </tr>\n",
              "    <tr>\n",
              "      <th>0</th>\n",
              "      <td>0.000174</td>\n",
              "      <td>0.043531</td>\n",
              "      <td>3</td>\n",
              "      <td>4</td>\n",
              "      <td>165</td>\n",
              "      <td>0.823756</td>\n",
              "      <td>0.003210</td>\n",
              "      <td>4</td>\n",
              "    </tr>\n",
              "    <tr>\n",
              "      <th>3</th>\n",
              "      <td>0.005143</td>\n",
              "      <td>1.150303</td>\n",
              "      <td>156</td>\n",
              "      <td>1</td>\n",
              "      <td>11</td>\n",
              "      <td>0.814010</td>\n",
              "      <td>0.005264</td>\n",
              "      <td>5</td>\n",
              "    </tr>\n",
              "    <tr>\n",
              "      <th>8</th>\n",
              "      <td>0.344497</td>\n",
              "      <td>0.069956</td>\n",
              "      <td>2</td>\n",
              "      <td>46</td>\n",
              "      <td>4</td>\n",
              "      <td>0.801589</td>\n",
              "      <td>0.003659</td>\n",
              "      <td>6</td>\n",
              "    </tr>\n",
              "    <tr>\n",
              "      <th>9</th>\n",
              "      <td>9.237193</td>\n",
              "      <td>0.001226</td>\n",
              "      <td>167</td>\n",
              "      <td>15</td>\n",
              "      <td>109</td>\n",
              "      <td>0.758947</td>\n",
              "      <td>0.000020</td>\n",
              "      <td>7</td>\n",
              "    </tr>\n",
              "    <tr>\n",
              "      <th>4</th>\n",
              "      <td>0.000146</td>\n",
              "      <td>3.854175</td>\n",
              "      <td>179</td>\n",
              "      <td>8</td>\n",
              "      <td>6</td>\n",
              "      <td>0.713876</td>\n",
              "      <td>0.058906</td>\n",
              "      <td>8</td>\n",
              "    </tr>\n",
              "    <tr>\n",
              "      <th>2</th>\n",
              "      <td>0.000002</td>\n",
              "      <td>4.386494</td>\n",
              "      <td>88</td>\n",
              "      <td>4</td>\n",
              "      <td>45</td>\n",
              "      <td>0.693838</td>\n",
              "      <td>0.069259</td>\n",
              "      <td>9</td>\n",
              "    </tr>\n",
              "    <tr>\n",
              "      <th>7</th>\n",
              "      <td>85.838295</td>\n",
              "      <td>7.069194</td>\n",
              "      <td>5</td>\n",
              "      <td>7</td>\n",
              "      <td>47</td>\n",
              "      <td>0.665174</td>\n",
              "      <td>0.105020</td>\n",
              "      <td>10</td>\n",
              "    </tr>\n",
              "  </tbody>\n",
              "</table>\n",
              "</div>\n",
              "      <button class=\"colab-df-convert\" onclick=\"convertToInteractive('df-15685999-f26e-4eca-88ae-13fcb112aaab')\"\n",
              "              title=\"Convert this dataframe to an interactive table.\"\n",
              "              style=\"display:none;\">\n",
              "        \n",
              "  <svg xmlns=\"http://www.w3.org/2000/svg\" height=\"24px\"viewBox=\"0 0 24 24\"\n",
              "       width=\"24px\">\n",
              "    <path d=\"M0 0h24v24H0V0z\" fill=\"none\"/>\n",
              "    <path d=\"M18.56 5.44l.94 2.06.94-2.06 2.06-.94-2.06-.94-.94-2.06-.94 2.06-2.06.94zm-11 1L8.5 8.5l.94-2.06 2.06-.94-2.06-.94L8.5 2.5l-.94 2.06-2.06.94zm10 10l.94 2.06.94-2.06 2.06-.94-2.06-.94-.94-2.06-.94 2.06-2.06.94z\"/><path d=\"M17.41 7.96l-1.37-1.37c-.4-.4-.92-.59-1.43-.59-.52 0-1.04.2-1.43.59L10.3 9.45l-7.72 7.72c-.78.78-.78 2.05 0 2.83L4 21.41c.39.39.9.59 1.41.59.51 0 1.02-.2 1.41-.59l7.78-7.78 2.81-2.81c.8-.78.8-2.07 0-2.86zM5.41 20L4 18.59l7.72-7.72 1.47 1.35L5.41 20z\"/>\n",
              "  </svg>\n",
              "      </button>\n",
              "      \n",
              "  <style>\n",
              "    .colab-df-container {\n",
              "      display:flex;\n",
              "      flex-wrap:wrap;\n",
              "      gap: 12px;\n",
              "    }\n",
              "\n",
              "    .colab-df-convert {\n",
              "      background-color: #E8F0FE;\n",
              "      border: none;\n",
              "      border-radius: 50%;\n",
              "      cursor: pointer;\n",
              "      display: none;\n",
              "      fill: #1967D2;\n",
              "      height: 32px;\n",
              "      padding: 0 0 0 0;\n",
              "      width: 32px;\n",
              "    }\n",
              "\n",
              "    .colab-df-convert:hover {\n",
              "      background-color: #E2EBFA;\n",
              "      box-shadow: 0px 1px 2px rgba(60, 64, 67, 0.3), 0px 1px 3px 1px rgba(60, 64, 67, 0.15);\n",
              "      fill: #174EA6;\n",
              "    }\n",
              "\n",
              "    [theme=dark] .colab-df-convert {\n",
              "      background-color: #3B4455;\n",
              "      fill: #D2E3FC;\n",
              "    }\n",
              "\n",
              "    [theme=dark] .colab-df-convert:hover {\n",
              "      background-color: #434B5C;\n",
              "      box-shadow: 0px 1px 3px 1px rgba(0, 0, 0, 0.15);\n",
              "      filter: drop-shadow(0px 1px 2px rgba(0, 0, 0, 0.3));\n",
              "      fill: #FFFFFF;\n",
              "    }\n",
              "  </style>\n",
              "\n",
              "      <script>\n",
              "        const buttonEl =\n",
              "          document.querySelector('#df-15685999-f26e-4eca-88ae-13fcb112aaab button.colab-df-convert');\n",
              "        buttonEl.style.display =\n",
              "          google.colab.kernel.accessAllowed ? 'block' : 'none';\n",
              "\n",
              "        async function convertToInteractive(key) {\n",
              "          const element = document.querySelector('#df-15685999-f26e-4eca-88ae-13fcb112aaab');\n",
              "          const dataTable =\n",
              "            await google.colab.kernel.invokeFunction('convertToInteractive',\n",
              "                                                     [key], {});\n",
              "          if (!dataTable) return;\n",
              "\n",
              "          const docLinkHtml = 'Like what you see? Visit the ' +\n",
              "            '<a target=\"_blank\" href=https://colab.research.google.com/notebooks/data_table.ipynb>data table notebook</a>'\n",
              "            + ' to learn more about interactive tables.';\n",
              "          element.innerHTML = '';\n",
              "          dataTable['output_type'] = 'display_data';\n",
              "          await google.colab.output.renderOutput(dataTable, element);\n",
              "          const docLink = document.createElement('div');\n",
              "          docLink.innerHTML = docLinkHtml;\n",
              "          element.appendChild(docLink);\n",
              "        }\n",
              "      </script>\n",
              "    </div>\n",
              "  </div>\n",
              "  "
            ],
            "text/plain": [
              "  l2_regularization learning_rate  ... std_test_score rank_test_score\n",
              "5          0.000012      0.055638  ...       0.003885               1\n",
              "6          0.000003      0.491738  ...       0.003653               2\n",
              "1          0.002761      0.160468  ...       0.004450               3\n",
              "0          0.000174      0.043531  ...       0.003210               4\n",
              "3          0.005143      1.150303  ...       0.005264               5\n",
              "8          0.344497      0.069956  ...       0.003659               6\n",
              "9          9.237193      0.001226  ...       0.000020               7\n",
              "4          0.000146      3.854175  ...       0.058906               8\n",
              "2          0.000002      4.386494  ...       0.069259               9\n",
              "7         85.838295      7.069194  ...       0.105020              10\n",
              "\n",
              "[10 rows x 8 columns]"
            ]
          },
          "metadata": {},
          "execution_count": 15
        }
      ]
    },
    {
      "cell_type": "markdown",
      "source": [
        "In practice, a randomized hyperparameter search is usually run with a large number of iterations. In order to avoid the computation cost and still make a decent analysis, we load the results obtained from a similar search with 200 iterations."
      ],
      "metadata": {
        "id": "a5OAVAu5pv7B"
      }
    },
    {
      "cell_type": "code",
      "source": [
        "model_random_search = RandomizedSearchCV(\n",
        "    model, param_distributions=param_distributions, n_iter=200,\n",
        "    n_jobs=2, cv=5)\n",
        "\n",
        "model_random_search.fit(X_train, y_train)\n",
        "\n",
        "cv_results =  pd.DataFrame(model_random_search.cv_results_)\n",
        "cv_results.to_csv(\"./randomized_search_results.csv\")\n",
        "\n",
        "cv_results = pd.read_csv(\"./randomized_search_results.csv\",\n",
        "                         index_col=0)"
      ],
      "metadata": {
        "id": "mbUyFd8lpR0u"
      },
      "execution_count": 16,
      "outputs": []
    },
    {
      "cell_type": "markdown",
      "source": [
        "As we have more than 2 parameters in our grid-search, we cannot visualize the results using a heatmap. However, we can us a parallel coordinates plot.\n"
      ],
      "metadata": {
        "id": "tfxG9BNftVQZ"
      }
    },
    {
      "cell_type": "code",
      "source": [
        "(cv_results[column_results].rename(\n",
        "    shorten_param, axis=1).sort_values(\"mean_test_score\"))"
      ],
      "metadata": {
        "colab": {
          "base_uri": "https://localhost:8080/",
          "height": 424
        },
        "id": "cjKAutQ3qQ_L",
        "outputId": "4835c3ce-a2eb-4553-9aea-1268fe830fdd"
      },
      "execution_count": 17,
      "outputs": [
        {
          "output_type": "execute_result",
          "data": {
            "text/html": [
              "\n",
              "  <div id=\"df-c6f2ac10-1ed8-4f42-be8f-c013cff1f980\">\n",
              "    <div class=\"colab-df-container\">\n",
              "      <div>\n",
              "<style scoped>\n",
              "    .dataframe tbody tr th:only-of-type {\n",
              "        vertical-align: middle;\n",
              "    }\n",
              "\n",
              "    .dataframe tbody tr th {\n",
              "        vertical-align: top;\n",
              "    }\n",
              "\n",
              "    .dataframe thead th {\n",
              "        text-align: right;\n",
              "    }\n",
              "</style>\n",
              "<table border=\"1\" class=\"dataframe\">\n",
              "  <thead>\n",
              "    <tr style=\"text-align: right;\">\n",
              "      <th></th>\n",
              "      <th>l2_regularization</th>\n",
              "      <th>learning_rate</th>\n",
              "      <th>max_leaf_nodes</th>\n",
              "      <th>min_samples_leaf</th>\n",
              "      <th>max_bins</th>\n",
              "      <th>mean_test_score</th>\n",
              "      <th>std_test_score</th>\n",
              "      <th>rank_test_score</th>\n",
              "    </tr>\n",
              "  </thead>\n",
              "  <tbody>\n",
              "    <tr>\n",
              "      <th>23</th>\n",
              "      <td>0.000383</td>\n",
              "      <td>4.142643</td>\n",
              "      <td>2</td>\n",
              "      <td>48</td>\n",
              "      <td>3</td>\n",
              "      <td>0.283476</td>\n",
              "      <td>0.005123</td>\n",
              "      <td>200</td>\n",
              "    </tr>\n",
              "    <tr>\n",
              "      <th>132</th>\n",
              "      <td>0.000027</td>\n",
              "      <td>3.884959</td>\n",
              "      <td>10</td>\n",
              "      <td>15</td>\n",
              "      <td>3</td>\n",
              "      <td>0.331334</td>\n",
              "      <td>0.213979</td>\n",
              "      <td>199</td>\n",
              "    </tr>\n",
              "    <tr>\n",
              "      <th>181</th>\n",
              "      <td>19.531135</td>\n",
              "      <td>2.694213</td>\n",
              "      <td>2</td>\n",
              "      <td>6</td>\n",
              "      <td>16</td>\n",
              "      <td>0.501078</td>\n",
              "      <td>0.008179</td>\n",
              "      <td>198</td>\n",
              "    </tr>\n",
              "    <tr>\n",
              "      <th>26</th>\n",
              "      <td>45.100609</td>\n",
              "      <td>2.335740</td>\n",
              "      <td>3</td>\n",
              "      <td>5</td>\n",
              "      <td>59</td>\n",
              "      <td>0.567285</td>\n",
              "      <td>0.154380</td>\n",
              "      <td>197</td>\n",
              "    </tr>\n",
              "    <tr>\n",
              "      <th>44</th>\n",
              "      <td>0.478826</td>\n",
              "      <td>5.070575</td>\n",
              "      <td>93</td>\n",
              "      <td>49</td>\n",
              "      <td>2</td>\n",
              "      <td>0.581747</td>\n",
              "      <td>0.147394</td>\n",
              "      <td>196</td>\n",
              "    </tr>\n",
              "    <tr>\n",
              "      <th>...</th>\n",
              "      <td>...</td>\n",
              "      <td>...</td>\n",
              "      <td>...</td>\n",
              "      <td>...</td>\n",
              "      <td>...</td>\n",
              "      <td>...</td>\n",
              "      <td>...</td>\n",
              "      <td>...</td>\n",
              "    </tr>\n",
              "    <tr>\n",
              "      <th>29</th>\n",
              "      <td>6.089836</td>\n",
              "      <td>0.122632</td>\n",
              "      <td>6</td>\n",
              "      <td>10</td>\n",
              "      <td>195</td>\n",
              "      <td>0.866179</td>\n",
              "      <td>0.003266</td>\n",
              "      <td>5</td>\n",
              "    </tr>\n",
              "    <tr>\n",
              "      <th>176</th>\n",
              "      <td>0.068144</td>\n",
              "      <td>0.290263</td>\n",
              "      <td>52</td>\n",
              "      <td>25</td>\n",
              "      <td>181</td>\n",
              "      <td>0.867134</td>\n",
              "      <td>0.003081</td>\n",
              "      <td>4</td>\n",
              "    </tr>\n",
              "    <tr>\n",
              "      <th>101</th>\n",
              "      <td>2.062378</td>\n",
              "      <td>0.102791</td>\n",
              "      <td>10</td>\n",
              "      <td>72</td>\n",
              "      <td>141</td>\n",
              "      <td>0.867353</td>\n",
              "      <td>0.001888</td>\n",
              "      <td>3</td>\n",
              "    </tr>\n",
              "    <tr>\n",
              "      <th>68</th>\n",
              "      <td>0.000012</td>\n",
              "      <td>0.185657</td>\n",
              "      <td>7</td>\n",
              "      <td>19</td>\n",
              "      <td>205</td>\n",
              "      <td>0.869209</td>\n",
              "      <td>0.002880</td>\n",
              "      <td>2</td>\n",
              "    </tr>\n",
              "    <tr>\n",
              "      <th>72</th>\n",
              "      <td>0.108985</td>\n",
              "      <td>0.050761</td>\n",
              "      <td>49</td>\n",
              "      <td>2</td>\n",
              "      <td>227</td>\n",
              "      <td>0.869755</td>\n",
              "      <td>0.003171</td>\n",
              "      <td>1</td>\n",
              "    </tr>\n",
              "  </tbody>\n",
              "</table>\n",
              "<p>200 rows × 8 columns</p>\n",
              "</div>\n",
              "      <button class=\"colab-df-convert\" onclick=\"convertToInteractive('df-c6f2ac10-1ed8-4f42-be8f-c013cff1f980')\"\n",
              "              title=\"Convert this dataframe to an interactive table.\"\n",
              "              style=\"display:none;\">\n",
              "        \n",
              "  <svg xmlns=\"http://www.w3.org/2000/svg\" height=\"24px\"viewBox=\"0 0 24 24\"\n",
              "       width=\"24px\">\n",
              "    <path d=\"M0 0h24v24H0V0z\" fill=\"none\"/>\n",
              "    <path d=\"M18.56 5.44l.94 2.06.94-2.06 2.06-.94-2.06-.94-.94-2.06-.94 2.06-2.06.94zm-11 1L8.5 8.5l.94-2.06 2.06-.94-2.06-.94L8.5 2.5l-.94 2.06-2.06.94zm10 10l.94 2.06.94-2.06 2.06-.94-2.06-.94-.94-2.06-.94 2.06-2.06.94z\"/><path d=\"M17.41 7.96l-1.37-1.37c-.4-.4-.92-.59-1.43-.59-.52 0-1.04.2-1.43.59L10.3 9.45l-7.72 7.72c-.78.78-.78 2.05 0 2.83L4 21.41c.39.39.9.59 1.41.59.51 0 1.02-.2 1.41-.59l7.78-7.78 2.81-2.81c.8-.78.8-2.07 0-2.86zM5.41 20L4 18.59l7.72-7.72 1.47 1.35L5.41 20z\"/>\n",
              "  </svg>\n",
              "      </button>\n",
              "      \n",
              "  <style>\n",
              "    .colab-df-container {\n",
              "      display:flex;\n",
              "      flex-wrap:wrap;\n",
              "      gap: 12px;\n",
              "    }\n",
              "\n",
              "    .colab-df-convert {\n",
              "      background-color: #E8F0FE;\n",
              "      border: none;\n",
              "      border-radius: 50%;\n",
              "      cursor: pointer;\n",
              "      display: none;\n",
              "      fill: #1967D2;\n",
              "      height: 32px;\n",
              "      padding: 0 0 0 0;\n",
              "      width: 32px;\n",
              "    }\n",
              "\n",
              "    .colab-df-convert:hover {\n",
              "      background-color: #E2EBFA;\n",
              "      box-shadow: 0px 1px 2px rgba(60, 64, 67, 0.3), 0px 1px 3px 1px rgba(60, 64, 67, 0.15);\n",
              "      fill: #174EA6;\n",
              "    }\n",
              "\n",
              "    [theme=dark] .colab-df-convert {\n",
              "      background-color: #3B4455;\n",
              "      fill: #D2E3FC;\n",
              "    }\n",
              "\n",
              "    [theme=dark] .colab-df-convert:hover {\n",
              "      background-color: #434B5C;\n",
              "      box-shadow: 0px 1px 3px 1px rgba(0, 0, 0, 0.15);\n",
              "      filter: drop-shadow(0px 1px 2px rgba(0, 0, 0, 0.3));\n",
              "      fill: #FFFFFF;\n",
              "    }\n",
              "  </style>\n",
              "\n",
              "      <script>\n",
              "        const buttonEl =\n",
              "          document.querySelector('#df-c6f2ac10-1ed8-4f42-be8f-c013cff1f980 button.colab-df-convert');\n",
              "        buttonEl.style.display =\n",
              "          google.colab.kernel.accessAllowed ? 'block' : 'none';\n",
              "\n",
              "        async function convertToInteractive(key) {\n",
              "          const element = document.querySelector('#df-c6f2ac10-1ed8-4f42-be8f-c013cff1f980');\n",
              "          const dataTable =\n",
              "            await google.colab.kernel.invokeFunction('convertToInteractive',\n",
              "                                                     [key], {});\n",
              "          if (!dataTable) return;\n",
              "\n",
              "          const docLinkHtml = 'Like what you see? Visit the ' +\n",
              "            '<a target=\"_blank\" href=https://colab.research.google.com/notebooks/data_table.ipynb>data table notebook</a>'\n",
              "            + ' to learn more about interactive tables.';\n",
              "          element.innerHTML = '';\n",
              "          dataTable['output_type'] = 'display_data';\n",
              "          await google.colab.output.renderOutput(dataTable, element);\n",
              "          const docLink = document.createElement('div');\n",
              "          docLink.innerHTML = docLinkHtml;\n",
              "          element.appendChild(docLink);\n",
              "        }\n",
              "      </script>\n",
              "    </div>\n",
              "  </div>\n",
              "  "
            ],
            "text/plain": [
              "     l2_regularization  learning_rate  ...  std_test_score  rank_test_score\n",
              "23            0.000383       4.142643  ...        0.005123              200\n",
              "132           0.000027       3.884959  ...        0.213979              199\n",
              "181          19.531135       2.694213  ...        0.008179              198\n",
              "26           45.100609       2.335740  ...        0.154380              197\n",
              "44            0.478826       5.070575  ...        0.147394              196\n",
              "..                 ...            ...  ...             ...              ...\n",
              "29            6.089836       0.122632  ...        0.003266                5\n",
              "176           0.068144       0.290263  ...        0.003081                4\n",
              "101           2.062378       0.102791  ...        0.001888                3\n",
              "68            0.000012       0.185657  ...        0.002880                2\n",
              "72            0.108985       0.050761  ...        0.003171                1\n",
              "\n",
              "[200 rows x 8 columns]"
            ]
          },
          "metadata": {},
          "execution_count": 17
        }
      ]
    },
    {
      "cell_type": "code",
      "source": [
        "model_random_search.best_params_"
      ],
      "metadata": {
        "colab": {
          "base_uri": "https://localhost:8080/"
        },
        "id": "fHWvHH1gtcnv",
        "outputId": "4eb46ede-d4db-4429-ce30-c37255ceef42"
      },
      "execution_count": 18,
      "outputs": [
        {
          "output_type": "execute_result",
          "data": {
            "text/plain": [
              "{'classifier__l2_regularization': 0.10898499842777856,\n",
              " 'classifier__learning_rate': 0.05076088514855343,\n",
              " 'classifier__max_bins': 227,\n",
              " 'classifier__max_leaf_nodes': 49,\n",
              " 'classifier__min_samples_leaf': 2}"
            ]
          },
          "metadata": {},
          "execution_count": 18
        }
      ]
    },
    {
      "cell_type": "code",
      "source": [
        "import numpy as np\n",
        "import plotly.express as px\n",
        "\n",
        "fig = px.parallel_coordinates(\n",
        "    cv_results.rename(shorten_param, axis=1).apply({\n",
        "        \"learning_rate\": np.log10,\n",
        "        \"max_leaf_nodes\": np.log2,\n",
        "        \"max_bins\": np.log2,\n",
        "        \"min_samples_leaf\": np.log10,\n",
        "        \"l2_regularization\": np.log10,\n",
        "        \"mean_test_score\": lambda x: x}),\n",
        "    color=\"mean_test_score\",\n",
        "    color_continuous_scale=px.colors.sequential.Viridis,\n",
        ")\n",
        "fig.show()"
      ],
      "metadata": {
        "colab": {
          "base_uri": "https://localhost:8080/",
          "height": 542
        },
        "id": "nyM34uQGttQP",
        "outputId": "d12ffde2-4b17-4aad-9ea9-f707d2483f7f"
      },
      "execution_count": 19,
      "outputs": [
        {
          "output_type": "display_data",
          "data": {
            "text/html": [
              "<html>\n",
              "<head><meta charset=\"utf-8\" /></head>\n",
              "<body>\n",
              "    <div>            <script src=\"https://cdnjs.cloudflare.com/ajax/libs/mathjax/2.7.5/MathJax.js?config=TeX-AMS-MML_SVG\"></script><script type=\"text/javascript\">if (window.MathJax) {MathJax.Hub.Config({SVG: {font: \"STIX-Web\"}});}</script>                <script type=\"text/javascript\">window.PlotlyConfig = {MathJaxConfig: 'local'};</script>\n",
              "        <script src=\"https://cdn.plot.ly/plotly-2.8.3.min.js\"></script>                <div id=\"627dd906-0bf9-4f98-9e78-c481b577e649\" class=\"plotly-graph-div\" style=\"height:525px; width:100%;\"></div>            <script type=\"text/javascript\">                                    window.PLOTLYENV=window.PLOTLYENV || {};                                    if (document.getElementById(\"627dd906-0bf9-4f98-9e78-c481b577e649\")) {                    Plotly.newPlot(                        \"627dd906-0bf9-4f98-9e78-c481b577e649\",                        [{\"dimensions\":[{\"label\":\"learning_rate\",\"values\":[-1.7077885638332644,-1.973974048513309,-1.8581765349966397,-0.19758763667067833,-2.353451012942901,0.58615829202077,-2.5370421496837614,-2.2433671081715616,0.09260813045316986,0.40152935948565727,-1.450323076713883,0.6427741970419665,-2.3460023376807952,-1.0768347919444408,0.20018680138888367,-0.26690472348528843,-1.9387648920588192,-2.7962174614588973,-1.810816949305189,-0.707987317344156,-0.9868505881220834,-0.27854581023870306,-0.2938631249401409,0.6172774810258406,-2.6468265257040646,-2.5575694891815743,0.3684244483409213,-2.250265781034773,-0.35739830586381144,-0.9113956545341427,0.03922111835371394,-1.5868487454156381,0.5004989922369987,0.9664232387946265,-1.9696329975329399,-1.1860541064327057,-2.9482853263776003,-2.220438801278181,-2.8750725126103673,-0.29880144643533496,0.8395498216007558,-0.14428532317902085,-0.4699261227289405,-1.2920406874746995,0.7050572387536507,0.26233824915011456,0.3552059804853847,-0.418466493884853,0.8795127608882698,-2.1922701551089667,-0.9887307220579079,0.603786627507137,-1.399780940047824,0.23975875292144355,-0.6896530123922864,0.8863552993305626,-1.755115319476923,0.7998513963489726,0.23892636366194825,0.07436878371346145,-2.886685993357271,-1.5314377055963588,-2.5029961906319653,-2.18079742503792,-2.234548042011192,-2.6961636886732223,-1.4179170233730762,0.24980752660355732,-0.7312894988147449,-2.5869485573591677,-0.9019394501672222,0.24690621482506137,-1.2944708134532046,-0.6858434275873343,-1.0618995294926108,-1.3623839120568644,0.07823380518082514,-0.206832233405565,0.1273105166427433,-2.3981331777207724,-2.47743462384896,0.08947833399759594,0.9113292542409606,-2.3858359773686777,0.4716476858924872,-1.6002455818625667,-1.8619176301641296,-0.18446527518446798,-0.41819629775086004,-2.853912508365331,-2.9286788101197208,-0.043385015832020785,-0.23542155055827102,-2.5170807270620235,0.5755249499970305,0.8075875209279921,-1.5291187734735976,-2.7474927634993414,0.5517861655577798,0.8383575309600748,-0.5707808483318497,-0.9880448837796563,-2.0126900316459264,0.36397865815048286,-1.5081009418102527,-1.127661985171876,-1.2480966016676855,-1.4077022282281162,0.25556912788533104,-1.9094887349083154,-1.2411926564903215,0.3319780956578176,-1.077916392885619,-0.7019123686286646,-0.25894235729650456,-1.6450963438107957,-1.8539637958706134,0.6598772692743053,-1.1264323245050578,-2.697731210378204,-0.21991442450943577,-0.41054597004853965,-1.4706940274143783,-0.813760220148021,-1.4927582788080211,0.8665121863653766,-0.661452759715071,-2.5957909262617513,-2.265641245668387,0.8600174557360312,-1.120029887747339,-2.605525933521624,0.589386474306258,-1.285160607291804,-2.2685889994960147,-1.4945446652082393,-2.2989501497654574,-0.7270379068062969,0.8873416684016169,-1.1634277490496574,0.8986731893695641,-0.9077619278584806,-1.3427176043757685,-0.14906540854826875,-0.7878678526508698,-1.6040907505337993,-2.123096598714799,-1.3800514207971621,-1.7302472153041428,-2.7699417156169925,-2.565598349450623,-2.027730067563949,-0.6799753848428819,-1.6369413012977274,-2.6787998677407137,-2.407552147792694,0.4700011280762397,0.12664032756526475,-2.387688057163809,-0.6852799525446037,0.22549871950999067,-1.005746061223348,-2.0488380387006226,-2.218124589343872,0.5026810559133317,-0.7556672514327617,-0.7996576287961692,-1.7621213440321462,-0.16780799174897698,-0.05182737925336591,0.371147619968907,-2.933212750169704,0.31077505882608325,-1.4657789492914282,-1.9312277684171013,-1.611595725837686,-0.5372077864794891,-1.665550121634399,-0.26095004928688276,-0.7759441423318858,-1.800529178679775,0.4304319637490086,-2.7973293653361706,0.6189993415469912,0.11816557460730417,-1.701924272244739,-0.18534891777470502,-1.4252508808290643,-2.9025319736989563,-0.9303044423222382,-0.12226168059317952,-1.3271618324916783,-1.6569449087221721,-2.2430084841111664,-1.9299787450533248,-1.6784948055971043,-2.574127674156612,-0.591298342904655,-2.6698525509577737,-0.3390177221687556]},{\"label\":\"max_leaf_nodes\",\"values\":[2.321928094887362,3.4594316186372973,5.357552004618084,4.321928094887363,5.285402218862249,5.584962500721156,1.584962500721156,3.0,1.584962500721156,4.857980995127572,1.0,7.7414669864011465,3.169925001442312,6.108524456778169,2.321928094887362,7.03342300153745,4.321928094887363,2.0,1.584962500721156,2.0,1.584962500721156,3.584962500721156,1.584962500721156,1.0,3.4594316186372973,6.339850002884624,1.584962500721156,6.7414669864011465,6.169925001442312,2.584962500721156,6.643856189774724,3.807354922057604,5.614709844115208,4.459431618637297,4.392317422778761,6.0,6.022367813028454,6.3750394313469245,4.807354922057604,1.0,7.294620748891627,1.0,6.044394119358453,1.0,6.539158811108031,5.954196310386875,1.0,4.321928094887363,7.483815777264256,5.727920454563199,4.0,3.0,5.20945336562895,2.584962500721156,5.930737337562887,5.357552004618084,5.20945336562895,4.954196310386875,2.807354922057604,2.0,6.539158811108031,7.20945336562895,1.0,1.0,1.0,3.807354922057604,1.584962500721156,3.321928094887362,2.807354922057604,3.0,2.0,1.0,5.614709844115208,6.658211482751795,7.826548487290915,5.044394119358453,6.658211482751795,7.584962500721156,4.523561956057013,5.247927513443585,1.584962500721156,7.651051691178928,3.700439718141092,3.584962500721156,6.7414669864011465,5.285402218862249,2.0,3.321928094887362,5.285402218862249,3.807354922057604,3.321928094887362,2.0,5.78135971352466,4.247927513443585,6.339850002884624,1.584962500721156,5.357552004618084,1.584962500721156,6.285402218862249,5.321928094887363,1.0,3.321928094887362,6.0,3.0,5.672425341971495,5.754887502163468,2.0,3.0,7.339850002884624,2.0,1.584962500721156,6.882643049361842,7.22881869049588,7.366322214245816,2.807354922057604,2.584962500721156,7.768184324776926,2.0,1.584962500721156,3.169925001442312,6.977279923499917,6.906890595608519,3.584962500721156,6.475733430966398,4.906890595608519,7.139551352398794,6.285402218862249,1.584962500721156,3.700439718141092,6.285402218862249,7.294620748891627,5.832890014164741,3.321928094887362,1.584962500721156,4.087462841250339,3.700439718141092,7.930737337562887,7.636624620543649,6.906890595608519,6.569855608330948,3.584962500721156,1.0,1.0,7.459431618637297,2.0,4.247927513443585,3.169925001442312,6.285402218862249,2.807354922057604,5.392317422778761,3.807354922057604,1.0,7.383704292474052,1.0,4.906890595608519,2.321928094887362,3.321928094887362,1.0,4.906890595608519,1.584962500721156,2.0,5.129283016944966,2.321928094887362,1.584962500721156,5.357552004618084,5.459431618637297,1.0,6.539158811108031,6.768184324776926,2.321928094887362,1.584962500721156,5.906890595608519,5.584962500721156,3.807354922057604,4.700439718141092,5.426264754702098,5.700439718141092,1.0,2.0,1.0,1.584962500721156,1.0,5.832890014164741,7.7414669864011465,6.169925001442312,2.807354922057604,7.965784284662087,5.247927513443585,3.4594316186372973,6.491853096329675,1.584962500721156,1.0,3.700439718141092,1.0,7.087462841250339,7.882643049361842,1.0,2.0,5.392317422778761,6.247927513443585]},{\"label\":\"max_bins\",\"values\":[4.754887502163468,1.584962500721156,7.807354922057604,7.507794640198696,6.78135971352466,4.247927513443585,2.321928094887362,7.60733031374961,3.321928094887362,2.0,2.321928094887362,2.0,2.584962500721156,5.906890595608519,4.087462841250339,1.0,3.321928094887362,1.0,3.807354922057604,1.0,6.807354922057604,5.0,4.584962500721156,1.584962500721156,4.700439718141092,6.022367813028454,5.882643049361842,2.0,5.727920454563199,7.60733031374961,6.392317422778761,2.321928094887362,3.321928094887362,7.643856189774724,4.857980995127572,4.392317422778761,4.954196310386875,7.129283016944966,1.0,1.0,3.0,7.321928094887363,4.247927513443585,6.189824558880018,1.0,1.0,1.0,5.0,1.0,6.3750394313469245,6.266786540694901,3.807354922057604,3.700439718141092,6.247927513443585,4.584962500721156,7.3750394313469245,2.321928094887362,6.7414669864011465,5.129283016944966,4.857980995127572,6.918863237274595,6.459431618637297,2.321928094887362,3.321928094887362,3.4594316186372973,5.643856189774724,5.392317422778761,7.294620748891627,7.679480099505446,5.459431618637297,3.169925001442312,1.0,7.826548487290915,1.0,3.9068905956085187,3.169925001442312,5.523561956057013,1.0,7.383704292474052,6.700439718141092,3.321928094887362,5.129283016944966,4.523561956057013,1.584962500721156,7.417852514885898,6.22881869049588,4.754887502163468,6.894817763307944,5.700439718141092,2.321928094887362,7.965784284662087,7.149747119504682,4.392317422778761,4.807354922057604,4.321928094887363,7.768184324776926,2.584962500721156,1.0,6.672425341971495,2.807354922057604,7.3750394313469245,7.139551352398794,7.554588851677638,5.0,2.0,2.321928094887362,4.321928094887363,5.491853096329675,2.584962500721156,7.584962500721156,4.906890595608519,3.9068905956085187,3.169925001442312,6.78135971352466,1.0,7.219168520462161,4.954196310386875,5.954196310386875,7.499845887083206,7.936637939002571,2.584962500721156,4.0,5.169925001442312,5.727920454563199,1.584962500721156,4.807354922057604,6.475733430966398,1.584962500721156,7.787902559391432,2.584962500721156,7.754887502163468,2.807354922057604,1.584962500721156,3.700439718141092,3.700439718141092,5.20945336562895,2.807354922057604,6.507794640198696,3.700439718141092,5.78135971352466,4.700439718141092,6.475733430966398,7.044394119358453,3.0,6.459431618637297,2.321928094887362,7.011227255423254,4.807354922057604,3.807354922057604,4.0,6.285402218862249,1.0,6.357552004618084,7.189824558880018,3.0,7.247927513443585,2.0,4.857980995127572,3.4594316186372973,2.0,1.0,2.0,7.851749041416057,3.169925001442312,7.3750394313469245,6.044394119358453,7.022367813028454,3.700439718141092,6.129283016944966,1.584962500721156,1.0,7.076815597050831,2.0,3.4594316186372973,2.321928094887362,1.0,7.499845887083206,4.0,2.321928094887362,7.169925001442312,7.768184324776926,4.0,3.321928094887362,7.3750394313469245,6.285402218862249,5.78135971352466,3.321928094887362,5.584962500721156,2.584962500721156,5.930737337562887,1.584962500721156,5.0,1.0,5.882643049361842,1.584962500721156,5.614709844115208,1.0,2.807354922057604,7.2761244052742375,1.0]},{\"label\":\"min_samples_leaf\",\"values\":[1.7403626894942439,1.1139433523068367,1.8512583487190752,0.0,0.3010299956639812,1.255272505103306,1.919078092376074,0.3010299956639812,0.9542425094393249,1.7781512503836436,1.4471580313422192,0.47712125471966244,1.1139433523068367,0.0,0.0,1.6232492903979006,1.8808135922807914,1.2304489213782739,1.3222192947339193,1.146128035678238,0.6020599913279624,0.6989700043360189,0.8450980400142568,1.6812412373755872,0.3010299956639812,0.47712125471966244,0.6989700043360189,1.1760912590556813,0.3010299956639812,1.0,1.4471580313422192,1.4313637641589874,1.792391689498254,0.47712125471966244,1.3979400086720377,1.4913616938342726,1.6989700043360187,0.0,1.462397997898956,1.968482948553935,0.0,1.3424226808222062,0.47712125471966244,1.8512583487190752,1.6901960800285136,1.7634279935629373,1.3979400086720377,0.0,0.0,1.146128035678238,1.6901960800285136,0.47712125471966244,1.8388490907372552,0.3010299956639812,1.9731278535996986,0.8450980400142568,1.9590413923210936,1.9777236052888478,0.0,1.1139433523068367,1.8195439355418688,1.1139433523068367,1.8260748027008264,0.47712125471966244,0.8450980400142568,1.146128035678238,1.6127838567197355,0.6989700043360189,1.2787536009528289,0.3010299956639812,0.0,0.6020599913279624,0.3010299956639812,0.3010299956639812,0.0,1.4771212547196624,0.0,0.0,0.7781512503836436,0.9030899869919435,1.4313637641589874,0.0,0.0,0.0,1.255272505103306,1.041392685158225,1.591064607026499,1.6020599913279625,0.0,0.47712125471966244,1.6532125137753437,0.8450980400142568,1.255272505103306,0.0,0.0,1.919078092376074,1.3617278360175928,1.255272505103306,1.7075701760979363,1.8325089127062364,1.0791812460476249,1.8573324964312685,1.8512583487190752,0.7781512503836436,0.0,1.1760912590556813,0.6020599913279624,0.0,1.0791812460476249,0.8450980400142568,0.7781512503836436,0.0,0.6020599913279624,0.9030899869919435,0.0,1.6020599913279625,0.7781512503836436,0.3010299956639812,1.2041199826559248,1.146128035678238,1.5563025007672873,0.6020599913279624,1.9777236052888478,0.3010299956639812,0.0,1.380211241711606,1.146128035678238,1.5797835966168101,0.0,0.0,1.4771212547196624,0.0,1.1760912590556813,1.7242758696007892,0.47712125471966244,1.6989700043360187,0.6989700043360189,1.8388490907372552,0.6989700043360189,1.662757831681574,1.9912260756924949,1.505149978319906,1.0791812460476249,0.0,1.3617278360175928,0.47712125471966244,1.414973347970818,1.3979400086720377,1.919078092376074,1.0,1.3222192947339193,1.5563025007672873,0.7781512503836436,1.8976270912904414,1.1760912590556813,1.6812412373755872,1.9637878273455553,1.2787536009528289,1.8388490907372552,1.9731278535996986,1.6434526764861874,0.7781512503836436,1.7242758696007892,1.568201724066995,1.5563025007672873,0.7781512503836436,1.4471580313422192,0.3010299956639812,1.3222192947339193,0.6020599913279624,1.5563025007672873,0.6989700043360189,1.7708520116421442,0.0,1.6232492903979006,0.7781512503836436,1.3979400086720377,0.0,0.0,1.3424226808222062,1.6720978579357175,0.7781512503836436,0.9030899869919435,0.3010299956639812,0.47712125471966244,0.3010299956639812,0.6020599913279624,1.9084850188786497,1.7323937598229686,1.591064607026499,0.47712125471966244,1.6020599913279625,0.6989700043360189,1.7558748556724915,1.9294189257142929,0.3010299956639812,0.7781512503836436,0.6020599913279624,1.6334684555795866,0.9542425094393249]},{\"label\":\"l2_regularization\",\"values\":[2.890575729257292,-4.236721692290013,-5.910869341947148,-2.468583209452949,-3.645249332065722,-1.5132177835951242,-2.486518940820962,2.6669065906424096,-0.6915139754990992,-2.477328736772362,-2.8903396488387822,-0.19988484401842624,1.0479797985941686,-0.25307338768031584,1.3722714884181215,-2.3787742828853737,0.9993480885642642,-2.6123927583603113,-3.910836831226299,-5.591808044434119,-3.976772897717552,-0.3870545905967828,-1.4606955311072685,-3.416894899829724,0.643936856822745,2.487338832686099,1.6541824084737375,-4.653677402288408,-2.0013511658986602,0.7846056304346264,2.465008451797906,-2.9163421989658436,-0.09615719855449527,1.272028686176093,-1.0960277304050499,0.8853222130170577,-4.425048960620577,0.30409156159515754,-3.676157160839177,-1.9378493282786637,-3.6256391218352975,-4.050952614510479,2.389660269796933,-3.3507138146408684,-0.3198223402283923,-3.874117487537296,2.493271961318557,-4.457317682951313,-3.244756326663235,-4.2126210575786835,-0.31288208058307254,1.9816929215128651,-4.183073607903811,2.206438237839182,-5.209202657234196,-3.879292651322914,2.2425405401839855,-5.505154162581964,-4.62561698978881,-0.6556928021831909,-3.770022790622645,-5.064058163908234,2.961202567118839,1.352090213329052,-2.221811608534443,-0.4251607906625234,-4.801071440552013,-1.6086106165045782,-4.93500028586149,-5.855112196352596,-1.0453729304246895,-4.901129113513618,-0.9626332777328671,-4.734087493675805,2.303737960802644,-2.9184853412867815,-0.5299009980315841,-3.5455349654054036,-3.8394487600030933,-3.2596718744662514,-2.086387738312953,-0.19102186515866731,-1.001034126996757,1.7153362245054802,-3.2420174870795155,0.2787642657005641,0.4141083667945529,-0.27818711673971475,-3.8748971674988586,-0.4977216727354159,-5.804785015738656,-3.624693978113524,-5.71896234093496,-4.320765903814944,-1.2352776942511179,1.4245700025357653,-2.0572066692402484,-0.8736237164199553,-4.25970968828796,-3.087972144910019,-5.852178374339171,0.31436830066361615,-3.104156288206655,-0.4445004017990138,-0.3684564102070862,-4.430175799420339,-3.2347462722334415,-0.3929975949289877,-0.053210929078011775,-3.768964670797535,0.8664281553049027,-5.816696676896325,1.1636729528093452,-2.328599480757633,1.8184494477773228,-0.3842787357075292,0.3536647664594626,-4.212172588710566,-4.56228477555702,-4.59563157508123,1.610809502288323,-2.2554360036337666,-2.8410073319765186,1.4315080267866307,-4.7169712326277615,-0.9474248415318648,-0.9738424177263247,2.191238377567908,0.9020149970799745,0.8850247423547901,0.8480198567115875,1.7030867176630136,-4.565289838545564,2.3826296949380885,-0.6857136933727339,-2.632695001016243,-3.0987060392094836,-0.5133550736645766,-5.178220099137776,1.1551823640664132,-3.1040100536396724,2.6549825037961234,-3.0127106675676254,1.7858872212619021,-2.298466856431716,-2.314010050046869,-4.248079273823434,-4.789356478632653,0.3932729311296641,-1.6485601908510057,-5.429156129260739,1.9725562510369685,2.7705035088641625,-5.713816583586227,-3.3045546977361178,-2.3707641405033635,0.27145270062876004,1.737103227101183,-1.309537801029241,-5.0965545812642326,-3.3851111501348563,-1.7193207441182903,-0.5913830939456963,-5.369997313536487,2.650378916364751,1.2657275849100114,2.162916100578441,-4.29842179828705,-4.337024141131983,0.5173545803348819,0.100864740086738,-1.158462389661511,-5.011100647550059,-1.7916582329423587,-5.64863360084166,2.936977211499775,-1.1665743874637975,2.5919790108250487,-5.922282307845704,0.6874579023832357,0.04826132203982066,1.2907274782887914,-5.8767270033434444,0.1672178840532502,0.2870434391292799,-0.9466040262089322,-2.8509185012368516,-0.12638804252420754,-3.2391918014744467,-0.31398732843625177,0.6749832326780003,0.1440100728507023,1.7434056920435956,-0.7574132512585506,-4.010705111482123,-0.16419690550240076,2.7900724904530962,-4.652463447653976,-5.969511834404148,-4.357185758305629]},{\"label\":\"mean_test_score\",\"values\":[0.7589473389664464,0.7905326582957264,0.8546041009805169,0.8649778095526696,0.8145012811861454,0.6850460830943976,0.7589473389664464,0.7589473389664464,0.8419645013203085,0.6857336995046837,0.7842263892489086,0.691244221379338,0.7589473389664464,0.858316815270548,0.8464961754439031,0.8004148247904219,0.8188692333908657,0.7589473389664464,0.7876661256216326,0.8019163225659746,0.8522017246597567,0.8542764857491212,0.8548498012262172,0.2834757148801096,0.7589473389664464,0.7589473389664464,0.5672847605971667,0.778111410416583,0.8450766746249208,0.8661790442874107,0.8568699250014932,0.8269498887077706,0.7235949325754157,0.6957745765170359,0.8356036843821748,0.8545494711183259,0.7589473389664464,0.8191967741032844,0.7589473389664464,0.7987223274243884,0.7134403992190264,0.8610194397283246,0.853075366518795,0.8048647180624797,0.5817474595828628,0.7230212035179961,0.7108455925434225,0.8531299181360599,0.6722972013541142,0.81755868304251,0.8587263045022018,0.7202086076796054,0.8457592461004498,0.8264851846399548,0.8540854302694074,0.6825642993515247,0.8149108523886742,0.7335863215350045,0.7818248885261305,0.8012598401843659,0.7589473389664464,0.8575524703953802,0.7589473389664464,0.7589473389664464,0.7589473389664464,0.7589473389664464,0.816466890603645,0.828887881392317,0.869209257894941,0.7589473389664464,0.8371050405716709,0.7842263743451132,0.869755243537146,0.8022984745108397,0.8466872942647475,0.838879560975917,0.8247112641134752,0.79940469397273,0.8571429848896752,0.7589473389664464,0.7589473389664464,0.8214626018502094,0.5954064639474768,0.7589473389664464,0.6214667078458534,0.8568154180956146,0.7908327983802257,0.8645958215495544,0.8519834958350041,0.7589473389664464,0.7589473389664464,0.8648958312258435,0.8464141225980997,0.7589473389664464,0.7336150635045134,0.643043308827395,0.8321369050726222,0.7589473389664464,0.6881856123155428,0.7258331361374899,0.8513827946337841,0.8673528783942321,0.8468237087044239,0.6407396962330769,0.8158663943296126,0.8295160167549959,0.8468238018531453,0.8515465985235331,0.7860828768021343,0.8037181467234694,0.832136700145435,0.690314690287394,0.8373234817755085,0.8582621369710219,0.8040729725593925,0.8293793042394106,0.8487074254919212,0.7090987931986976,0.8454860744338021,0.7589473389664464,0.8280691861011228,0.8391798985357057,0.8539761891747698,0.8540307929553187,0.8080587653673501,0.7394555554102435,0.8582622263937946,0.7589473389664464,0.8170128464382593,0.749337934284024,0.8641314751728292,0.7589473389664464,0.3313338513147439,0.813764277323715,0.7589473389664464,0.8530753255333575,0.775190415547997,0.8555594603499612,0.7046773214645468,0.8564604059622486,0.6611585256733339,0.8170401986288434,0.8162757829606472,0.8399171632145566,0.857770829628343,0.827441237035887,0.817695265149885,0.8546586935832192,0.8194424445413937,0.7589473389664464,0.7589473389664464,0.7589473389664464,0.8583168637078833,0.7970843406901822,0.7589473389664464,0.7589473389664464,0.605139857030126,0.8535940670374955,0.7589473389664464,0.8146379489903441,0.7137121475732094,0.8159209981101615,0.8019163262919233,0.7589473389664464,0.8208346863185133,0.8586990119267994,0.8319183371865233,0.839644088422579,0.8442576551761757,0.808167864875931,0.6898547256265286,0.7589473389664464,0.7225848390172124,0.8416369568819413,0.8199611636898384,0.7693486493677566,0.8671344185606502,0.774398696126552,0.8291065536049841,0.8407086963385586,0.7975757337296849,0.5010779244572066,0.7589473389664464,0.7775378974641974,0.8355490135345465,0.8333376479821135,0.8156205301421625,0.8562148398507071,0.7589473389664464,0.8585079229135459,0.8078675496718353,0.8059839521147014,0.7959104618719741,0.7589473389664464,0.801315718239425,0.851218994469984,0.7589473389664464,0.84210099773086,0.7589473389664464,0.8014249183486252]}],\"domain\":{\"x\":[0.0,1.0],\"y\":[0.0,1.0]},\"line\":{\"color\":[0.7589473389664464,0.7905326582957264,0.8546041009805169,0.8649778095526696,0.8145012811861454,0.6850460830943976,0.7589473389664464,0.7589473389664464,0.8419645013203085,0.6857336995046837,0.7842263892489086,0.691244221379338,0.7589473389664464,0.858316815270548,0.8464961754439031,0.8004148247904219,0.8188692333908657,0.7589473389664464,0.7876661256216326,0.8019163225659746,0.8522017246597567,0.8542764857491212,0.8548498012262172,0.2834757148801096,0.7589473389664464,0.7589473389664464,0.5672847605971667,0.778111410416583,0.8450766746249208,0.8661790442874107,0.8568699250014932,0.8269498887077706,0.7235949325754157,0.6957745765170359,0.8356036843821748,0.8545494711183259,0.7589473389664464,0.8191967741032844,0.7589473389664464,0.7987223274243884,0.7134403992190264,0.8610194397283246,0.853075366518795,0.8048647180624797,0.5817474595828628,0.7230212035179961,0.7108455925434225,0.8531299181360599,0.6722972013541142,0.81755868304251,0.8587263045022018,0.7202086076796054,0.8457592461004498,0.8264851846399548,0.8540854302694074,0.6825642993515247,0.8149108523886742,0.7335863215350045,0.7818248885261305,0.8012598401843659,0.7589473389664464,0.8575524703953802,0.7589473389664464,0.7589473389664464,0.7589473389664464,0.7589473389664464,0.816466890603645,0.828887881392317,0.869209257894941,0.7589473389664464,0.8371050405716709,0.7842263743451132,0.869755243537146,0.8022984745108397,0.8466872942647475,0.838879560975917,0.8247112641134752,0.79940469397273,0.8571429848896752,0.7589473389664464,0.7589473389664464,0.8214626018502094,0.5954064639474768,0.7589473389664464,0.6214667078458534,0.8568154180956146,0.7908327983802257,0.8645958215495544,0.8519834958350041,0.7589473389664464,0.7589473389664464,0.8648958312258435,0.8464141225980997,0.7589473389664464,0.7336150635045134,0.643043308827395,0.8321369050726222,0.7589473389664464,0.6881856123155428,0.7258331361374899,0.8513827946337841,0.8673528783942321,0.8468237087044239,0.6407396962330769,0.8158663943296126,0.8295160167549959,0.8468238018531453,0.8515465985235331,0.7860828768021343,0.8037181467234694,0.832136700145435,0.690314690287394,0.8373234817755085,0.8582621369710219,0.8040729725593925,0.8293793042394106,0.8487074254919212,0.7090987931986976,0.8454860744338021,0.7589473389664464,0.8280691861011228,0.8391798985357057,0.8539761891747698,0.8540307929553187,0.8080587653673501,0.7394555554102435,0.8582622263937946,0.7589473389664464,0.8170128464382593,0.749337934284024,0.8641314751728292,0.7589473389664464,0.3313338513147439,0.813764277323715,0.7589473389664464,0.8530753255333575,0.775190415547997,0.8555594603499612,0.7046773214645468,0.8564604059622486,0.6611585256733339,0.8170401986288434,0.8162757829606472,0.8399171632145566,0.857770829628343,0.827441237035887,0.817695265149885,0.8546586935832192,0.8194424445413937,0.7589473389664464,0.7589473389664464,0.7589473389664464,0.8583168637078833,0.7970843406901822,0.7589473389664464,0.7589473389664464,0.605139857030126,0.8535940670374955,0.7589473389664464,0.8146379489903441,0.7137121475732094,0.8159209981101615,0.8019163262919233,0.7589473389664464,0.8208346863185133,0.8586990119267994,0.8319183371865233,0.839644088422579,0.8442576551761757,0.808167864875931,0.6898547256265286,0.7589473389664464,0.7225848390172124,0.8416369568819413,0.8199611636898384,0.7693486493677566,0.8671344185606502,0.774398696126552,0.8291065536049841,0.8407086963385586,0.7975757337296849,0.5010779244572066,0.7589473389664464,0.7775378974641974,0.8355490135345465,0.8333376479821135,0.8156205301421625,0.8562148398507071,0.7589473389664464,0.8585079229135459,0.8078675496718353,0.8059839521147014,0.7959104618719741,0.7589473389664464,0.801315718239425,0.851218994469984,0.7589473389664464,0.84210099773086,0.7589473389664464,0.8014249183486252],\"coloraxis\":\"coloraxis\"},\"name\":\"\",\"type\":\"parcoords\"}],                        {\"template\":{\"data\":{\"bar\":[{\"error_x\":{\"color\":\"#2a3f5f\"},\"error_y\":{\"color\":\"#2a3f5f\"},\"marker\":{\"line\":{\"color\":\"#E5ECF6\",\"width\":0.5},\"pattern\":{\"fillmode\":\"overlay\",\"size\":10,\"solidity\":0.2}},\"type\":\"bar\"}],\"barpolar\":[{\"marker\":{\"line\":{\"color\":\"#E5ECF6\",\"width\":0.5},\"pattern\":{\"fillmode\":\"overlay\",\"size\":10,\"solidity\":0.2}},\"type\":\"barpolar\"}],\"carpet\":[{\"aaxis\":{\"endlinecolor\":\"#2a3f5f\",\"gridcolor\":\"white\",\"linecolor\":\"white\",\"minorgridcolor\":\"white\",\"startlinecolor\":\"#2a3f5f\"},\"baxis\":{\"endlinecolor\":\"#2a3f5f\",\"gridcolor\":\"white\",\"linecolor\":\"white\",\"minorgridcolor\":\"white\",\"startlinecolor\":\"#2a3f5f\"},\"type\":\"carpet\"}],\"choropleth\":[{\"colorbar\":{\"outlinewidth\":0,\"ticks\":\"\"},\"type\":\"choropleth\"}],\"contour\":[{\"colorbar\":{\"outlinewidth\":0,\"ticks\":\"\"},\"colorscale\":[[0.0,\"#0d0887\"],[0.1111111111111111,\"#46039f\"],[0.2222222222222222,\"#7201a8\"],[0.3333333333333333,\"#9c179e\"],[0.4444444444444444,\"#bd3786\"],[0.5555555555555556,\"#d8576b\"],[0.6666666666666666,\"#ed7953\"],[0.7777777777777778,\"#fb9f3a\"],[0.8888888888888888,\"#fdca26\"],[1.0,\"#f0f921\"]],\"type\":\"contour\"}],\"contourcarpet\":[{\"colorbar\":{\"outlinewidth\":0,\"ticks\":\"\"},\"type\":\"contourcarpet\"}],\"heatmap\":[{\"colorbar\":{\"outlinewidth\":0,\"ticks\":\"\"},\"colorscale\":[[0.0,\"#0d0887\"],[0.1111111111111111,\"#46039f\"],[0.2222222222222222,\"#7201a8\"],[0.3333333333333333,\"#9c179e\"],[0.4444444444444444,\"#bd3786\"],[0.5555555555555556,\"#d8576b\"],[0.6666666666666666,\"#ed7953\"],[0.7777777777777778,\"#fb9f3a\"],[0.8888888888888888,\"#fdca26\"],[1.0,\"#f0f921\"]],\"type\":\"heatmap\"}],\"heatmapgl\":[{\"colorbar\":{\"outlinewidth\":0,\"ticks\":\"\"},\"colorscale\":[[0.0,\"#0d0887\"],[0.1111111111111111,\"#46039f\"],[0.2222222222222222,\"#7201a8\"],[0.3333333333333333,\"#9c179e\"],[0.4444444444444444,\"#bd3786\"],[0.5555555555555556,\"#d8576b\"],[0.6666666666666666,\"#ed7953\"],[0.7777777777777778,\"#fb9f3a\"],[0.8888888888888888,\"#fdca26\"],[1.0,\"#f0f921\"]],\"type\":\"heatmapgl\"}],\"histogram\":[{\"marker\":{\"pattern\":{\"fillmode\":\"overlay\",\"size\":10,\"solidity\":0.2}},\"type\":\"histogram\"}],\"histogram2d\":[{\"colorbar\":{\"outlinewidth\":0,\"ticks\":\"\"},\"colorscale\":[[0.0,\"#0d0887\"],[0.1111111111111111,\"#46039f\"],[0.2222222222222222,\"#7201a8\"],[0.3333333333333333,\"#9c179e\"],[0.4444444444444444,\"#bd3786\"],[0.5555555555555556,\"#d8576b\"],[0.6666666666666666,\"#ed7953\"],[0.7777777777777778,\"#fb9f3a\"],[0.8888888888888888,\"#fdca26\"],[1.0,\"#f0f921\"]],\"type\":\"histogram2d\"}],\"histogram2dcontour\":[{\"colorbar\":{\"outlinewidth\":0,\"ticks\":\"\"},\"colorscale\":[[0.0,\"#0d0887\"],[0.1111111111111111,\"#46039f\"],[0.2222222222222222,\"#7201a8\"],[0.3333333333333333,\"#9c179e\"],[0.4444444444444444,\"#bd3786\"],[0.5555555555555556,\"#d8576b\"],[0.6666666666666666,\"#ed7953\"],[0.7777777777777778,\"#fb9f3a\"],[0.8888888888888888,\"#fdca26\"],[1.0,\"#f0f921\"]],\"type\":\"histogram2dcontour\"}],\"mesh3d\":[{\"colorbar\":{\"outlinewidth\":0,\"ticks\":\"\"},\"type\":\"mesh3d\"}],\"parcoords\":[{\"line\":{\"colorbar\":{\"outlinewidth\":0,\"ticks\":\"\"}},\"type\":\"parcoords\"}],\"pie\":[{\"automargin\":true,\"type\":\"pie\"}],\"scatter\":[{\"marker\":{\"colorbar\":{\"outlinewidth\":0,\"ticks\":\"\"}},\"type\":\"scatter\"}],\"scatter3d\":[{\"line\":{\"colorbar\":{\"outlinewidth\":0,\"ticks\":\"\"}},\"marker\":{\"colorbar\":{\"outlinewidth\":0,\"ticks\":\"\"}},\"type\":\"scatter3d\"}],\"scattercarpet\":[{\"marker\":{\"colorbar\":{\"outlinewidth\":0,\"ticks\":\"\"}},\"type\":\"scattercarpet\"}],\"scattergeo\":[{\"marker\":{\"colorbar\":{\"outlinewidth\":0,\"ticks\":\"\"}},\"type\":\"scattergeo\"}],\"scattergl\":[{\"marker\":{\"colorbar\":{\"outlinewidth\":0,\"ticks\":\"\"}},\"type\":\"scattergl\"}],\"scattermapbox\":[{\"marker\":{\"colorbar\":{\"outlinewidth\":0,\"ticks\":\"\"}},\"type\":\"scattermapbox\"}],\"scatterpolar\":[{\"marker\":{\"colorbar\":{\"outlinewidth\":0,\"ticks\":\"\"}},\"type\":\"scatterpolar\"}],\"scatterpolargl\":[{\"marker\":{\"colorbar\":{\"outlinewidth\":0,\"ticks\":\"\"}},\"type\":\"scatterpolargl\"}],\"scatterternary\":[{\"marker\":{\"colorbar\":{\"outlinewidth\":0,\"ticks\":\"\"}},\"type\":\"scatterternary\"}],\"surface\":[{\"colorbar\":{\"outlinewidth\":0,\"ticks\":\"\"},\"colorscale\":[[0.0,\"#0d0887\"],[0.1111111111111111,\"#46039f\"],[0.2222222222222222,\"#7201a8\"],[0.3333333333333333,\"#9c179e\"],[0.4444444444444444,\"#bd3786\"],[0.5555555555555556,\"#d8576b\"],[0.6666666666666666,\"#ed7953\"],[0.7777777777777778,\"#fb9f3a\"],[0.8888888888888888,\"#fdca26\"],[1.0,\"#f0f921\"]],\"type\":\"surface\"}],\"table\":[{\"cells\":{\"fill\":{\"color\":\"#EBF0F8\"},\"line\":{\"color\":\"white\"}},\"header\":{\"fill\":{\"color\":\"#C8D4E3\"},\"line\":{\"color\":\"white\"}},\"type\":\"table\"}]},\"layout\":{\"annotationdefaults\":{\"arrowcolor\":\"#2a3f5f\",\"arrowhead\":0,\"arrowwidth\":1},\"autotypenumbers\":\"strict\",\"coloraxis\":{\"colorbar\":{\"outlinewidth\":0,\"ticks\":\"\"}},\"colorscale\":{\"diverging\":[[0,\"#8e0152\"],[0.1,\"#c51b7d\"],[0.2,\"#de77ae\"],[0.3,\"#f1b6da\"],[0.4,\"#fde0ef\"],[0.5,\"#f7f7f7\"],[0.6,\"#e6f5d0\"],[0.7,\"#b8e186\"],[0.8,\"#7fbc41\"],[0.9,\"#4d9221\"],[1,\"#276419\"]],\"sequential\":[[0.0,\"#0d0887\"],[0.1111111111111111,\"#46039f\"],[0.2222222222222222,\"#7201a8\"],[0.3333333333333333,\"#9c179e\"],[0.4444444444444444,\"#bd3786\"],[0.5555555555555556,\"#d8576b\"],[0.6666666666666666,\"#ed7953\"],[0.7777777777777778,\"#fb9f3a\"],[0.8888888888888888,\"#fdca26\"],[1.0,\"#f0f921\"]],\"sequentialminus\":[[0.0,\"#0d0887\"],[0.1111111111111111,\"#46039f\"],[0.2222222222222222,\"#7201a8\"],[0.3333333333333333,\"#9c179e\"],[0.4444444444444444,\"#bd3786\"],[0.5555555555555556,\"#d8576b\"],[0.6666666666666666,\"#ed7953\"],[0.7777777777777778,\"#fb9f3a\"],[0.8888888888888888,\"#fdca26\"],[1.0,\"#f0f921\"]]},\"colorway\":[\"#636efa\",\"#EF553B\",\"#00cc96\",\"#ab63fa\",\"#FFA15A\",\"#19d3f3\",\"#FF6692\",\"#B6E880\",\"#FF97FF\",\"#FECB52\"],\"font\":{\"color\":\"#2a3f5f\"},\"geo\":{\"bgcolor\":\"white\",\"lakecolor\":\"white\",\"landcolor\":\"#E5ECF6\",\"showlakes\":true,\"showland\":true,\"subunitcolor\":\"white\"},\"hoverlabel\":{\"align\":\"left\"},\"hovermode\":\"closest\",\"mapbox\":{\"style\":\"light\"},\"paper_bgcolor\":\"white\",\"plot_bgcolor\":\"#E5ECF6\",\"polar\":{\"angularaxis\":{\"gridcolor\":\"white\",\"linecolor\":\"white\",\"ticks\":\"\"},\"bgcolor\":\"#E5ECF6\",\"radialaxis\":{\"gridcolor\":\"white\",\"linecolor\":\"white\",\"ticks\":\"\"}},\"scene\":{\"xaxis\":{\"backgroundcolor\":\"#E5ECF6\",\"gridcolor\":\"white\",\"gridwidth\":2,\"linecolor\":\"white\",\"showbackground\":true,\"ticks\":\"\",\"zerolinecolor\":\"white\"},\"yaxis\":{\"backgroundcolor\":\"#E5ECF6\",\"gridcolor\":\"white\",\"gridwidth\":2,\"linecolor\":\"white\",\"showbackground\":true,\"ticks\":\"\",\"zerolinecolor\":\"white\"},\"zaxis\":{\"backgroundcolor\":\"#E5ECF6\",\"gridcolor\":\"white\",\"gridwidth\":2,\"linecolor\":\"white\",\"showbackground\":true,\"ticks\":\"\",\"zerolinecolor\":\"white\"}},\"shapedefaults\":{\"line\":{\"color\":\"#2a3f5f\"}},\"ternary\":{\"aaxis\":{\"gridcolor\":\"white\",\"linecolor\":\"white\",\"ticks\":\"\"},\"baxis\":{\"gridcolor\":\"white\",\"linecolor\":\"white\",\"ticks\":\"\"},\"bgcolor\":\"#E5ECF6\",\"caxis\":{\"gridcolor\":\"white\",\"linecolor\":\"white\",\"ticks\":\"\"}},\"title\":{\"x\":0.05},\"xaxis\":{\"automargin\":true,\"gridcolor\":\"white\",\"linecolor\":\"white\",\"ticks\":\"\",\"title\":{\"standoff\":15},\"zerolinecolor\":\"white\",\"zerolinewidth\":2},\"yaxis\":{\"automargin\":true,\"gridcolor\":\"white\",\"linecolor\":\"white\",\"ticks\":\"\",\"title\":{\"standoff\":15},\"zerolinecolor\":\"white\",\"zerolinewidth\":2}}},\"coloraxis\":{\"colorbar\":{\"title\":{\"text\":\"mean_test_score\"}},\"colorscale\":[[0.0,\"#440154\"],[0.1111111111111111,\"#482878\"],[0.2222222222222222,\"#3e4989\"],[0.3333333333333333,\"#31688e\"],[0.4444444444444444,\"#26828e\"],[0.5555555555555556,\"#1f9e89\"],[0.6666666666666666,\"#35b779\"],[0.7777777777777778,\"#6ece58\"],[0.8888888888888888,\"#b5de2b\"],[1.0,\"#fde725\"]]},\"legend\":{\"tracegroupgap\":0},\"margin\":{\"t\":60}},                        {\"responsive\": true}                    ).then(function(){\n",
              "                            \n",
              "var gd = document.getElementById('627dd906-0bf9-4f98-9e78-c481b577e649');\n",
              "var x = new MutationObserver(function (mutations, observer) {{\n",
              "        var display = window.getComputedStyle(gd).display;\n",
              "        if (!display || display === 'none') {{\n",
              "            console.log([gd, 'removed!']);\n",
              "            Plotly.purge(gd);\n",
              "            observer.disconnect();\n",
              "        }}\n",
              "}});\n",
              "\n",
              "// Listen for the removal of the full notebook cells\n",
              "var notebookContainer = gd.closest('#notebook-container');\n",
              "if (notebookContainer) {{\n",
              "    x.observe(notebookContainer, {childList: true});\n",
              "}}\n",
              "\n",
              "// Listen for the clearing of the current output cell\n",
              "var outputEl = gd.closest('.output');\n",
              "if (outputEl) {{\n",
              "    x.observe(outputEl, {childList: true});\n",
              "}}\n",
              "\n",
              "                        })                };                            </script>        </div>\n",
              "</body>\n",
              "</html>"
            ]
          },
          "metadata": {}
        }
      ]
    },
    {
      "cell_type": "markdown",
      "source": [
        "The parallel coordinates plot will display the values of the hyperparameters on different columns while the performance metric is color coded. Thus, we are able to quickly inspect if there is a range of hyperparameters which is working or not.\n",
        "\n",
        "We transformed most axis values by taking a log10 or log2 to spread the active ranges and improve the readability of the plot."
      ],
      "metadata": {
        "id": "W-f6kS8wuLxk"
      }
    },
    {
      "cell_type": "code",
      "source": [
        ""
      ],
      "metadata": {
        "id": "5hGMj3_ct084"
      },
      "execution_count": null,
      "outputs": []
    }
  ]
}