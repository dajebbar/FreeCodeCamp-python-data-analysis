{
  "nbformat": 4,
  "nbformat_minor": 0,
  "metadata": {
    "colab": {
      "name": "data_leakage.ipynb",
      "provenance": [],
      "authorship_tag": "ABX9TyP8F1rLTi2S+fJkvNSCNLwz",
      "include_colab_link": true
    },
    "kernelspec": {
      "name": "python3",
      "display_name": "Python 3"
    },
    "language_info": {
      "name": "python"
    }
  },
  "cells": [
    {
      "cell_type": "markdown",
      "metadata": {
        "id": "view-in-github",
        "colab_type": "text"
      },
      "source": [
        "<a href=\"https://colab.research.google.com/github/dajebbar/FreeCodeCamp-python-data-analysis/blob/main/data_leakage.ipynb\" target=\"_parent\"><img src=\"https://colab.research.google.com/assets/colab-badge.svg\" alt=\"Open In Colab\"/></a>"
      ]
    },
    {
      "cell_type": "markdown",
      "source": [
        "# Train-split naive approch"
      ],
      "metadata": {
        "id": "1-DZfx1I_EB1"
      }
    },
    {
      "cell_type": "markdown",
      "source": [
        "## Test classification dataset"
      ],
      "metadata": {
        "id": "to4QFZM1Ct57"
      }
    },
    {
      "cell_type": "code",
      "source": [
        "import warnings\n",
        "warnings.simplefilter(action='ignore', category=FutureWarning)"
      ],
      "metadata": {
        "id": "C6Ie9snXHy2y"
      },
      "execution_count": 1,
      "outputs": []
    },
    {
      "cell_type": "code",
      "execution_count": 2,
      "metadata": {
        "colab": {
          "base_uri": "https://localhost:8080/"
        },
        "id": "hJNUNORy-941",
        "outputId": "69bc2910-b69f-4448-8f62-1a0c75518e0b"
      },
      "outputs": [
        {
          "output_type": "stream",
          "name": "stdout",
          "text": [
            "(10000, 200) (10000,)\n"
          ]
        }
      ],
      "source": [
        "from sklearn.datasets import make_classification\n",
        "\n",
        "# define dataset\n",
        "X, y = make_classification(n_samples=10000, n_features=200, n_informative=140,\n",
        "                           n_redundant=15, random_state=42)\n",
        "\n",
        "# summarize the dataset\n",
        "print(X.shape, y.shape)"
      ]
    },
    {
      "cell_type": "markdown",
      "source": [
        "## Naive approch to normalizing the data before splitting the data and evaluating the model"
      ],
      "metadata": {
        "id": "1pMaT9v1DtkW"
      }
    },
    {
      "cell_type": "code",
      "source": [
        "from sklearn.model_selection import train_test_split\n",
        "from sklearn.preprocessing import MinMaxScaler\n",
        "from sklearn.linear_model import LogisticRegression\n",
        "from sklearn.metrics import accuracy_score\n",
        "\n",
        "# standardize the dataset\n",
        "scaler = MinMaxScaler()\n",
        "X = scaler.fit_transform(X)\n",
        "\n",
        "# split into train and test sets\n",
        "X_train, X_test, y_train, y_test = train_test_split(\n",
        "    X,\n",
        "    y,\n",
        "    test_size=0.3,\n",
        "    random_state=42,\n",
        ")\n",
        "\n",
        "# fit the model\n",
        "model = LogisticRegression(max_iter=500)\n",
        "model.fit(X_train, y_train)\n",
        "\n",
        "# evaluate the model\n",
        "preds = model.predict(X_test)\n",
        "\n",
        "# evaluate the prediction\n",
        "score = accuracy_score(y_test, preds)\n",
        "\n",
        "print(f'Score: {score* 100:.3f}%')"
      ],
      "metadata": {
        "colab": {
          "base_uri": "https://localhost:8080/"
        },
        "id": "oiQhe4FyEEYn",
        "outputId": "fcceccc6-371e-4d1f-f8eb-a6bf5ee1bbf1"
      },
      "execution_count": 4,
      "outputs": [
        {
          "output_type": "stream",
          "name": "stdout",
          "text": [
            "Score: 81.500%\n"
          ]
        }
      ]
    },
    {
      "cell_type": "markdown",
      "source": [
        "# Train-split correct approch"
      ],
      "metadata": {
        "id": "_J0_xmel_K4U"
      }
    },
    {
      "cell_type": "code",
      "source": [
        ""
      ],
      "metadata": {
        "id": "tXMUYRwG_RH6"
      },
      "execution_count": 3,
      "outputs": []
    }
  ]
}