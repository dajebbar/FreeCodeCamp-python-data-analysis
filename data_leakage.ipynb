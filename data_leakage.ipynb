{
  "nbformat": 4,
  "nbformat_minor": 0,
  "metadata": {
    "colab": {
      "name": "data_leakage.ipynb",
      "provenance": [],
      "authorship_tag": "ABX9TyMIx8+ujFXwlPEs+WCwEN/c",
      "include_colab_link": true
    },
    "kernelspec": {
      "name": "python3",
      "display_name": "Python 3"
    },
    "language_info": {
      "name": "python"
    }
  },
  "cells": [
    {
      "cell_type": "markdown",
      "metadata": {
        "id": "view-in-github",
        "colab_type": "text"
      },
      "source": [
        "<a href=\"https://colab.research.google.com/github/dajebbar/FreeCodeCamp-python-data-analysis/blob/main/data_leakage.ipynb\" target=\"_parent\"><img src=\"https://colab.research.google.com/assets/colab-badge.svg\" alt=\"Open In Colab\"/></a>"
      ]
    },
    {
      "cell_type": "markdown",
      "source": [
        "# Train-split naive approch"
      ],
      "metadata": {
        "id": "1-DZfx1I_EB1"
      }
    },
    {
      "cell_type": "markdown",
      "source": [
        "## Test classification dataset"
      ],
      "metadata": {
        "id": "to4QFZM1Ct57"
      }
    },
    {
      "cell_type": "code",
      "source": [
        "import warnings\n",
        "warnings.simplefilter(action='ignore', category=FutureWarning)"
      ],
      "metadata": {
        "id": "C6Ie9snXHy2y"
      },
      "execution_count": 1,
      "outputs": []
    },
    {
      "cell_type": "code",
      "execution_count": 2,
      "metadata": {
        "colab": {
          "base_uri": "https://localhost:8080/"
        },
        "id": "hJNUNORy-941",
        "outputId": "174d909e-8082-4b2f-e913-569b183aaac0"
      },
      "outputs": [
        {
          "output_type": "stream",
          "name": "stdout",
          "text": [
            "(10000, 200) (10000,)\n"
          ]
        }
      ],
      "source": [
        "from sklearn.datasets import make_classification\n",
        "\n",
        "# define dataset\n",
        "X, y = make_classification(n_samples=10000, n_features=200, n_informative=140,\n",
        "                           n_redundant=15, random_state=42)\n",
        "\n",
        "# summarize the dataset\n",
        "print(X.shape, y.shape)"
      ]
    },
    {
      "cell_type": "markdown",
      "source": [
        "## Naive approch to normalizing the data before splitting the data and evaluating the model"
      ],
      "metadata": {
        "id": "1pMaT9v1DtkW"
      }
    },
    {
      "cell_type": "code",
      "source": [
        "from sklearn.model_selection import train_test_split\n",
        "from sklearn.preprocessing import MinMaxScaler\n",
        "from sklearn.linear_model import LogisticRegression\n",
        "from sklearn.metrics import accuracy_score\n",
        "\n",
        "# standardize the dataset\n",
        "scaler = MinMaxScaler()\n",
        "X = scaler.fit_transform(X)\n",
        "\n",
        "# split into train and test sets\n",
        "X_train, X_test, y_train, y_test = train_test_split(\n",
        "    X,\n",
        "    y,\n",
        "    test_size=0.3,\n",
        "    random_state=42,\n",
        ")\n",
        "\n",
        "# fit the model\n",
        "model = LogisticRegression(max_iter=500)\n",
        "model.fit(X_train, y_train)\n",
        "\n",
        "# evaluate the model\n",
        "preds = model.predict(X_test)\n",
        "\n",
        "# evaluate the prediction\n",
        "score = accuracy_score(y_test, preds)\n",
        "\n",
        "print(f'Score: {score* 100:.3f}%')"
      ],
      "metadata": {
        "colab": {
          "base_uri": "https://localhost:8080/"
        },
        "id": "oiQhe4FyEEYn",
        "outputId": "7f158478-3e67-4819-f071-83209f507670"
      },
      "execution_count": 3,
      "outputs": [
        {
          "output_type": "stream",
          "name": "stdout",
          "text": [
            "Score: 81.500%\n"
          ]
        }
      ]
    },
    {
      "cell_type": "markdown",
      "source": [
        "# Train-split correct approch"
      ],
      "metadata": {
        "id": "_J0_xmel_K4U"
      }
    },
    {
      "cell_type": "code",
      "source": [
        "# split into train and test sets\n",
        "X_train, X_test, y_train, y_test = train_test_split(\n",
        "    X,\n",
        "    y,\n",
        "    test_size=0.3,\n",
        "    random_state=42,\n",
        ")\n",
        "\n",
        "# standardize the dataset\n",
        "scaler = MinMaxScaler()\n",
        "scaler.fit(X_train)\n",
        "X_train = scaler.transform(X_train)\n",
        "X_test = scaler.transform(X_test)\n",
        "\n",
        "# fit the model\n",
        "model = LogisticRegression(max_iter=500)\n",
        "model.fit(X_train, y_train)\n",
        "\n",
        "# evaluate the model\n",
        "preds = model.predict(X_test)\n",
        "\n",
        "# evaluate the prediction\n",
        "score = accuracy_score(y_test, preds)\n",
        "\n",
        "print(f'Score: {score* 100:.3f}%')"
      ],
      "metadata": {
        "colab": {
          "base_uri": "https://localhost:8080/"
        },
        "id": "tXMUYRwG_RH6",
        "outputId": "b2f960be-db2d-472e-c3cd-c6954c53b25e"
      },
      "execution_count": 4,
      "outputs": [
        {
          "output_type": "stream",
          "name": "stdout",
          "text": [
            "Score: 81.367%\n"
          ]
        }
      ]
    },
    {
      "cell_type": "markdown",
      "source": [
        "# Data leakage k-fold naive approch"
      ],
      "metadata": {
        "id": "Ow9Gbf_jLRmX"
      }
    },
    {
      "cell_type": "code",
      "source": [
        "from sklearn.model_selection import (\n",
        "    RepeatedStratifiedKFold,\n",
        "    cross_val_score,\n",
        ")\n",
        "\n",
        "\n",
        "# standardize the dataset\n",
        "scaler = MinMaxScaler()\n",
        "X = scaler.fit_transform(X)\n",
        "\n",
        "# define the model\n",
        "model = LogisticRegression(max_iter=500)\n",
        "\n",
        "# define the evaluation procedure\n",
        "cv = RepeatedStratifiedKFold(\n",
        "    n_splits=10, \n",
        "    n_repeats=100, \n",
        "    random_state=42\n",
        ")\n",
        "\n",
        "# evaluating the model using cross validation\n",
        "score = cross_val_score(model,\n",
        "                        X,\n",
        "                        y,\n",
        "                        scoring='accuracy',\n",
        "                        cv=cv,\n",
        "                        n_jobs=-1,\n",
        "                        verbose=1)\n",
        "\n"
      ],
      "metadata": {
        "colab": {
          "base_uri": "https://localhost:8080/"
        },
        "id": "LuxoHcmCLi33",
        "outputId": "b99df827-dc73-4f88-ff49-63b0a20dab61"
      },
      "execution_count": 5,
      "outputs": [
        {
          "output_type": "stream",
          "name": "stderr",
          "text": [
            "[Parallel(n_jobs=-1)]: Using backend LokyBackend with 2 concurrent workers.\n",
            "[Parallel(n_jobs=-1)]: Done  46 tasks      | elapsed:   14.9s\n",
            "[Parallel(n_jobs=-1)]: Done 196 tasks      | elapsed:  1.0min\n",
            "[Parallel(n_jobs=-1)]: Done 446 tasks      | elapsed:  2.3min\n",
            "[Parallel(n_jobs=-1)]: Done 796 tasks      | elapsed:  4.0min\n"
          ]
        },
        {
          "output_type": "stream",
          "name": "stdout",
          "text": [
            "Accuracy: 0.808 +/- 0.012\n"
          ]
        },
        {
          "output_type": "stream",
          "name": "stderr",
          "text": [
            "[Parallel(n_jobs=-1)]: Done 1000 out of 1000 | elapsed:  5.1min finished\n"
          ]
        }
      ]
    },
    {
      "cell_type": "code",
      "source": [
        "# report performance\n",
        "print(f'Accuracy: {score.mean():.3f} +/- {score.std():.3f}')"
      ],
      "metadata": {
        "colab": {
          "base_uri": "https://localhost:8080/"
        },
        "id": "y9VGvZ0KNu3Q",
        "outputId": "493eb5b1-6e51-4fe5-ef9b-1baa5ea7fbfd"
      },
      "execution_count": 6,
      "outputs": [
        {
          "output_type": "stream",
          "name": "stdout",
          "text": [
            "Accuracy: 0.808 +/- 0.012\n"
          ]
        }
      ]
    },
    {
      "cell_type": "markdown",
      "source": [
        "## Correct data preparation for model evaluation with k-fold cross-validation"
      ],
      "metadata": {
        "id": "sKDpV8ltPZ4H"
      }
    },
    {
      "cell_type": "code",
      "source": [
        "from sklearn.pipeline import Pipeline\n",
        "\n",
        "processor = Pipeline([\n",
        "                      ('scaler', MinMaxScaler()),\n",
        "                      ('model', LogisticRegression(max_iter=500))\n",
        "])\n",
        "\n",
        "# define the evaluation procedure\n",
        "cv = RepeatedStratifiedKFold(\n",
        "    n_splits=10, \n",
        "    n_repeats=100, \n",
        "    random_state=42\n",
        ")\n",
        "\n",
        "# evaluating the model using cross validation\n",
        "score = cross_val_score(processor,\n",
        "                        X,\n",
        "                        y,\n",
        "                        scoring='accuracy',\n",
        "                        cv=cv,\n",
        "                        n_jobs=-1,\n",
        "                        verbose=0)\n",
        "\n",
        "# report performance\n",
        "print(f'Accuracy: {score.mean():.3f} +/- {score.std():.3f}')"
      ],
      "metadata": {
        "colab": {
          "base_uri": "https://localhost:8080/"
        },
        "id": "OKTumcoKPEB1",
        "outputId": "618c0559-2ced-4940-80f9-1c871a1bd110"
      },
      "execution_count": 7,
      "outputs": [
        {
          "output_type": "stream",
          "name": "stdout",
          "text": [
            "Accuracy: 0.808 +/- 0.012\n"
          ]
        }
      ]
    },
    {
      "cell_type": "code",
      "source": [
        ""
      ],
      "metadata": {
        "id": "VrrBkxNBQUAH"
      },
      "execution_count": null,
      "outputs": []
    }
  ]
}