{
  "nbformat": 4,
  "nbformat_minor": 0,
  "metadata": {
    "colab": {
      "name": "Predicting missing values.ipynb",
      "provenance": [],
      "authorship_tag": "ABX9TyMP220oArQiHqgoTfquUQb7",
      "include_colab_link": true
    },
    "kernelspec": {
      "name": "python3",
      "display_name": "Python 3"
    },
    "language_info": {
      "name": "python"
    }
  },
  "cells": [
    {
      "cell_type": "markdown",
      "metadata": {
        "id": "view-in-github",
        "colab_type": "text"
      },
      "source": [
        "<a href=\"https://colab.research.google.com/github/dajebbar/FreeCodeCamp-python-data-analysis/blob/main/Predicting_missing_values.ipynb\" target=\"_parent\"><img src=\"https://colab.research.google.com/assets/colab-badge.svg\" alt=\"Open In Colab\"/></a>"
      ]
    },
    {
      "cell_type": "markdown",
      "source": [
        "#  Predicting missing values of Data by Linear Regression Model\n",
        "- Step1: separate the Null values from DF and consider as test data\n",
        "- Step2: drop the Null values from DF and consider as train data\n",
        "- Step3: create X_train and y_train from train data\n",
        "- Step4: Build the linear regression model\n",
        "- Step5: create the X_test from test data\n",
        "- Step6: apply the model on X_test of test data and make predictions\n",
        "- Step7: replace missing values with predicted values"
      ],
      "metadata": {
        "id": "YBTG5hNHtT0f"
      }
    },
    {
      "cell_type": "code",
      "execution_count": null,
      "metadata": {
        "id": "PvKCPN0GtNoT"
      },
      "outputs": [],
      "source": [
        ""
      ]
    }
  ]
}