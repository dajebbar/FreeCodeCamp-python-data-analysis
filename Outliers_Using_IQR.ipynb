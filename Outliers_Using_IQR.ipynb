{
  "nbformat": 4,
  "nbformat_minor": 0,
  "metadata": {
    "colab": {
      "name": "Outliers Using IQR",
      "provenance": [],
      "authorship_tag": "ABX9TyPhzO/QG+t2PeHcWp8wXfm6",
      "include_colab_link": true
    },
    "kernelspec": {
      "name": "python3",
      "display_name": "Python 3"
    },
    "language_info": {
      "name": "python"
    }
  },
  "cells": [
    {
      "cell_type": "markdown",
      "metadata": {
        "id": "view-in-github",
        "colab_type": "text"
      },
      "source": [
        "<a href=\"https://colab.research.google.com/github/dajebbar/FreeCodeCamp-python-data-analysis/blob/main/Outliers_Using_IQR.ipynb\" target=\"_parent\"><img src=\"https://colab.research.google.com/assets/colab-badge.svg\" alt=\"Open In Colab\"/></a>"
      ]
    },
    {
      "cell_type": "markdown",
      "source": [
        "# Find Oultiers using \"IQR\"\n",
        "- Find the quantiles (**Q1** & **Q3**) \n",
        "- Calculate the IQR using Q1 & Q3\n",
        "- Calculate the lower limit (**LL**) and upper limit (**UL**)\n",
        "- Check the outliers using LL and UL\n",
        "- View total outliers\n",
        "- Remove outliers if exists\n",
        "- Create a new DF after removing outliers\n"
      ],
      "metadata": {
        "id": "zpsEKvxSVNS1"
      }
    },
    {
      "cell_type": "code",
      "execution_count": null,
      "metadata": {
        "id": "L3sFH7kjVGwO"
      },
      "outputs": [],
      "source": [
        ""
      ]
    }
  ]
}