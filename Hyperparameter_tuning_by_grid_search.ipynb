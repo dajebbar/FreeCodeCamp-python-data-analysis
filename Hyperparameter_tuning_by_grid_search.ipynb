{
  "nbformat": 4,
  "nbformat_minor": 0,
  "metadata": {
    "colab": {
      "name": "Hyperparameter tuning by grid-search.ipynb",
      "provenance": [],
      "authorship_tag": "ABX9TyOwAKbykwc1ox7ZagO3BcEP",
      "include_colab_link": true
    },
    "kernelspec": {
      "name": "python3",
      "display_name": "Python 3"
    },
    "language_info": {
      "name": "python"
    }
  },
  "cells": [
    {
      "cell_type": "markdown",
      "metadata": {
        "id": "view-in-github",
        "colab_type": "text"
      },
      "source": [
        "<a href=\"https://colab.research.google.com/github/dajebbar/FreeCodeCamp-python-data-analysis/blob/main/Hyperparameter_tuning_by_grid_search.ipynb\" target=\"_parent\"><img src=\"https://colab.research.google.com/assets/colab-badge.svg\" alt=\"Open In Colab\"/></a>"
      ]
    },
    {
      "cell_type": "markdown",
      "source": [
        "---\n",
        "# Hyperparameter tuning by grid-search\n",
        "---\n",
        "Hyperparameter tuning by grid-search\n",
        "In the previous notebook, we saw that hyperparameters can affect the generalization performance of a model. In this notebook, we will show how to optimize hyperparameters using a grid-search approach."
      ],
      "metadata": {
        "id": "iW8xDAvjSKVa"
      }
    },
    {
      "cell_type": "markdown",
      "source": [
        "## predictive model"
      ],
      "metadata": {
        "id": "8S7ofX72SkkF"
      }
    },
    {
      "cell_type": "code",
      "execution_count": 1,
      "metadata": {
        "id": "fWXut0A-SIX3"
      },
      "outputs": [],
      "source": [
        "from sklearn import set_config\n",
        "\n",
        "set_config(display=\"diagram\")"
      ]
    },
    {
      "cell_type": "code",
      "source": [
        "import pandas as pd\n",
        "\n",
        "adult_census = pd.read_csv(\"./adult.csv\")"
      ],
      "metadata": {
        "id": "UrGWPX05SpWv"
      },
      "execution_count": 2,
      "outputs": []
    },
    {
      "cell_type": "markdown",
      "source": [
        "We extract the column containing the target."
      ],
      "metadata": {
        "id": "Zs75etTmText"
      }
    },
    {
      "cell_type": "code",
      "source": [
        "target_name = \"class\"\n",
        "target = adult_census[target_name]\n",
        "target"
      ],
      "metadata": {
        "colab": {
          "base_uri": "https://localhost:8080/"
        },
        "id": "NqZXOHBeTZvJ",
        "outputId": "779fd04a-9b98-413a-b6e4-c1207a50e47c"
      },
      "execution_count": 3,
      "outputs": [
        {
          "output_type": "execute_result",
          "data": {
            "text/plain": [
              "0         <=50K\n",
              "1         <=50K\n",
              "2          >50K\n",
              "3          >50K\n",
              "4         <=50K\n",
              "          ...  \n",
              "48837     <=50K\n",
              "48838      >50K\n",
              "48839     <=50K\n",
              "48840     <=50K\n",
              "48841      >50K\n",
              "Name: class, Length: 48842, dtype: object"
            ]
          },
          "metadata": {},
          "execution_count": 3
        }
      ]
    },
    {
      "cell_type": "markdown",
      "source": [
        "We drop from our data the target and the \"`education-num`\" column which duplicates the information from the \"`education`\" column."
      ],
      "metadata": {
        "id": "7hkX8gLqTmQi"
      }
    },
    {
      "cell_type": "code",
      "source": [
        "data = adult_census.drop(columns=[target_name, \"education-num\"])\n",
        "data.head()"
      ],
      "metadata": {
        "colab": {
          "base_uri": "https://localhost:8080/",
          "height": 354
        },
        "id": "BAi-EwwWTh16",
        "outputId": "c552565a-f466-4253-e77f-47ff20dcbfb1"
      },
      "execution_count": 4,
      "outputs": [
        {
          "output_type": "execute_result",
          "data": {
            "text/html": [
              "\n",
              "  <div id=\"df-d763426e-0642-438e-a149-d83f4f668c97\">\n",
              "    <div class=\"colab-df-container\">\n",
              "      <div>\n",
              "<style scoped>\n",
              "    .dataframe tbody tr th:only-of-type {\n",
              "        vertical-align: middle;\n",
              "    }\n",
              "\n",
              "    .dataframe tbody tr th {\n",
              "        vertical-align: top;\n",
              "    }\n",
              "\n",
              "    .dataframe thead th {\n",
              "        text-align: right;\n",
              "    }\n",
              "</style>\n",
              "<table border=\"1\" class=\"dataframe\">\n",
              "  <thead>\n",
              "    <tr style=\"text-align: right;\">\n",
              "      <th></th>\n",
              "      <th>age</th>\n",
              "      <th>workclass</th>\n",
              "      <th>fnlwgt</th>\n",
              "      <th>education</th>\n",
              "      <th>marital-status</th>\n",
              "      <th>occupation</th>\n",
              "      <th>relationship</th>\n",
              "      <th>race</th>\n",
              "      <th>sex</th>\n",
              "      <th>capital-gain</th>\n",
              "      <th>capital-loss</th>\n",
              "      <th>hours-per-week</th>\n",
              "      <th>native-country</th>\n",
              "    </tr>\n",
              "  </thead>\n",
              "  <tbody>\n",
              "    <tr>\n",
              "      <th>0</th>\n",
              "      <td>25</td>\n",
              "      <td>Private</td>\n",
              "      <td>226802</td>\n",
              "      <td>11th</td>\n",
              "      <td>Never-married</td>\n",
              "      <td>Machine-op-inspct</td>\n",
              "      <td>Own-child</td>\n",
              "      <td>Black</td>\n",
              "      <td>Male</td>\n",
              "      <td>0</td>\n",
              "      <td>0</td>\n",
              "      <td>40</td>\n",
              "      <td>United-States</td>\n",
              "    </tr>\n",
              "    <tr>\n",
              "      <th>1</th>\n",
              "      <td>38</td>\n",
              "      <td>Private</td>\n",
              "      <td>89814</td>\n",
              "      <td>HS-grad</td>\n",
              "      <td>Married-civ-spouse</td>\n",
              "      <td>Farming-fishing</td>\n",
              "      <td>Husband</td>\n",
              "      <td>White</td>\n",
              "      <td>Male</td>\n",
              "      <td>0</td>\n",
              "      <td>0</td>\n",
              "      <td>50</td>\n",
              "      <td>United-States</td>\n",
              "    </tr>\n",
              "    <tr>\n",
              "      <th>2</th>\n",
              "      <td>28</td>\n",
              "      <td>Local-gov</td>\n",
              "      <td>336951</td>\n",
              "      <td>Assoc-acdm</td>\n",
              "      <td>Married-civ-spouse</td>\n",
              "      <td>Protective-serv</td>\n",
              "      <td>Husband</td>\n",
              "      <td>White</td>\n",
              "      <td>Male</td>\n",
              "      <td>0</td>\n",
              "      <td>0</td>\n",
              "      <td>40</td>\n",
              "      <td>United-States</td>\n",
              "    </tr>\n",
              "    <tr>\n",
              "      <th>3</th>\n",
              "      <td>44</td>\n",
              "      <td>Private</td>\n",
              "      <td>160323</td>\n",
              "      <td>Some-college</td>\n",
              "      <td>Married-civ-spouse</td>\n",
              "      <td>Machine-op-inspct</td>\n",
              "      <td>Husband</td>\n",
              "      <td>Black</td>\n",
              "      <td>Male</td>\n",
              "      <td>7688</td>\n",
              "      <td>0</td>\n",
              "      <td>40</td>\n",
              "      <td>United-States</td>\n",
              "    </tr>\n",
              "    <tr>\n",
              "      <th>4</th>\n",
              "      <td>18</td>\n",
              "      <td>?</td>\n",
              "      <td>103497</td>\n",
              "      <td>Some-college</td>\n",
              "      <td>Never-married</td>\n",
              "      <td>?</td>\n",
              "      <td>Own-child</td>\n",
              "      <td>White</td>\n",
              "      <td>Female</td>\n",
              "      <td>0</td>\n",
              "      <td>0</td>\n",
              "      <td>30</td>\n",
              "      <td>United-States</td>\n",
              "    </tr>\n",
              "  </tbody>\n",
              "</table>\n",
              "</div>\n",
              "      <button class=\"colab-df-convert\" onclick=\"convertToInteractive('df-d763426e-0642-438e-a149-d83f4f668c97')\"\n",
              "              title=\"Convert this dataframe to an interactive table.\"\n",
              "              style=\"display:none;\">\n",
              "        \n",
              "  <svg xmlns=\"http://www.w3.org/2000/svg\" height=\"24px\"viewBox=\"0 0 24 24\"\n",
              "       width=\"24px\">\n",
              "    <path d=\"M0 0h24v24H0V0z\" fill=\"none\"/>\n",
              "    <path d=\"M18.56 5.44l.94 2.06.94-2.06 2.06-.94-2.06-.94-.94-2.06-.94 2.06-2.06.94zm-11 1L8.5 8.5l.94-2.06 2.06-.94-2.06-.94L8.5 2.5l-.94 2.06-2.06.94zm10 10l.94 2.06.94-2.06 2.06-.94-2.06-.94-.94-2.06-.94 2.06-2.06.94z\"/><path d=\"M17.41 7.96l-1.37-1.37c-.4-.4-.92-.59-1.43-.59-.52 0-1.04.2-1.43.59L10.3 9.45l-7.72 7.72c-.78.78-.78 2.05 0 2.83L4 21.41c.39.39.9.59 1.41.59.51 0 1.02-.2 1.41-.59l7.78-7.78 2.81-2.81c.8-.78.8-2.07 0-2.86zM5.41 20L4 18.59l7.72-7.72 1.47 1.35L5.41 20z\"/>\n",
              "  </svg>\n",
              "      </button>\n",
              "      \n",
              "  <style>\n",
              "    .colab-df-container {\n",
              "      display:flex;\n",
              "      flex-wrap:wrap;\n",
              "      gap: 12px;\n",
              "    }\n",
              "\n",
              "    .colab-df-convert {\n",
              "      background-color: #E8F0FE;\n",
              "      border: none;\n",
              "      border-radius: 50%;\n",
              "      cursor: pointer;\n",
              "      display: none;\n",
              "      fill: #1967D2;\n",
              "      height: 32px;\n",
              "      padding: 0 0 0 0;\n",
              "      width: 32px;\n",
              "    }\n",
              "\n",
              "    .colab-df-convert:hover {\n",
              "      background-color: #E2EBFA;\n",
              "      box-shadow: 0px 1px 2px rgba(60, 64, 67, 0.3), 0px 1px 3px 1px rgba(60, 64, 67, 0.15);\n",
              "      fill: #174EA6;\n",
              "    }\n",
              "\n",
              "    [theme=dark] .colab-df-convert {\n",
              "      background-color: #3B4455;\n",
              "      fill: #D2E3FC;\n",
              "    }\n",
              "\n",
              "    [theme=dark] .colab-df-convert:hover {\n",
              "      background-color: #434B5C;\n",
              "      box-shadow: 0px 1px 3px 1px rgba(0, 0, 0, 0.15);\n",
              "      filter: drop-shadow(0px 1px 2px rgba(0, 0, 0, 0.3));\n",
              "      fill: #FFFFFF;\n",
              "    }\n",
              "  </style>\n",
              "\n",
              "      <script>\n",
              "        const buttonEl =\n",
              "          document.querySelector('#df-d763426e-0642-438e-a149-d83f4f668c97 button.colab-df-convert');\n",
              "        buttonEl.style.display =\n",
              "          google.colab.kernel.accessAllowed ? 'block' : 'none';\n",
              "\n",
              "        async function convertToInteractive(key) {\n",
              "          const element = document.querySelector('#df-d763426e-0642-438e-a149-d83f4f668c97');\n",
              "          const dataTable =\n",
              "            await google.colab.kernel.invokeFunction('convertToInteractive',\n",
              "                                                     [key], {});\n",
              "          if (!dataTable) return;\n",
              "\n",
              "          const docLinkHtml = 'Like what you see? Visit the ' +\n",
              "            '<a target=\"_blank\" href=https://colab.research.google.com/notebooks/data_table.ipynb>data table notebook</a>'\n",
              "            + ' to learn more about interactive tables.';\n",
              "          element.innerHTML = '';\n",
              "          dataTable['output_type'] = 'display_data';\n",
              "          await google.colab.output.renderOutput(dataTable, element);\n",
              "          const docLink = document.createElement('div');\n",
              "          docLink.innerHTML = docLinkHtml;\n",
              "          element.appendChild(docLink);\n",
              "        }\n",
              "      </script>\n",
              "    </div>\n",
              "  </div>\n",
              "  "
            ],
            "text/plain": [
              "   age   workclass  fnlwgt  ... capital-loss hours-per-week  native-country\n",
              "0   25     Private  226802  ...            0             40   United-States\n",
              "1   38     Private   89814  ...            0             50   United-States\n",
              "2   28   Local-gov  336951  ...            0             40   United-States\n",
              "3   44     Private  160323  ...            0             40   United-States\n",
              "4   18           ?  103497  ...            0             30   United-States\n",
              "\n",
              "[5 rows x 13 columns]"
            ]
          },
          "metadata": {},
          "execution_count": 4
        }
      ]
    },
    {
      "cell_type": "markdown",
      "source": [
        "Once the dataset is loaded, we split it into a training and testing sets."
      ],
      "metadata": {
        "id": "Or18Xgh0UNnw"
      }
    },
    {
      "cell_type": "code",
      "source": [
        "from sklearn.model_selection import train_test_split\n",
        "\n",
        "X_train, X_test, y_train, y_test = train_test_split(data, \n",
        "                                                    target, \n",
        "                                                    random_state=42)"
      ],
      "metadata": {
        "id": "0qhqwreLT5XI"
      },
      "execution_count": 5,
      "outputs": []
    },
    {
      "cell_type": "markdown",
      "source": [
        "We will define a pipeline and it will handle both numerical and categorical features.\n",
        "\n",
        "As we will use a tree-based model as a predictor, here we apply an ordinal encoder on the categorical features: it encodes every category with an arbitrary integer. For simple models such as linear models, a one-hot encoder should be preferred. But for complex models, in particular tree-based models, the ordinal encoder is useful as it avoids having high-dimensional representations.\n",
        "\n",
        "First we select all the categorical columns."
      ],
      "metadata": {
        "id": "NxhkpaAEU2Qa"
      }
    },
    {
      "cell_type": "code",
      "source": [
        "from sklearn.compose import make_column_selector as selector\n",
        "\n",
        "categorical_columns = selector(dtype_include=object)(data)"
      ],
      "metadata": {
        "id": "BY-ELh0dU1S3"
      },
      "execution_count": 6,
      "outputs": []
    },
    {
      "cell_type": "markdown",
      "source": [
        "Then we build our ordinal encoder, giving it the known categories."
      ],
      "metadata": {
        "id": "lEO3uioiVQtp"
      }
    },
    {
      "cell_type": "code",
      "source": [
        "from sklearn.preprocessing import OrdinalEncoder\n",
        "\n",
        "categorical_preprocessor = OrdinalEncoder(handle_unknown=\"use_encoded_value\",\n",
        "                                          unknown_value=-1)"
      ],
      "metadata": {
        "id": "IV9W2ydrVQS1"
      },
      "execution_count": 7,
      "outputs": []
    },
    {
      "cell_type": "markdown",
      "source": [
        "We now use a column transformer with code to select the categorical columns and apply to them the ordinal encoder."
      ],
      "metadata": {
        "id": "0o4fWIkfVas9"
      }
    },
    {
      "cell_type": "code",
      "source": [
        "from sklearn.compose import ColumnTransformer\n",
        "\n",
        "preprocessor = ColumnTransformer([\n",
        "    ('cat-preprocessor', categorical_preprocessor, categorical_columns)],\n",
        "    remainder='passthrough', sparse_threshold=0)"
      ],
      "metadata": {
        "id": "RmcBGzsfVW06"
      },
      "execution_count": 8,
      "outputs": []
    },
    {
      "cell_type": "markdown",
      "source": [
        "inally, we use a tree-based classifier (i.e. histogram gradient-boosting) to predict whether or not a person earns more than 50 k$ a year."
      ],
      "metadata": {
        "id": "eAkplm4xVlZ8"
      }
    },
    {
      "cell_type": "code",
      "source": [
        "from sklearn.ensemble import HistGradientBoostingClassifier\n",
        "from sklearn.pipeline import Pipeline\n",
        "\n",
        "model = Pipeline([\n",
        "    (\"preprocessor\", preprocessor),\n",
        "    (\"classifier\",\n",
        "     HistGradientBoostingClassifier(random_state=42, max_leaf_nodes=4))])\n",
        "model"
      ],
      "metadata": {
        "colab": {
          "base_uri": "https://localhost:8080/",
          "height": 192
        },
        "id": "OFmNtaG-Vgat",
        "outputId": "656670d3-5bca-4b1d-ba77-d37b9ad6d853"
      },
      "execution_count": 9,
      "outputs": [
        {
          "output_type": "execute_result",
          "data": {
            "text/html": [
              "<style>#sk-c1b4899c-c4d9-4edc-a113-adda00d2787f {color: black;background-color: white;}#sk-c1b4899c-c4d9-4edc-a113-adda00d2787f pre{padding: 0;}#sk-c1b4899c-c4d9-4edc-a113-adda00d2787f div.sk-toggleable {background-color: white;}#sk-c1b4899c-c4d9-4edc-a113-adda00d2787f label.sk-toggleable__label {cursor: pointer;display: block;width: 100%;margin-bottom: 0;padding: 0.3em;box-sizing: border-box;text-align: center;}#sk-c1b4899c-c4d9-4edc-a113-adda00d2787f label.sk-toggleable__label-arrow:before {content: \"▸\";float: left;margin-right: 0.25em;color: #696969;}#sk-c1b4899c-c4d9-4edc-a113-adda00d2787f label.sk-toggleable__label-arrow:hover:before {color: black;}#sk-c1b4899c-c4d9-4edc-a113-adda00d2787f div.sk-estimator:hover label.sk-toggleable__label-arrow:before {color: black;}#sk-c1b4899c-c4d9-4edc-a113-adda00d2787f div.sk-toggleable__content {max-height: 0;max-width: 0;overflow: hidden;text-align: left;background-color: #f0f8ff;}#sk-c1b4899c-c4d9-4edc-a113-adda00d2787f div.sk-toggleable__content pre {margin: 0.2em;color: black;border-radius: 0.25em;background-color: #f0f8ff;}#sk-c1b4899c-c4d9-4edc-a113-adda00d2787f input.sk-toggleable__control:checked~div.sk-toggleable__content {max-height: 200px;max-width: 100%;overflow: auto;}#sk-c1b4899c-c4d9-4edc-a113-adda00d2787f input.sk-toggleable__control:checked~label.sk-toggleable__label-arrow:before {content: \"▾\";}#sk-c1b4899c-c4d9-4edc-a113-adda00d2787f div.sk-estimator input.sk-toggleable__control:checked~label.sk-toggleable__label {background-color: #d4ebff;}#sk-c1b4899c-c4d9-4edc-a113-adda00d2787f div.sk-label input.sk-toggleable__control:checked~label.sk-toggleable__label {background-color: #d4ebff;}#sk-c1b4899c-c4d9-4edc-a113-adda00d2787f input.sk-hidden--visually {border: 0;clip: rect(1px 1px 1px 1px);clip: rect(1px, 1px, 1px, 1px);height: 1px;margin: -1px;overflow: hidden;padding: 0;position: absolute;width: 1px;}#sk-c1b4899c-c4d9-4edc-a113-adda00d2787f div.sk-estimator {font-family: monospace;background-color: #f0f8ff;border: 1px dotted black;border-radius: 0.25em;box-sizing: border-box;margin-bottom: 0.5em;}#sk-c1b4899c-c4d9-4edc-a113-adda00d2787f div.sk-estimator:hover {background-color: #d4ebff;}#sk-c1b4899c-c4d9-4edc-a113-adda00d2787f div.sk-parallel-item::after {content: \"\";width: 100%;border-bottom: 1px solid gray;flex-grow: 1;}#sk-c1b4899c-c4d9-4edc-a113-adda00d2787f div.sk-label:hover label.sk-toggleable__label {background-color: #d4ebff;}#sk-c1b4899c-c4d9-4edc-a113-adda00d2787f div.sk-serial::before {content: \"\";position: absolute;border-left: 1px solid gray;box-sizing: border-box;top: 2em;bottom: 0;left: 50%;}#sk-c1b4899c-c4d9-4edc-a113-adda00d2787f div.sk-serial {display: flex;flex-direction: column;align-items: center;background-color: white;padding-right: 0.2em;padding-left: 0.2em;}#sk-c1b4899c-c4d9-4edc-a113-adda00d2787f div.sk-item {z-index: 1;}#sk-c1b4899c-c4d9-4edc-a113-adda00d2787f div.sk-parallel {display: flex;align-items: stretch;justify-content: center;background-color: white;}#sk-c1b4899c-c4d9-4edc-a113-adda00d2787f div.sk-parallel::before {content: \"\";position: absolute;border-left: 1px solid gray;box-sizing: border-box;top: 2em;bottom: 0;left: 50%;}#sk-c1b4899c-c4d9-4edc-a113-adda00d2787f div.sk-parallel-item {display: flex;flex-direction: column;position: relative;background-color: white;}#sk-c1b4899c-c4d9-4edc-a113-adda00d2787f div.sk-parallel-item:first-child::after {align-self: flex-end;width: 50%;}#sk-c1b4899c-c4d9-4edc-a113-adda00d2787f div.sk-parallel-item:last-child::after {align-self: flex-start;width: 50%;}#sk-c1b4899c-c4d9-4edc-a113-adda00d2787f div.sk-parallel-item:only-child::after {width: 0;}#sk-c1b4899c-c4d9-4edc-a113-adda00d2787f div.sk-dashed-wrapped {border: 1px dashed gray;margin: 0 0.4em 0.5em 0.4em;box-sizing: border-box;padding-bottom: 0.4em;background-color: white;position: relative;}#sk-c1b4899c-c4d9-4edc-a113-adda00d2787f div.sk-label label {font-family: monospace;font-weight: bold;background-color: white;display: inline-block;line-height: 1.2em;}#sk-c1b4899c-c4d9-4edc-a113-adda00d2787f div.sk-label-container {position: relative;z-index: 2;text-align: center;}#sk-c1b4899c-c4d9-4edc-a113-adda00d2787f div.sk-container {/* jupyter's `normalize.less` sets `[hidden] { display: none; }` but bootstrap.min.css set `[hidden] { display: none !important; }` so we also need the `!important` here to be able to override the default hidden behavior on the sphinx rendered scikit-learn.org. See: https://github.com/scikit-learn/scikit-learn/issues/21755 */display: inline-block !important;position: relative;}#sk-c1b4899c-c4d9-4edc-a113-adda00d2787f div.sk-text-repr-fallback {display: none;}</style><div id=\"sk-c1b4899c-c4d9-4edc-a113-adda00d2787f\" class=\"sk-top-container\"><div class=\"sk-text-repr-fallback\"><pre>Pipeline(steps=[(&#x27;preprocessor&#x27;,\n",
              "                 ColumnTransformer(remainder=&#x27;passthrough&#x27;, sparse_threshold=0,\n",
              "                                   transformers=[(&#x27;cat-preprocessor&#x27;,\n",
              "                                                  OrdinalEncoder(handle_unknown=&#x27;use_encoded_value&#x27;,\n",
              "                                                                 unknown_value=-1),\n",
              "                                                  [&#x27;workclass&#x27;, &#x27;education&#x27;,\n",
              "                                                   &#x27;marital-status&#x27;,\n",
              "                                                   &#x27;occupation&#x27;, &#x27;relationship&#x27;,\n",
              "                                                   &#x27;race&#x27;, &#x27;sex&#x27;,\n",
              "                                                   &#x27;native-country&#x27;])])),\n",
              "                (&#x27;classifier&#x27;,\n",
              "                 HistGradientBoostingClassifier(max_leaf_nodes=4,\n",
              "                                                random_state=42))])</pre><b>Please rerun this cell to show the HTML repr or trust the notebook.</b></div><div class=\"sk-container\" hidden><div class=\"sk-item sk-dashed-wrapped\"><div class=\"sk-label-container\"><div class=\"sk-label sk-toggleable\"><input class=\"sk-toggleable__control sk-hidden--visually\" id=\"a3047933-84f2-4bdb-8392-574866dc49bd\" type=\"checkbox\" ><label for=\"a3047933-84f2-4bdb-8392-574866dc49bd\" class=\"sk-toggleable__label sk-toggleable__label-arrow\">Pipeline</label><div class=\"sk-toggleable__content\"><pre>Pipeline(steps=[(&#x27;preprocessor&#x27;,\n",
              "                 ColumnTransformer(remainder=&#x27;passthrough&#x27;, sparse_threshold=0,\n",
              "                                   transformers=[(&#x27;cat-preprocessor&#x27;,\n",
              "                                                  OrdinalEncoder(handle_unknown=&#x27;use_encoded_value&#x27;,\n",
              "                                                                 unknown_value=-1),\n",
              "                                                  [&#x27;workclass&#x27;, &#x27;education&#x27;,\n",
              "                                                   &#x27;marital-status&#x27;,\n",
              "                                                   &#x27;occupation&#x27;, &#x27;relationship&#x27;,\n",
              "                                                   &#x27;race&#x27;, &#x27;sex&#x27;,\n",
              "                                                   &#x27;native-country&#x27;])])),\n",
              "                (&#x27;classifier&#x27;,\n",
              "                 HistGradientBoostingClassifier(max_leaf_nodes=4,\n",
              "                                                random_state=42))])</pre></div></div></div><div class=\"sk-serial\"><div class=\"sk-item sk-dashed-wrapped\"><div class=\"sk-label-container\"><div class=\"sk-label sk-toggleable\"><input class=\"sk-toggleable__control sk-hidden--visually\" id=\"064be9dc-c8b2-4346-ab76-4ed97ccd94aa\" type=\"checkbox\" ><label for=\"064be9dc-c8b2-4346-ab76-4ed97ccd94aa\" class=\"sk-toggleable__label sk-toggleable__label-arrow\">preprocessor: ColumnTransformer</label><div class=\"sk-toggleable__content\"><pre>ColumnTransformer(remainder=&#x27;passthrough&#x27;, sparse_threshold=0,\n",
              "                  transformers=[(&#x27;cat-preprocessor&#x27;,\n",
              "                                 OrdinalEncoder(handle_unknown=&#x27;use_encoded_value&#x27;,\n",
              "                                                unknown_value=-1),\n",
              "                                 [&#x27;workclass&#x27;, &#x27;education&#x27;, &#x27;marital-status&#x27;,\n",
              "                                  &#x27;occupation&#x27;, &#x27;relationship&#x27;, &#x27;race&#x27;, &#x27;sex&#x27;,\n",
              "                                  &#x27;native-country&#x27;])])</pre></div></div></div><div class=\"sk-parallel\"><div class=\"sk-parallel-item\"><div class=\"sk-item\"><div class=\"sk-label-container\"><div class=\"sk-label sk-toggleable\"><input class=\"sk-toggleable__control sk-hidden--visually\" id=\"5b716ea3-71d7-47e6-835b-dce732c00089\" type=\"checkbox\" ><label for=\"5b716ea3-71d7-47e6-835b-dce732c00089\" class=\"sk-toggleable__label sk-toggleable__label-arrow\">cat-preprocessor</label><div class=\"sk-toggleable__content\"><pre>[&#x27;workclass&#x27;, &#x27;education&#x27;, &#x27;marital-status&#x27;, &#x27;occupation&#x27;, &#x27;relationship&#x27;, &#x27;race&#x27;, &#x27;sex&#x27;, &#x27;native-country&#x27;]</pre></div></div></div><div class=\"sk-serial\"><div class=\"sk-item\"><div class=\"sk-estimator sk-toggleable\"><input class=\"sk-toggleable__control sk-hidden--visually\" id=\"2eb0d114-957d-4638-a5c9-fab28218c10e\" type=\"checkbox\" ><label for=\"2eb0d114-957d-4638-a5c9-fab28218c10e\" class=\"sk-toggleable__label sk-toggleable__label-arrow\">OrdinalEncoder</label><div class=\"sk-toggleable__content\"><pre>OrdinalEncoder(handle_unknown=&#x27;use_encoded_value&#x27;, unknown_value=-1)</pre></div></div></div></div></div></div><div class=\"sk-parallel-item\"><div class=\"sk-item\"><div class=\"sk-label-container\"><div class=\"sk-label sk-toggleable\"><input class=\"sk-toggleable__control sk-hidden--visually\" id=\"58c37cb4-edcf-40e4-bddd-b49253ba5559\" type=\"checkbox\" ><label for=\"58c37cb4-edcf-40e4-bddd-b49253ba5559\" class=\"sk-toggleable__label sk-toggleable__label-arrow\">remainder</label><div class=\"sk-toggleable__content\"><pre></pre></div></div></div><div class=\"sk-serial\"><div class=\"sk-item\"><div class=\"sk-estimator sk-toggleable\"><input class=\"sk-toggleable__control sk-hidden--visually\" id=\"4d0be14e-75d2-4f18-960f-40f7763e99b7\" type=\"checkbox\" ><label for=\"4d0be14e-75d2-4f18-960f-40f7763e99b7\" class=\"sk-toggleable__label sk-toggleable__label-arrow\">passthrough</label><div class=\"sk-toggleable__content\"><pre>passthrough</pre></div></div></div></div></div></div></div></div><div class=\"sk-item\"><div class=\"sk-estimator sk-toggleable\"><input class=\"sk-toggleable__control sk-hidden--visually\" id=\"8dc9a202-c7dd-4777-89fe-42c0494c297b\" type=\"checkbox\" ><label for=\"8dc9a202-c7dd-4777-89fe-42c0494c297b\" class=\"sk-toggleable__label sk-toggleable__label-arrow\">HistGradientBoostingClassifier</label><div class=\"sk-toggleable__content\"><pre>HistGradientBoostingClassifier(max_leaf_nodes=4, random_state=42)</pre></div></div></div></div></div></div></div>"
            ],
            "text/plain": [
              "Pipeline(steps=[('preprocessor',\n",
              "                 ColumnTransformer(remainder='passthrough', sparse_threshold=0,\n",
              "                                   transformers=[('cat-preprocessor',\n",
              "                                                  OrdinalEncoder(handle_unknown='use_encoded_value',\n",
              "                                                                 unknown_value=-1),\n",
              "                                                  ['workclass', 'education',\n",
              "                                                   'marital-status',\n",
              "                                                   'occupation', 'relationship',\n",
              "                                                   'race', 'sex',\n",
              "                                                   'native-country'])])),\n",
              "                ('classifier',\n",
              "                 HistGradientBoostingClassifier(max_leaf_nodes=4,\n",
              "                                                random_state=42))])"
            ]
          },
          "metadata": {},
          "execution_count": 9
        }
      ]
    },
    {
      "cell_type": "markdown",
      "source": [
        "## Tuning using a grid-search\n",
        "Instead of manually writing the two `for` loops, scikit-learn provides a class called `GridSearchCV` which implement the exhaustive search implemented during the exercise.\n",
        "\n",
        "Let see how to use the `GridSearchCV` estimator for doing such search. Since the grid-search will be costly, we will only explore the combination `learning-rate` and the `maximum number of nodes`.\n",
        "\n"
      ],
      "metadata": {
        "id": "wdxmFR9tV7fv"
      }
    },
    {
      "cell_type": "code",
      "source": [
        "%%time\n",
        "from sklearn.model_selection import GridSearchCV\n",
        "\n",
        "param_grid = {\n",
        "    'classifier__learning_rate': [0.001, 0.01, 0.03, 0.1, 1, 10],\n",
        "    'classifier__max_leaf_nodes': [2, 4, 10, 20, 50, 100]\n",
        "}\n",
        "\n",
        "model_grid_search = GridSearchCV(model, param_grid=param_grid, n_jobs=4, cv=10)"
      ],
      "metadata": {
        "colab": {
          "base_uri": "https://localhost:8080/"
        },
        "id": "sVDlBVS7V2SN",
        "outputId": "aa8bf065-637f-4e3b-961c-db5daf71af75"
      },
      "execution_count": 10,
      "outputs": [
        {
          "output_type": "stream",
          "name": "stdout",
          "text": [
            "CPU times: user 97 µs, sys: 0 ns, total: 97 µs\n",
            "Wall time: 103 µs\n"
          ]
        }
      ]
    },
    {
      "cell_type": "markdown",
      "source": [
        "Finally, we will check the accuracy of our model using the test set."
      ],
      "metadata": {
        "id": "Xzk35rdkXs1J"
      }
    },
    {
      "cell_type": "code",
      "source": [
        "model_grid_search.fit(X_train, y_train)\n",
        "accuracy = model_grid_search.score(X_test, y_test)\n",
        "\n",
        "print(\n",
        "    f\"The test accuracy score of the grid-searched pipeline is: \"\n",
        "    f\"{accuracy:.2f}\"\n",
        ")"
      ],
      "metadata": {
        "colab": {
          "base_uri": "https://localhost:8080/"
        },
        "id": "vsLlw2xXXnlR",
        "outputId": "496a8700-0179-4651-c7fb-a80c65c2a3c3"
      },
      "execution_count": 12,
      "outputs": [
        {
          "output_type": "stream",
          "name": "stdout",
          "text": [
            "The test accuracy score of the grid-searched pipeline is: 0.88\n"
          ]
        }
      ]
    },
    {
      "cell_type": "markdown",
      "source": [
        "### Warning\n",
        "\n",
        "Be aware that the evaluation should normally be performed in a cross-validation framework by providing model_grid_search as a model to the cross_validate function.\n",
        "\n",
        "Here, we are using a single train-test split to highlight the specificities of the model_grid_search instance."
      ],
      "metadata": {
        "id": "cESbJLMkYbLZ"
      }
    },
    {
      "cell_type": "markdown",
      "source": [
        "The `GridSearchCV` estimator takes a `param_grid` parameter which defines all hyperparameters and their associated values. The grid-search will be in charge of creating all possible combinations and test them.\n",
        "\n",
        "The number of combinations will be equal to the product of the number of values to explore for each parameter (e.g. in our example 6 x 6 combinations). Thus, adding new parameters with their associated values to be explored become rapidly computationally expensive.\n",
        "\n",
        "Once the grid-search is fitted, it can be used as any other predictor by calling `predict` and `predict_proba`. Internally, it will use the model with the best parameters found during `fit`.\n",
        "\n",
        "Get predictions for the 5 first samples using the estimator with the best parameters."
      ],
      "metadata": {
        "id": "EkBA9TdrY59i"
      }
    },
    {
      "cell_type": "code",
      "source": [
        "model_grid_search.predict(X_test.iloc[:5])"
      ],
      "metadata": {
        "colab": {
          "base_uri": "https://localhost:8080/"
        },
        "id": "jHORakI6X6rk",
        "outputId": "c05e5658-0c8c-405d-84da-780f540863b9"
      },
      "execution_count": 13,
      "outputs": [
        {
          "output_type": "execute_result",
          "data": {
            "text/plain": [
              "array([' <=50K', ' <=50K', ' >50K', ' <=50K', ' >50K'], dtype=object)"
            ]
          },
          "metadata": {},
          "execution_count": 13
        }
      ]
    },
    {
      "cell_type": "code",
      "source": [
        "print(f\"The best set of parameters is: \"\n",
        "      f\"{model_grid_search.best_params_}\")"
      ],
      "metadata": {
        "colab": {
          "base_uri": "https://localhost:8080/"
        },
        "id": "gFqAUBB9Zkr8",
        "outputId": "7b50da29-5a8f-4a44-9d77-bf3bbe751170"
      },
      "execution_count": 14,
      "outputs": [
        {
          "output_type": "stream",
          "name": "stdout",
          "text": [
            "The best set of parameters is: {'classifier__learning_rate': 0.1, 'classifier__max_leaf_nodes': 20}\n"
          ]
        }
      ]
    },
    {
      "cell_type": "markdown",
      "source": [
        "we can inspect all results which are stored in the attribute `cv_results_`\n",
        " of the grid-search. We will filter some specific columns from these results."
      ],
      "metadata": {
        "id": "KcTtYmMQaIHt"
      }
    },
    {
      "cell_type": "code",
      "source": [
        "cv_results = pd.DataFrame(model_grid_search.cv_results_).sort_values(\n",
        "    by='mean_test_score', ascending=False\n",
        ")\n",
        "\n",
        "cv_results.head()\n"
      ],
      "metadata": {
        "colab": {
          "base_uri": "https://localhost:8080/",
          "height": 357
        },
        "id": "Rbz0EIXBZoDX",
        "outputId": "b407ab0d-504d-4ab0-e09e-cd0266922ca2"
      },
      "execution_count": 15,
      "outputs": [
        {
          "output_type": "execute_result",
          "data": {
            "text/html": [
              "\n",
              "  <div id=\"df-89480638-0f40-4cf2-a3d2-84144e85df62\">\n",
              "    <div class=\"colab-df-container\">\n",
              "      <div>\n",
              "<style scoped>\n",
              "    .dataframe tbody tr th:only-of-type {\n",
              "        vertical-align: middle;\n",
              "    }\n",
              "\n",
              "    .dataframe tbody tr th {\n",
              "        vertical-align: top;\n",
              "    }\n",
              "\n",
              "    .dataframe thead th {\n",
              "        text-align: right;\n",
              "    }\n",
              "</style>\n",
              "<table border=\"1\" class=\"dataframe\">\n",
              "  <thead>\n",
              "    <tr style=\"text-align: right;\">\n",
              "      <th></th>\n",
              "      <th>mean_fit_time</th>\n",
              "      <th>std_fit_time</th>\n",
              "      <th>mean_score_time</th>\n",
              "      <th>std_score_time</th>\n",
              "      <th>param_classifier__learning_rate</th>\n",
              "      <th>param_classifier__max_leaf_nodes</th>\n",
              "      <th>params</th>\n",
              "      <th>split0_test_score</th>\n",
              "      <th>split1_test_score</th>\n",
              "      <th>split2_test_score</th>\n",
              "      <th>split3_test_score</th>\n",
              "      <th>split4_test_score</th>\n",
              "      <th>split5_test_score</th>\n",
              "      <th>split6_test_score</th>\n",
              "      <th>split7_test_score</th>\n",
              "      <th>split8_test_score</th>\n",
              "      <th>split9_test_score</th>\n",
              "      <th>mean_test_score</th>\n",
              "      <th>std_test_score</th>\n",
              "      <th>rank_test_score</th>\n",
              "    </tr>\n",
              "  </thead>\n",
              "  <tbody>\n",
              "    <tr>\n",
              "      <th>21</th>\n",
              "      <td>3.301159</td>\n",
              "      <td>0.059939</td>\n",
              "      <td>0.174944</td>\n",
              "      <td>0.009298</td>\n",
              "      <td>0.1</td>\n",
              "      <td>20</td>\n",
              "      <td>{'classifier__learning_rate': 0.1, 'classifier...</td>\n",
              "      <td>0.876638</td>\n",
              "      <td>0.862954</td>\n",
              "      <td>0.868687</td>\n",
              "      <td>0.879061</td>\n",
              "      <td>0.872236</td>\n",
              "      <td>0.873328</td>\n",
              "      <td>0.870052</td>\n",
              "      <td>0.868414</td>\n",
              "      <td>0.870598</td>\n",
              "      <td>0.868960</td>\n",
              "      <td>0.871093</td>\n",
              "      <td>0.004308</td>\n",
              "      <td>1</td>\n",
              "    </tr>\n",
              "    <tr>\n",
              "      <th>22</th>\n",
              "      <td>4.047359</td>\n",
              "      <td>0.262163</td>\n",
              "      <td>0.173550</td>\n",
              "      <td>0.012051</td>\n",
              "      <td>0.1</td>\n",
              "      <td>50</td>\n",
              "      <td>{'classifier__learning_rate': 0.1, 'classifier...</td>\n",
              "      <td>0.878002</td>\n",
              "      <td>0.858313</td>\n",
              "      <td>0.868960</td>\n",
              "      <td>0.875785</td>\n",
              "      <td>0.870871</td>\n",
              "      <td>0.871417</td>\n",
              "      <td>0.869506</td>\n",
              "      <td>0.870325</td>\n",
              "      <td>0.868414</td>\n",
              "      <td>0.870871</td>\n",
              "      <td>0.870246</td>\n",
              "      <td>0.004909</td>\n",
              "      <td>2</td>\n",
              "    </tr>\n",
              "    <tr>\n",
              "      <th>20</th>\n",
              "      <td>2.667980</td>\n",
              "      <td>0.069736</td>\n",
              "      <td>0.153256</td>\n",
              "      <td>0.031244</td>\n",
              "      <td>0.1</td>\n",
              "      <td>10</td>\n",
              "      <td>{'classifier__learning_rate': 0.1, 'classifier...</td>\n",
              "      <td>0.869814</td>\n",
              "      <td>0.862408</td>\n",
              "      <td>0.868960</td>\n",
              "      <td>0.877150</td>\n",
              "      <td>0.870052</td>\n",
              "      <td>0.870325</td>\n",
              "      <td>0.867868</td>\n",
              "      <td>0.866503</td>\n",
              "      <td>0.870871</td>\n",
              "      <td>0.869233</td>\n",
              "      <td>0.869318</td>\n",
              "      <td>0.003514</td>\n",
              "      <td>3</td>\n",
              "    </tr>\n",
              "    <tr>\n",
              "      <th>23</th>\n",
              "      <td>5.282613</td>\n",
              "      <td>0.429728</td>\n",
              "      <td>0.173044</td>\n",
              "      <td>0.009176</td>\n",
              "      <td>0.1</td>\n",
              "      <td>100</td>\n",
              "      <td>{'classifier__learning_rate': 0.1, 'classifier...</td>\n",
              "      <td>0.875819</td>\n",
              "      <td>0.864046</td>\n",
              "      <td>0.866503</td>\n",
              "      <td>0.873328</td>\n",
              "      <td>0.866230</td>\n",
              "      <td>0.871417</td>\n",
              "      <td>0.870325</td>\n",
              "      <td>0.865138</td>\n",
              "      <td>0.868687</td>\n",
              "      <td>0.867049</td>\n",
              "      <td>0.868854</td>\n",
              "      <td>0.003604</td>\n",
              "      <td>4</td>\n",
              "    </tr>\n",
              "    <tr>\n",
              "      <th>17</th>\n",
              "      <td>7.917051</td>\n",
              "      <td>0.562295</td>\n",
              "      <td>0.235949</td>\n",
              "      <td>0.036695</td>\n",
              "      <td>0.03</td>\n",
              "      <td>100</td>\n",
              "      <td>{'classifier__learning_rate': 0.03, 'classifie...</td>\n",
              "      <td>0.871179</td>\n",
              "      <td>0.861862</td>\n",
              "      <td>0.865138</td>\n",
              "      <td>0.873874</td>\n",
              "      <td>0.868414</td>\n",
              "      <td>0.872509</td>\n",
              "      <td>0.865957</td>\n",
              "      <td>0.866503</td>\n",
              "      <td>0.870052</td>\n",
              "      <td>0.870871</td>\n",
              "      <td>0.868636</td>\n",
              "      <td>0.003547</td>\n",
              "      <td>5</td>\n",
              "    </tr>\n",
              "  </tbody>\n",
              "</table>\n",
              "</div>\n",
              "      <button class=\"colab-df-convert\" onclick=\"convertToInteractive('df-89480638-0f40-4cf2-a3d2-84144e85df62')\"\n",
              "              title=\"Convert this dataframe to an interactive table.\"\n",
              "              style=\"display:none;\">\n",
              "        \n",
              "  <svg xmlns=\"http://www.w3.org/2000/svg\" height=\"24px\"viewBox=\"0 0 24 24\"\n",
              "       width=\"24px\">\n",
              "    <path d=\"M0 0h24v24H0V0z\" fill=\"none\"/>\n",
              "    <path d=\"M18.56 5.44l.94 2.06.94-2.06 2.06-.94-2.06-.94-.94-2.06-.94 2.06-2.06.94zm-11 1L8.5 8.5l.94-2.06 2.06-.94-2.06-.94L8.5 2.5l-.94 2.06-2.06.94zm10 10l.94 2.06.94-2.06 2.06-.94-2.06-.94-.94-2.06-.94 2.06-2.06.94z\"/><path d=\"M17.41 7.96l-1.37-1.37c-.4-.4-.92-.59-1.43-.59-.52 0-1.04.2-1.43.59L10.3 9.45l-7.72 7.72c-.78.78-.78 2.05 0 2.83L4 21.41c.39.39.9.59 1.41.59.51 0 1.02-.2 1.41-.59l7.78-7.78 2.81-2.81c.8-.78.8-2.07 0-2.86zM5.41 20L4 18.59l7.72-7.72 1.47 1.35L5.41 20z\"/>\n",
              "  </svg>\n",
              "      </button>\n",
              "      \n",
              "  <style>\n",
              "    .colab-df-container {\n",
              "      display:flex;\n",
              "      flex-wrap:wrap;\n",
              "      gap: 12px;\n",
              "    }\n",
              "\n",
              "    .colab-df-convert {\n",
              "      background-color: #E8F0FE;\n",
              "      border: none;\n",
              "      border-radius: 50%;\n",
              "      cursor: pointer;\n",
              "      display: none;\n",
              "      fill: #1967D2;\n",
              "      height: 32px;\n",
              "      padding: 0 0 0 0;\n",
              "      width: 32px;\n",
              "    }\n",
              "\n",
              "    .colab-df-convert:hover {\n",
              "      background-color: #E2EBFA;\n",
              "      box-shadow: 0px 1px 2px rgba(60, 64, 67, 0.3), 0px 1px 3px 1px rgba(60, 64, 67, 0.15);\n",
              "      fill: #174EA6;\n",
              "    }\n",
              "\n",
              "    [theme=dark] .colab-df-convert {\n",
              "      background-color: #3B4455;\n",
              "      fill: #D2E3FC;\n",
              "    }\n",
              "\n",
              "    [theme=dark] .colab-df-convert:hover {\n",
              "      background-color: #434B5C;\n",
              "      box-shadow: 0px 1px 3px 1px rgba(0, 0, 0, 0.15);\n",
              "      filter: drop-shadow(0px 1px 2px rgba(0, 0, 0, 0.3));\n",
              "      fill: #FFFFFF;\n",
              "    }\n",
              "  </style>\n",
              "\n",
              "      <script>\n",
              "        const buttonEl =\n",
              "          document.querySelector('#df-89480638-0f40-4cf2-a3d2-84144e85df62 button.colab-df-convert');\n",
              "        buttonEl.style.display =\n",
              "          google.colab.kernel.accessAllowed ? 'block' : 'none';\n",
              "\n",
              "        async function convertToInteractive(key) {\n",
              "          const element = document.querySelector('#df-89480638-0f40-4cf2-a3d2-84144e85df62');\n",
              "          const dataTable =\n",
              "            await google.colab.kernel.invokeFunction('convertToInteractive',\n",
              "                                                     [key], {});\n",
              "          if (!dataTable) return;\n",
              "\n",
              "          const docLinkHtml = 'Like what you see? Visit the ' +\n",
              "            '<a target=\"_blank\" href=https://colab.research.google.com/notebooks/data_table.ipynb>data table notebook</a>'\n",
              "            + ' to learn more about interactive tables.';\n",
              "          element.innerHTML = '';\n",
              "          dataTable['output_type'] = 'display_data';\n",
              "          await google.colab.output.renderOutput(dataTable, element);\n",
              "          const docLink = document.createElement('div');\n",
              "          docLink.innerHTML = docLinkHtml;\n",
              "          element.appendChild(docLink);\n",
              "        }\n",
              "      </script>\n",
              "    </div>\n",
              "  </div>\n",
              "  "
            ],
            "text/plain": [
              "    mean_fit_time  std_fit_time  ...  std_test_score  rank_test_score\n",
              "21       3.301159      0.059939  ...        0.004308                1\n",
              "22       4.047359      0.262163  ...        0.004909                2\n",
              "20       2.667980      0.069736  ...        0.003514                3\n",
              "23       5.282613      0.429728  ...        0.003604                4\n",
              "17       7.917051      0.562295  ...        0.003547                5\n",
              "\n",
              "[5 rows x 20 columns]"
            ]
          },
          "metadata": {},
          "execution_count": 15
        }
      ]
    },
    {
      "cell_type": "markdown",
      "source": [
        "Let us focus on the most interesting columns and shorten the parameter names to remove the \"`param_classifier__`\" prefix for readability:"
      ],
      "metadata": {
        "id": "QveJNsYGbAhI"
      }
    },
    {
      "cell_type": "code",
      "source": [
        "# get the parameter names\n",
        "column_results = [f\"param_{name}\" for name in param_grid.keys()]\n",
        "column_results += [\n",
        "    \"mean_test_score\", \"std_test_score\", \"rank_test_score\"]\n",
        "cv_results = cv_results[column_results]"
      ],
      "metadata": {
        "id": "HtBKLio9asEy"
      },
      "execution_count": 16,
      "outputs": []
    },
    {
      "cell_type": "code",
      "source": [
        "def shorten_param(param_name):\n",
        "    if \"__\" in param_name:\n",
        "        return param_name.rsplit(\"__\", 1)[1]\n",
        "    return param_name\n",
        "\n",
        "\n",
        "cv_results = cv_results.rename(shorten_param, axis=1)\n",
        "cv_results"
      ],
      "metadata": {
        "colab": {
          "base_uri": "https://localhost:8080/",
          "height": 1000
        },
        "id": "mEvtUTY_bQuS",
        "outputId": "1a706517-c8e1-49c4-c0f1-992b5f6738af"
      },
      "execution_count": 17,
      "outputs": [
        {
          "output_type": "execute_result",
          "data": {
            "text/html": [
              "\n",
              "  <div id=\"df-251e14b9-0cac-4ced-800c-d3d7762fe27a\">\n",
              "    <div class=\"colab-df-container\">\n",
              "      <div>\n",
              "<style scoped>\n",
              "    .dataframe tbody tr th:only-of-type {\n",
              "        vertical-align: middle;\n",
              "    }\n",
              "\n",
              "    .dataframe tbody tr th {\n",
              "        vertical-align: top;\n",
              "    }\n",
              "\n",
              "    .dataframe thead th {\n",
              "        text-align: right;\n",
              "    }\n",
              "</style>\n",
              "<table border=\"1\" class=\"dataframe\">\n",
              "  <thead>\n",
              "    <tr style=\"text-align: right;\">\n",
              "      <th></th>\n",
              "      <th>learning_rate</th>\n",
              "      <th>max_leaf_nodes</th>\n",
              "      <th>mean_test_score</th>\n",
              "      <th>std_test_score</th>\n",
              "      <th>rank_test_score</th>\n",
              "    </tr>\n",
              "  </thead>\n",
              "  <tbody>\n",
              "    <tr>\n",
              "      <th>21</th>\n",
              "      <td>0.1</td>\n",
              "      <td>20</td>\n",
              "      <td>0.871093</td>\n",
              "      <td>0.004308</td>\n",
              "      <td>1</td>\n",
              "    </tr>\n",
              "    <tr>\n",
              "      <th>22</th>\n",
              "      <td>0.1</td>\n",
              "      <td>50</td>\n",
              "      <td>0.870246</td>\n",
              "      <td>0.004909</td>\n",
              "      <td>2</td>\n",
              "    </tr>\n",
              "    <tr>\n",
              "      <th>20</th>\n",
              "      <td>0.1</td>\n",
              "      <td>10</td>\n",
              "      <td>0.869318</td>\n",
              "      <td>0.003514</td>\n",
              "      <td>3</td>\n",
              "    </tr>\n",
              "    <tr>\n",
              "      <th>23</th>\n",
              "      <td>0.1</td>\n",
              "      <td>100</td>\n",
              "      <td>0.868854</td>\n",
              "      <td>0.003604</td>\n",
              "      <td>4</td>\n",
              "    </tr>\n",
              "    <tr>\n",
              "      <th>17</th>\n",
              "      <td>0.03</td>\n",
              "      <td>100</td>\n",
              "      <td>0.868636</td>\n",
              "      <td>0.003547</td>\n",
              "      <td>5</td>\n",
              "    </tr>\n",
              "    <tr>\n",
              "      <th>16</th>\n",
              "      <td>0.03</td>\n",
              "      <td>50</td>\n",
              "      <td>0.868254</td>\n",
              "      <td>0.004740</td>\n",
              "      <td>6</td>\n",
              "    </tr>\n",
              "    <tr>\n",
              "      <th>25</th>\n",
              "      <td>1</td>\n",
              "      <td>4</td>\n",
              "      <td>0.864159</td>\n",
              "      <td>0.004427</td>\n",
              "      <td>7</td>\n",
              "    </tr>\n",
              "    <tr>\n",
              "      <th>24</th>\n",
              "      <td>1</td>\n",
              "      <td>2</td>\n",
              "      <td>0.863804</td>\n",
              "      <td>0.004183</td>\n",
              "      <td>8</td>\n",
              "    </tr>\n",
              "    <tr>\n",
              "      <th>15</th>\n",
              "      <td>0.03</td>\n",
              "      <td>20</td>\n",
              "      <td>0.863012</td>\n",
              "      <td>0.004167</td>\n",
              "      <td>9</td>\n",
              "    </tr>\n",
              "    <tr>\n",
              "      <th>26</th>\n",
              "      <td>1</td>\n",
              "      <td>10</td>\n",
              "      <td>0.862439</td>\n",
              "      <td>0.004008</td>\n",
              "      <td>10</td>\n",
              "    </tr>\n",
              "    <tr>\n",
              "      <th>27</th>\n",
              "      <td>1</td>\n",
              "      <td>20</td>\n",
              "      <td>0.860282</td>\n",
              "      <td>0.003639</td>\n",
              "      <td>11</td>\n",
              "    </tr>\n",
              "    <tr>\n",
              "      <th>19</th>\n",
              "      <td>0.1</td>\n",
              "      <td>4</td>\n",
              "      <td>0.860228</td>\n",
              "      <td>0.004890</td>\n",
              "      <td>12</td>\n",
              "    </tr>\n",
              "    <tr>\n",
              "      <th>14</th>\n",
              "      <td>0.03</td>\n",
              "      <td>10</td>\n",
              "      <td>0.855860</td>\n",
              "      <td>0.004653</td>\n",
              "      <td>13</td>\n",
              "    </tr>\n",
              "    <tr>\n",
              "      <th>11</th>\n",
              "      <td>0.01</td>\n",
              "      <td>100</td>\n",
              "      <td>0.851847</td>\n",
              "      <td>0.003150</td>\n",
              "      <td>14</td>\n",
              "    </tr>\n",
              "    <tr>\n",
              "      <th>28</th>\n",
              "      <td>1</td>\n",
              "      <td>50</td>\n",
              "      <td>0.851410</td>\n",
              "      <td>0.005706</td>\n",
              "      <td>15</td>\n",
              "    </tr>\n",
              "    <tr>\n",
              "      <th>10</th>\n",
              "      <td>0.01</td>\n",
              "      <td>50</td>\n",
              "      <td>0.850291</td>\n",
              "      <td>0.003312</td>\n",
              "      <td>16</td>\n",
              "    </tr>\n",
              "    <tr>\n",
              "      <th>29</th>\n",
              "      <td>1</td>\n",
              "      <td>100</td>\n",
              "      <td>0.844558</td>\n",
              "      <td>0.004290</td>\n",
              "      <td>17</td>\n",
              "    </tr>\n",
              "    <tr>\n",
              "      <th>9</th>\n",
              "      <td>0.01</td>\n",
              "      <td>20</td>\n",
              "      <td>0.842811</td>\n",
              "      <td>0.002529</td>\n",
              "      <td>18</td>\n",
              "    </tr>\n",
              "    <tr>\n",
              "      <th>18</th>\n",
              "      <td>0.1</td>\n",
              "      <td>2</td>\n",
              "      <td>0.824602</td>\n",
              "      <td>0.003069</td>\n",
              "      <td>19</td>\n",
              "    </tr>\n",
              "    <tr>\n",
              "      <th>13</th>\n",
              "      <td>0.03</td>\n",
              "      <td>4</td>\n",
              "      <td>0.823674</td>\n",
              "      <td>0.003106</td>\n",
              "      <td>20</td>\n",
              "    </tr>\n",
              "    <tr>\n",
              "      <th>8</th>\n",
              "      <td>0.01</td>\n",
              "      <td>10</td>\n",
              "      <td>0.818214</td>\n",
              "      <td>0.003207</td>\n",
              "      <td>21</td>\n",
              "    </tr>\n",
              "    <tr>\n",
              "      <th>12</th>\n",
              "      <td>0.03</td>\n",
              "      <td>2</td>\n",
              "      <td>0.799650</td>\n",
              "      <td>0.002499</td>\n",
              "      <td>22</td>\n",
              "    </tr>\n",
              "    <tr>\n",
              "      <th>7</th>\n",
              "      <td>0.01</td>\n",
              "      <td>4</td>\n",
              "      <td>0.797248</td>\n",
              "      <td>0.002708</td>\n",
              "      <td>23</td>\n",
              "    </tr>\n",
              "    <tr>\n",
              "      <th>6</th>\n",
              "      <td>0.01</td>\n",
              "      <td>2</td>\n",
              "      <td>0.787830</td>\n",
              "      <td>0.003002</td>\n",
              "      <td>24</td>\n",
              "    </tr>\n",
              "    <tr>\n",
              "      <th>32</th>\n",
              "      <td>10</td>\n",
              "      <td>10</td>\n",
              "      <td>0.770085</td>\n",
              "      <td>0.029546</td>\n",
              "      <td>25</td>\n",
              "    </tr>\n",
              "    <tr>\n",
              "      <th>0</th>\n",
              "      <td>0.001</td>\n",
              "      <td>2</td>\n",
              "      <td>0.758947</td>\n",
              "      <td>0.000020</td>\n",
              "      <td>26</td>\n",
              "    </tr>\n",
              "    <tr>\n",
              "      <th>1</th>\n",
              "      <td>0.001</td>\n",
              "      <td>4</td>\n",
              "      <td>0.758947</td>\n",
              "      <td>0.000020</td>\n",
              "      <td>26</td>\n",
              "    </tr>\n",
              "    <tr>\n",
              "      <th>5</th>\n",
              "      <td>0.001</td>\n",
              "      <td>100</td>\n",
              "      <td>0.758947</td>\n",
              "      <td>0.000020</td>\n",
              "      <td>26</td>\n",
              "    </tr>\n",
              "    <tr>\n",
              "      <th>4</th>\n",
              "      <td>0.001</td>\n",
              "      <td>50</td>\n",
              "      <td>0.758947</td>\n",
              "      <td>0.000020</td>\n",
              "      <td>26</td>\n",
              "    </tr>\n",
              "    <tr>\n",
              "      <th>3</th>\n",
              "      <td>0.001</td>\n",
              "      <td>20</td>\n",
              "      <td>0.758947</td>\n",
              "      <td>0.000020</td>\n",
              "      <td>26</td>\n",
              "    </tr>\n",
              "    <tr>\n",
              "      <th>2</th>\n",
              "      <td>0.001</td>\n",
              "      <td>10</td>\n",
              "      <td>0.758947</td>\n",
              "      <td>0.000020</td>\n",
              "      <td>26</td>\n",
              "    </tr>\n",
              "    <tr>\n",
              "      <th>35</th>\n",
              "      <td>10</td>\n",
              "      <td>100</td>\n",
              "      <td>0.727062</td>\n",
              "      <td>0.046983</td>\n",
              "      <td>32</td>\n",
              "    </tr>\n",
              "    <tr>\n",
              "      <th>34</th>\n",
              "      <td>10</td>\n",
              "      <td>50</td>\n",
              "      <td>0.673728</td>\n",
              "      <td>0.118202</td>\n",
              "      <td>33</td>\n",
              "    </tr>\n",
              "    <tr>\n",
              "      <th>33</th>\n",
              "      <td>10</td>\n",
              "      <td>20</td>\n",
              "      <td>0.292840</td>\n",
              "      <td>0.100254</td>\n",
              "      <td>34</td>\n",
              "    </tr>\n",
              "    <tr>\n",
              "      <th>30</th>\n",
              "      <td>10</td>\n",
              "      <td>2</td>\n",
              "      <td>0.283476</td>\n",
              "      <td>0.007932</td>\n",
              "      <td>35</td>\n",
              "    </tr>\n",
              "    <tr>\n",
              "      <th>31</th>\n",
              "      <td>10</td>\n",
              "      <td>4</td>\n",
              "      <td>0.283476</td>\n",
              "      <td>0.007932</td>\n",
              "      <td>35</td>\n",
              "    </tr>\n",
              "  </tbody>\n",
              "</table>\n",
              "</div>\n",
              "      <button class=\"colab-df-convert\" onclick=\"convertToInteractive('df-251e14b9-0cac-4ced-800c-d3d7762fe27a')\"\n",
              "              title=\"Convert this dataframe to an interactive table.\"\n",
              "              style=\"display:none;\">\n",
              "        \n",
              "  <svg xmlns=\"http://www.w3.org/2000/svg\" height=\"24px\"viewBox=\"0 0 24 24\"\n",
              "       width=\"24px\">\n",
              "    <path d=\"M0 0h24v24H0V0z\" fill=\"none\"/>\n",
              "    <path d=\"M18.56 5.44l.94 2.06.94-2.06 2.06-.94-2.06-.94-.94-2.06-.94 2.06-2.06.94zm-11 1L8.5 8.5l.94-2.06 2.06-.94-2.06-.94L8.5 2.5l-.94 2.06-2.06.94zm10 10l.94 2.06.94-2.06 2.06-.94-2.06-.94-.94-2.06-.94 2.06-2.06.94z\"/><path d=\"M17.41 7.96l-1.37-1.37c-.4-.4-.92-.59-1.43-.59-.52 0-1.04.2-1.43.59L10.3 9.45l-7.72 7.72c-.78.78-.78 2.05 0 2.83L4 21.41c.39.39.9.59 1.41.59.51 0 1.02-.2 1.41-.59l7.78-7.78 2.81-2.81c.8-.78.8-2.07 0-2.86zM5.41 20L4 18.59l7.72-7.72 1.47 1.35L5.41 20z\"/>\n",
              "  </svg>\n",
              "      </button>\n",
              "      \n",
              "  <style>\n",
              "    .colab-df-container {\n",
              "      display:flex;\n",
              "      flex-wrap:wrap;\n",
              "      gap: 12px;\n",
              "    }\n",
              "\n",
              "    .colab-df-convert {\n",
              "      background-color: #E8F0FE;\n",
              "      border: none;\n",
              "      border-radius: 50%;\n",
              "      cursor: pointer;\n",
              "      display: none;\n",
              "      fill: #1967D2;\n",
              "      height: 32px;\n",
              "      padding: 0 0 0 0;\n",
              "      width: 32px;\n",
              "    }\n",
              "\n",
              "    .colab-df-convert:hover {\n",
              "      background-color: #E2EBFA;\n",
              "      box-shadow: 0px 1px 2px rgba(60, 64, 67, 0.3), 0px 1px 3px 1px rgba(60, 64, 67, 0.15);\n",
              "      fill: #174EA6;\n",
              "    }\n",
              "\n",
              "    [theme=dark] .colab-df-convert {\n",
              "      background-color: #3B4455;\n",
              "      fill: #D2E3FC;\n",
              "    }\n",
              "\n",
              "    [theme=dark] .colab-df-convert:hover {\n",
              "      background-color: #434B5C;\n",
              "      box-shadow: 0px 1px 3px 1px rgba(0, 0, 0, 0.15);\n",
              "      filter: drop-shadow(0px 1px 2px rgba(0, 0, 0, 0.3));\n",
              "      fill: #FFFFFF;\n",
              "    }\n",
              "  </style>\n",
              "\n",
              "      <script>\n",
              "        const buttonEl =\n",
              "          document.querySelector('#df-251e14b9-0cac-4ced-800c-d3d7762fe27a button.colab-df-convert');\n",
              "        buttonEl.style.display =\n",
              "          google.colab.kernel.accessAllowed ? 'block' : 'none';\n",
              "\n",
              "        async function convertToInteractive(key) {\n",
              "          const element = document.querySelector('#df-251e14b9-0cac-4ced-800c-d3d7762fe27a');\n",
              "          const dataTable =\n",
              "            await google.colab.kernel.invokeFunction('convertToInteractive',\n",
              "                                                     [key], {});\n",
              "          if (!dataTable) return;\n",
              "\n",
              "          const docLinkHtml = 'Like what you see? Visit the ' +\n",
              "            '<a target=\"_blank\" href=https://colab.research.google.com/notebooks/data_table.ipynb>data table notebook</a>'\n",
              "            + ' to learn more about interactive tables.';\n",
              "          element.innerHTML = '';\n",
              "          dataTable['output_type'] = 'display_data';\n",
              "          await google.colab.output.renderOutput(dataTable, element);\n",
              "          const docLink = document.createElement('div');\n",
              "          docLink.innerHTML = docLinkHtml;\n",
              "          element.appendChild(docLink);\n",
              "        }\n",
              "      </script>\n",
              "    </div>\n",
              "  </div>\n",
              "  "
            ],
            "text/plain": [
              "   learning_rate max_leaf_nodes  ...  std_test_score  rank_test_score\n",
              "21           0.1             20  ...        0.004308                1\n",
              "22           0.1             50  ...        0.004909                2\n",
              "20           0.1             10  ...        0.003514                3\n",
              "23           0.1            100  ...        0.003604                4\n",
              "17          0.03            100  ...        0.003547                5\n",
              "16          0.03             50  ...        0.004740                6\n",
              "25             1              4  ...        0.004427                7\n",
              "24             1              2  ...        0.004183                8\n",
              "15          0.03             20  ...        0.004167                9\n",
              "26             1             10  ...        0.004008               10\n",
              "27             1             20  ...        0.003639               11\n",
              "19           0.1              4  ...        0.004890               12\n",
              "14          0.03             10  ...        0.004653               13\n",
              "11          0.01            100  ...        0.003150               14\n",
              "28             1             50  ...        0.005706               15\n",
              "10          0.01             50  ...        0.003312               16\n",
              "29             1            100  ...        0.004290               17\n",
              "9           0.01             20  ...        0.002529               18\n",
              "18           0.1              2  ...        0.003069               19\n",
              "13          0.03              4  ...        0.003106               20\n",
              "8           0.01             10  ...        0.003207               21\n",
              "12          0.03              2  ...        0.002499               22\n",
              "7           0.01              4  ...        0.002708               23\n",
              "6           0.01              2  ...        0.003002               24\n",
              "32            10             10  ...        0.029546               25\n",
              "0          0.001              2  ...        0.000020               26\n",
              "1          0.001              4  ...        0.000020               26\n",
              "5          0.001            100  ...        0.000020               26\n",
              "4          0.001             50  ...        0.000020               26\n",
              "3          0.001             20  ...        0.000020               26\n",
              "2          0.001             10  ...        0.000020               26\n",
              "35            10            100  ...        0.046983               32\n",
              "34            10             50  ...        0.118202               33\n",
              "33            10             20  ...        0.100254               34\n",
              "30            10              2  ...        0.007932               35\n",
              "31            10              4  ...        0.007932               35\n",
              "\n",
              "[36 rows x 5 columns]"
            ]
          },
          "metadata": {},
          "execution_count": 17
        }
      ]
    },
    {
      "cell_type": "markdown",
      "source": [
        "With only 2 parameters, we might want to visualize the grid-search as a heatmap. We need to transform our cv_results into a dataframe where:\n",
        "\n",
        "- the rows will correspond to the learning-rate values;\n",
        "- the columns will correspond to the maximum number of leaf;\n",
        "- the content of the dataframe will be the mean test scores."
      ],
      "metadata": {
        "id": "kUTBweEZbtjp"
      }
    },
    {
      "cell_type": "code",
      "source": [
        ""
      ],
      "metadata": {
        "id": "q0lJpyDybXb0"
      },
      "execution_count": null,
      "outputs": []
    }
  ]
}