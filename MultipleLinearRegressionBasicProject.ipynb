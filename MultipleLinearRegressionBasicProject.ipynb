{
  "nbformat": 4,
  "nbformat_minor": 0,
  "metadata": {
    "colab": {
      "name": "MultipleLinearRegressionBasicProject.ipynb",
      "provenance": [],
      "authorship_tag": "ABX9TyPr1jlRyGMA9sAJwde59Lfi",
      "include_colab_link": true
    },
    "kernelspec": {
      "name": "python3",
      "display_name": "Python 3"
    },
    "language_info": {
      "name": "python"
    }
  },
  "cells": [
    {
      "cell_type": "markdown",
      "metadata": {
        "id": "view-in-github",
        "colab_type": "text"
      },
      "source": [
        "<a href=\"https://colab.research.google.com/github/dajebbar/FreeCodeCamp-python-data-analysis/blob/main/MultipleLinearRegressionBasicProject.ipynb\" target=\"_parent\"><img src=\"https://colab.research.google.com/assets/colab-badge.svg\" alt=\"Open In Colab\"/></a>"
      ]
    },
    {
      "cell_type": "markdown",
      "source": [
        "# 50 Startups\n",
        "This dataset has data collected from New York, California and Florida about 50 business Startups \"17 in each state\". The variables used in the dataset are Profit, R&D spending, Administration Spending, and Marketing Spending.\n",
        "\n",
        "## Objectif:\n",
        "Predict the profit of startups."
      ],
      "metadata": {
        "id": "ohTZPmVtFB_r"
      }
    },
    {
      "cell_type": "markdown",
      "source": [
        "## Import Libraries and dataset"
      ],
      "metadata": {
        "id": "haImtvveF4dd"
      }
    },
    {
      "cell_type": "code",
      "execution_count": 1,
      "metadata": {
        "id": "27aRXyIeE8FK"
      },
      "outputs": [],
      "source": [
        "!pip install opendatasets --upgrade --quiet"
      ]
    },
    {
      "cell_type": "code",
      "source": [
        "import pandas as pd\n",
        "import numpy as np\n",
        "import matplotlib.pyplot as plt\n",
        "import missingno as msno\n",
        "import opendatasets as od\n",
        "plt.style.use('fivethirtyeight')\n",
        "%matplotlib inline"
      ],
      "metadata": {
        "id": "RPo8CWVxGLVV"
      },
      "execution_count": 2,
      "outputs": []
    },
    {
      "cell_type": "code",
      "source": [
        "url = 'https://www.kaggle.com/farhanmd29/50-startups'\n",
        "od.download(url)"
      ],
      "metadata": {
        "colab": {
          "base_uri": "https://localhost:8080/"
        },
        "id": "_J2FZWfSGvcb",
        "outputId": "472fe409-91cb-44a0-9823-9301b5581532"
      },
      "execution_count": 3,
      "outputs": [
        {
          "output_type": "stream",
          "name": "stdout",
          "text": [
            "Skipping, found downloaded files in \"./50-startups\" (use force=True to force download)\n"
          ]
        }
      ]
    },
    {
      "cell_type": "code",
      "source": [
        "startup = pd.read_csv('./50-startups/50_Startups.csv')\n",
        "startup.head()"
      ],
      "metadata": {
        "colab": {
          "base_uri": "https://localhost:8080/",
          "height": 206
        },
        "id": "qBvo1z7cHC-c",
        "outputId": "e5792541-53e6-439a-8aa0-34cfe6ffb726"
      },
      "execution_count": 4,
      "outputs": [
        {
          "output_type": "execute_result",
          "data": {
            "text/html": [
              "\n",
              "  <div id=\"df-fa6e3353-c7ee-45b6-999c-20473d6f54b5\">\n",
              "    <div class=\"colab-df-container\">\n",
              "      <div>\n",
              "<style scoped>\n",
              "    .dataframe tbody tr th:only-of-type {\n",
              "        vertical-align: middle;\n",
              "    }\n",
              "\n",
              "    .dataframe tbody tr th {\n",
              "        vertical-align: top;\n",
              "    }\n",
              "\n",
              "    .dataframe thead th {\n",
              "        text-align: right;\n",
              "    }\n",
              "</style>\n",
              "<table border=\"1\" class=\"dataframe\">\n",
              "  <thead>\n",
              "    <tr style=\"text-align: right;\">\n",
              "      <th></th>\n",
              "      <th>R&amp;D Spend</th>\n",
              "      <th>Administration</th>\n",
              "      <th>Marketing Spend</th>\n",
              "      <th>State</th>\n",
              "      <th>Profit</th>\n",
              "    </tr>\n",
              "  </thead>\n",
              "  <tbody>\n",
              "    <tr>\n",
              "      <th>0</th>\n",
              "      <td>165349.20</td>\n",
              "      <td>136897.80</td>\n",
              "      <td>471784.10</td>\n",
              "      <td>New York</td>\n",
              "      <td>192261.83</td>\n",
              "    </tr>\n",
              "    <tr>\n",
              "      <th>1</th>\n",
              "      <td>162597.70</td>\n",
              "      <td>151377.59</td>\n",
              "      <td>443898.53</td>\n",
              "      <td>California</td>\n",
              "      <td>191792.06</td>\n",
              "    </tr>\n",
              "    <tr>\n",
              "      <th>2</th>\n",
              "      <td>153441.51</td>\n",
              "      <td>101145.55</td>\n",
              "      <td>407934.54</td>\n",
              "      <td>Florida</td>\n",
              "      <td>191050.39</td>\n",
              "    </tr>\n",
              "    <tr>\n",
              "      <th>3</th>\n",
              "      <td>144372.41</td>\n",
              "      <td>118671.85</td>\n",
              "      <td>383199.62</td>\n",
              "      <td>New York</td>\n",
              "      <td>182901.99</td>\n",
              "    </tr>\n",
              "    <tr>\n",
              "      <th>4</th>\n",
              "      <td>142107.34</td>\n",
              "      <td>91391.77</td>\n",
              "      <td>366168.42</td>\n",
              "      <td>Florida</td>\n",
              "      <td>166187.94</td>\n",
              "    </tr>\n",
              "  </tbody>\n",
              "</table>\n",
              "</div>\n",
              "      <button class=\"colab-df-convert\" onclick=\"convertToInteractive('df-fa6e3353-c7ee-45b6-999c-20473d6f54b5')\"\n",
              "              title=\"Convert this dataframe to an interactive table.\"\n",
              "              style=\"display:none;\">\n",
              "        \n",
              "  <svg xmlns=\"http://www.w3.org/2000/svg\" height=\"24px\"viewBox=\"0 0 24 24\"\n",
              "       width=\"24px\">\n",
              "    <path d=\"M0 0h24v24H0V0z\" fill=\"none\"/>\n",
              "    <path d=\"M18.56 5.44l.94 2.06.94-2.06 2.06-.94-2.06-.94-.94-2.06-.94 2.06-2.06.94zm-11 1L8.5 8.5l.94-2.06 2.06-.94-2.06-.94L8.5 2.5l-.94 2.06-2.06.94zm10 10l.94 2.06.94-2.06 2.06-.94-2.06-.94-.94-2.06-.94 2.06-2.06.94z\"/><path d=\"M17.41 7.96l-1.37-1.37c-.4-.4-.92-.59-1.43-.59-.52 0-1.04.2-1.43.59L10.3 9.45l-7.72 7.72c-.78.78-.78 2.05 0 2.83L4 21.41c.39.39.9.59 1.41.59.51 0 1.02-.2 1.41-.59l7.78-7.78 2.81-2.81c.8-.78.8-2.07 0-2.86zM5.41 20L4 18.59l7.72-7.72 1.47 1.35L5.41 20z\"/>\n",
              "  </svg>\n",
              "      </button>\n",
              "      \n",
              "  <style>\n",
              "    .colab-df-container {\n",
              "      display:flex;\n",
              "      flex-wrap:wrap;\n",
              "      gap: 12px;\n",
              "    }\n",
              "\n",
              "    .colab-df-convert {\n",
              "      background-color: #E8F0FE;\n",
              "      border: none;\n",
              "      border-radius: 50%;\n",
              "      cursor: pointer;\n",
              "      display: none;\n",
              "      fill: #1967D2;\n",
              "      height: 32px;\n",
              "      padding: 0 0 0 0;\n",
              "      width: 32px;\n",
              "    }\n",
              "\n",
              "    .colab-df-convert:hover {\n",
              "      background-color: #E2EBFA;\n",
              "      box-shadow: 0px 1px 2px rgba(60, 64, 67, 0.3), 0px 1px 3px 1px rgba(60, 64, 67, 0.15);\n",
              "      fill: #174EA6;\n",
              "    }\n",
              "\n",
              "    [theme=dark] .colab-df-convert {\n",
              "      background-color: #3B4455;\n",
              "      fill: #D2E3FC;\n",
              "    }\n",
              "\n",
              "    [theme=dark] .colab-df-convert:hover {\n",
              "      background-color: #434B5C;\n",
              "      box-shadow: 0px 1px 3px 1px rgba(0, 0, 0, 0.15);\n",
              "      filter: drop-shadow(0px 1px 2px rgba(0, 0, 0, 0.3));\n",
              "      fill: #FFFFFF;\n",
              "    }\n",
              "  </style>\n",
              "\n",
              "      <script>\n",
              "        const buttonEl =\n",
              "          document.querySelector('#df-fa6e3353-c7ee-45b6-999c-20473d6f54b5 button.colab-df-convert');\n",
              "        buttonEl.style.display =\n",
              "          google.colab.kernel.accessAllowed ? 'block' : 'none';\n",
              "\n",
              "        async function convertToInteractive(key) {\n",
              "          const element = document.querySelector('#df-fa6e3353-c7ee-45b6-999c-20473d6f54b5');\n",
              "          const dataTable =\n",
              "            await google.colab.kernel.invokeFunction('convertToInteractive',\n",
              "                                                     [key], {});\n",
              "          if (!dataTable) return;\n",
              "\n",
              "          const docLinkHtml = 'Like what you see? Visit the ' +\n",
              "            '<a target=\"_blank\" href=https://colab.research.google.com/notebooks/data_table.ipynb>data table notebook</a>'\n",
              "            + ' to learn more about interactive tables.';\n",
              "          element.innerHTML = '';\n",
              "          dataTable['output_type'] = 'display_data';\n",
              "          await google.colab.output.renderOutput(dataTable, element);\n",
              "          const docLink = document.createElement('div');\n",
              "          docLink.innerHTML = docLinkHtml;\n",
              "          element.appendChild(docLink);\n",
              "        }\n",
              "      </script>\n",
              "    </div>\n",
              "  </div>\n",
              "  "
            ],
            "text/plain": [
              "   R&D Spend  Administration  Marketing Spend       State     Profit\n",
              "0  165349.20       136897.80        471784.10    New York  192261.83\n",
              "1  162597.70       151377.59        443898.53  California  191792.06\n",
              "2  153441.51       101145.55        407934.54     Florida  191050.39\n",
              "3  144372.41       118671.85        383199.62    New York  182901.99\n",
              "4  142107.34        91391.77        366168.42     Florida  166187.94"
            ]
          },
          "metadata": {},
          "execution_count": 4
        }
      ]
    },
    {
      "cell_type": "code",
      "source": [
        "# Clean columns\n",
        "def clean(col):\n",
        "  return col.replace('R&D Spend', 'RD_Spend').replace(\n",
        "      'Marketing Spend', 'Marketing_Spend')\n",
        "\n",
        "startup = startup.rename(columns=clean)\n",
        "startup.columns\n"
      ],
      "metadata": {
        "colab": {
          "base_uri": "https://localhost:8080/"
        },
        "id": "RvFHyO_4HT9g",
        "outputId": "81536cab-a34e-4d42-a872-2a4510d0ab12"
      },
      "execution_count": 5,
      "outputs": [
        {
          "output_type": "execute_result",
          "data": {
            "text/plain": [
              "Index(['RD_Spend', 'Administration', 'Marketing_Spend', 'State', 'Profit'], dtype='object')"
            ]
          },
          "metadata": {},
          "execution_count": 5
        }
      ]
    },
    {
      "cell_type": "code",
      "source": [
        "# Data shape\n",
        "startup.shape"
      ],
      "metadata": {
        "colab": {
          "base_uri": "https://localhost:8080/"
        },
        "id": "bl4SBOK-I6CQ",
        "outputId": "9cb86eb0-0179-4554-b1cb-2521139376a8"
      },
      "execution_count": 6,
      "outputs": [
        {
          "output_type": "execute_result",
          "data": {
            "text/plain": [
              "(50, 5)"
            ]
          },
          "metadata": {},
          "execution_count": 6
        }
      ]
    },
    {
      "cell_type": "code",
      "source": [
        "startup.info()"
      ],
      "metadata": {
        "colab": {
          "base_uri": "https://localhost:8080/"
        },
        "id": "S2PqRletJMlB",
        "outputId": "f98fa33d-b083-47e9-d40c-6f287d3565af"
      },
      "execution_count": 7,
      "outputs": [
        {
          "output_type": "stream",
          "name": "stdout",
          "text": [
            "<class 'pandas.core.frame.DataFrame'>\n",
            "RangeIndex: 50 entries, 0 to 49\n",
            "Data columns (total 5 columns):\n",
            " #   Column           Non-Null Count  Dtype  \n",
            "---  ------           --------------  -----  \n",
            " 0   RD_Spend         50 non-null     float64\n",
            " 1   Administration   50 non-null     float64\n",
            " 2   Marketing_Spend  50 non-null     float64\n",
            " 3   State            50 non-null     object \n",
            " 4   Profit           50 non-null     float64\n",
            "dtypes: float64(4), object(1)\n",
            "memory usage: 2.1+ KB\n"
          ]
        }
      ]
    },
    {
      "cell_type": "code",
      "source": [
        "startup.duplicated().any()"
      ],
      "metadata": {
        "colab": {
          "base_uri": "https://localhost:8080/"
        },
        "id": "S_RwsqavJTq6",
        "outputId": "2a0ed327-cd83-424b-d328-58ddc59835a7"
      },
      "execution_count": 8,
      "outputs": [
        {
          "output_type": "execute_result",
          "data": {
            "text/plain": [
              "False"
            ]
          },
          "metadata": {},
          "execution_count": 8
        }
      ]
    },
    {
      "cell_type": "code",
      "source": [
        "startup.isna().sum()"
      ],
      "metadata": {
        "colab": {
          "base_uri": "https://localhost:8080/"
        },
        "id": "Bb6u8WTzKaIh",
        "outputId": "4b5ab183-8225-4a3b-dc9f-314e94567656"
      },
      "execution_count": 9,
      "outputs": [
        {
          "output_type": "execute_result",
          "data": {
            "text/plain": [
              "RD_Spend           0\n",
              "Administration     0\n",
              "Marketing_Spend    0\n",
              "State              0\n",
              "Profit             0\n",
              "dtype: int64"
            ]
          },
          "metadata": {},
          "execution_count": 9
        }
      ]
    },
    {
      "cell_type": "code",
      "source": [
        "startup.State.value_counts()"
      ],
      "metadata": {
        "colab": {
          "base_uri": "https://localhost:8080/"
        },
        "id": "zoZmpZKzKmk1",
        "outputId": "f4d11504-9dd0-417e-e76f-382820214f8a"
      },
      "execution_count": 10,
      "outputs": [
        {
          "output_type": "execute_result",
          "data": {
            "text/plain": [
              "New York      17\n",
              "California    17\n",
              "Florida       16\n",
              "Name: State, dtype: int64"
            ]
          },
          "metadata": {},
          "execution_count": 10
        }
      ]
    },
    {
      "cell_type": "code",
      "source": [
        "startup.describe().T"
      ],
      "metadata": {
        "colab": {
          "base_uri": "https://localhost:8080/",
          "height": 175
        },
        "id": "DD7IqvqzKsHF",
        "outputId": "e979406e-a121-4a1c-ce1b-82fd101534f3"
      },
      "execution_count": 11,
      "outputs": [
        {
          "output_type": "execute_result",
          "data": {
            "text/html": [
              "\n",
              "  <div id=\"df-2c1977be-6607-44f9-a636-a2303847f365\">\n",
              "    <div class=\"colab-df-container\">\n",
              "      <div>\n",
              "<style scoped>\n",
              "    .dataframe tbody tr th:only-of-type {\n",
              "        vertical-align: middle;\n",
              "    }\n",
              "\n",
              "    .dataframe tbody tr th {\n",
              "        vertical-align: top;\n",
              "    }\n",
              "\n",
              "    .dataframe thead th {\n",
              "        text-align: right;\n",
              "    }\n",
              "</style>\n",
              "<table border=\"1\" class=\"dataframe\">\n",
              "  <thead>\n",
              "    <tr style=\"text-align: right;\">\n",
              "      <th></th>\n",
              "      <th>count</th>\n",
              "      <th>mean</th>\n",
              "      <th>std</th>\n",
              "      <th>min</th>\n",
              "      <th>25%</th>\n",
              "      <th>50%</th>\n",
              "      <th>75%</th>\n",
              "      <th>max</th>\n",
              "    </tr>\n",
              "  </thead>\n",
              "  <tbody>\n",
              "    <tr>\n",
              "      <th>RD_Spend</th>\n",
              "      <td>50.0</td>\n",
              "      <td>73721.6156</td>\n",
              "      <td>45902.256482</td>\n",
              "      <td>0.00</td>\n",
              "      <td>39936.3700</td>\n",
              "      <td>73051.080</td>\n",
              "      <td>101602.8000</td>\n",
              "      <td>165349.20</td>\n",
              "    </tr>\n",
              "    <tr>\n",
              "      <th>Administration</th>\n",
              "      <td>50.0</td>\n",
              "      <td>121344.6396</td>\n",
              "      <td>28017.802755</td>\n",
              "      <td>51283.14</td>\n",
              "      <td>103730.8750</td>\n",
              "      <td>122699.795</td>\n",
              "      <td>144842.1800</td>\n",
              "      <td>182645.56</td>\n",
              "    </tr>\n",
              "    <tr>\n",
              "      <th>Marketing_Spend</th>\n",
              "      <td>50.0</td>\n",
              "      <td>211025.0978</td>\n",
              "      <td>122290.310726</td>\n",
              "      <td>0.00</td>\n",
              "      <td>129300.1325</td>\n",
              "      <td>212716.240</td>\n",
              "      <td>299469.0850</td>\n",
              "      <td>471784.10</td>\n",
              "    </tr>\n",
              "    <tr>\n",
              "      <th>Profit</th>\n",
              "      <td>50.0</td>\n",
              "      <td>112012.6392</td>\n",
              "      <td>40306.180338</td>\n",
              "      <td>14681.40</td>\n",
              "      <td>90138.9025</td>\n",
              "      <td>107978.190</td>\n",
              "      <td>139765.9775</td>\n",
              "      <td>192261.83</td>\n",
              "    </tr>\n",
              "  </tbody>\n",
              "</table>\n",
              "</div>\n",
              "      <button class=\"colab-df-convert\" onclick=\"convertToInteractive('df-2c1977be-6607-44f9-a636-a2303847f365')\"\n",
              "              title=\"Convert this dataframe to an interactive table.\"\n",
              "              style=\"display:none;\">\n",
              "        \n",
              "  <svg xmlns=\"http://www.w3.org/2000/svg\" height=\"24px\"viewBox=\"0 0 24 24\"\n",
              "       width=\"24px\">\n",
              "    <path d=\"M0 0h24v24H0V0z\" fill=\"none\"/>\n",
              "    <path d=\"M18.56 5.44l.94 2.06.94-2.06 2.06-.94-2.06-.94-.94-2.06-.94 2.06-2.06.94zm-11 1L8.5 8.5l.94-2.06 2.06-.94-2.06-.94L8.5 2.5l-.94 2.06-2.06.94zm10 10l.94 2.06.94-2.06 2.06-.94-2.06-.94-.94-2.06-.94 2.06-2.06.94z\"/><path d=\"M17.41 7.96l-1.37-1.37c-.4-.4-.92-.59-1.43-.59-.52 0-1.04.2-1.43.59L10.3 9.45l-7.72 7.72c-.78.78-.78 2.05 0 2.83L4 21.41c.39.39.9.59 1.41.59.51 0 1.02-.2 1.41-.59l7.78-7.78 2.81-2.81c.8-.78.8-2.07 0-2.86zM5.41 20L4 18.59l7.72-7.72 1.47 1.35L5.41 20z\"/>\n",
              "  </svg>\n",
              "      </button>\n",
              "      \n",
              "  <style>\n",
              "    .colab-df-container {\n",
              "      display:flex;\n",
              "      flex-wrap:wrap;\n",
              "      gap: 12px;\n",
              "    }\n",
              "\n",
              "    .colab-df-convert {\n",
              "      background-color: #E8F0FE;\n",
              "      border: none;\n",
              "      border-radius: 50%;\n",
              "      cursor: pointer;\n",
              "      display: none;\n",
              "      fill: #1967D2;\n",
              "      height: 32px;\n",
              "      padding: 0 0 0 0;\n",
              "      width: 32px;\n",
              "    }\n",
              "\n",
              "    .colab-df-convert:hover {\n",
              "      background-color: #E2EBFA;\n",
              "      box-shadow: 0px 1px 2px rgba(60, 64, 67, 0.3), 0px 1px 3px 1px rgba(60, 64, 67, 0.15);\n",
              "      fill: #174EA6;\n",
              "    }\n",
              "\n",
              "    [theme=dark] .colab-df-convert {\n",
              "      background-color: #3B4455;\n",
              "      fill: #D2E3FC;\n",
              "    }\n",
              "\n",
              "    [theme=dark] .colab-df-convert:hover {\n",
              "      background-color: #434B5C;\n",
              "      box-shadow: 0px 1px 3px 1px rgba(0, 0, 0, 0.15);\n",
              "      filter: drop-shadow(0px 1px 2px rgba(0, 0, 0, 0.3));\n",
              "      fill: #FFFFFF;\n",
              "    }\n",
              "  </style>\n",
              "\n",
              "      <script>\n",
              "        const buttonEl =\n",
              "          document.querySelector('#df-2c1977be-6607-44f9-a636-a2303847f365 button.colab-df-convert');\n",
              "        buttonEl.style.display =\n",
              "          google.colab.kernel.accessAllowed ? 'block' : 'none';\n",
              "\n",
              "        async function convertToInteractive(key) {\n",
              "          const element = document.querySelector('#df-2c1977be-6607-44f9-a636-a2303847f365');\n",
              "          const dataTable =\n",
              "            await google.colab.kernel.invokeFunction('convertToInteractive',\n",
              "                                                     [key], {});\n",
              "          if (!dataTable) return;\n",
              "\n",
              "          const docLinkHtml = 'Like what you see? Visit the ' +\n",
              "            '<a target=\"_blank\" href=https://colab.research.google.com/notebooks/data_table.ipynb>data table notebook</a>'\n",
              "            + ' to learn more about interactive tables.';\n",
              "          element.innerHTML = '';\n",
              "          dataTable['output_type'] = 'display_data';\n",
              "          await google.colab.output.renderOutput(dataTable, element);\n",
              "          const docLink = document.createElement('div');\n",
              "          docLink.innerHTML = docLinkHtml;\n",
              "          element.appendChild(docLink);\n",
              "        }\n",
              "      </script>\n",
              "    </div>\n",
              "  </div>\n",
              "  "
            ],
            "text/plain": [
              "                 count         mean            std       min          25%  \\\n",
              "RD_Spend          50.0   73721.6156   45902.256482      0.00   39936.3700   \n",
              "Administration    50.0  121344.6396   28017.802755  51283.14  103730.8750   \n",
              "Marketing_Spend   50.0  211025.0978  122290.310726      0.00  129300.1325   \n",
              "Profit            50.0  112012.6392   40306.180338  14681.40   90138.9025   \n",
              "\n",
              "                        50%          75%        max  \n",
              "RD_Spend          73051.080  101602.8000  165349.20  \n",
              "Administration   122699.795  144842.1800  182645.56  \n",
              "Marketing_Spend  212716.240  299469.0850  471784.10  \n",
              "Profit           107978.190  139765.9775  192261.83  "
            ]
          },
          "metadata": {},
          "execution_count": 11
        }
      ]
    },
    {
      "cell_type": "code",
      "source": [
        "from sklearn.model_selection import (\n",
        "    cross_validate,\n",
        "    ShuffleSplit,\n",
        ")\n",
        "from sklearn.preprocessing import (\n",
        "    StandardScaler, \n",
        "    OneHotEncoder\n",
        ")\n",
        "from sklearn.pipeline import make_pipeline\n",
        "from sklearn.compose import ColumnTransformer\n",
        "from sklearn.linear_model import LinearRegression\n",
        "from sklearn.metrics import mean_absolute_error"
      ],
      "metadata": {
        "id": "K65N2l4KK1rZ"
      },
      "execution_count": 12,
      "outputs": []
    },
    {
      "cell_type": "code",
      "source": [
        "data = startup.drop(columns=['Profit'], axis=1)\n",
        "target= startup.Profit"
      ],
      "metadata": {
        "id": "Plq0K10cPepi"
      },
      "execution_count": 13,
      "outputs": []
    },
    {
      "cell_type": "code",
      "source": [
        "target.head()"
      ],
      "metadata": {
        "colab": {
          "base_uri": "https://localhost:8080/"
        },
        "id": "KOT6MhOJTZ1z",
        "outputId": "b426b783-63e5-4a74-a8a6-067e1ddf67bb"
      },
      "execution_count": 14,
      "outputs": [
        {
          "output_type": "execute_result",
          "data": {
            "text/plain": [
              "0    192261.83\n",
              "1    191792.06\n",
              "2    191050.39\n",
              "3    182901.99\n",
              "4    166187.94\n",
              "Name: Profit, dtype: float64"
            ]
          },
          "metadata": {},
          "execution_count": 14
        }
      ]
    },
    {
      "cell_type": "code",
      "source": [
        "num_features = data.select_dtypes(include='number').columns.tolist()\n",
        "cat_features = data.select_dtypes(include='object').columns.tolist()\n",
        "print(num_features)\n",
        "print(cat_features)"
      ],
      "metadata": {
        "colab": {
          "base_uri": "https://localhost:8080/"
        },
        "id": "7K6mCmWlP0EP",
        "outputId": "af889f52-6c06-4a84-e14f-bc672b1be696"
      },
      "execution_count": 15,
      "outputs": [
        {
          "output_type": "stream",
          "name": "stdout",
          "text": [
            "['RD_Spend', 'Administration', 'Marketing_Spend']\n",
            "['State']\n"
          ]
        }
      ]
    },
    {
      "cell_type": "code",
      "source": [
        "num_transformer = StandardScaler()\n",
        "cat_transformer = OneHotEncoder(handle_unknown='ignore')\n",
        "\n",
        "preprocessor = ColumnTransformer([\n",
        "               ('scl', num_transformer, num_features),\n",
        "               ('encoder', cat_transformer, cat_features),                  \n",
        "])"
      ],
      "metadata": {
        "id": "_uwcg8acQdjf"
      },
      "execution_count": 16,
      "outputs": []
    },
    {
      "cell_type": "code",
      "source": [
        "model = make_pipeline(preprocessor, LinearRegression())"
      ],
      "metadata": {
        "id": "2iwkTuXUOPzg"
      },
      "execution_count": 17,
      "outputs": []
    },
    {
      "cell_type": "code",
      "source": [
        "cv = ShuffleSplit(n_splits=40, test_size=0.3, random_state=42)\n",
        "cv_results = cross_validate(\n",
        "    model,\n",
        "    data,\n",
        "    target,\n",
        "    scoring='neg_mean_absolute_error',\n",
        "    cv=cv,\n",
        "    return_train_score=True,\n",
        "    return_estimator=True,\n",
        "    n_jobs=-1,\n",
        ")"
      ],
      "metadata": {
        "id": "bZi8mZ1POqGc"
      },
      "execution_count": 18,
      "outputs": []
    },
    {
      "cell_type": "code",
      "source": [
        "cv_results = pd.DataFrame(cv_results)\n",
        "cv_results = cv_results.assign(\n",
        "    train_error = -cv_results['train_score'],\n",
        "    test_error = -cv_results['test_score']\n",
        ")\n",
        "cv_results"
      ],
      "metadata": {
        "colab": {
          "base_uri": "https://localhost:8080/",
          "height": 1000
        },
        "id": "mj1r-dtlSSvt",
        "outputId": "909018b2-ac93-4080-eff5-bd774cb04943"
      },
      "execution_count": 19,
      "outputs": [
        {
          "output_type": "execute_result",
          "data": {
            "text/html": [
              "\n",
              "  <div id=\"df-f901fd89-8ab8-4729-95f2-a5493981786e\">\n",
              "    <div class=\"colab-df-container\">\n",
              "      <div>\n",
              "<style scoped>\n",
              "    .dataframe tbody tr th:only-of-type {\n",
              "        vertical-align: middle;\n",
              "    }\n",
              "\n",
              "    .dataframe tbody tr th {\n",
              "        vertical-align: top;\n",
              "    }\n",
              "\n",
              "    .dataframe thead th {\n",
              "        text-align: right;\n",
              "    }\n",
              "</style>\n",
              "<table border=\"1\" class=\"dataframe\">\n",
              "  <thead>\n",
              "    <tr style=\"text-align: right;\">\n",
              "      <th></th>\n",
              "      <th>fit_time</th>\n",
              "      <th>score_time</th>\n",
              "      <th>estimator</th>\n",
              "      <th>test_score</th>\n",
              "      <th>train_score</th>\n",
              "      <th>train_error</th>\n",
              "      <th>test_error</th>\n",
              "    </tr>\n",
              "  </thead>\n",
              "  <tbody>\n",
              "    <tr>\n",
              "      <th>0</th>\n",
              "      <td>0.014014</td>\n",
              "      <td>0.007874</td>\n",
              "      <td>(ColumnTransformer(transformers=[('scl', Stand...</td>\n",
              "      <td>-7395.433532</td>\n",
              "      <td>-6644.554733</td>\n",
              "      <td>6644.554733</td>\n",
              "      <td>7395.433532</td>\n",
              "    </tr>\n",
              "    <tr>\n",
              "      <th>1</th>\n",
              "      <td>0.013791</td>\n",
              "      <td>0.006137</td>\n",
              "      <td>(ColumnTransformer(transformers=[('scl', Stand...</td>\n",
              "      <td>-9298.648495</td>\n",
              "      <td>-5396.945427</td>\n",
              "      <td>5396.945427</td>\n",
              "      <td>9298.648495</td>\n",
              "    </tr>\n",
              "    <tr>\n",
              "      <th>2</th>\n",
              "      <td>0.011046</td>\n",
              "      <td>0.005619</td>\n",
              "      <td>(ColumnTransformer(transformers=[('scl', Stand...</td>\n",
              "      <td>-9351.288817</td>\n",
              "      <td>-5372.631726</td>\n",
              "      <td>5372.631726</td>\n",
              "      <td>9351.288817</td>\n",
              "    </tr>\n",
              "    <tr>\n",
              "      <th>3</th>\n",
              "      <td>0.010527</td>\n",
              "      <td>0.005727</td>\n",
              "      <td>(ColumnTransformer(transformers=[('scl', Stand...</td>\n",
              "      <td>-10704.193906</td>\n",
              "      <td>-5377.481351</td>\n",
              "      <td>5377.481351</td>\n",
              "      <td>10704.193906</td>\n",
              "    </tr>\n",
              "    <tr>\n",
              "      <th>4</th>\n",
              "      <td>0.017165</td>\n",
              "      <td>0.006770</td>\n",
              "      <td>(ColumnTransformer(transformers=[('scl', Stand...</td>\n",
              "      <td>-6530.565532</td>\n",
              "      <td>-6923.058904</td>\n",
              "      <td>6923.058904</td>\n",
              "      <td>6530.565532</td>\n",
              "    </tr>\n",
              "    <tr>\n",
              "      <th>5</th>\n",
              "      <td>0.010928</td>\n",
              "      <td>0.006006</td>\n",
              "      <td>(ColumnTransformer(transformers=[('scl', Stand...</td>\n",
              "      <td>-7717.571364</td>\n",
              "      <td>-6309.281620</td>\n",
              "      <td>6309.281620</td>\n",
              "      <td>7717.571364</td>\n",
              "    </tr>\n",
              "    <tr>\n",
              "      <th>6</th>\n",
              "      <td>0.011105</td>\n",
              "      <td>0.006024</td>\n",
              "      <td>(ColumnTransformer(transformers=[('scl', Stand...</td>\n",
              "      <td>-6045.260037</td>\n",
              "      <td>-7088.669930</td>\n",
              "      <td>7088.669930</td>\n",
              "      <td>6045.260037</td>\n",
              "    </tr>\n",
              "    <tr>\n",
              "      <th>7</th>\n",
              "      <td>0.015810</td>\n",
              "      <td>0.005995</td>\n",
              "      <td>(ColumnTransformer(transformers=[('scl', Stand...</td>\n",
              "      <td>-9161.565963</td>\n",
              "      <td>-6145.972965</td>\n",
              "      <td>6145.972965</td>\n",
              "      <td>9161.565963</td>\n",
              "    </tr>\n",
              "    <tr>\n",
              "      <th>8</th>\n",
              "      <td>0.011266</td>\n",
              "      <td>0.006047</td>\n",
              "      <td>(ColumnTransformer(transformers=[('scl', Stand...</td>\n",
              "      <td>-7055.850736</td>\n",
              "      <td>-6610.807708</td>\n",
              "      <td>6610.807708</td>\n",
              "      <td>7055.850736</td>\n",
              "    </tr>\n",
              "    <tr>\n",
              "      <th>9</th>\n",
              "      <td>0.017472</td>\n",
              "      <td>0.006150</td>\n",
              "      <td>(ColumnTransformer(transformers=[('scl', Stand...</td>\n",
              "      <td>-5880.908598</td>\n",
              "      <td>-7127.224528</td>\n",
              "      <td>7127.224528</td>\n",
              "      <td>5880.908598</td>\n",
              "    </tr>\n",
              "    <tr>\n",
              "      <th>10</th>\n",
              "      <td>0.012954</td>\n",
              "      <td>0.005802</td>\n",
              "      <td>(ColumnTransformer(transformers=[('scl', Stand...</td>\n",
              "      <td>-8283.336415</td>\n",
              "      <td>-6348.414712</td>\n",
              "      <td>6348.414712</td>\n",
              "      <td>8283.336415</td>\n",
              "    </tr>\n",
              "    <tr>\n",
              "      <th>11</th>\n",
              "      <td>0.013096</td>\n",
              "      <td>0.005404</td>\n",
              "      <td>(ColumnTransformer(transformers=[('scl', Stand...</td>\n",
              "      <td>-6885.878737</td>\n",
              "      <td>-6712.703479</td>\n",
              "      <td>6712.703479</td>\n",
              "      <td>6885.878737</td>\n",
              "    </tr>\n",
              "    <tr>\n",
              "      <th>12</th>\n",
              "      <td>0.014545</td>\n",
              "      <td>0.010513</td>\n",
              "      <td>(ColumnTransformer(transformers=[('scl', Stand...</td>\n",
              "      <td>-8804.328965</td>\n",
              "      <td>-5828.383870</td>\n",
              "      <td>5828.383870</td>\n",
              "      <td>8804.328965</td>\n",
              "    </tr>\n",
              "    <tr>\n",
              "      <th>13</th>\n",
              "      <td>0.013554</td>\n",
              "      <td>0.005938</td>\n",
              "      <td>(ColumnTransformer(transformers=[('scl', Stand...</td>\n",
              "      <td>-5165.192259</td>\n",
              "      <td>-7213.119929</td>\n",
              "      <td>7213.119929</td>\n",
              "      <td>5165.192259</td>\n",
              "    </tr>\n",
              "    <tr>\n",
              "      <th>14</th>\n",
              "      <td>0.014284</td>\n",
              "      <td>0.005512</td>\n",
              "      <td>(ColumnTransformer(transformers=[('scl', Stand...</td>\n",
              "      <td>-9247.202336</td>\n",
              "      <td>-5614.823459</td>\n",
              "      <td>5614.823459</td>\n",
              "      <td>9247.202336</td>\n",
              "    </tr>\n",
              "    <tr>\n",
              "      <th>15</th>\n",
              "      <td>0.010060</td>\n",
              "      <td>0.005868</td>\n",
              "      <td>(ColumnTransformer(transformers=[('scl', Stand...</td>\n",
              "      <td>-9931.465381</td>\n",
              "      <td>-6050.566126</td>\n",
              "      <td>6050.566126</td>\n",
              "      <td>9931.465381</td>\n",
              "    </tr>\n",
              "    <tr>\n",
              "      <th>16</th>\n",
              "      <td>0.014491</td>\n",
              "      <td>0.005614</td>\n",
              "      <td>(ColumnTransformer(transformers=[('scl', Stand...</td>\n",
              "      <td>-7306.669904</td>\n",
              "      <td>-6544.786701</td>\n",
              "      <td>6544.786701</td>\n",
              "      <td>7306.669904</td>\n",
              "    </tr>\n",
              "    <tr>\n",
              "      <th>17</th>\n",
              "      <td>0.010064</td>\n",
              "      <td>0.005665</td>\n",
              "      <td>(ColumnTransformer(transformers=[('scl', Stand...</td>\n",
              "      <td>-5781.562946</td>\n",
              "      <td>-6998.369737</td>\n",
              "      <td>6998.369737</td>\n",
              "      <td>5781.562946</td>\n",
              "    </tr>\n",
              "    <tr>\n",
              "      <th>18</th>\n",
              "      <td>0.027487</td>\n",
              "      <td>0.006052</td>\n",
              "      <td>(ColumnTransformer(transformers=[('scl', Stand...</td>\n",
              "      <td>-5844.238372</td>\n",
              "      <td>-7248.342666</td>\n",
              "      <td>7248.342666</td>\n",
              "      <td>5844.238372</td>\n",
              "    </tr>\n",
              "    <tr>\n",
              "      <th>19</th>\n",
              "      <td>0.021622</td>\n",
              "      <td>0.006411</td>\n",
              "      <td>(ColumnTransformer(transformers=[('scl', Stand...</td>\n",
              "      <td>-7692.785724</td>\n",
              "      <td>-6320.719988</td>\n",
              "      <td>6320.719988</td>\n",
              "      <td>7692.785724</td>\n",
              "    </tr>\n",
              "    <tr>\n",
              "      <th>20</th>\n",
              "      <td>0.022412</td>\n",
              "      <td>0.006036</td>\n",
              "      <td>(ColumnTransformer(transformers=[('scl', Stand...</td>\n",
              "      <td>-5005.406834</td>\n",
              "      <td>-7548.638289</td>\n",
              "      <td>7548.638289</td>\n",
              "      <td>5005.406834</td>\n",
              "    </tr>\n",
              "    <tr>\n",
              "      <th>21</th>\n",
              "      <td>0.010525</td>\n",
              "      <td>0.005840</td>\n",
              "      <td>(ColumnTransformer(transformers=[('scl', Stand...</td>\n",
              "      <td>-7937.187759</td>\n",
              "      <td>-6461.003193</td>\n",
              "      <td>6461.003193</td>\n",
              "      <td>7937.187759</td>\n",
              "    </tr>\n",
              "    <tr>\n",
              "      <th>22</th>\n",
              "      <td>0.010647</td>\n",
              "      <td>0.006608</td>\n",
              "      <td>(ColumnTransformer(transformers=[('scl', Stand...</td>\n",
              "      <td>-6961.493142</td>\n",
              "      <td>-6994.500198</td>\n",
              "      <td>6994.500198</td>\n",
              "      <td>6961.493142</td>\n",
              "    </tr>\n",
              "    <tr>\n",
              "      <th>23</th>\n",
              "      <td>0.010341</td>\n",
              "      <td>0.005963</td>\n",
              "      <td>(ColumnTransformer(transformers=[('scl', Stand...</td>\n",
              "      <td>-8952.366449</td>\n",
              "      <td>-5750.845365</td>\n",
              "      <td>5750.845365</td>\n",
              "      <td>8952.366449</td>\n",
              "    </tr>\n",
              "    <tr>\n",
              "      <th>24</th>\n",
              "      <td>0.015356</td>\n",
              "      <td>0.007676</td>\n",
              "      <td>(ColumnTransformer(transformers=[('scl', Stand...</td>\n",
              "      <td>-7815.051932</td>\n",
              "      <td>-6379.337822</td>\n",
              "      <td>6379.337822</td>\n",
              "      <td>7815.051932</td>\n",
              "    </tr>\n",
              "    <tr>\n",
              "      <th>25</th>\n",
              "      <td>0.010604</td>\n",
              "      <td>0.005852</td>\n",
              "      <td>(ColumnTransformer(transformers=[('scl', Stand...</td>\n",
              "      <td>-7164.456202</td>\n",
              "      <td>-6394.678023</td>\n",
              "      <td>6394.678023</td>\n",
              "      <td>7164.456202</td>\n",
              "    </tr>\n",
              "    <tr>\n",
              "      <th>26</th>\n",
              "      <td>0.018357</td>\n",
              "      <td>0.014885</td>\n",
              "      <td>(ColumnTransformer(transformers=[('scl', Stand...</td>\n",
              "      <td>-8470.677501</td>\n",
              "      <td>-6082.994732</td>\n",
              "      <td>6082.994732</td>\n",
              "      <td>8470.677501</td>\n",
              "    </tr>\n",
              "    <tr>\n",
              "      <th>27</th>\n",
              "      <td>0.010406</td>\n",
              "      <td>0.005818</td>\n",
              "      <td>(ColumnTransformer(transformers=[('scl', Stand...</td>\n",
              "      <td>-9924.757847</td>\n",
              "      <td>-5805.579966</td>\n",
              "      <td>5805.579966</td>\n",
              "      <td>9924.757847</td>\n",
              "    </tr>\n",
              "    <tr>\n",
              "      <th>28</th>\n",
              "      <td>0.013952</td>\n",
              "      <td>0.006099</td>\n",
              "      <td>(ColumnTransformer(transformers=[('scl', Stand...</td>\n",
              "      <td>-7318.493558</td>\n",
              "      <td>-6746.110245</td>\n",
              "      <td>6746.110245</td>\n",
              "      <td>7318.493558</td>\n",
              "    </tr>\n",
              "    <tr>\n",
              "      <th>29</th>\n",
              "      <td>0.010262</td>\n",
              "      <td>0.005885</td>\n",
              "      <td>(ColumnTransformer(transformers=[('scl', Stand...</td>\n",
              "      <td>-6617.697512</td>\n",
              "      <td>-6700.008435</td>\n",
              "      <td>6700.008435</td>\n",
              "      <td>6617.697512</td>\n",
              "    </tr>\n",
              "    <tr>\n",
              "      <th>30</th>\n",
              "      <td>0.010237</td>\n",
              "      <td>0.005830</td>\n",
              "      <td>(ColumnTransformer(transformers=[('scl', Stand...</td>\n",
              "      <td>-8547.933879</td>\n",
              "      <td>-5925.062010</td>\n",
              "      <td>5925.062010</td>\n",
              "      <td>8547.933879</td>\n",
              "    </tr>\n",
              "    <tr>\n",
              "      <th>31</th>\n",
              "      <td>0.010408</td>\n",
              "      <td>0.005785</td>\n",
              "      <td>(ColumnTransformer(transformers=[('scl', Stand...</td>\n",
              "      <td>-8466.702792</td>\n",
              "      <td>-5794.799901</td>\n",
              "      <td>5794.799901</td>\n",
              "      <td>8466.702792</td>\n",
              "    </tr>\n",
              "    <tr>\n",
              "      <th>32</th>\n",
              "      <td>0.011448</td>\n",
              "      <td>0.006054</td>\n",
              "      <td>(ColumnTransformer(transformers=[('scl', Stand...</td>\n",
              "      <td>-8042.679989</td>\n",
              "      <td>-6788.430862</td>\n",
              "      <td>6788.430862</td>\n",
              "      <td>8042.679989</td>\n",
              "    </tr>\n",
              "    <tr>\n",
              "      <th>33</th>\n",
              "      <td>0.010396</td>\n",
              "      <td>0.005884</td>\n",
              "      <td>(ColumnTransformer(transformers=[('scl', Stand...</td>\n",
              "      <td>-9266.980423</td>\n",
              "      <td>-5241.767008</td>\n",
              "      <td>5241.767008</td>\n",
              "      <td>9266.980423</td>\n",
              "    </tr>\n",
              "    <tr>\n",
              "      <th>34</th>\n",
              "      <td>0.010744</td>\n",
              "      <td>0.005796</td>\n",
              "      <td>(ColumnTransformer(transformers=[('scl', Stand...</td>\n",
              "      <td>-7888.696216</td>\n",
              "      <td>-6323.477591</td>\n",
              "      <td>6323.477591</td>\n",
              "      <td>7888.696216</td>\n",
              "    </tr>\n",
              "    <tr>\n",
              "      <th>35</th>\n",
              "      <td>0.010089</td>\n",
              "      <td>0.010216</td>\n",
              "      <td>(ColumnTransformer(transformers=[('scl', Stand...</td>\n",
              "      <td>-4470.829814</td>\n",
              "      <td>-7725.292970</td>\n",
              "      <td>7725.292970</td>\n",
              "      <td>4470.829814</td>\n",
              "    </tr>\n",
              "    <tr>\n",
              "      <th>36</th>\n",
              "      <td>0.011356</td>\n",
              "      <td>0.005870</td>\n",
              "      <td>(ColumnTransformer(transformers=[('scl', Stand...</td>\n",
              "      <td>-8098.501893</td>\n",
              "      <td>-5931.771831</td>\n",
              "      <td>5931.771831</td>\n",
              "      <td>8098.501893</td>\n",
              "    </tr>\n",
              "    <tr>\n",
              "      <th>37</th>\n",
              "      <td>0.017656</td>\n",
              "      <td>0.005836</td>\n",
              "      <td>(ColumnTransformer(transformers=[('scl', Stand...</td>\n",
              "      <td>-5106.392892</td>\n",
              "      <td>-7246.564835</td>\n",
              "      <td>7246.564835</td>\n",
              "      <td>5106.392892</td>\n",
              "    </tr>\n",
              "    <tr>\n",
              "      <th>38</th>\n",
              "      <td>0.017760</td>\n",
              "      <td>0.006017</td>\n",
              "      <td>(ColumnTransformer(transformers=[('scl', Stand...</td>\n",
              "      <td>-7127.088731</td>\n",
              "      <td>-7204.989944</td>\n",
              "      <td>7204.989944</td>\n",
              "      <td>7127.088731</td>\n",
              "    </tr>\n",
              "    <tr>\n",
              "      <th>39</th>\n",
              "      <td>0.007071</td>\n",
              "      <td>0.003590</td>\n",
              "      <td>(ColumnTransformer(transformers=[('scl', Stand...</td>\n",
              "      <td>-8867.650246</td>\n",
              "      <td>-6072.906225</td>\n",
              "      <td>6072.906225</td>\n",
              "      <td>8867.650246</td>\n",
              "    </tr>\n",
              "  </tbody>\n",
              "</table>\n",
              "</div>\n",
              "      <button class=\"colab-df-convert\" onclick=\"convertToInteractive('df-f901fd89-8ab8-4729-95f2-a5493981786e')\"\n",
              "              title=\"Convert this dataframe to an interactive table.\"\n",
              "              style=\"display:none;\">\n",
              "        \n",
              "  <svg xmlns=\"http://www.w3.org/2000/svg\" height=\"24px\"viewBox=\"0 0 24 24\"\n",
              "       width=\"24px\">\n",
              "    <path d=\"M0 0h24v24H0V0z\" fill=\"none\"/>\n",
              "    <path d=\"M18.56 5.44l.94 2.06.94-2.06 2.06-.94-2.06-.94-.94-2.06-.94 2.06-2.06.94zm-11 1L8.5 8.5l.94-2.06 2.06-.94-2.06-.94L8.5 2.5l-.94 2.06-2.06.94zm10 10l.94 2.06.94-2.06 2.06-.94-2.06-.94-.94-2.06-.94 2.06-2.06.94z\"/><path d=\"M17.41 7.96l-1.37-1.37c-.4-.4-.92-.59-1.43-.59-.52 0-1.04.2-1.43.59L10.3 9.45l-7.72 7.72c-.78.78-.78 2.05 0 2.83L4 21.41c.39.39.9.59 1.41.59.51 0 1.02-.2 1.41-.59l7.78-7.78 2.81-2.81c.8-.78.8-2.07 0-2.86zM5.41 20L4 18.59l7.72-7.72 1.47 1.35L5.41 20z\"/>\n",
              "  </svg>\n",
              "      </button>\n",
              "      \n",
              "  <style>\n",
              "    .colab-df-container {\n",
              "      display:flex;\n",
              "      flex-wrap:wrap;\n",
              "      gap: 12px;\n",
              "    }\n",
              "\n",
              "    .colab-df-convert {\n",
              "      background-color: #E8F0FE;\n",
              "      border: none;\n",
              "      border-radius: 50%;\n",
              "      cursor: pointer;\n",
              "      display: none;\n",
              "      fill: #1967D2;\n",
              "      height: 32px;\n",
              "      padding: 0 0 0 0;\n",
              "      width: 32px;\n",
              "    }\n",
              "\n",
              "    .colab-df-convert:hover {\n",
              "      background-color: #E2EBFA;\n",
              "      box-shadow: 0px 1px 2px rgba(60, 64, 67, 0.3), 0px 1px 3px 1px rgba(60, 64, 67, 0.15);\n",
              "      fill: #174EA6;\n",
              "    }\n",
              "\n",
              "    [theme=dark] .colab-df-convert {\n",
              "      background-color: #3B4455;\n",
              "      fill: #D2E3FC;\n",
              "    }\n",
              "\n",
              "    [theme=dark] .colab-df-convert:hover {\n",
              "      background-color: #434B5C;\n",
              "      box-shadow: 0px 1px 3px 1px rgba(0, 0, 0, 0.15);\n",
              "      filter: drop-shadow(0px 1px 2px rgba(0, 0, 0, 0.3));\n",
              "      fill: #FFFFFF;\n",
              "    }\n",
              "  </style>\n",
              "\n",
              "      <script>\n",
              "        const buttonEl =\n",
              "          document.querySelector('#df-f901fd89-8ab8-4729-95f2-a5493981786e button.colab-df-convert');\n",
              "        buttonEl.style.display =\n",
              "          google.colab.kernel.accessAllowed ? 'block' : 'none';\n",
              "\n",
              "        async function convertToInteractive(key) {\n",
              "          const element = document.querySelector('#df-f901fd89-8ab8-4729-95f2-a5493981786e');\n",
              "          const dataTable =\n",
              "            await google.colab.kernel.invokeFunction('convertToInteractive',\n",
              "                                                     [key], {});\n",
              "          if (!dataTable) return;\n",
              "\n",
              "          const docLinkHtml = 'Like what you see? Visit the ' +\n",
              "            '<a target=\"_blank\" href=https://colab.research.google.com/notebooks/data_table.ipynb>data table notebook</a>'\n",
              "            + ' to learn more about interactive tables.';\n",
              "          element.innerHTML = '';\n",
              "          dataTable['output_type'] = 'display_data';\n",
              "          await google.colab.output.renderOutput(dataTable, element);\n",
              "          const docLink = document.createElement('div');\n",
              "          docLink.innerHTML = docLinkHtml;\n",
              "          element.appendChild(docLink);\n",
              "        }\n",
              "      </script>\n",
              "    </div>\n",
              "  </div>\n",
              "  "
            ],
            "text/plain": [
              "    fit_time  score_time                                          estimator  \\\n",
              "0   0.014014    0.007874  (ColumnTransformer(transformers=[('scl', Stand...   \n",
              "1   0.013791    0.006137  (ColumnTransformer(transformers=[('scl', Stand...   \n",
              "2   0.011046    0.005619  (ColumnTransformer(transformers=[('scl', Stand...   \n",
              "3   0.010527    0.005727  (ColumnTransformer(transformers=[('scl', Stand...   \n",
              "4   0.017165    0.006770  (ColumnTransformer(transformers=[('scl', Stand...   \n",
              "5   0.010928    0.006006  (ColumnTransformer(transformers=[('scl', Stand...   \n",
              "6   0.011105    0.006024  (ColumnTransformer(transformers=[('scl', Stand...   \n",
              "7   0.015810    0.005995  (ColumnTransformer(transformers=[('scl', Stand...   \n",
              "8   0.011266    0.006047  (ColumnTransformer(transformers=[('scl', Stand...   \n",
              "9   0.017472    0.006150  (ColumnTransformer(transformers=[('scl', Stand...   \n",
              "10  0.012954    0.005802  (ColumnTransformer(transformers=[('scl', Stand...   \n",
              "11  0.013096    0.005404  (ColumnTransformer(transformers=[('scl', Stand...   \n",
              "12  0.014545    0.010513  (ColumnTransformer(transformers=[('scl', Stand...   \n",
              "13  0.013554    0.005938  (ColumnTransformer(transformers=[('scl', Stand...   \n",
              "14  0.014284    0.005512  (ColumnTransformer(transformers=[('scl', Stand...   \n",
              "15  0.010060    0.005868  (ColumnTransformer(transformers=[('scl', Stand...   \n",
              "16  0.014491    0.005614  (ColumnTransformer(transformers=[('scl', Stand...   \n",
              "17  0.010064    0.005665  (ColumnTransformer(transformers=[('scl', Stand...   \n",
              "18  0.027487    0.006052  (ColumnTransformer(transformers=[('scl', Stand...   \n",
              "19  0.021622    0.006411  (ColumnTransformer(transformers=[('scl', Stand...   \n",
              "20  0.022412    0.006036  (ColumnTransformer(transformers=[('scl', Stand...   \n",
              "21  0.010525    0.005840  (ColumnTransformer(transformers=[('scl', Stand...   \n",
              "22  0.010647    0.006608  (ColumnTransformer(transformers=[('scl', Stand...   \n",
              "23  0.010341    0.005963  (ColumnTransformer(transformers=[('scl', Stand...   \n",
              "24  0.015356    0.007676  (ColumnTransformer(transformers=[('scl', Stand...   \n",
              "25  0.010604    0.005852  (ColumnTransformer(transformers=[('scl', Stand...   \n",
              "26  0.018357    0.014885  (ColumnTransformer(transformers=[('scl', Stand...   \n",
              "27  0.010406    0.005818  (ColumnTransformer(transformers=[('scl', Stand...   \n",
              "28  0.013952    0.006099  (ColumnTransformer(transformers=[('scl', Stand...   \n",
              "29  0.010262    0.005885  (ColumnTransformer(transformers=[('scl', Stand...   \n",
              "30  0.010237    0.005830  (ColumnTransformer(transformers=[('scl', Stand...   \n",
              "31  0.010408    0.005785  (ColumnTransformer(transformers=[('scl', Stand...   \n",
              "32  0.011448    0.006054  (ColumnTransformer(transformers=[('scl', Stand...   \n",
              "33  0.010396    0.005884  (ColumnTransformer(transformers=[('scl', Stand...   \n",
              "34  0.010744    0.005796  (ColumnTransformer(transformers=[('scl', Stand...   \n",
              "35  0.010089    0.010216  (ColumnTransformer(transformers=[('scl', Stand...   \n",
              "36  0.011356    0.005870  (ColumnTransformer(transformers=[('scl', Stand...   \n",
              "37  0.017656    0.005836  (ColumnTransformer(transformers=[('scl', Stand...   \n",
              "38  0.017760    0.006017  (ColumnTransformer(transformers=[('scl', Stand...   \n",
              "39  0.007071    0.003590  (ColumnTransformer(transformers=[('scl', Stand...   \n",
              "\n",
              "      test_score  train_score  train_error    test_error  \n",
              "0   -7395.433532 -6644.554733  6644.554733   7395.433532  \n",
              "1   -9298.648495 -5396.945427  5396.945427   9298.648495  \n",
              "2   -9351.288817 -5372.631726  5372.631726   9351.288817  \n",
              "3  -10704.193906 -5377.481351  5377.481351  10704.193906  \n",
              "4   -6530.565532 -6923.058904  6923.058904   6530.565532  \n",
              "5   -7717.571364 -6309.281620  6309.281620   7717.571364  \n",
              "6   -6045.260037 -7088.669930  7088.669930   6045.260037  \n",
              "7   -9161.565963 -6145.972965  6145.972965   9161.565963  \n",
              "8   -7055.850736 -6610.807708  6610.807708   7055.850736  \n",
              "9   -5880.908598 -7127.224528  7127.224528   5880.908598  \n",
              "10  -8283.336415 -6348.414712  6348.414712   8283.336415  \n",
              "11  -6885.878737 -6712.703479  6712.703479   6885.878737  \n",
              "12  -8804.328965 -5828.383870  5828.383870   8804.328965  \n",
              "13  -5165.192259 -7213.119929  7213.119929   5165.192259  \n",
              "14  -9247.202336 -5614.823459  5614.823459   9247.202336  \n",
              "15  -9931.465381 -6050.566126  6050.566126   9931.465381  \n",
              "16  -7306.669904 -6544.786701  6544.786701   7306.669904  \n",
              "17  -5781.562946 -6998.369737  6998.369737   5781.562946  \n",
              "18  -5844.238372 -7248.342666  7248.342666   5844.238372  \n",
              "19  -7692.785724 -6320.719988  6320.719988   7692.785724  \n",
              "20  -5005.406834 -7548.638289  7548.638289   5005.406834  \n",
              "21  -7937.187759 -6461.003193  6461.003193   7937.187759  \n",
              "22  -6961.493142 -6994.500198  6994.500198   6961.493142  \n",
              "23  -8952.366449 -5750.845365  5750.845365   8952.366449  \n",
              "24  -7815.051932 -6379.337822  6379.337822   7815.051932  \n",
              "25  -7164.456202 -6394.678023  6394.678023   7164.456202  \n",
              "26  -8470.677501 -6082.994732  6082.994732   8470.677501  \n",
              "27  -9924.757847 -5805.579966  5805.579966   9924.757847  \n",
              "28  -7318.493558 -6746.110245  6746.110245   7318.493558  \n",
              "29  -6617.697512 -6700.008435  6700.008435   6617.697512  \n",
              "30  -8547.933879 -5925.062010  5925.062010   8547.933879  \n",
              "31  -8466.702792 -5794.799901  5794.799901   8466.702792  \n",
              "32  -8042.679989 -6788.430862  6788.430862   8042.679989  \n",
              "33  -9266.980423 -5241.767008  5241.767008   9266.980423  \n",
              "34  -7888.696216 -6323.477591  6323.477591   7888.696216  \n",
              "35  -4470.829814 -7725.292970  7725.292970   4470.829814  \n",
              "36  -8098.501893 -5931.771831  5931.771831   8098.501893  \n",
              "37  -5106.392892 -7246.564835  7246.564835   5106.392892  \n",
              "38  -7127.088731 -7204.989944  7204.989944   7127.088731  \n",
              "39  -8867.650246 -6072.906225  6072.906225   8867.650246  "
            ]
          },
          "metadata": {},
          "execution_count": 19
        }
      ]
    },
    {
      "cell_type": "code",
      "source": [
        "scores = cv_results[['train_error', 'test_error']]"
      ],
      "metadata": {
        "id": "GbvyXe-5cJZ9"
      },
      "execution_count": 20,
      "outputs": []
    },
    {
      "cell_type": "code",
      "source": [
        "scores.plot.hist(bins=10, edgecolor=\"black\", density=True)\n",
        "plt.xlabel(\"Mean absolute error ($)\")\n",
        "_ = plt.title(\"Test error distribution\")"
      ],
      "metadata": {
        "colab": {
          "base_uri": "https://localhost:8080/",
          "height": 296
        },
        "id": "e6XAAkf6WJHs",
        "outputId": "3f35f1e9-4056-4d74-f6c8-e3e7995c49fc"
      },
      "execution_count": 21,
      "outputs": [
        {
          "output_type": "display_data",
          "data": {
            "image/png": "[encoded data removed]",
            "text/plain": [
              "<Figure size 432x288 with 1 Axes>"
            ]
          },
          "metadata": {
            "needs_background": "light"
          }
        }
      ]
    },
    {
      "cell_type": "code",
      "source": [
        "print(f\"The mean cross-validated testing error is: \"\n",
        "      f\"{cv_results['test_error'].mean():.2f} $\")"
      ],
      "metadata": {
        "colab": {
          "base_uri": "https://localhost:8080/"
        },
        "id": "lYqqZfAFXPmj",
        "outputId": "134ea948-8446-411f-ab76-1679184463c2"
      },
      "execution_count": 22,
      "outputs": [
        {
          "output_type": "stream",
          "name": "stdout",
          "text": [
            "The mean cross-validated testing error is: 7653.37 $\n"
          ]
        }
      ]
    },
    {
      "cell_type": "code",
      "source": [
        "print(f\"The standard deviation of the testing error is: \"\n",
        "      f\"{cv_results['test_error'].std():.2f} $\")"
      ],
      "metadata": {
        "colab": {
          "base_uri": "https://localhost:8080/"
        },
        "id": "rYNusd8aXc2m",
        "outputId": "cf9f984c-2bb1-4f4c-9f52-340b3989b3af"
      },
      "execution_count": 23,
      "outputs": [
        {
          "output_type": "stream",
          "name": "stdout",
          "text": [
            "The standard deviation of the testing error is: 1494.36 $\n"
          ]
        }
      ]
    },
    {
      "cell_type": "code",
      "source": [
        "target.plot.hist(bins=20, edgecolor=\"black\")\n",
        "plt.xlabel(\"Median Salary Value ($)\")\n",
        "_ = plt.title(\"Target distribution\")"
      ],
      "metadata": {
        "colab": {
          "base_uri": "https://localhost:8080/",
          "height": 296
        },
        "id": "NBBeMAsGXhIb",
        "outputId": "b95e4d38-e984-4df1-ed7b-9f1e10399dde"
      },
      "execution_count": 24,
      "outputs": [
        {
          "output_type": "display_data",
          "data": {
            "image/png": "[encoded data removed]",
            "text/plain": [
              "<Figure size 432x288 with 1 Axes>"
            ]
          },
          "metadata": {
            "needs_background": "light"
          }
        }
      ]
    },
    {
      "cell_type": "code",
      "source": [
        "print(f\"The standard deviation of the target is: {target.std():.2f} $\")"
      ],
      "metadata": {
        "colab": {
          "base_uri": "https://localhost:8080/"
        },
        "id": "uVfQQyu8X2xk",
        "outputId": "0a3ea50c-557a-4343-def8-f79ce450289d"
      },
      "execution_count": 25,
      "outputs": [
        {
          "output_type": "stream",
          "name": "stdout",
          "text": [
            "The standard deviation of the target is: 40306.18 $\n"
          ]
        }
      ]
    },
    {
      "cell_type": "markdown",
      "source": [
        "##  Regularization"
      ],
      "metadata": {
        "id": "gHKkowq6gYwY"
      }
    },
    {
      "cell_type": "code",
      "source": [
        "train_error = -cv_results[\"train_score\"]\n",
        "print(f\"Mean squared error of linear regression model on the train set:\\n\"\n",
        "      f\"{train_error.mean():.3f} +/- {train_error.std():.3f}\")\n",
        "\n",
        "test_error = -cv_results[\"test_score\"]\n",
        "print(f\"Mean squared error of linear regression model on the test set:\\n\"\n",
        "      f\"{test_error.mean():.3f} +/- {test_error.std():.3f}\")"
      ],
      "metadata": {
        "colab": {
          "base_uri": "https://localhost:8080/"
        },
        "id": "sqn3DgHnX-q9",
        "outputId": "730f66a6-1d75-4927-b947-1d48f4a8e26e"
      },
      "execution_count": 26,
      "outputs": [
        {
          "output_type": "stream",
          "name": "stdout",
          "text": [
            "Mean squared error of linear regression model on the train set:\n",
            "6424.890 +/- 635.840\n",
            "Mean squared error of linear regression model on the test set:\n",
            "7653.375 +/- 1494.359\n"
          ]
        }
      ]
    },
    {
      "cell_type": "code",
      "source": [
        "model_first_fold = cv_results[\"estimator\"][0]\n",
        "feature_names = model_first_fold[0].get_feature_names_out(\n",
        "    input_features=data.columns)\n",
        "feature_names"
      ],
      "metadata": {
        "colab": {
          "base_uri": "https://localhost:8080/"
        },
        "id": "yDJ7LL9WlOde",
        "outputId": "c2fe686b-d9c1-4f1a-eaab-14ef8ed54bd6"
      },
      "execution_count": 34,
      "outputs": [
        {
          "output_type": "execute_result",
          "data": {
            "text/plain": [
              "array(['scl__RD_Spend', 'scl__Administration', 'scl__Marketing_Spend',\n",
              "       'encoder__State_California', 'encoder__State_Florida',\n",
              "       'encoder__State_New York'], dtype=object)"
            ]
          },
          "metadata": {},
          "execution_count": 34
        }
      ]
    },
    {
      "cell_type": "code",
      "source": [
        "coefs = [est[-1].coef_ for est in cv_results[\"estimator\"]]\n",
        "weights_ridge = pd.DataFrame(coefs, columns=feature_names)"
      ],
      "metadata": {
        "id": "BgXwGrwUk2XY"
      },
      "execution_count": 28,
      "outputs": []
    },
    {
      "cell_type": "code",
      "source": [
        "color = {\"whiskers\": \"black\", \"medians\": \"black\", \"caps\": \"black\"}\n",
        "weights_ridge.plot.box(color=color, vert=False, figsize=(6, 16))\n",
        "_ = plt.title(\"Reg weights\")"
      ],
      "metadata": {
        "colab": {
          "base_uri": "https://localhost:8080/",
          "height": 931
        },
        "id": "IznhtN7Yk6IV",
        "outputId": "98978915-0a55-49d1-85ae-7ee514c4cb4b"
      },
      "execution_count": 29,
      "outputs": [
        {
          "output_type": "display_data",
          "data": {
            "image/png": "[encoded data removed]",
            "text/plain": [
              "<Figure size 432x1152 with 1 Axes>"
            ]
          },
          "metadata": {
            "needs_background": "light"
          }
        }
      ]
    },
    {
      "cell_type": "code",
      "source": [
        "# from sklearn.linear_model import RidgeCV\n",
        "# # from  sklearn.preprocessing import PolynomialFeatures\n",
        "\n",
        "# alphas = np.logspace(-2, 0, num=20)\n",
        "# ridge = make_pipeline(preprocessor, \n",
        "#                       RidgeCV(alphas=alphas, store_cv_values=True))"
      ],
      "metadata": {
        "id": "wTg369D6hADv"
      },
      "execution_count": 30,
      "outputs": []
    },
    {
      "cell_type": "code",
      "source": [
        "# cv = ShuffleSplit(n_splits=10, random_state=42)\n",
        "# cv_results = cross_validate(ridge, data, target,\n",
        "#                             cv=cv, scoring=\"neg_mean_squared_error\",\n",
        "#                             return_train_score=True,\n",
        "#                             return_estimator=True, n_jobs=-1)"
      ],
      "metadata": {
        "id": "_97Cx0hCiNRj"
      },
      "execution_count": 31,
      "outputs": []
    },
    {
      "cell_type": "code",
      "source": [
        "# train_error = -cv_results[\"train_score\"]\n",
        "# print(f\"Mean squared error of linear regression model on the train set:\\n\"\n",
        "#       f\"{train_error.mean():.3f} +/- {train_error.std():.3f}\")\n",
        "\n",
        "# test_error = -cv_results[\"test_score\"]\n",
        "# print(f\"Mean squared error of linear regression model on the test set:\\n\"\n",
        "#       f\"{test_error.mean():.3f} +/- {test_error.std():.3f}\")"
      ],
      "metadata": {
        "id": "QPoHVLmEiSU9"
      },
      "execution_count": 32,
      "outputs": []
    },
    {
      "cell_type": "code",
      "source": [
        ""
      ],
      "metadata": {
        "id": "F2oo0-9Bj2fP"
      },
      "execution_count": 32,
      "outputs": []
    }
  ]
}