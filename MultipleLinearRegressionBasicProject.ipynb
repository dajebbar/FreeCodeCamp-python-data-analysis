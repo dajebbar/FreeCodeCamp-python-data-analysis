{
  "nbformat": 4,
  "nbformat_minor": 0,
  "metadata": {
    "colab": {
      "name": "MultipleLinearRegressionBasicProject.ipynb",
      "provenance": [],
      "authorship_tag": "ABX9TyOcRap4qMPqhFZf3ZFY53qF",
      "include_colab_link": true
    },
    "kernelspec": {
      "name": "python3",
      "display_name": "Python 3"
    },
    "language_info": {
      "name": "python"
    }
  },
  "cells": [
    {
      "cell_type": "markdown",
      "metadata": {
        "id": "view-in-github",
        "colab_type": "text"
      },
      "source": [
        "<a href=\"https://colab.research.google.com/github/dajebbar/FreeCodeCamp-python-data-analysis/blob/main/MultipleLinearRegressionBasicProject.ipynb\" target=\"_parent\"><img src=\"https://colab.research.google.com/assets/colab-badge.svg\" alt=\"Open In Colab\"/></a>"
      ]
    },
    {
      "cell_type": "markdown",
      "source": [
        "# 50 Startups\n",
        "This dataset has data collected from New York, California and Florida about 50 business Startups \"17 in each state\". The variables used in the dataset are Profit, R&D spending, Administration Spending, and Marketing Spending.\n",
        "\n",
        "## Objectif:\n",
        "Predict the profit of startups."
      ],
      "metadata": {
        "id": "ohTZPmVtFB_r"
      }
    },
    {
      "cell_type": "markdown",
      "source": [
        "## Import Libraries and dataset"
      ],
      "metadata": {
        "id": "haImtvveF4dd"
      }
    },
    {
      "cell_type": "code",
      "execution_count": 1,
      "metadata": {
        "id": "27aRXyIeE8FK"
      },
      "outputs": [],
      "source": [
        "!pip install opendatasets --upgrade --quiet"
      ]
    },
    {
      "cell_type": "code",
      "source": [
        "import pandas as pd\n",
        "import numpy as np\n",
        "import matplotlib.pyplot as plt\n",
        "import missingno as msno\n",
        "import opendatasets as od\n",
        "plt.style.use('fivethirtyeight')\n",
        "%matplotlib inline"
      ],
      "metadata": {
        "id": "RPo8CWVxGLVV"
      },
      "execution_count": 2,
      "outputs": []
    },
    {
      "cell_type": "code",
      "source": [
        "url = 'https://www.kaggle.com/farhanmd29/50-startups'\n",
        "od.download(url)"
      ],
      "metadata": {
        "colab": {
          "base_uri": "https://localhost:8080/"
        },
        "id": "_J2FZWfSGvcb",
        "outputId": "1ec06793-66bd-411d-9d1b-063d17bedfb7"
      },
      "execution_count": 3,
      "outputs": [
        {
          "output_type": "stream",
          "name": "stdout",
          "text": [
            "Skipping, found downloaded files in \"./50-startups\" (use force=True to force download)\n"
          ]
        }
      ]
    },
    {
      "cell_type": "code",
      "source": [
        "startup = pd.read_csv('./50-startups/50_Startups.csv')\n",
        "startup.head()"
      ],
      "metadata": {
        "colab": {
          "base_uri": "https://localhost:8080/",
          "height": 206
        },
        "id": "qBvo1z7cHC-c",
        "outputId": "7d164526-2da1-4e4e-b264-6e635aeb62d8"
      },
      "execution_count": 4,
      "outputs": [
        {
          "output_type": "execute_result",
          "data": {
            "text/html": [
              "\n",
              "  <div id=\"df-be858048-56f5-4493-a85e-a91222367b8e\">\n",
              "    <div class=\"colab-df-container\">\n",
              "      <div>\n",
              "<style scoped>\n",
              "    .dataframe tbody tr th:only-of-type {\n",
              "        vertical-align: middle;\n",
              "    }\n",
              "\n",
              "    .dataframe tbody tr th {\n",
              "        vertical-align: top;\n",
              "    }\n",
              "\n",
              "    .dataframe thead th {\n",
              "        text-align: right;\n",
              "    }\n",
              "</style>\n",
              "<table border=\"1\" class=\"dataframe\">\n",
              "  <thead>\n",
              "    <tr style=\"text-align: right;\">\n",
              "      <th></th>\n",
              "      <th>R&amp;D Spend</th>\n",
              "      <th>Administration</th>\n",
              "      <th>Marketing Spend</th>\n",
              "      <th>State</th>\n",
              "      <th>Profit</th>\n",
              "    </tr>\n",
              "  </thead>\n",
              "  <tbody>\n",
              "    <tr>\n",
              "      <th>0</th>\n",
              "      <td>165349.20</td>\n",
              "      <td>136897.80</td>\n",
              "      <td>471784.10</td>\n",
              "      <td>New York</td>\n",
              "      <td>192261.83</td>\n",
              "    </tr>\n",
              "    <tr>\n",
              "      <th>1</th>\n",
              "      <td>162597.70</td>\n",
              "      <td>151377.59</td>\n",
              "      <td>443898.53</td>\n",
              "      <td>California</td>\n",
              "      <td>191792.06</td>\n",
              "    </tr>\n",
              "    <tr>\n",
              "      <th>2</th>\n",
              "      <td>153441.51</td>\n",
              "      <td>101145.55</td>\n",
              "      <td>407934.54</td>\n",
              "      <td>Florida</td>\n",
              "      <td>191050.39</td>\n",
              "    </tr>\n",
              "    <tr>\n",
              "      <th>3</th>\n",
              "      <td>144372.41</td>\n",
              "      <td>118671.85</td>\n",
              "      <td>383199.62</td>\n",
              "      <td>New York</td>\n",
              "      <td>182901.99</td>\n",
              "    </tr>\n",
              "    <tr>\n",
              "      <th>4</th>\n",
              "      <td>142107.34</td>\n",
              "      <td>91391.77</td>\n",
              "      <td>366168.42</td>\n",
              "      <td>Florida</td>\n",
              "      <td>166187.94</td>\n",
              "    </tr>\n",
              "  </tbody>\n",
              "</table>\n",
              "</div>\n",
              "      <button class=\"colab-df-convert\" onclick=\"convertToInteractive('df-be858048-56f5-4493-a85e-a91222367b8e')\"\n",
              "              title=\"Convert this dataframe to an interactive table.\"\n",
              "              style=\"display:none;\">\n",
              "        \n",
              "  <svg xmlns=\"http://www.w3.org/2000/svg\" height=\"24px\"viewBox=\"0 0 24 24\"\n",
              "       width=\"24px\">\n",
              "    <path d=\"M0 0h24v24H0V0z\" fill=\"none\"/>\n",
              "    <path d=\"M18.56 5.44l.94 2.06.94-2.06 2.06-.94-2.06-.94-.94-2.06-.94 2.06-2.06.94zm-11 1L8.5 8.5l.94-2.06 2.06-.94-2.06-.94L8.5 2.5l-.94 2.06-2.06.94zm10 10l.94 2.06.94-2.06 2.06-.94-2.06-.94-.94-2.06-.94 2.06-2.06.94z\"/><path d=\"M17.41 7.96l-1.37-1.37c-.4-.4-.92-.59-1.43-.59-.52 0-1.04.2-1.43.59L10.3 9.45l-7.72 7.72c-.78.78-.78 2.05 0 2.83L4 21.41c.39.39.9.59 1.41.59.51 0 1.02-.2 1.41-.59l7.78-7.78 2.81-2.81c.8-.78.8-2.07 0-2.86zM5.41 20L4 18.59l7.72-7.72 1.47 1.35L5.41 20z\"/>\n",
              "  </svg>\n",
              "      </button>\n",
              "      \n",
              "  <style>\n",
              "    .colab-df-container {\n",
              "      display:flex;\n",
              "      flex-wrap:wrap;\n",
              "      gap: 12px;\n",
              "    }\n",
              "\n",
              "    .colab-df-convert {\n",
              "      background-color: #E8F0FE;\n",
              "      border: none;\n",
              "      border-radius: 50%;\n",
              "      cursor: pointer;\n",
              "      display: none;\n",
              "      fill: #1967D2;\n",
              "      height: 32px;\n",
              "      padding: 0 0 0 0;\n",
              "      width: 32px;\n",
              "    }\n",
              "\n",
              "    .colab-df-convert:hover {\n",
              "      background-color: #E2EBFA;\n",
              "      box-shadow: 0px 1px 2px rgba(60, 64, 67, 0.3), 0px 1px 3px 1px rgba(60, 64, 67, 0.15);\n",
              "      fill: #174EA6;\n",
              "    }\n",
              "\n",
              "    [theme=dark] .colab-df-convert {\n",
              "      background-color: #3B4455;\n",
              "      fill: #D2E3FC;\n",
              "    }\n",
              "\n",
              "    [theme=dark] .colab-df-convert:hover {\n",
              "      background-color: #434B5C;\n",
              "      box-shadow: 0px 1px 3px 1px rgba(0, 0, 0, 0.15);\n",
              "      filter: drop-shadow(0px 1px 2px rgba(0, 0, 0, 0.3));\n",
              "      fill: #FFFFFF;\n",
              "    }\n",
              "  </style>\n",
              "\n",
              "      <script>\n",
              "        const buttonEl =\n",
              "          document.querySelector('#df-be858048-56f5-4493-a85e-a91222367b8e button.colab-df-convert');\n",
              "        buttonEl.style.display =\n",
              "          google.colab.kernel.accessAllowed ? 'block' : 'none';\n",
              "\n",
              "        async function convertToInteractive(key) {\n",
              "          const element = document.querySelector('#df-be858048-56f5-4493-a85e-a91222367b8e');\n",
              "          const dataTable =\n",
              "            await google.colab.kernel.invokeFunction('convertToInteractive',\n",
              "                                                     [key], {});\n",
              "          if (!dataTable) return;\n",
              "\n",
              "          const docLinkHtml = 'Like what you see? Visit the ' +\n",
              "            '<a target=\"_blank\" href=https://colab.research.google.com/notebooks/data_table.ipynb>data table notebook</a>'\n",
              "            + ' to learn more about interactive tables.';\n",
              "          element.innerHTML = '';\n",
              "          dataTable['output_type'] = 'display_data';\n",
              "          await google.colab.output.renderOutput(dataTable, element);\n",
              "          const docLink = document.createElement('div');\n",
              "          docLink.innerHTML = docLinkHtml;\n",
              "          element.appendChild(docLink);\n",
              "        }\n",
              "      </script>\n",
              "    </div>\n",
              "  </div>\n",
              "  "
            ],
            "text/plain": [
              "   R&D Spend  Administration  Marketing Spend       State     Profit\n",
              "0  165349.20       136897.80        471784.10    New York  192261.83\n",
              "1  162597.70       151377.59        443898.53  California  191792.06\n",
              "2  153441.51       101145.55        407934.54     Florida  191050.39\n",
              "3  144372.41       118671.85        383199.62    New York  182901.99\n",
              "4  142107.34        91391.77        366168.42     Florida  166187.94"
            ]
          },
          "metadata": {},
          "execution_count": 4
        }
      ]
    },
    {
      "cell_type": "code",
      "source": [
        "# Clean columns\n",
        "def clean(col):\n",
        "  return col.replace('R&D Spend', 'RD_Spend').replace(\n",
        "      'Marketing Spend', 'Marketing_Spend')\n",
        "\n",
        "startup = startup.rename(columns=clean)\n",
        "startup.columns\n"
      ],
      "metadata": {
        "colab": {
          "base_uri": "https://localhost:8080/"
        },
        "id": "RvFHyO_4HT9g",
        "outputId": "1a5a6c5e-adf5-4137-ed50-9ad53a2d0502"
      },
      "execution_count": 5,
      "outputs": [
        {
          "output_type": "execute_result",
          "data": {
            "text/plain": [
              "Index(['RD_Spend', 'Administration', 'Marketing_Spend', 'State', 'Profit'], dtype='object')"
            ]
          },
          "metadata": {},
          "execution_count": 5
        }
      ]
    },
    {
      "cell_type": "code",
      "source": [
        "# Data shape\n",
        "startup.shape"
      ],
      "metadata": {
        "colab": {
          "base_uri": "https://localhost:8080/"
        },
        "id": "bl4SBOK-I6CQ",
        "outputId": "d2515a26-4af4-4732-8114-a0d589a26e38"
      },
      "execution_count": 6,
      "outputs": [
        {
          "output_type": "execute_result",
          "data": {
            "text/plain": [
              "(50, 5)"
            ]
          },
          "metadata": {},
          "execution_count": 6
        }
      ]
    },
    {
      "cell_type": "code",
      "source": [
        "startup.info()"
      ],
      "metadata": {
        "colab": {
          "base_uri": "https://localhost:8080/"
        },
        "id": "S2PqRletJMlB",
        "outputId": "5867ca26-b6e9-4016-b07f-6bb0df6aacea"
      },
      "execution_count": 7,
      "outputs": [
        {
          "output_type": "stream",
          "name": "stdout",
          "text": [
            "<class 'pandas.core.frame.DataFrame'>\n",
            "RangeIndex: 50 entries, 0 to 49\n",
            "Data columns (total 5 columns):\n",
            " #   Column           Non-Null Count  Dtype  \n",
            "---  ------           --------------  -----  \n",
            " 0   RD_Spend         50 non-null     float64\n",
            " 1   Administration   50 non-null     float64\n",
            " 2   Marketing_Spend  50 non-null     float64\n",
            " 3   State            50 non-null     object \n",
            " 4   Profit           50 non-null     float64\n",
            "dtypes: float64(4), object(1)\n",
            "memory usage: 2.1+ KB\n"
          ]
        }
      ]
    },
    {
      "cell_type": "code",
      "source": [
        "startup.duplicated().any()"
      ],
      "metadata": {
        "colab": {
          "base_uri": "https://localhost:8080/"
        },
        "id": "S_RwsqavJTq6",
        "outputId": "93af2487-e6e1-4ed8-cbb8-b7b9dc4111dd"
      },
      "execution_count": 8,
      "outputs": [
        {
          "output_type": "execute_result",
          "data": {
            "text/plain": [
              "False"
            ]
          },
          "metadata": {},
          "execution_count": 8
        }
      ]
    },
    {
      "cell_type": "code",
      "source": [
        "startup.isna().sum()"
      ],
      "metadata": {
        "colab": {
          "base_uri": "https://localhost:8080/"
        },
        "id": "Bb6u8WTzKaIh",
        "outputId": "42d5a6f0-54bd-4d5e-d330-0b7bf926778e"
      },
      "execution_count": 9,
      "outputs": [
        {
          "output_type": "execute_result",
          "data": {
            "text/plain": [
              "RD_Spend           0\n",
              "Administration     0\n",
              "Marketing_Spend    0\n",
              "State              0\n",
              "Profit             0\n",
              "dtype: int64"
            ]
          },
          "metadata": {},
          "execution_count": 9
        }
      ]
    },
    {
      "cell_type": "code",
      "source": [
        "startup.State.value_counts()"
      ],
      "metadata": {
        "colab": {
          "base_uri": "https://localhost:8080/"
        },
        "id": "zoZmpZKzKmk1",
        "outputId": "d4dbaf54-5d4c-48be-8b20-6a225e1f96c3"
      },
      "execution_count": 10,
      "outputs": [
        {
          "output_type": "execute_result",
          "data": {
            "text/plain": [
              "New York      17\n",
              "California    17\n",
              "Florida       16\n",
              "Name: State, dtype: int64"
            ]
          },
          "metadata": {},
          "execution_count": 10
        }
      ]
    },
    {
      "cell_type": "code",
      "source": [
        "startup.describe().T"
      ],
      "metadata": {
        "colab": {
          "base_uri": "https://localhost:8080/",
          "height": 175
        },
        "id": "DD7IqvqzKsHF",
        "outputId": "4430d3c1-c822-42a1-da27-79a8ae97d3cf"
      },
      "execution_count": 11,
      "outputs": [
        {
          "output_type": "execute_result",
          "data": {
            "text/html": [
              "\n",
              "  <div id=\"df-f35e523f-6354-4b69-9632-6b2f8df45b3e\">\n",
              "    <div class=\"colab-df-container\">\n",
              "      <div>\n",
              "<style scoped>\n",
              "    .dataframe tbody tr th:only-of-type {\n",
              "        vertical-align: middle;\n",
              "    }\n",
              "\n",
              "    .dataframe tbody tr th {\n",
              "        vertical-align: top;\n",
              "    }\n",
              "\n",
              "    .dataframe thead th {\n",
              "        text-align: right;\n",
              "    }\n",
              "</style>\n",
              "<table border=\"1\" class=\"dataframe\">\n",
              "  <thead>\n",
              "    <tr style=\"text-align: right;\">\n",
              "      <th></th>\n",
              "      <th>count</th>\n",
              "      <th>mean</th>\n",
              "      <th>std</th>\n",
              "      <th>min</th>\n",
              "      <th>25%</th>\n",
              "      <th>50%</th>\n",
              "      <th>75%</th>\n",
              "      <th>max</th>\n",
              "    </tr>\n",
              "  </thead>\n",
              "  <tbody>\n",
              "    <tr>\n",
              "      <th>RD_Spend</th>\n",
              "      <td>50.0</td>\n",
              "      <td>73721.6156</td>\n",
              "      <td>45902.256482</td>\n",
              "      <td>0.00</td>\n",
              "      <td>39936.3700</td>\n",
              "      <td>73051.080</td>\n",
              "      <td>101602.8000</td>\n",
              "      <td>165349.20</td>\n",
              "    </tr>\n",
              "    <tr>\n",
              "      <th>Administration</th>\n",
              "      <td>50.0</td>\n",
              "      <td>121344.6396</td>\n",
              "      <td>28017.802755</td>\n",
              "      <td>51283.14</td>\n",
              "      <td>103730.8750</td>\n",
              "      <td>122699.795</td>\n",
              "      <td>144842.1800</td>\n",
              "      <td>182645.56</td>\n",
              "    </tr>\n",
              "    <tr>\n",
              "      <th>Marketing_Spend</th>\n",
              "      <td>50.0</td>\n",
              "      <td>211025.0978</td>\n",
              "      <td>122290.310726</td>\n",
              "      <td>0.00</td>\n",
              "      <td>129300.1325</td>\n",
              "      <td>212716.240</td>\n",
              "      <td>299469.0850</td>\n",
              "      <td>471784.10</td>\n",
              "    </tr>\n",
              "    <tr>\n",
              "      <th>Profit</th>\n",
              "      <td>50.0</td>\n",
              "      <td>112012.6392</td>\n",
              "      <td>40306.180338</td>\n",
              "      <td>14681.40</td>\n",
              "      <td>90138.9025</td>\n",
              "      <td>107978.190</td>\n",
              "      <td>139765.9775</td>\n",
              "      <td>192261.83</td>\n",
              "    </tr>\n",
              "  </tbody>\n",
              "</table>\n",
              "</div>\n",
              "      <button class=\"colab-df-convert\" onclick=\"convertToInteractive('df-f35e523f-6354-4b69-9632-6b2f8df45b3e')\"\n",
              "              title=\"Convert this dataframe to an interactive table.\"\n",
              "              style=\"display:none;\">\n",
              "        \n",
              "  <svg xmlns=\"http://www.w3.org/2000/svg\" height=\"24px\"viewBox=\"0 0 24 24\"\n",
              "       width=\"24px\">\n",
              "    <path d=\"M0 0h24v24H0V0z\" fill=\"none\"/>\n",
              "    <path d=\"M18.56 5.44l.94 2.06.94-2.06 2.06-.94-2.06-.94-.94-2.06-.94 2.06-2.06.94zm-11 1L8.5 8.5l.94-2.06 2.06-.94-2.06-.94L8.5 2.5l-.94 2.06-2.06.94zm10 10l.94 2.06.94-2.06 2.06-.94-2.06-.94-.94-2.06-.94 2.06-2.06.94z\"/><path d=\"M17.41 7.96l-1.37-1.37c-.4-.4-.92-.59-1.43-.59-.52 0-1.04.2-1.43.59L10.3 9.45l-7.72 7.72c-.78.78-.78 2.05 0 2.83L4 21.41c.39.39.9.59 1.41.59.51 0 1.02-.2 1.41-.59l7.78-7.78 2.81-2.81c.8-.78.8-2.07 0-2.86zM5.41 20L4 18.59l7.72-7.72 1.47 1.35L5.41 20z\"/>\n",
              "  </svg>\n",
              "      </button>\n",
              "      \n",
              "  <style>\n",
              "    .colab-df-container {\n",
              "      display:flex;\n",
              "      flex-wrap:wrap;\n",
              "      gap: 12px;\n",
              "    }\n",
              "\n",
              "    .colab-df-convert {\n",
              "      background-color: #E8F0FE;\n",
              "      border: none;\n",
              "      border-radius: 50%;\n",
              "      cursor: pointer;\n",
              "      display: none;\n",
              "      fill: #1967D2;\n",
              "      height: 32px;\n",
              "      padding: 0 0 0 0;\n",
              "      width: 32px;\n",
              "    }\n",
              "\n",
              "    .colab-df-convert:hover {\n",
              "      background-color: #E2EBFA;\n",
              "      box-shadow: 0px 1px 2px rgba(60, 64, 67, 0.3), 0px 1px 3px 1px rgba(60, 64, 67, 0.15);\n",
              "      fill: #174EA6;\n",
              "    }\n",
              "\n",
              "    [theme=dark] .colab-df-convert {\n",
              "      background-color: #3B4455;\n",
              "      fill: #D2E3FC;\n",
              "    }\n",
              "\n",
              "    [theme=dark] .colab-df-convert:hover {\n",
              "      background-color: #434B5C;\n",
              "      box-shadow: 0px 1px 3px 1px rgba(0, 0, 0, 0.15);\n",
              "      filter: drop-shadow(0px 1px 2px rgba(0, 0, 0, 0.3));\n",
              "      fill: #FFFFFF;\n",
              "    }\n",
              "  </style>\n",
              "\n",
              "      <script>\n",
              "        const buttonEl =\n",
              "          document.querySelector('#df-f35e523f-6354-4b69-9632-6b2f8df45b3e button.colab-df-convert');\n",
              "        buttonEl.style.display =\n",
              "          google.colab.kernel.accessAllowed ? 'block' : 'none';\n",
              "\n",
              "        async function convertToInteractive(key) {\n",
              "          const element = document.querySelector('#df-f35e523f-6354-4b69-9632-6b2f8df45b3e');\n",
              "          const dataTable =\n",
              "            await google.colab.kernel.invokeFunction('convertToInteractive',\n",
              "                                                     [key], {});\n",
              "          if (!dataTable) return;\n",
              "\n",
              "          const docLinkHtml = 'Like what you see? Visit the ' +\n",
              "            '<a target=\"_blank\" href=https://colab.research.google.com/notebooks/data_table.ipynb>data table notebook</a>'\n",
              "            + ' to learn more about interactive tables.';\n",
              "          element.innerHTML = '';\n",
              "          dataTable['output_type'] = 'display_data';\n",
              "          await google.colab.output.renderOutput(dataTable, element);\n",
              "          const docLink = document.createElement('div');\n",
              "          docLink.innerHTML = docLinkHtml;\n",
              "          element.appendChild(docLink);\n",
              "        }\n",
              "      </script>\n",
              "    </div>\n",
              "  </div>\n",
              "  "
            ],
            "text/plain": [
              "                 count         mean            std       min          25%  \\\n",
              "RD_Spend          50.0   73721.6156   45902.256482      0.00   39936.3700   \n",
              "Administration    50.0  121344.6396   28017.802755  51283.14  103730.8750   \n",
              "Marketing_Spend   50.0  211025.0978  122290.310726      0.00  129300.1325   \n",
              "Profit            50.0  112012.6392   40306.180338  14681.40   90138.9025   \n",
              "\n",
              "                        50%          75%        max  \n",
              "RD_Spend          73051.080  101602.8000  165349.20  \n",
              "Administration   122699.795  144842.1800  182645.56  \n",
              "Marketing_Spend  212716.240  299469.0850  471784.10  \n",
              "Profit           107978.190  139765.9775  192261.83  "
            ]
          },
          "metadata": {},
          "execution_count": 11
        }
      ]
    },
    {
      "cell_type": "code",
      "source": [
        "from sklearn.model_selection import (\n",
        "    cross_validate,\n",
        "    ShuffleSplit,\n",
        ")\n",
        "from sklearn.preprocessing import (\n",
        "    StandardScaler, \n",
        "    OneHotEncoder\n",
        ")\n",
        "from sklearn.pipeline import make_pipeline\n",
        "from sklearn.compose import ColumnTransformer\n",
        "from sklearn.linear_model import LinearRegression\n",
        "from sklearn.metrics import mean_absolute_error"
      ],
      "metadata": {
        "id": "K65N2l4KK1rZ"
      },
      "execution_count": 12,
      "outputs": []
    },
    {
      "cell_type": "code",
      "source": [
        "data = startup.drop(columns=['Profit'], axis=1)\n",
        "target= startup.Profit"
      ],
      "metadata": {
        "id": "Plq0K10cPepi"
      },
      "execution_count": 13,
      "outputs": []
    },
    {
      "cell_type": "code",
      "source": [
        "target.head()"
      ],
      "metadata": {
        "colab": {
          "base_uri": "https://localhost:8080/"
        },
        "id": "KOT6MhOJTZ1z",
        "outputId": "ad66a3a9-6fa6-4ec1-85ea-2a57301903a0"
      },
      "execution_count": 14,
      "outputs": [
        {
          "output_type": "execute_result",
          "data": {
            "text/plain": [
              "0    192261.83\n",
              "1    191792.06\n",
              "2    191050.39\n",
              "3    182901.99\n",
              "4    166187.94\n",
              "Name: Profit, dtype: float64"
            ]
          },
          "metadata": {},
          "execution_count": 14
        }
      ]
    },
    {
      "cell_type": "code",
      "source": [
        "num_features = data.select_dtypes(include='number').columns.tolist()\n",
        "cat_features = data.select_dtypes(include='object').columns.tolist()\n",
        "print(num_features)\n",
        "print(cat_features)"
      ],
      "metadata": {
        "colab": {
          "base_uri": "https://localhost:8080/"
        },
        "id": "7K6mCmWlP0EP",
        "outputId": "6929f0cb-e395-42b5-cd71-8b8b8c74cea4"
      },
      "execution_count": 15,
      "outputs": [
        {
          "output_type": "stream",
          "name": "stdout",
          "text": [
            "['RD_Spend', 'Administration', 'Marketing_Spend']\n",
            "['State']\n"
          ]
        }
      ]
    },
    {
      "cell_type": "code",
      "source": [
        "num_transformer = StandardScaler()\n",
        "cat_transformer = OneHotEncoder(handle_unknown='ignore')\n",
        "\n",
        "preprocessor = ColumnTransformer([\n",
        "               ('scl', num_transformer, num_features),\n",
        "               ('encoder', cat_transformer, cat_features),                  \n",
        "])"
      ],
      "metadata": {
        "id": "_uwcg8acQdjf"
      },
      "execution_count": 16,
      "outputs": []
    },
    {
      "cell_type": "code",
      "source": [
        "model = make_pipeline(preprocessor, LinearRegression())"
      ],
      "metadata": {
        "id": "2iwkTuXUOPzg"
      },
      "execution_count": 17,
      "outputs": []
    },
    {
      "cell_type": "code",
      "source": [
        "cv = ShuffleSplit(n_splits=40, test_size=0.3, random_state=42)\n",
        "cv_results = cross_validate(\n",
        "    model,\n",
        "    data,\n",
        "    target,\n",
        "    scoring='neg_mean_absolute_error',\n",
        "    cv=cv,\n",
        "    return_train_score=True,\n",
        "    n_jobs=-1,\n",
        ")"
      ],
      "metadata": {
        "id": "bZi8mZ1POqGc"
      },
      "execution_count": 20,
      "outputs": []
    },
    {
      "cell_type": "code",
      "source": [
        "cv_results = pd.DataFrame(cv_results)\n",
        "cv_results = cv_results.assign(\n",
        "    train_error = -cv_results['train_score'],\n",
        "    test_error = -cv_results['test_score']\n",
        ")\n",
        "cv_results"
      ],
      "metadata": {
        "colab": {
          "base_uri": "https://localhost:8080/",
          "height": 1000
        },
        "id": "mj1r-dtlSSvt",
        "outputId": "b85d87fe-0986-477b-a952-0a92ff180ec6"
      },
      "execution_count": 21,
      "outputs": [
        {
          "output_type": "execute_result",
          "data": {
            "text/html": [
              "\n",
              "  <div id=\"df-ec7abf3d-f9cb-4a84-a0cf-5c2f84aae69e\">\n",
              "    <div class=\"colab-df-container\">\n",
              "      <div>\n",
              "<style scoped>\n",
              "    .dataframe tbody tr th:only-of-type {\n",
              "        vertical-align: middle;\n",
              "    }\n",
              "\n",
              "    .dataframe tbody tr th {\n",
              "        vertical-align: top;\n",
              "    }\n",
              "\n",
              "    .dataframe thead th {\n",
              "        text-align: right;\n",
              "    }\n",
              "</style>\n",
              "<table border=\"1\" class=\"dataframe\">\n",
              "  <thead>\n",
              "    <tr style=\"text-align: right;\">\n",
              "      <th></th>\n",
              "      <th>fit_time</th>\n",
              "      <th>score_time</th>\n",
              "      <th>test_score</th>\n",
              "      <th>train_score</th>\n",
              "      <th>train_error</th>\n",
              "      <th>test_error</th>\n",
              "    </tr>\n",
              "  </thead>\n",
              "  <tbody>\n",
              "    <tr>\n",
              "      <th>0</th>\n",
              "      <td>0.010445</td>\n",
              "      <td>0.005545</td>\n",
              "      <td>-7395.433532</td>\n",
              "      <td>-6644.554733</td>\n",
              "      <td>6644.554733</td>\n",
              "      <td>7395.433532</td>\n",
              "    </tr>\n",
              "    <tr>\n",
              "      <th>1</th>\n",
              "      <td>0.018046</td>\n",
              "      <td>0.006165</td>\n",
              "      <td>-9298.648495</td>\n",
              "      <td>-5396.945427</td>\n",
              "      <td>5396.945427</td>\n",
              "      <td>9298.648495</td>\n",
              "    </tr>\n",
              "    <tr>\n",
              "      <th>2</th>\n",
              "      <td>0.014574</td>\n",
              "      <td>0.005631</td>\n",
              "      <td>-9351.288817</td>\n",
              "      <td>-5372.631726</td>\n",
              "      <td>5372.631726</td>\n",
              "      <td>9351.288817</td>\n",
              "    </tr>\n",
              "    <tr>\n",
              "      <th>3</th>\n",
              "      <td>0.015168</td>\n",
              "      <td>0.010600</td>\n",
              "      <td>-10704.193906</td>\n",
              "      <td>-5377.481351</td>\n",
              "      <td>5377.481351</td>\n",
              "      <td>10704.193906</td>\n",
              "    </tr>\n",
              "    <tr>\n",
              "      <th>4</th>\n",
              "      <td>0.010202</td>\n",
              "      <td>0.005437</td>\n",
              "      <td>-6530.565532</td>\n",
              "      <td>-6923.058904</td>\n",
              "      <td>6923.058904</td>\n",
              "      <td>6530.565532</td>\n",
              "    </tr>\n",
              "    <tr>\n",
              "      <th>5</th>\n",
              "      <td>0.009434</td>\n",
              "      <td>0.005409</td>\n",
              "      <td>-7717.571364</td>\n",
              "      <td>-6309.281620</td>\n",
              "      <td>6309.281620</td>\n",
              "      <td>7717.571364</td>\n",
              "    </tr>\n",
              "    <tr>\n",
              "      <th>6</th>\n",
              "      <td>0.009926</td>\n",
              "      <td>0.005468</td>\n",
              "      <td>-6045.260037</td>\n",
              "      <td>-7088.669930</td>\n",
              "      <td>7088.669930</td>\n",
              "      <td>6045.260037</td>\n",
              "    </tr>\n",
              "    <tr>\n",
              "      <th>7</th>\n",
              "      <td>0.009666</td>\n",
              "      <td>0.011717</td>\n",
              "      <td>-9161.565963</td>\n",
              "      <td>-6145.972965</td>\n",
              "      <td>6145.972965</td>\n",
              "      <td>9161.565963</td>\n",
              "    </tr>\n",
              "    <tr>\n",
              "      <th>8</th>\n",
              "      <td>0.011981</td>\n",
              "      <td>0.005668</td>\n",
              "      <td>-7055.850736</td>\n",
              "      <td>-6610.807708</td>\n",
              "      <td>6610.807708</td>\n",
              "      <td>7055.850736</td>\n",
              "    </tr>\n",
              "    <tr>\n",
              "      <th>9</th>\n",
              "      <td>0.009475</td>\n",
              "      <td>0.005420</td>\n",
              "      <td>-5880.908598</td>\n",
              "      <td>-7127.224528</td>\n",
              "      <td>7127.224528</td>\n",
              "      <td>5880.908598</td>\n",
              "    </tr>\n",
              "    <tr>\n",
              "      <th>10</th>\n",
              "      <td>0.010157</td>\n",
              "      <td>0.005426</td>\n",
              "      <td>-8283.336415</td>\n",
              "      <td>-6348.414712</td>\n",
              "      <td>6348.414712</td>\n",
              "      <td>8283.336415</td>\n",
              "    </tr>\n",
              "    <tr>\n",
              "      <th>11</th>\n",
              "      <td>0.020978</td>\n",
              "      <td>0.005642</td>\n",
              "      <td>-6885.878737</td>\n",
              "      <td>-6712.703479</td>\n",
              "      <td>6712.703479</td>\n",
              "      <td>6885.878737</td>\n",
              "    </tr>\n",
              "    <tr>\n",
              "      <th>12</th>\n",
              "      <td>0.017011</td>\n",
              "      <td>0.007012</td>\n",
              "      <td>-8804.328965</td>\n",
              "      <td>-5828.383870</td>\n",
              "      <td>5828.383870</td>\n",
              "      <td>8804.328965</td>\n",
              "    </tr>\n",
              "    <tr>\n",
              "      <th>13</th>\n",
              "      <td>0.016463</td>\n",
              "      <td>0.006034</td>\n",
              "      <td>-5165.192259</td>\n",
              "      <td>-7213.119929</td>\n",
              "      <td>7213.119929</td>\n",
              "      <td>5165.192259</td>\n",
              "    </tr>\n",
              "    <tr>\n",
              "      <th>14</th>\n",
              "      <td>0.009780</td>\n",
              "      <td>0.005418</td>\n",
              "      <td>-9247.202336</td>\n",
              "      <td>-5614.823459</td>\n",
              "      <td>5614.823459</td>\n",
              "      <td>9247.202336</td>\n",
              "    </tr>\n",
              "    <tr>\n",
              "      <th>15</th>\n",
              "      <td>0.009531</td>\n",
              "      <td>0.005427</td>\n",
              "      <td>-9931.465381</td>\n",
              "      <td>-6050.566126</td>\n",
              "      <td>6050.566126</td>\n",
              "      <td>9931.465381</td>\n",
              "    </tr>\n",
              "    <tr>\n",
              "      <th>16</th>\n",
              "      <td>0.010144</td>\n",
              "      <td>0.005512</td>\n",
              "      <td>-7306.669904</td>\n",
              "      <td>-6544.786701</td>\n",
              "      <td>6544.786701</td>\n",
              "      <td>7306.669904</td>\n",
              "    </tr>\n",
              "    <tr>\n",
              "      <th>17</th>\n",
              "      <td>0.009778</td>\n",
              "      <td>0.005778</td>\n",
              "      <td>-5781.562946</td>\n",
              "      <td>-6998.369737</td>\n",
              "      <td>6998.369737</td>\n",
              "      <td>5781.562946</td>\n",
              "    </tr>\n",
              "    <tr>\n",
              "      <th>18</th>\n",
              "      <td>0.009510</td>\n",
              "      <td>0.005508</td>\n",
              "      <td>-5844.238372</td>\n",
              "      <td>-7248.342666</td>\n",
              "      <td>7248.342666</td>\n",
              "      <td>5844.238372</td>\n",
              "    </tr>\n",
              "    <tr>\n",
              "      <th>19</th>\n",
              "      <td>0.011671</td>\n",
              "      <td>0.005329</td>\n",
              "      <td>-7692.785724</td>\n",
              "      <td>-6320.719988</td>\n",
              "      <td>6320.719988</td>\n",
              "      <td>7692.785724</td>\n",
              "    </tr>\n",
              "    <tr>\n",
              "      <th>20</th>\n",
              "      <td>0.019196</td>\n",
              "      <td>0.005526</td>\n",
              "      <td>-5005.406834</td>\n",
              "      <td>-7548.638289</td>\n",
              "      <td>7548.638289</td>\n",
              "      <td>5005.406834</td>\n",
              "    </tr>\n",
              "    <tr>\n",
              "      <th>21</th>\n",
              "      <td>0.009519</td>\n",
              "      <td>0.005493</td>\n",
              "      <td>-7937.187759</td>\n",
              "      <td>-6461.003193</td>\n",
              "      <td>6461.003193</td>\n",
              "      <td>7937.187759</td>\n",
              "    </tr>\n",
              "    <tr>\n",
              "      <th>22</th>\n",
              "      <td>0.014629</td>\n",
              "      <td>0.005712</td>\n",
              "      <td>-6961.493142</td>\n",
              "      <td>-6994.500198</td>\n",
              "      <td>6994.500198</td>\n",
              "      <td>6961.493142</td>\n",
              "    </tr>\n",
              "    <tr>\n",
              "      <th>23</th>\n",
              "      <td>0.011055</td>\n",
              "      <td>0.005535</td>\n",
              "      <td>-8952.366449</td>\n",
              "      <td>-5750.845365</td>\n",
              "      <td>5750.845365</td>\n",
              "      <td>8952.366449</td>\n",
              "    </tr>\n",
              "    <tr>\n",
              "      <th>24</th>\n",
              "      <td>0.009384</td>\n",
              "      <td>0.005399</td>\n",
              "      <td>-7815.051932</td>\n",
              "      <td>-6379.337822</td>\n",
              "      <td>6379.337822</td>\n",
              "      <td>7815.051932</td>\n",
              "    </tr>\n",
              "    <tr>\n",
              "      <th>25</th>\n",
              "      <td>0.009552</td>\n",
              "      <td>0.005365</td>\n",
              "      <td>-7164.456202</td>\n",
              "      <td>-6394.678023</td>\n",
              "      <td>6394.678023</td>\n",
              "      <td>7164.456202</td>\n",
              "    </tr>\n",
              "    <tr>\n",
              "      <th>26</th>\n",
              "      <td>0.009269</td>\n",
              "      <td>0.015771</td>\n",
              "      <td>-8470.677501</td>\n",
              "      <td>-6082.994732</td>\n",
              "      <td>6082.994732</td>\n",
              "      <td>8470.677501</td>\n",
              "    </tr>\n",
              "    <tr>\n",
              "      <th>27</th>\n",
              "      <td>0.009848</td>\n",
              "      <td>0.005411</td>\n",
              "      <td>-9924.757847</td>\n",
              "      <td>-5805.579966</td>\n",
              "      <td>5805.579966</td>\n",
              "      <td>9924.757847</td>\n",
              "    </tr>\n",
              "    <tr>\n",
              "      <th>28</th>\n",
              "      <td>0.014280</td>\n",
              "      <td>0.005517</td>\n",
              "      <td>-7318.493558</td>\n",
              "      <td>-6746.110245</td>\n",
              "      <td>6746.110245</td>\n",
              "      <td>7318.493558</td>\n",
              "    </tr>\n",
              "    <tr>\n",
              "      <th>29</th>\n",
              "      <td>0.009934</td>\n",
              "      <td>0.005386</td>\n",
              "      <td>-6617.697512</td>\n",
              "      <td>-6700.008435</td>\n",
              "      <td>6700.008435</td>\n",
              "      <td>6617.697512</td>\n",
              "    </tr>\n",
              "    <tr>\n",
              "      <th>30</th>\n",
              "      <td>0.014207</td>\n",
              "      <td>0.005527</td>\n",
              "      <td>-8547.933879</td>\n",
              "      <td>-5925.062010</td>\n",
              "      <td>5925.062010</td>\n",
              "      <td>8547.933879</td>\n",
              "    </tr>\n",
              "    <tr>\n",
              "      <th>31</th>\n",
              "      <td>0.009752</td>\n",
              "      <td>0.005456</td>\n",
              "      <td>-8466.702792</td>\n",
              "      <td>-5794.799901</td>\n",
              "      <td>5794.799901</td>\n",
              "      <td>8466.702792</td>\n",
              "    </tr>\n",
              "    <tr>\n",
              "      <th>32</th>\n",
              "      <td>0.010484</td>\n",
              "      <td>0.005343</td>\n",
              "      <td>-8042.679989</td>\n",
              "      <td>-6788.430862</td>\n",
              "      <td>6788.430862</td>\n",
              "      <td>8042.679989</td>\n",
              "    </tr>\n",
              "    <tr>\n",
              "      <th>33</th>\n",
              "      <td>0.010162</td>\n",
              "      <td>0.005379</td>\n",
              "      <td>-9266.980423</td>\n",
              "      <td>-5241.767008</td>\n",
              "      <td>5241.767008</td>\n",
              "      <td>9266.980423</td>\n",
              "    </tr>\n",
              "    <tr>\n",
              "      <th>34</th>\n",
              "      <td>0.009871</td>\n",
              "      <td>0.005260</td>\n",
              "      <td>-7888.696216</td>\n",
              "      <td>-6323.477591</td>\n",
              "      <td>6323.477591</td>\n",
              "      <td>7888.696216</td>\n",
              "    </tr>\n",
              "    <tr>\n",
              "      <th>35</th>\n",
              "      <td>0.013608</td>\n",
              "      <td>0.005438</td>\n",
              "      <td>-4470.829814</td>\n",
              "      <td>-7725.292970</td>\n",
              "      <td>7725.292970</td>\n",
              "      <td>4470.829814</td>\n",
              "    </tr>\n",
              "    <tr>\n",
              "      <th>36</th>\n",
              "      <td>0.009775</td>\n",
              "      <td>0.005687</td>\n",
              "      <td>-8098.501893</td>\n",
              "      <td>-5931.771831</td>\n",
              "      <td>5931.771831</td>\n",
              "      <td>8098.501893</td>\n",
              "    </tr>\n",
              "    <tr>\n",
              "      <th>37</th>\n",
              "      <td>0.009653</td>\n",
              "      <td>0.005616</td>\n",
              "      <td>-5106.392892</td>\n",
              "      <td>-7246.564835</td>\n",
              "      <td>7246.564835</td>\n",
              "      <td>5106.392892</td>\n",
              "    </tr>\n",
              "    <tr>\n",
              "      <th>38</th>\n",
              "      <td>0.010675</td>\n",
              "      <td>0.005441</td>\n",
              "      <td>-7127.088731</td>\n",
              "      <td>-7204.989944</td>\n",
              "      <td>7204.989944</td>\n",
              "      <td>7127.088731</td>\n",
              "    </tr>\n",
              "    <tr>\n",
              "      <th>39</th>\n",
              "      <td>0.006238</td>\n",
              "      <td>0.004446</td>\n",
              "      <td>-8867.650246</td>\n",
              "      <td>-6072.906225</td>\n",
              "      <td>6072.906225</td>\n",
              "      <td>8867.650246</td>\n",
              "    </tr>\n",
              "  </tbody>\n",
              "</table>\n",
              "</div>\n",
              "      <button class=\"colab-df-convert\" onclick=\"convertToInteractive('df-ec7abf3d-f9cb-4a84-a0cf-5c2f84aae69e')\"\n",
              "              title=\"Convert this dataframe to an interactive table.\"\n",
              "              style=\"display:none;\">\n",
              "        \n",
              "  <svg xmlns=\"http://www.w3.org/2000/svg\" height=\"24px\"viewBox=\"0 0 24 24\"\n",
              "       width=\"24px\">\n",
              "    <path d=\"M0 0h24v24H0V0z\" fill=\"none\"/>\n",
              "    <path d=\"M18.56 5.44l.94 2.06.94-2.06 2.06-.94-2.06-.94-.94-2.06-.94 2.06-2.06.94zm-11 1L8.5 8.5l.94-2.06 2.06-.94-2.06-.94L8.5 2.5l-.94 2.06-2.06.94zm10 10l.94 2.06.94-2.06 2.06-.94-2.06-.94-.94-2.06-.94 2.06-2.06.94z\"/><path d=\"M17.41 7.96l-1.37-1.37c-.4-.4-.92-.59-1.43-.59-.52 0-1.04.2-1.43.59L10.3 9.45l-7.72 7.72c-.78.78-.78 2.05 0 2.83L4 21.41c.39.39.9.59 1.41.59.51 0 1.02-.2 1.41-.59l7.78-7.78 2.81-2.81c.8-.78.8-2.07 0-2.86zM5.41 20L4 18.59l7.72-7.72 1.47 1.35L5.41 20z\"/>\n",
              "  </svg>\n",
              "      </button>\n",
              "      \n",
              "  <style>\n",
              "    .colab-df-container {\n",
              "      display:flex;\n",
              "      flex-wrap:wrap;\n",
              "      gap: 12px;\n",
              "    }\n",
              "\n",
              "    .colab-df-convert {\n",
              "      background-color: #E8F0FE;\n",
              "      border: none;\n",
              "      border-radius: 50%;\n",
              "      cursor: pointer;\n",
              "      display: none;\n",
              "      fill: #1967D2;\n",
              "      height: 32px;\n",
              "      padding: 0 0 0 0;\n",
              "      width: 32px;\n",
              "    }\n",
              "\n",
              "    .colab-df-convert:hover {\n",
              "      background-color: #E2EBFA;\n",
              "      box-shadow: 0px 1px 2px rgba(60, 64, 67, 0.3), 0px 1px 3px 1px rgba(60, 64, 67, 0.15);\n",
              "      fill: #174EA6;\n",
              "    }\n",
              "\n",
              "    [theme=dark] .colab-df-convert {\n",
              "      background-color: #3B4455;\n",
              "      fill: #D2E3FC;\n",
              "    }\n",
              "\n",
              "    [theme=dark] .colab-df-convert:hover {\n",
              "      background-color: #434B5C;\n",
              "      box-shadow: 0px 1px 3px 1px rgba(0, 0, 0, 0.15);\n",
              "      filter: drop-shadow(0px 1px 2px rgba(0, 0, 0, 0.3));\n",
              "      fill: #FFFFFF;\n",
              "    }\n",
              "  </style>\n",
              "\n",
              "      <script>\n",
              "        const buttonEl =\n",
              "          document.querySelector('#df-ec7abf3d-f9cb-4a84-a0cf-5c2f84aae69e button.colab-df-convert');\n",
              "        buttonEl.style.display =\n",
              "          google.colab.kernel.accessAllowed ? 'block' : 'none';\n",
              "\n",
              "        async function convertToInteractive(key) {\n",
              "          const element = document.querySelector('#df-ec7abf3d-f9cb-4a84-a0cf-5c2f84aae69e');\n",
              "          const dataTable =\n",
              "            await google.colab.kernel.invokeFunction('convertToInteractive',\n",
              "                                                     [key], {});\n",
              "          if (!dataTable) return;\n",
              "\n",
              "          const docLinkHtml = 'Like what you see? Visit the ' +\n",
              "            '<a target=\"_blank\" href=https://colab.research.google.com/notebooks/data_table.ipynb>data table notebook</a>'\n",
              "            + ' to learn more about interactive tables.';\n",
              "          element.innerHTML = '';\n",
              "          dataTable['output_type'] = 'display_data';\n",
              "          await google.colab.output.renderOutput(dataTable, element);\n",
              "          const docLink = document.createElement('div');\n",
              "          docLink.innerHTML = docLinkHtml;\n",
              "          element.appendChild(docLink);\n",
              "        }\n",
              "      </script>\n",
              "    </div>\n",
              "  </div>\n",
              "  "
            ],
            "text/plain": [
              "    fit_time  score_time    test_score  train_score  train_error    test_error\n",
              "0   0.010445    0.005545  -7395.433532 -6644.554733  6644.554733   7395.433532\n",
              "1   0.018046    0.006165  -9298.648495 -5396.945427  5396.945427   9298.648495\n",
              "2   0.014574    0.005631  -9351.288817 -5372.631726  5372.631726   9351.288817\n",
              "3   0.015168    0.010600 -10704.193906 -5377.481351  5377.481351  10704.193906\n",
              "4   0.010202    0.005437  -6530.565532 -6923.058904  6923.058904   6530.565532\n",
              "5   0.009434    0.005409  -7717.571364 -6309.281620  6309.281620   7717.571364\n",
              "6   0.009926    0.005468  -6045.260037 -7088.669930  7088.669930   6045.260037\n",
              "7   0.009666    0.011717  -9161.565963 -6145.972965  6145.972965   9161.565963\n",
              "8   0.011981    0.005668  -7055.850736 -6610.807708  6610.807708   7055.850736\n",
              "9   0.009475    0.005420  -5880.908598 -7127.224528  7127.224528   5880.908598\n",
              "10  0.010157    0.005426  -8283.336415 -6348.414712  6348.414712   8283.336415\n",
              "11  0.020978    0.005642  -6885.878737 -6712.703479  6712.703479   6885.878737\n",
              "12  0.017011    0.007012  -8804.328965 -5828.383870  5828.383870   8804.328965\n",
              "13  0.016463    0.006034  -5165.192259 -7213.119929  7213.119929   5165.192259\n",
              "14  0.009780    0.005418  -9247.202336 -5614.823459  5614.823459   9247.202336\n",
              "15  0.009531    0.005427  -9931.465381 -6050.566126  6050.566126   9931.465381\n",
              "16  0.010144    0.005512  -7306.669904 -6544.786701  6544.786701   7306.669904\n",
              "17  0.009778    0.005778  -5781.562946 -6998.369737  6998.369737   5781.562946\n",
              "18  0.009510    0.005508  -5844.238372 -7248.342666  7248.342666   5844.238372\n",
              "19  0.011671    0.005329  -7692.785724 -6320.719988  6320.719988   7692.785724\n",
              "20  0.019196    0.005526  -5005.406834 -7548.638289  7548.638289   5005.406834\n",
              "21  0.009519    0.005493  -7937.187759 -6461.003193  6461.003193   7937.187759\n",
              "22  0.014629    0.005712  -6961.493142 -6994.500198  6994.500198   6961.493142\n",
              "23  0.011055    0.005535  -8952.366449 -5750.845365  5750.845365   8952.366449\n",
              "24  0.009384    0.005399  -7815.051932 -6379.337822  6379.337822   7815.051932\n",
              "25  0.009552    0.005365  -7164.456202 -6394.678023  6394.678023   7164.456202\n",
              "26  0.009269    0.015771  -8470.677501 -6082.994732  6082.994732   8470.677501\n",
              "27  0.009848    0.005411  -9924.757847 -5805.579966  5805.579966   9924.757847\n",
              "28  0.014280    0.005517  -7318.493558 -6746.110245  6746.110245   7318.493558\n",
              "29  0.009934    0.005386  -6617.697512 -6700.008435  6700.008435   6617.697512\n",
              "30  0.014207    0.005527  -8547.933879 -5925.062010  5925.062010   8547.933879\n",
              "31  0.009752    0.005456  -8466.702792 -5794.799901  5794.799901   8466.702792\n",
              "32  0.010484    0.005343  -8042.679989 -6788.430862  6788.430862   8042.679989\n",
              "33  0.010162    0.005379  -9266.980423 -5241.767008  5241.767008   9266.980423\n",
              "34  0.009871    0.005260  -7888.696216 -6323.477591  6323.477591   7888.696216\n",
              "35  0.013608    0.005438  -4470.829814 -7725.292970  7725.292970   4470.829814\n",
              "36  0.009775    0.005687  -8098.501893 -5931.771831  5931.771831   8098.501893\n",
              "37  0.009653    0.005616  -5106.392892 -7246.564835  7246.564835   5106.392892\n",
              "38  0.010675    0.005441  -7127.088731 -7204.989944  7204.989944   7127.088731\n",
              "39  0.006238    0.004446  -8867.650246 -6072.906225  6072.906225   8867.650246"
            ]
          },
          "metadata": {},
          "execution_count": 21
        }
      ]
    },
    {
      "cell_type": "code",
      "source": [
        "cv_results[\"test_error\"].plot.hist(bins=10, edgecolor=\"black\")\n",
        "plt.xlabel(\"Mean absolute error ($)\")\n",
        "_ = plt.title(\"Test error distribution\")"
      ],
      "metadata": {
        "colab": {
          "base_uri": "https://localhost:8080/",
          "height": 296
        },
        "id": "e6XAAkf6WJHs",
        "outputId": "0e292a58-dca3-4c2f-ef57-d0f2c47b61f2"
      },
      "execution_count": 27,
      "outputs": [
        {
          "output_type": "display_data",
          "data": {
            "image/png": "[encoded data removed]",
            "text/plain": [
              "<Figure size 432x288 with 1 Axes>"
            ]
          },
          "metadata": {
            "needs_background": "light"
          }
        }
      ]
    },
    {
      "cell_type": "code",
      "source": [
        "print(f\"The mean cross-validated testing error is: \"\n",
        "      f\"{cv_results['test_error'].mean():.2f} $\")"
      ],
      "metadata": {
        "colab": {
          "base_uri": "https://localhost:8080/"
        },
        "id": "lYqqZfAFXPmj",
        "outputId": "f9b21516-a09d-4c3b-ed68-e80b1a420459"
      },
      "execution_count": 25,
      "outputs": [
        {
          "output_type": "stream",
          "name": "stdout",
          "text": [
            "The mean cross-validated testing error is: 7653.37 $\n"
          ]
        }
      ]
    },
    {
      "cell_type": "code",
      "source": [
        "print(f\"The standard deviation of the testing error is: \"\n",
        "      f\"{cv_results['test_error'].std():.2f} $\")"
      ],
      "metadata": {
        "colab": {
          "base_uri": "https://localhost:8080/"
        },
        "id": "rYNusd8aXc2m",
        "outputId": "bf22bc9d-1388-4b03-9a8b-4313918e0975"
      },
      "execution_count": 26,
      "outputs": [
        {
          "output_type": "stream",
          "name": "stdout",
          "text": [
            "The standard deviation of the testing error is: 1494.36 $\n"
          ]
        }
      ]
    },
    {
      "cell_type": "code",
      "source": [
        "target.plot.hist(bins=20, edgecolor=\"black\")\n",
        "plt.xlabel(\"Median Salary Value ($)\")\n",
        "_ = plt.title(\"Target distribution\")"
      ],
      "metadata": {
        "colab": {
          "base_uri": "https://localhost:8080/",
          "height": 296
        },
        "id": "NBBeMAsGXhIb",
        "outputId": "b2e57b6f-1247-48e2-b747-fd11f47fcca7"
      },
      "execution_count": 28,
      "outputs": [
        {
          "output_type": "display_data",
          "data": {
            "image/png": "[encoded data removed]",
            "text/plain": [
              "<Figure size 432x288 with 1 Axes>"
            ]
          },
          "metadata": {
            "needs_background": "light"
          }
        }
      ]
    },
    {
      "cell_type": "code",
      "source": [
        "print(f\"The standard deviation of the target is: {target.std():.2f} $\")"
      ],
      "metadata": {
        "colab": {
          "base_uri": "https://localhost:8080/"
        },
        "id": "uVfQQyu8X2xk",
        "outputId": "cccfe8a0-a9b4-4f30-953a-ed07e9f780fc"
      },
      "execution_count": 29,
      "outputs": [
        {
          "output_type": "stream",
          "name": "stdout",
          "text": [
            "The standard deviation of the target is: 40306.18 $\n"
          ]
        }
      ]
    },
    {
      "cell_type": "code",
      "source": [
        ""
      ],
      "metadata": {
        "id": "sqn3DgHnX-q9"
      },
      "execution_count": null,
      "outputs": []
    }
  ]
}