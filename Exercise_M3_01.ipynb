{
  "nbformat": 4,
  "nbformat_minor": 0,
  "metadata": {
    "colab": {
      "name": "Exercise M3.01.ipynb",
      "provenance": [],
      "authorship_tag": "ABX9TyMVPHTemtw7TKAnp1XlhPnY",
      "include_colab_link": true
    },
    "kernelspec": {
      "name": "python3",
      "display_name": "Python 3"
    },
    "language_info": {
      "name": "python"
    }
  },
  "cells": [
    {
      "cell_type": "markdown",
      "metadata": {
        "id": "view-in-github",
        "colab_type": "text"
      },
      "source": [
        "<a href=\"https://colab.research.google.com/github/dajebbar/FreeCodeCamp-python-data-analysis/blob/main/Exercise_M3_01.ipynb\" target=\"_parent\"><img src=\"https://colab.research.google.com/assets/colab-badge.svg\" alt=\"Open In Colab\"/></a>"
      ]
    },
    {
      "cell_type": "code",
      "execution_count": 1,
      "metadata": {
        "id": "sIVeupmUfOKh"
      },
      "outputs": [],
      "source": [
        "import pandas as pd\n",
        "\n",
        "from sklearn.model_selection import train_test_split\n",
        "\n",
        "adult_census = pd.read_csv(\"./adult.csv\")\n",
        "\n",
        "target_name = \"class\"\n",
        "target = adult_census[target_name]\n",
        "data = adult_census.drop(columns=[target_name, \"education-num\"])\n",
        "\n",
        "data_train, data_test, target_train, target_test = train_test_split(\n",
        "    data, target, train_size=0.2, random_state=42)"
      ]
    },
    {
      "cell_type": "code",
      "source": [
        "from sklearn.compose import ColumnTransformer\n",
        "from sklearn.compose import make_column_selector as selector\n",
        "from sklearn.preprocessing import OrdinalEncoder\n",
        "\n",
        "categorical_preprocessor = OrdinalEncoder(handle_unknown=\"use_encoded_value\",\n",
        "                                          unknown_value=-1)\n",
        "preprocessor = ColumnTransformer(\n",
        "    [('cat-preprocessor', categorical_preprocessor,\n",
        "      selector(dtype_include=object))],\n",
        "    remainder='passthrough', sparse_threshold=0)\n",
        "\n",
        "\n",
        "from sklearn.ensemble import HistGradientBoostingClassifier\n",
        "from sklearn.pipeline import Pipeline\n",
        "\n",
        "model = Pipeline([\n",
        "    (\"preprocessor\", preprocessor),\n",
        "    (\"classifier\", HistGradientBoostingClassifier(random_state=42))\n",
        "])"
      ],
      "metadata": {
        "id": "6BVSBei6fzQ5"
      },
      "execution_count": 2,
      "outputs": []
    },
    {
      "cell_type": "code",
      "source": [
        "for param in model.get_params():\n",
        "  print(param)"
      ],
      "metadata": {
        "colab": {
          "base_uri": "https://localhost:8080/"
        },
        "id": "uxUfQJYMf2PH",
        "outputId": "66ed4feb-fd74-4526-eac8-5bf780ff5f42"
      },
      "execution_count": 3,
      "outputs": [
        {
          "output_type": "stream",
          "name": "stdout",
          "text": [
            "memory\n",
            "steps\n",
            "verbose\n",
            "preprocessor\n",
            "classifier\n",
            "preprocessor__n_jobs\n",
            "preprocessor__remainder\n",
            "preprocessor__sparse_threshold\n",
            "preprocessor__transformer_weights\n",
            "preprocessor__transformers\n",
            "preprocessor__verbose\n",
            "preprocessor__verbose_feature_names_out\n",
            "preprocessor__cat-preprocessor\n",
            "preprocessor__cat-preprocessor__categories\n",
            "preprocessor__cat-preprocessor__dtype\n",
            "preprocessor__cat-preprocessor__handle_unknown\n",
            "preprocessor__cat-preprocessor__unknown_value\n",
            "classifier__categorical_features\n",
            "classifier__early_stopping\n",
            "classifier__l2_regularization\n",
            "classifier__learning_rate\n",
            "classifier__loss\n",
            "classifier__max_bins\n",
            "classifier__max_depth\n",
            "classifier__max_iter\n",
            "classifier__max_leaf_nodes\n",
            "classifier__min_samples_leaf\n",
            "classifier__monotonic_cst\n",
            "classifier__n_iter_no_change\n",
            "classifier__random_state\n",
            "classifier__scoring\n",
            "classifier__tol\n",
            "classifier__validation_fraction\n",
            "classifier__verbose\n",
            "classifier__warm_start\n"
          ]
        }
      ]
    },
    {
      "cell_type": "code",
      "source": [
        "from sklearn.model_selection import cross_val_score, KFold\n",
        "\n",
        "lrs = [0.01, 0.1, 1, 10]\n",
        "max_leafs = [3, 10, 30]\n",
        "best_score = 0\n",
        "best_params = {}\n",
        "\n",
        "cv = KFold(n_splits=10, shuffle=True, random_state=42)\n",
        "\n",
        "for lr in lrs:\n",
        "  for node in max_leafs:\n",
        "    print(f\"Evaluating model with learning rate {lr:.3f}\"\n",
        "              f\" and max leaf nodes {node}... \", end=\"\")\n",
        "    model.set_params(classifier__learning_rate=lr,\n",
        "                    classifier__max_leaf_nodes=node )\n",
        "  \n",
        "    scores = cross_val_score(\n",
        "      model,\n",
        "      data_train,\n",
        "      target_train,\n",
        "      cv=cv,\n",
        "      n_jobs=2\n",
        "  )\n",
        "    mean_score = scores.mean()\n",
        "    print(f\"score: {mean_score:.3f}\")\n",
        "    if mean_score > best_score:\n",
        "            best_score = mean_score\n",
        "            best_params = {'learning-rate': lr, 'max leaf nodes': node}\n",
        "            print(f\"Found new best model with score {best_score:.3f}!\")\n",
        "\n",
        "print(f\"The best accuracy obtained is {best_score:.3f}\")\n",
        "print(f\"The best parameters found are:\\n {best_params}\")\n"
      ],
      "metadata": {
        "colab": {
          "base_uri": "https://localhost:8080/"
        },
        "id": "pLzlkVWagRPP",
        "outputId": "23ef991a-3dad-4256-c46d-c6994c412bc9"
      },
      "execution_count": 13,
      "outputs": [
        {
          "output_type": "stream",
          "name": "stdout",
          "text": [
            "Evaluating model with learning rate 0.010 and max leaf nodes 3... score: 0.790\n",
            "Found new best model with score 0.790!\n",
            "Evaluating model with learning rate 0.010 and max leaf nodes 10... score: 0.813\n",
            "Found new best model with score 0.813!\n",
            "Evaluating model with learning rate 0.010 and max leaf nodes 30... score: 0.842\n",
            "Found new best model with score 0.842!\n",
            "Evaluating model with learning rate 0.100 and max leaf nodes 3... score: 0.850\n",
            "Found new best model with score 0.850!\n",
            "Evaluating model with learning rate 0.100 and max leaf nodes 10... score: 0.860\n",
            "Found new best model with score 0.860!\n",
            "Evaluating model with learning rate 0.100 and max leaf nodes 30... score: 0.859\n",
            "Evaluating model with learning rate 1.000 and max leaf nodes 3... score: 0.856\n",
            "Evaluating model with learning rate 1.000 and max leaf nodes 10... score: 0.836\n",
            "Evaluating model with learning rate 1.000 and max leaf nodes 30... score: 0.804\n",
            "Evaluating model with learning rate 10.000 and max leaf nodes 3... score: 0.288\n",
            "Evaluating model with learning rate 10.000 and max leaf nodes 10... score: 0.714\n",
            "Evaluating model with learning rate 10.000 and max leaf nodes 30... score: 0.612\n",
            "The best accuracy obtained is 0.860\n",
            "The best parameters found are:\n",
            " {'learning-rate': 0.1, 'max leaf nodes': 10}\n"
          ]
        }
      ]
    },
    {
      "cell_type": "code",
      "source": [
        "best_lr = best_params['learning-rate']\n",
        "best_mln = best_params['max leaf nodes']\n",
        "\n",
        "model.set_params(classifier__learning_rate=best_lr,\n",
        "                 classifier__max_leaf_nodes=best_mln)\n",
        "model.fit(data_train, target_train)\n",
        "test_score = model.score(data_test, target_test)\n",
        "\n",
        "print(f\"Test score after the parameter tuning: {test_score:.3f}\")"
      ],
      "metadata": {
        "colab": {
          "base_uri": "https://localhost:8080/"
        },
        "id": "daRsBU8Sll_T",
        "outputId": "2309ce4d-b155-43ca-e3e1-f1c9576c743b"
      },
      "execution_count": 14,
      "outputs": [
        {
          "output_type": "stream",
          "name": "stdout",
          "text": [
            "Test score after the parameter tuning: 0.869\n"
          ]
        }
      ]
    },
    {
      "cell_type": "code",
      "source": [
        ""
      ],
      "metadata": {
        "id": "22JWEWHQmW1g"
      },
      "execution_count": null,
      "outputs": []
    }
  ]
}