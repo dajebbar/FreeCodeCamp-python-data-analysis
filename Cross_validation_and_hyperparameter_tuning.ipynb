{
  "nbformat": 4,
  "nbformat_minor": 0,
  "metadata": {
    "colab": {
      "name": "Cross-validation and hyperparameter tuning.ipynb",
      "provenance": [],
      "authorship_tag": "ABX9TyPKZ57g3eKpHQOJi/Wd12yW",
      "include_colab_link": true
    },
    "kernelspec": {
      "name": "python3",
      "display_name": "Python 3"
    },
    "language_info": {
      "name": "python"
    }
  },
  "cells": [
    {
      "cell_type": "markdown",
      "metadata": {
        "id": "view-in-github",
        "colab_type": "text"
      },
      "source": [
        "<a href=\"https://colab.research.google.com/github/dajebbar/FreeCodeCamp-python-data-analysis/blob/main/Cross_validation_and_hyperparameter_tuning.ipynb\" target=\"_parent\"><img src=\"https://colab.research.google.com/assets/colab-badge.svg\" alt=\"Open In Colab\"/></a>"
      ]
    },
    {
      "cell_type": "markdown",
      "source": [
        "---\n",
        "# Cross-validation and hyperparameter tuning\n",
        "---\n",
        "In the previous notebooks, we saw two approaches to tune hyperparameters: via grid-search and randomized-search.\n",
        "\n",
        "In this notebook, we will show how to combine such hyperparameters search with a cross-validation."
      ],
      "metadata": {
        "id": "c3Xg0cHBw9JM"
      }
    },
    {
      "cell_type": "markdown",
      "source": [
        "## Predictive model"
      ],
      "metadata": {
        "id": "jblERpKY1Tlr"
      }
    },
    {
      "cell_type": "code",
      "execution_count": 1,
      "metadata": {
        "id": "iMI7PH5bw6Gl"
      },
      "outputs": [],
      "source": [
        "from sklearn import set_config\n",
        "\n",
        "set_config(display=\"diagram\")"
      ]
    },
    {
      "cell_type": "code",
      "source": [
        "import pandas as pd\n",
        "\n",
        "adult_census = pd.read_csv(\"./adult.csv\")"
      ],
      "metadata": {
        "id": "se3eBi_51arq"
      },
      "execution_count": 2,
      "outputs": []
    },
    {
      "cell_type": "markdown",
      "source": [
        "We extract the column containing the target."
      ],
      "metadata": {
        "id": "WffKXEaL1sCQ"
      }
    },
    {
      "cell_type": "code",
      "source": [
        "target_name = \"class\"\n",
        "target = adult_census[target_name]\n",
        "target"
      ],
      "metadata": {
        "colab": {
          "base_uri": "https://localhost:8080/"
        },
        "id": "awMIe6ZG1slw",
        "outputId": "51a7e02c-a983-406b-9859-484c0eb76d07"
      },
      "execution_count": 3,
      "outputs": [
        {
          "output_type": "execute_result",
          "data": {
            "text/plain": [
              "0         <=50K\n",
              "1         <=50K\n",
              "2          >50K\n",
              "3          >50K\n",
              "4         <=50K\n",
              "          ...  \n",
              "48837     <=50K\n",
              "48838      >50K\n",
              "48839     <=50K\n",
              "48840     <=50K\n",
              "48841      >50K\n",
              "Name: class, Length: 48842, dtype: object"
            ]
          },
          "metadata": {},
          "execution_count": 3
        }
      ]
    },
    {
      "cell_type": "markdown",
      "source": [
        "We drop from our data the target and the \"education-num\" column which duplicates the information from the \"education\" column."
      ],
      "metadata": {
        "id": "qrqyq5mM1znt"
      }
    },
    {
      "cell_type": "code",
      "source": [
        "data = adult_census.drop(columns=[target_name, \"education-num\"])\n",
        "data.head()"
      ],
      "metadata": {
        "colab": {
          "base_uri": "https://localhost:8080/",
          "height": 354
        },
        "id": "vhsIyzkL10iX",
        "outputId": "568177d8-0c82-476f-9cf1-7fd96c229b2f"
      },
      "execution_count": 4,
      "outputs": [
        {
          "output_type": "execute_result",
          "data": {
            "text/html": [
              "\n",
              "  <div id=\"df-2fe97fb5-e7b4-486f-8d07-f7603e874231\">\n",
              "    <div class=\"colab-df-container\">\n",
              "      <div>\n",
              "<style scoped>\n",
              "    .dataframe tbody tr th:only-of-type {\n",
              "        vertical-align: middle;\n",
              "    }\n",
              "\n",
              "    .dataframe tbody tr th {\n",
              "        vertical-align: top;\n",
              "    }\n",
              "\n",
              "    .dataframe thead th {\n",
              "        text-align: right;\n",
              "    }\n",
              "</style>\n",
              "<table border=\"1\" class=\"dataframe\">\n",
              "  <thead>\n",
              "    <tr style=\"text-align: right;\">\n",
              "      <th></th>\n",
              "      <th>age</th>\n",
              "      <th>workclass</th>\n",
              "      <th>fnlwgt</th>\n",
              "      <th>education</th>\n",
              "      <th>marital-status</th>\n",
              "      <th>occupation</th>\n",
              "      <th>relationship</th>\n",
              "      <th>race</th>\n",
              "      <th>sex</th>\n",
              "      <th>capital-gain</th>\n",
              "      <th>capital-loss</th>\n",
              "      <th>hours-per-week</th>\n",
              "      <th>native-country</th>\n",
              "    </tr>\n",
              "  </thead>\n",
              "  <tbody>\n",
              "    <tr>\n",
              "      <th>0</th>\n",
              "      <td>25</td>\n",
              "      <td>Private</td>\n",
              "      <td>226802</td>\n",
              "      <td>11th</td>\n",
              "      <td>Never-married</td>\n",
              "      <td>Machine-op-inspct</td>\n",
              "      <td>Own-child</td>\n",
              "      <td>Black</td>\n",
              "      <td>Male</td>\n",
              "      <td>0</td>\n",
              "      <td>0</td>\n",
              "      <td>40</td>\n",
              "      <td>United-States</td>\n",
              "    </tr>\n",
              "    <tr>\n",
              "      <th>1</th>\n",
              "      <td>38</td>\n",
              "      <td>Private</td>\n",
              "      <td>89814</td>\n",
              "      <td>HS-grad</td>\n",
              "      <td>Married-civ-spouse</td>\n",
              "      <td>Farming-fishing</td>\n",
              "      <td>Husband</td>\n",
              "      <td>White</td>\n",
              "      <td>Male</td>\n",
              "      <td>0</td>\n",
              "      <td>0</td>\n",
              "      <td>50</td>\n",
              "      <td>United-States</td>\n",
              "    </tr>\n",
              "    <tr>\n",
              "      <th>2</th>\n",
              "      <td>28</td>\n",
              "      <td>Local-gov</td>\n",
              "      <td>336951</td>\n",
              "      <td>Assoc-acdm</td>\n",
              "      <td>Married-civ-spouse</td>\n",
              "      <td>Protective-serv</td>\n",
              "      <td>Husband</td>\n",
              "      <td>White</td>\n",
              "      <td>Male</td>\n",
              "      <td>0</td>\n",
              "      <td>0</td>\n",
              "      <td>40</td>\n",
              "      <td>United-States</td>\n",
              "    </tr>\n",
              "    <tr>\n",
              "      <th>3</th>\n",
              "      <td>44</td>\n",
              "      <td>Private</td>\n",
              "      <td>160323</td>\n",
              "      <td>Some-college</td>\n",
              "      <td>Married-civ-spouse</td>\n",
              "      <td>Machine-op-inspct</td>\n",
              "      <td>Husband</td>\n",
              "      <td>Black</td>\n",
              "      <td>Male</td>\n",
              "      <td>7688</td>\n",
              "      <td>0</td>\n",
              "      <td>40</td>\n",
              "      <td>United-States</td>\n",
              "    </tr>\n",
              "    <tr>\n",
              "      <th>4</th>\n",
              "      <td>18</td>\n",
              "      <td>?</td>\n",
              "      <td>103497</td>\n",
              "      <td>Some-college</td>\n",
              "      <td>Never-married</td>\n",
              "      <td>?</td>\n",
              "      <td>Own-child</td>\n",
              "      <td>White</td>\n",
              "      <td>Female</td>\n",
              "      <td>0</td>\n",
              "      <td>0</td>\n",
              "      <td>30</td>\n",
              "      <td>United-States</td>\n",
              "    </tr>\n",
              "  </tbody>\n",
              "</table>\n",
              "</div>\n",
              "      <button class=\"colab-df-convert\" onclick=\"convertToInteractive('df-2fe97fb5-e7b4-486f-8d07-f7603e874231')\"\n",
              "              title=\"Convert this dataframe to an interactive table.\"\n",
              "              style=\"display:none;\">\n",
              "        \n",
              "  <svg xmlns=\"http://www.w3.org/2000/svg\" height=\"24px\"viewBox=\"0 0 24 24\"\n",
              "       width=\"24px\">\n",
              "    <path d=\"M0 0h24v24H0V0z\" fill=\"none\"/>\n",
              "    <path d=\"M18.56 5.44l.94 2.06.94-2.06 2.06-.94-2.06-.94-.94-2.06-.94 2.06-2.06.94zm-11 1L8.5 8.5l.94-2.06 2.06-.94-2.06-.94L8.5 2.5l-.94 2.06-2.06.94zm10 10l.94 2.06.94-2.06 2.06-.94-2.06-.94-.94-2.06-.94 2.06-2.06.94z\"/><path d=\"M17.41 7.96l-1.37-1.37c-.4-.4-.92-.59-1.43-.59-.52 0-1.04.2-1.43.59L10.3 9.45l-7.72 7.72c-.78.78-.78 2.05 0 2.83L4 21.41c.39.39.9.59 1.41.59.51 0 1.02-.2 1.41-.59l7.78-7.78 2.81-2.81c.8-.78.8-2.07 0-2.86zM5.41 20L4 18.59l7.72-7.72 1.47 1.35L5.41 20z\"/>\n",
              "  </svg>\n",
              "      </button>\n",
              "      \n",
              "  <style>\n",
              "    .colab-df-container {\n",
              "      display:flex;\n",
              "      flex-wrap:wrap;\n",
              "      gap: 12px;\n",
              "    }\n",
              "\n",
              "    .colab-df-convert {\n",
              "      background-color: #E8F0FE;\n",
              "      border: none;\n",
              "      border-radius: 50%;\n",
              "      cursor: pointer;\n",
              "      display: none;\n",
              "      fill: #1967D2;\n",
              "      height: 32px;\n",
              "      padding: 0 0 0 0;\n",
              "      width: 32px;\n",
              "    }\n",
              "\n",
              "    .colab-df-convert:hover {\n",
              "      background-color: #E2EBFA;\n",
              "      box-shadow: 0px 1px 2px rgba(60, 64, 67, 0.3), 0px 1px 3px 1px rgba(60, 64, 67, 0.15);\n",
              "      fill: #174EA6;\n",
              "    }\n",
              "\n",
              "    [theme=dark] .colab-df-convert {\n",
              "      background-color: #3B4455;\n",
              "      fill: #D2E3FC;\n",
              "    }\n",
              "\n",
              "    [theme=dark] .colab-df-convert:hover {\n",
              "      background-color: #434B5C;\n",
              "      box-shadow: 0px 1px 3px 1px rgba(0, 0, 0, 0.15);\n",
              "      filter: drop-shadow(0px 1px 2px rgba(0, 0, 0, 0.3));\n",
              "      fill: #FFFFFF;\n",
              "    }\n",
              "  </style>\n",
              "\n",
              "      <script>\n",
              "        const buttonEl =\n",
              "          document.querySelector('#df-2fe97fb5-e7b4-486f-8d07-f7603e874231 button.colab-df-convert');\n",
              "        buttonEl.style.display =\n",
              "          google.colab.kernel.accessAllowed ? 'block' : 'none';\n",
              "\n",
              "        async function convertToInteractive(key) {\n",
              "          const element = document.querySelector('#df-2fe97fb5-e7b4-486f-8d07-f7603e874231');\n",
              "          const dataTable =\n",
              "            await google.colab.kernel.invokeFunction('convertToInteractive',\n",
              "                                                     [key], {});\n",
              "          if (!dataTable) return;\n",
              "\n",
              "          const docLinkHtml = 'Like what you see? Visit the ' +\n",
              "            '<a target=\"_blank\" href=https://colab.research.google.com/notebooks/data_table.ipynb>data table notebook</a>'\n",
              "            + ' to learn more about interactive tables.';\n",
              "          element.innerHTML = '';\n",
              "          dataTable['output_type'] = 'display_data';\n",
              "          await google.colab.output.renderOutput(dataTable, element);\n",
              "          const docLink = document.createElement('div');\n",
              "          docLink.innerHTML = docLinkHtml;\n",
              "          element.appendChild(docLink);\n",
              "        }\n",
              "      </script>\n",
              "    </div>\n",
              "  </div>\n",
              "  "
            ],
            "text/plain": [
              "   age   workclass  fnlwgt  ... capital-loss hours-per-week  native-country\n",
              "0   25     Private  226802  ...            0             40   United-States\n",
              "1   38     Private   89814  ...            0             50   United-States\n",
              "2   28   Local-gov  336951  ...            0             40   United-States\n",
              "3   44     Private  160323  ...            0             40   United-States\n",
              "4   18           ?  103497  ...            0             30   United-States\n",
              "\n",
              "[5 rows x 13 columns]"
            ]
          },
          "metadata": {},
          "execution_count": 4
        }
      ]
    },
    {
      "cell_type": "markdown",
      "source": [
        "## predictive pipeline \n"
      ],
      "metadata": {
        "id": "yi38rrRJ2Nuu"
      }
    },
    {
      "cell_type": "code",
      "source": [
        "from sklearn.compose import ColumnTransformer\n",
        "from sklearn.preprocessing import OrdinalEncoder, StandardScaler\n",
        "from sklearn.compose import make_column_selector as selector\n",
        "\n",
        "num_features = selector(dtype_include='number')(data)\n",
        "cat_features = selector(dtype_include='object')(data)\n",
        "\n",
        "num_preprocessor = StandardScaler()\n",
        "cat_preprocessor = OrdinalEncoder(handle_unknown='use_encoded_value',\n",
        "                                  unknown_value=-1)\n",
        "\n",
        "preprocessor = ColumnTransformer([\n",
        "                                  ('standard-scaler', \n",
        "                                   num_preprocessor, \n",
        "                                   num_features),\n",
        "                                  \n",
        "                                  ('ordinal-cat', \n",
        "                                   cat_preprocessor, \n",
        "                                   cat_features),\n",
        "], \n",
        "                                remainder='passthrough',\n",
        "                                sparse_threshold=0)"
      ],
      "metadata": {
        "id": "UxmkIiSl1-QU"
      },
      "execution_count": 5,
      "outputs": []
    },
    {
      "cell_type": "code",
      "source": [
        "from sklearn.ensemble import HistGradientBoostingClassifier\n",
        "from sklearn.pipeline import Pipeline\n",
        "\n",
        "model = Pipeline([\n",
        "                  ('preprocessor', preprocessor),\n",
        "                  ('classifier', HistGradientBoostingClassifier(\n",
        "                      random_state=42, \n",
        "                      max_leaf_nodes=4\n",
        "                  ))\n",
        "])\n",
        "\n",
        "model"
      ],
      "metadata": {
        "colab": {
          "base_uri": "https://localhost:8080/",
          "height": 192
        },
        "id": "6qC_RliY4ivz",
        "outputId": "28186960-0ef8-4461-adab-e25645285f27"
      },
      "execution_count": 6,
      "outputs": [
        {
          "output_type": "execute_result",
          "data": {
            "text/html": [
              "<style>#sk-565445c0-5c07-4a6b-83ed-36bd1a393046 {color: black;background-color: white;}#sk-565445c0-5c07-4a6b-83ed-36bd1a393046 pre{padding: 0;}#sk-565445c0-5c07-4a6b-83ed-36bd1a393046 div.sk-toggleable {background-color: white;}#sk-565445c0-5c07-4a6b-83ed-36bd1a393046 label.sk-toggleable__label {cursor: pointer;display: block;width: 100%;margin-bottom: 0;padding: 0.3em;box-sizing: border-box;text-align: center;}#sk-565445c0-5c07-4a6b-83ed-36bd1a393046 label.sk-toggleable__label-arrow:before {content: \"▸\";float: left;margin-right: 0.25em;color: #696969;}#sk-565445c0-5c07-4a6b-83ed-36bd1a393046 label.sk-toggleable__label-arrow:hover:before {color: black;}#sk-565445c0-5c07-4a6b-83ed-36bd1a393046 div.sk-estimator:hover label.sk-toggleable__label-arrow:before {color: black;}#sk-565445c0-5c07-4a6b-83ed-36bd1a393046 div.sk-toggleable__content {max-height: 0;max-width: 0;overflow: hidden;text-align: left;background-color: #f0f8ff;}#sk-565445c0-5c07-4a6b-83ed-36bd1a393046 div.sk-toggleable__content pre {margin: 0.2em;color: black;border-radius: 0.25em;background-color: #f0f8ff;}#sk-565445c0-5c07-4a6b-83ed-36bd1a393046 input.sk-toggleable__control:checked~div.sk-toggleable__content {max-height: 200px;max-width: 100%;overflow: auto;}#sk-565445c0-5c07-4a6b-83ed-36bd1a393046 input.sk-toggleable__control:checked~label.sk-toggleable__label-arrow:before {content: \"▾\";}#sk-565445c0-5c07-4a6b-83ed-36bd1a393046 div.sk-estimator input.sk-toggleable__control:checked~label.sk-toggleable__label {background-color: #d4ebff;}#sk-565445c0-5c07-4a6b-83ed-36bd1a393046 div.sk-label input.sk-toggleable__control:checked~label.sk-toggleable__label {background-color: #d4ebff;}#sk-565445c0-5c07-4a6b-83ed-36bd1a393046 input.sk-hidden--visually {border: 0;clip: rect(1px 1px 1px 1px);clip: rect(1px, 1px, 1px, 1px);height: 1px;margin: -1px;overflow: hidden;padding: 0;position: absolute;width: 1px;}#sk-565445c0-5c07-4a6b-83ed-36bd1a393046 div.sk-estimator {font-family: monospace;background-color: #f0f8ff;border: 1px dotted black;border-radius: 0.25em;box-sizing: border-box;margin-bottom: 0.5em;}#sk-565445c0-5c07-4a6b-83ed-36bd1a393046 div.sk-estimator:hover {background-color: #d4ebff;}#sk-565445c0-5c07-4a6b-83ed-36bd1a393046 div.sk-parallel-item::after {content: \"\";width: 100%;border-bottom: 1px solid gray;flex-grow: 1;}#sk-565445c0-5c07-4a6b-83ed-36bd1a393046 div.sk-label:hover label.sk-toggleable__label {background-color: #d4ebff;}#sk-565445c0-5c07-4a6b-83ed-36bd1a393046 div.sk-serial::before {content: \"\";position: absolute;border-left: 1px solid gray;box-sizing: border-box;top: 2em;bottom: 0;left: 50%;}#sk-565445c0-5c07-4a6b-83ed-36bd1a393046 div.sk-serial {display: flex;flex-direction: column;align-items: center;background-color: white;padding-right: 0.2em;padding-left: 0.2em;}#sk-565445c0-5c07-4a6b-83ed-36bd1a393046 div.sk-item {z-index: 1;}#sk-565445c0-5c07-4a6b-83ed-36bd1a393046 div.sk-parallel {display: flex;align-items: stretch;justify-content: center;background-color: white;}#sk-565445c0-5c07-4a6b-83ed-36bd1a393046 div.sk-parallel::before {content: \"\";position: absolute;border-left: 1px solid gray;box-sizing: border-box;top: 2em;bottom: 0;left: 50%;}#sk-565445c0-5c07-4a6b-83ed-36bd1a393046 div.sk-parallel-item {display: flex;flex-direction: column;position: relative;background-color: white;}#sk-565445c0-5c07-4a6b-83ed-36bd1a393046 div.sk-parallel-item:first-child::after {align-self: flex-end;width: 50%;}#sk-565445c0-5c07-4a6b-83ed-36bd1a393046 div.sk-parallel-item:last-child::after {align-self: flex-start;width: 50%;}#sk-565445c0-5c07-4a6b-83ed-36bd1a393046 div.sk-parallel-item:only-child::after {width: 0;}#sk-565445c0-5c07-4a6b-83ed-36bd1a393046 div.sk-dashed-wrapped {border: 1px dashed gray;margin: 0 0.4em 0.5em 0.4em;box-sizing: border-box;padding-bottom: 0.4em;background-color: white;position: relative;}#sk-565445c0-5c07-4a6b-83ed-36bd1a393046 div.sk-label label {font-family: monospace;font-weight: bold;background-color: white;display: inline-block;line-height: 1.2em;}#sk-565445c0-5c07-4a6b-83ed-36bd1a393046 div.sk-label-container {position: relative;z-index: 2;text-align: center;}#sk-565445c0-5c07-4a6b-83ed-36bd1a393046 div.sk-container {/* jupyter's `normalize.less` sets `[hidden] { display: none; }` but bootstrap.min.css set `[hidden] { display: none !important; }` so we also need the `!important` here to be able to override the default hidden behavior on the sphinx rendered scikit-learn.org. See: https://github.com/scikit-learn/scikit-learn/issues/21755 */display: inline-block !important;position: relative;}#sk-565445c0-5c07-4a6b-83ed-36bd1a393046 div.sk-text-repr-fallback {display: none;}</style><div id=\"sk-565445c0-5c07-4a6b-83ed-36bd1a393046\" class=\"sk-top-container\"><div class=\"sk-text-repr-fallback\"><pre>Pipeline(steps=[(&#x27;preprocessor&#x27;,\n",
              "                 ColumnTransformer(remainder=&#x27;passthrough&#x27;, sparse_threshold=0,\n",
              "                                   transformers=[(&#x27;standard-scaler&#x27;,\n",
              "                                                  StandardScaler(),\n",
              "                                                  [&#x27;age&#x27;, &#x27;fnlwgt&#x27;,\n",
              "                                                   &#x27;capital-gain&#x27;,\n",
              "                                                   &#x27;capital-loss&#x27;,\n",
              "                                                   &#x27;hours-per-week&#x27;]),\n",
              "                                                 (&#x27;ordinal-cat&#x27;,\n",
              "                                                  OrdinalEncoder(handle_unknown=&#x27;use_encoded_value&#x27;,\n",
              "                                                                 unknown_value=-1),\n",
              "                                                  [&#x27;workclass&#x27;, &#x27;education&#x27;,\n",
              "                                                   &#x27;marital-status&#x27;,\n",
              "                                                   &#x27;occupation&#x27;, &#x27;relationship&#x27;,\n",
              "                                                   &#x27;race&#x27;, &#x27;sex&#x27;,\n",
              "                                                   &#x27;native-country&#x27;])])),\n",
              "                (&#x27;classifier&#x27;,\n",
              "                 HistGradientBoostingClassifier(max_leaf_nodes=4,\n",
              "                                                random_state=42))])</pre><b>Please rerun this cell to show the HTML repr or trust the notebook.</b></div><div class=\"sk-container\" hidden><div class=\"sk-item sk-dashed-wrapped\"><div class=\"sk-label-container\"><div class=\"sk-label sk-toggleable\"><input class=\"sk-toggleable__control sk-hidden--visually\" id=\"1624a191-7da8-41df-b89e-8d8f43fe4c16\" type=\"checkbox\" ><label for=\"1624a191-7da8-41df-b89e-8d8f43fe4c16\" class=\"sk-toggleable__label sk-toggleable__label-arrow\">Pipeline</label><div class=\"sk-toggleable__content\"><pre>Pipeline(steps=[(&#x27;preprocessor&#x27;,\n",
              "                 ColumnTransformer(remainder=&#x27;passthrough&#x27;, sparse_threshold=0,\n",
              "                                   transformers=[(&#x27;standard-scaler&#x27;,\n",
              "                                                  StandardScaler(),\n",
              "                                                  [&#x27;age&#x27;, &#x27;fnlwgt&#x27;,\n",
              "                                                   &#x27;capital-gain&#x27;,\n",
              "                                                   &#x27;capital-loss&#x27;,\n",
              "                                                   &#x27;hours-per-week&#x27;]),\n",
              "                                                 (&#x27;ordinal-cat&#x27;,\n",
              "                                                  OrdinalEncoder(handle_unknown=&#x27;use_encoded_value&#x27;,\n",
              "                                                                 unknown_value=-1),\n",
              "                                                  [&#x27;workclass&#x27;, &#x27;education&#x27;,\n",
              "                                                   &#x27;marital-status&#x27;,\n",
              "                                                   &#x27;occupation&#x27;, &#x27;relationship&#x27;,\n",
              "                                                   &#x27;race&#x27;, &#x27;sex&#x27;,\n",
              "                                                   &#x27;native-country&#x27;])])),\n",
              "                (&#x27;classifier&#x27;,\n",
              "                 HistGradientBoostingClassifier(max_leaf_nodes=4,\n",
              "                                                random_state=42))])</pre></div></div></div><div class=\"sk-serial\"><div class=\"sk-item sk-dashed-wrapped\"><div class=\"sk-label-container\"><div class=\"sk-label sk-toggleable\"><input class=\"sk-toggleable__control sk-hidden--visually\" id=\"745ede2c-e922-47b6-90a4-359c0f0daf9f\" type=\"checkbox\" ><label for=\"745ede2c-e922-47b6-90a4-359c0f0daf9f\" class=\"sk-toggleable__label sk-toggleable__label-arrow\">preprocessor: ColumnTransformer</label><div class=\"sk-toggleable__content\"><pre>ColumnTransformer(remainder=&#x27;passthrough&#x27;, sparse_threshold=0,\n",
              "                  transformers=[(&#x27;standard-scaler&#x27;, StandardScaler(),\n",
              "                                 [&#x27;age&#x27;, &#x27;fnlwgt&#x27;, &#x27;capital-gain&#x27;,\n",
              "                                  &#x27;capital-loss&#x27;, &#x27;hours-per-week&#x27;]),\n",
              "                                (&#x27;ordinal-cat&#x27;,\n",
              "                                 OrdinalEncoder(handle_unknown=&#x27;use_encoded_value&#x27;,\n",
              "                                                unknown_value=-1),\n",
              "                                 [&#x27;workclass&#x27;, &#x27;education&#x27;, &#x27;marital-status&#x27;,\n",
              "                                  &#x27;occupation&#x27;, &#x27;relationship&#x27;, &#x27;race&#x27;, &#x27;sex&#x27;,\n",
              "                                  &#x27;native-country&#x27;])])</pre></div></div></div><div class=\"sk-parallel\"><div class=\"sk-parallel-item\"><div class=\"sk-item\"><div class=\"sk-label-container\"><div class=\"sk-label sk-toggleable\"><input class=\"sk-toggleable__control sk-hidden--visually\" id=\"da390bad-c481-448f-ad3b-1902e5c6eb40\" type=\"checkbox\" ><label for=\"da390bad-c481-448f-ad3b-1902e5c6eb40\" class=\"sk-toggleable__label sk-toggleable__label-arrow\">standard-scaler</label><div class=\"sk-toggleable__content\"><pre>[&#x27;age&#x27;, &#x27;fnlwgt&#x27;, &#x27;capital-gain&#x27;, &#x27;capital-loss&#x27;, &#x27;hours-per-week&#x27;]</pre></div></div></div><div class=\"sk-serial\"><div class=\"sk-item\"><div class=\"sk-estimator sk-toggleable\"><input class=\"sk-toggleable__control sk-hidden--visually\" id=\"0a7131e0-6d02-4781-b4b9-ae2720168ea5\" type=\"checkbox\" ><label for=\"0a7131e0-6d02-4781-b4b9-ae2720168ea5\" class=\"sk-toggleable__label sk-toggleable__label-arrow\">StandardScaler</label><div class=\"sk-toggleable__content\"><pre>StandardScaler()</pre></div></div></div></div></div></div><div class=\"sk-parallel-item\"><div class=\"sk-item\"><div class=\"sk-label-container\"><div class=\"sk-label sk-toggleable\"><input class=\"sk-toggleable__control sk-hidden--visually\" id=\"6bc7d6a2-5f55-4fab-8775-61f5060b55fa\" type=\"checkbox\" ><label for=\"6bc7d6a2-5f55-4fab-8775-61f5060b55fa\" class=\"sk-toggleable__label sk-toggleable__label-arrow\">ordinal-cat</label><div class=\"sk-toggleable__content\"><pre>[&#x27;workclass&#x27;, &#x27;education&#x27;, &#x27;marital-status&#x27;, &#x27;occupation&#x27;, &#x27;relationship&#x27;, &#x27;race&#x27;, &#x27;sex&#x27;, &#x27;native-country&#x27;]</pre></div></div></div><div class=\"sk-serial\"><div class=\"sk-item\"><div class=\"sk-estimator sk-toggleable\"><input class=\"sk-toggleable__control sk-hidden--visually\" id=\"66f92bef-e5f8-4e0e-a6f5-4b1634ce6d71\" type=\"checkbox\" ><label for=\"66f92bef-e5f8-4e0e-a6f5-4b1634ce6d71\" class=\"sk-toggleable__label sk-toggleable__label-arrow\">OrdinalEncoder</label><div class=\"sk-toggleable__content\"><pre>OrdinalEncoder(handle_unknown=&#x27;use_encoded_value&#x27;, unknown_value=-1)</pre></div></div></div></div></div></div><div class=\"sk-parallel-item\"><div class=\"sk-item\"><div class=\"sk-label-container\"><div class=\"sk-label sk-toggleable\"><input class=\"sk-toggleable__control sk-hidden--visually\" id=\"52299b58-44f1-428f-8842-e2cbc2a8ad07\" type=\"checkbox\" ><label for=\"52299b58-44f1-428f-8842-e2cbc2a8ad07\" class=\"sk-toggleable__label sk-toggleable__label-arrow\">remainder</label><div class=\"sk-toggleable__content\"><pre></pre></div></div></div><div class=\"sk-serial\"><div class=\"sk-item\"><div class=\"sk-estimator sk-toggleable\"><input class=\"sk-toggleable__control sk-hidden--visually\" id=\"dcfc3543-9e65-4e5a-8da2-1cf414fc499f\" type=\"checkbox\" ><label for=\"dcfc3543-9e65-4e5a-8da2-1cf414fc499f\" class=\"sk-toggleable__label sk-toggleable__label-arrow\">passthrough</label><div class=\"sk-toggleable__content\"><pre>passthrough</pre></div></div></div></div></div></div></div></div><div class=\"sk-item\"><div class=\"sk-estimator sk-toggleable\"><input class=\"sk-toggleable__control sk-hidden--visually\" id=\"4b4025e2-00e0-4310-a44b-65e857f08806\" type=\"checkbox\" ><label for=\"4b4025e2-00e0-4310-a44b-65e857f08806\" class=\"sk-toggleable__label sk-toggleable__label-arrow\">HistGradientBoostingClassifier</label><div class=\"sk-toggleable__content\"><pre>HistGradientBoostingClassifier(max_leaf_nodes=4, random_state=42)</pre></div></div></div></div></div></div></div>"
            ],
            "text/plain": [
              "Pipeline(steps=[('preprocessor',\n",
              "                 ColumnTransformer(remainder='passthrough', sparse_threshold=0,\n",
              "                                   transformers=[('standard-scaler',\n",
              "                                                  StandardScaler(),\n",
              "                                                  ['age', 'fnlwgt',\n",
              "                                                   'capital-gain',\n",
              "                                                   'capital-loss',\n",
              "                                                   'hours-per-week']),\n",
              "                                                 ('ordinal-cat',\n",
              "                                                  OrdinalEncoder(handle_unknown='use_encoded_value',\n",
              "                                                                 unknown_value=-1),\n",
              "                                                  ['workclass', 'education',\n",
              "                                                   'marital-status',\n",
              "                                                   'occupation', 'relationship',\n",
              "                                                   'race', 'sex',\n",
              "                                                   'native-country'])])),\n",
              "                ('classifier',\n",
              "                 HistGradientBoostingClassifier(max_leaf_nodes=4,\n",
              "                                                random_state=42))])"
            ]
          },
          "metadata": {},
          "execution_count": 6
        }
      ]
    },
    {
      "cell_type": "code",
      "source": [
        ""
      ],
      "metadata": {
        "id": "2HBkfS2l5Jte"
      },
      "execution_count": null,
      "outputs": []
    }
  ]
}