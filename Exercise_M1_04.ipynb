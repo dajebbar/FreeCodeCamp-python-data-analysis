{
  "nbformat": 4,
  "nbformat_minor": 0,
  "metadata": {
    "colab": {
      "name": "Exercise M1.04.ipynb",
      "provenance": [],
      "authorship_tag": "ABX9TyNyvj/kbQvLgZnn2dAJzU7t",
      "include_colab_link": true
    },
    "kernelspec": {
      "name": "python3",
      "display_name": "Python 3"
    },
    "language_info": {
      "name": "python"
    }
  },
  "cells": [
    {
      "cell_type": "markdown",
      "metadata": {
        "id": "view-in-github",
        "colab_type": "text"
      },
      "source": [
        "<a href=\"https://colab.research.google.com/github/dajebbar/FreeCodeCamp-python-data-analysis/blob/main/Exercise_M1_04.ipynb\" target=\"_parent\"><img src=\"https://colab.research.google.com/assets/colab-badge.svg\" alt=\"Open In Colab\"/></a>"
      ]
    },
    {
      "cell_type": "markdown",
      "source": [
        "The goal of this exercise is to evaluate the impact of using an arbitrary integer encoding for categorical variables along with a linear classification model such as Logistic Regression.\n",
        "\n",
        "To do so, let's try to use `OrdinalEncoder` to preprocess the categorical variables. This preprocessor is assembled in a pipeline with `LogisticRegression`. The generalization performance of the pipeline can be evaluated by _cross-validation_ and then compared to the score obtained when using `OneHotEncoder` or to some other baseline score.\n",
        "\n",
        "First, we load the dataset."
      ],
      "metadata": {
        "id": "nhM2CNUEaA0e"
      }
    },
    {
      "cell_type": "code",
      "execution_count": 1,
      "metadata": {
        "id": "lW94GHnyZvwv"
      },
      "outputs": [],
      "source": [
        "import pandas as pd\n",
        "\n",
        "adult_census = pd.read_csv(\"./adult.csv\")"
      ]
    },
    {
      "cell_type": "code",
      "source": [
        "target_name = \"class\"\n",
        "target = adult_census[target_name]\n",
        "data = adult_census.drop(columns=[target_name, \"education-num\"])"
      ],
      "metadata": {
        "id": "lBQlvfCxan3M"
      },
      "execution_count": 2,
      "outputs": []
    },
    {
      "cell_type": "code",
      "source": [
        "from sklearn.compose import make_column_selector as selector \n",
        "\n",
        "categorical_columns_selector = selector(dtype_include=object)\n",
        "categorical_columns = categorical_columns_selector(data)\n",
        "data_categorical = data[categorical_columns]"
      ],
      "metadata": {
        "id": "z6dC23gBapKJ"
      },
      "execution_count": 3,
      "outputs": []
    },
    {
      "cell_type": "markdown",
      "source": [
        "Define a scikit-learn pipeline composed of an OrdinalEncoder and a LogisticRegression classifier."
      ],
      "metadata": {
        "id": "lr1uDkWEcct6"
      }
    },
    {
      "cell_type": "code",
      "source": [
        "from sklearn.pipeline import make_pipeline\n",
        "from sklearn.preprocessing import OrdinalEncoder\n",
        "from sklearn.linear_model import LogisticRegression\n",
        "\n",
        "model = make_pipeline(OrdinalEncoder(handle_unknown=\"use_encoded_value\", \n",
        "                                     unknown_value=-1),\n",
        "                      LogisticRegression(max_iter=500))"
      ],
      "metadata": {
        "id": "fFwDoTQmcbs1"
      },
      "execution_count": 19,
      "outputs": []
    },
    {
      "cell_type": "markdown",
      "source": [
        "## Evaluate Model"
      ],
      "metadata": {
        "id": "SIjsRze1gIkW"
      }
    },
    {
      "cell_type": "code",
      "source": [
        "from sklearn.model_selection import cross_validate\n",
        "\n",
        "cv_results = cross_validate(model,\n",
        "                            data_categorical,\n",
        "                            target,\n",
        ")\n",
        "\n",
        "cv_results"
      ],
      "metadata": {
        "colab": {
          "base_uri": "https://localhost:8080/"
        },
        "id": "nyYxO-udgCTn",
        "outputId": "9edd0b0d-b368-4b91-e9fd-6160bbbaa3f5"
      },
      "execution_count": 20,
      "outputs": [
        {
          "output_type": "execute_result",
          "data": {
            "text/plain": [
              "{'fit_time': array([0.96557856, 0.69453311, 0.90758133, 0.94574761, 0.7835381 ]),\n",
              " 'score_time': array([0.07087135, 0.07288694, 0.07205296, 0.07378292, 0.06938338]),\n",
              " 'test_score': array([0.75504146, 0.75555328, 0.75573301, 0.75307125, 0.75788288])}"
            ]
          },
          "metadata": {},
          "execution_count": 20
        }
      ]
    },
    {
      "cell_type": "code",
      "source": [
        "scores = cv_results['test_score']\n",
        "\n",
        "f\"{scores.mean():.3f} '+/-'  {scores.std():.3f}\""
      ],
      "metadata": {
        "colab": {
          "base_uri": "https://localhost:8080/",
          "height": 35
        },
        "id": "NtL9QAvyjpii",
        "outputId": "ca9946d1-dbb0-423f-8425-52dfd67444c8"
      },
      "execution_count": 21,
      "outputs": [
        {
          "output_type": "execute_result",
          "data": {
            "application/vnd.google.colaboratory.intrinsic+json": {
              "type": "string"
            },
            "text/plain": [
              "\"0.755 '+/-'  0.002\""
            ]
          },
          "metadata": {},
          "execution_count": 21
        }
      ]
    },
    {
      "cell_type": "code",
      "source": [
        "from sklearn.preprocessing import OneHotEncoder\n",
        "model2 = make_pipeline(OneHotEncoder(handle_unknown='ignore'),\n",
        "                       LogisticRegression(max_iter=500))"
      ],
      "metadata": {
        "id": "EvutGvqygwg7"
      },
      "execution_count": 14,
      "outputs": []
    },
    {
      "cell_type": "code",
      "source": [
        "cv_results = cross_validate(model2,\n",
        "                            data_categorical,\n",
        "                            target,\n",
        ")\n",
        "\n",
        "cv_results"
      ],
      "metadata": {
        "colab": {
          "base_uri": "https://localhost:8080/"
        },
        "id": "f0dW43NTiN58",
        "outputId": "efc65f8b-2ef8-4617-b1ed-887648908e1a"
      },
      "execution_count": 17,
      "outputs": [
        {
          "output_type": "execute_result",
          "data": {
            "text/plain": [
              "{'fit_time': array([1.88570929, 1.37368798, 1.5548985 , 1.35697341, 1.48296356]),\n",
              " 'score_time': array([0.03757548, 0.03818607, 0.03807187, 0.05203223, 0.0398953 ]),\n",
              " 'test_score': array([0.83222438, 0.83560242, 0.82872645, 0.83312858, 0.83466421])}"
            ]
          },
          "metadata": {},
          "execution_count": 17
        }
      ]
    },
    {
      "cell_type": "code",
      "source": [
        "scores = cv_results['test_score']\n",
        "\n",
        "f\"{scores.mean():.3f} '+/-'  {scores.std():.3f}\""
      ],
      "metadata": {
        "colab": {
          "base_uri": "https://localhost:8080/",
          "height": 35
        },
        "id": "OaDVSTchiRwr",
        "outputId": "1876b886-ff1f-4add-c2f9-ac82231c8588"
      },
      "execution_count": 18,
      "outputs": [
        {
          "output_type": "execute_result",
          "data": {
            "application/vnd.google.colaboratory.intrinsic+json": {
              "type": "string"
            },
            "text/plain": [
              "\"0.833 '+/-'  0.002\""
            ]
          },
          "metadata": {},
          "execution_count": 18
        }
      ]
    },
    {
      "cell_type": "code",
      "source": [
        ""
      ],
      "metadata": {
        "id": "e9qmutDjjF3k"
      },
      "execution_count": null,
      "outputs": []
    }
  ]
}