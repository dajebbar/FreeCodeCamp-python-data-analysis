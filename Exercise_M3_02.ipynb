{
  "nbformat": 4,
  "nbformat_minor": 0,
  "metadata": {
    "colab": {
      "name": "Exercise M3.02.ipynb",
      "provenance": [],
      "authorship_tag": "ABX9TyOzvuxOYPUelQod6NgP9R9v",
      "include_colab_link": true
    },
    "kernelspec": {
      "name": "python3",
      "display_name": "Python 3"
    },
    "language_info": {
      "name": "python"
    }
  },
  "cells": [
    {
      "cell_type": "markdown",
      "metadata": {
        "id": "view-in-github",
        "colab_type": "text"
      },
      "source": [
        "<a href=\"https://colab.research.google.com/github/dajebbar/FreeCodeCamp-python-data-analysis/blob/main/Exercise_M3_02.ipynb\" target=\"_parent\"><img src=\"https://colab.research.google.com/assets/colab-badge.svg\" alt=\"Open In Colab\"/></a>"
      ]
    },
    {
      "cell_type": "markdown",
      "source": [
        "---\n",
        "# Exercise M3.02\n",
        "---\n",
        "The goal is to find the best set of hyperparameters which maximize the generalization performance on a training set."
      ],
      "metadata": {
        "id": "qIxP0ngjLMmz"
      }
    },
    {
      "cell_type": "code",
      "execution_count": 1,
      "metadata": {
        "id": "yXWmBSA6LHKs"
      },
      "outputs": [],
      "source": [
        "import numpy as np\n",
        "import pandas as pd\n",
        "\n",
        "adult_census = pd.read_csv(\"./adult.csv\")\n",
        "\n",
        "target_name = \"class\"\n",
        "target = adult_census[target_name]\n",
        "data = adult_census.drop(columns=[target_name, \"education-num\"])\n",
        "\n",
        "from sklearn.model_selection import train_test_split\n",
        "\n",
        "X_train, X_test, y_train, y_test = train_test_split(\n",
        "    data, \n",
        "    target,\n",
        "    test_size=.2,\n",
        "    random_state=42)"
      ]
    },
    {
      "cell_type": "markdown",
      "source": [
        "Create your machine learning pipeline\n",
        "\n",
        "You should:\n",
        "\n",
        "- preprocess the categorical columns using a `OneHotEncoder` and use a `StandardScaler` to normalize the numerical data.\n",
        "- use a `LogisticRegression` as a predictive model.  \n",
        "\n",
        "Start by defining the columns and the preprocessing pipelines to be applied on each columns."
      ],
      "metadata": {
        "id": "BsjFAunsMRxC"
      }
    },
    {
      "cell_type": "code",
      "source": [
        "from sklearn.preprocessing import OneHotEncoder\n",
        "from sklearn.preprocessing import StandardScaler\n",
        "from sklearn.compose import make_column_selector as selector\n",
        "\n",
        "categorical_column = selector(dtype_include='object')(data)\n",
        "numerical_column = selector(dtype_include='number')(data)\n",
        "categorical_preprocessor = OneHotEncoder(handle_unknown='ignore')\n",
        "numerical_preprocessor = StandardScaler()"
      ],
      "metadata": {
        "id": "DYA8B7A8MGCM"
      },
      "execution_count": 2,
      "outputs": []
    },
    {
      "cell_type": "markdown",
      "source": [
        "Subsequently, create a ColumnTransformer to redirect the specific columns a preprocessing pipeline."
      ],
      "metadata": {
        "id": "F_Czm_EfNX_O"
      }
    },
    {
      "cell_type": "code",
      "source": [
        "from sklearn.compose import ColumnTransformer\n",
        "preprocessor = ColumnTransformer([\n",
        "                                  ('standard-scaler', \n",
        "                                   numerical_preprocessor, \n",
        "                                   numerical_column),\n",
        "                                  ('cat-prep', categorical_preprocessor, categorical_column)\n",
        "], remainder='passthrough', sparse_threshold=0)"
      ],
      "metadata": {
        "id": "DZkWpCeRNdL2"
      },
      "execution_count": 3,
      "outputs": []
    },
    {
      "cell_type": "markdown",
      "source": [
        "Finally, concatenate the preprocessing pipeline with a logistic regression."
      ],
      "metadata": {
        "id": "j-4Ekc1LNtke"
      }
    },
    {
      "cell_type": "code",
      "source": [
        "from sklearn.pipeline import Pipeline\n",
        "from sklearn.linear_model import LogisticRegression\n",
        "\n",
        "model = Pipeline([\n",
        "                  ('preprocessor', preprocessor),\n",
        "                  ('classifier', LogisticRegression()\n",
        "                  )\n",
        "])"
      ],
      "metadata": {
        "id": "TjiDm8jDNmwN"
      },
      "execution_count": 4,
      "outputs": []
    },
    {
      "cell_type": "markdown",
      "source": [
        "Use a `RandomizedSearchCV` with `n_iter=20` to find the best set of hyperparameters by tuning the following parameters of the `model`:\n",
        "\n",
        "- the parameter `C` of the `LogisticRegression` with values ranging from 0.001 to 10. You can use a log-uniform distribution (i.e. `scipy.stats.loguniform`);\n",
        "- the parameter `with_mean` of the `StandardScaler` with possible values `True` or `False`;\n",
        "- the parameter `with_std` of the `StandardScalerè  with possible values `True` or `False`.  \n",
        "\n",
        "Once the computation has completed, print the best combination of parameters stored in the `best_params_` attribute."
      ],
      "metadata": {
        "id": "3B7uGiDTOLqd"
      }
    },
    {
      "cell_type": "code",
      "source": [
        "for p in model.get_params():\n",
        "  print(p)"
      ],
      "metadata": {
        "colab": {
          "base_uri": "https://localhost:8080/"
        },
        "id": "9t7rMEmXPVTA",
        "outputId": "847ebb32-53b9-45e2-9982-609666ab6fc5"
      },
      "execution_count": 5,
      "outputs": [
        {
          "output_type": "stream",
          "name": "stdout",
          "text": [
            "memory\n",
            "steps\n",
            "verbose\n",
            "preprocessor\n",
            "classifier\n",
            "preprocessor__n_jobs\n",
            "preprocessor__remainder\n",
            "preprocessor__sparse_threshold\n",
            "preprocessor__transformer_weights\n",
            "preprocessor__transformers\n",
            "preprocessor__verbose\n",
            "preprocessor__verbose_feature_names_out\n",
            "preprocessor__standard-scaler\n",
            "preprocessor__cat-prep\n",
            "preprocessor__standard-scaler__copy\n",
            "preprocessor__standard-scaler__with_mean\n",
            "preprocessor__standard-scaler__with_std\n",
            "preprocessor__cat-prep__categories\n",
            "preprocessor__cat-prep__drop\n",
            "preprocessor__cat-prep__dtype\n",
            "preprocessor__cat-prep__handle_unknown\n",
            "preprocessor__cat-prep__sparse\n",
            "classifier__C\n",
            "classifier__class_weight\n",
            "classifier__dual\n",
            "classifier__fit_intercept\n",
            "classifier__intercept_scaling\n",
            "classifier__l1_ratio\n",
            "classifier__max_iter\n",
            "classifier__multi_class\n",
            "classifier__n_jobs\n",
            "classifier__penalty\n",
            "classifier__random_state\n",
            "classifier__solver\n",
            "classifier__tol\n",
            "classifier__verbose\n",
            "classifier__warm_start\n"
          ]
        }
      ]
    },
    {
      "cell_type": "code",
      "source": [
        "from scipy.stats import loguniform\n",
        "from sklearn.model_selection import RandomizedSearchCV\n",
        "\n",
        "param_distributions = {\n",
        "    'classifier__C': loguniform(.001, 10),\n",
        "    'preprocessor__standard-scaler__with_mean': [True, False],\n",
        "    'preprocessor__standard-scaler__with_std': [True, False]\n",
        "}\n",
        "\n",
        "model_random_search = RandomizedSearchCV(model,\n",
        "                                         param_distributions=param_distributions,\n",
        "                                         n_iter=20,\n",
        "                                         n_jobs=-1,\n",
        "                                         cv=10,\n",
        "                                         verbose=1)\n",
        "\n",
        "model_random_search.fit(X_train, y_train)"
      ],
      "metadata": {
        "colab": {
          "base_uri": "https://localhost:8080/"
        },
        "id": "MrfWKKhGOHQ3",
        "outputId": "4bb3f00d-3ce8-4633-b2a5-c24acf74bee6"
      },
      "execution_count": 6,
      "outputs": [
        {
          "output_type": "stream",
          "name": "stdout",
          "text": [
            "Fitting 10 folds for each of 20 candidates, totalling 200 fits\n"
          ]
        },
        {
          "output_type": "stream",
          "name": "stderr",
          "text": [
            "/usr/local/lib/python3.7/dist-packages/sklearn/linear_model/_logistic.py:818: ConvergenceWarning: lbfgs failed to converge (status=1):\n",
            "STOP: TOTAL NO. of ITERATIONS REACHED LIMIT.\n",
            "\n",
            "Increase the number of iterations (max_iter) or scale the data as shown in:\n",
            "    https://scikit-learn.org/stable/modules/preprocessing.html\n",
            "Please also refer to the documentation for alternative solver options:\n",
            "    https://scikit-learn.org/stable/modules/linear_model.html#logistic-regression\n",
            "  extra_warning_msg=_LOGISTIC_SOLVER_CONVERGENCE_MSG,\n"
          ]
        },
        {
          "output_type": "execute_result",
          "data": {
            "text/plain": [
              "RandomizedSearchCV(cv=10,\n",
              "                   estimator=Pipeline(steps=[('preprocessor',\n",
              "                                              ColumnTransformer(remainder='passthrough',\n",
              "                                                                sparse_threshold=0,\n",
              "                                                                transformers=[('standard-scaler',\n",
              "                                                                               StandardScaler(),\n",
              "                                                                               ['age',\n",
              "                                                                                'fnlwgt',\n",
              "                                                                                'capital-gain',\n",
              "                                                                                'capital-loss',\n",
              "                                                                                'hours-per-week']),\n",
              "                                                                              ('cat-prep',\n",
              "                                                                               OneHotEncoder(handle_unknown='ignore'),\n",
              "                                                                               ['workclass',\n",
              "                                                                                'education',\n",
              "                                                                                'marital-status',\n",
              "                                                                                'occupation',\n",
              "                                                                                'relationship',\n",
              "                                                                                'race',\n",
              "                                                                                'sex',\n",
              "                                                                                'native-country'])])),\n",
              "                                             ('classifier',\n",
              "                                              LogisticRegression())]),\n",
              "                   n_iter=20, n_jobs=-1,\n",
              "                   param_distributions={'classifier__C': <scipy.stats._distn_infrastructure.rv_frozen object at 0x7f490d407b10>,\n",
              "                                        'preprocessor__standard-scaler__with_mean': [True,\n",
              "                                                                                     False],\n",
              "                                        'preprocessor__standard-scaler__with_std': [True,\n",
              "                                                                                    False]},\n",
              "                   verbose=1)"
            ]
          },
          "metadata": {},
          "execution_count": 6
        }
      ]
    },
    {
      "cell_type": "code",
      "source": [
        "accuracy = model_random_search.score(X_test, y_test)\n",
        "print(f\"The test accuracy score of the best model is \"\n",
        "      f\"{accuracy:.2f}\")"
      ],
      "metadata": {
        "colab": {
          "base_uri": "https://localhost:8080/"
        },
        "id": "wE4JqeZHQvgI",
        "outputId": "0ad53486-d851-437a-8928-7565d00b0181"
      },
      "execution_count": 7,
      "outputs": [
        {
          "output_type": "stream",
          "name": "stdout",
          "text": [
            "The test accuracy score of the best model is 0.86\n"
          ]
        }
      ]
    },
    {
      "cell_type": "code",
      "source": [
        "from pprint import pprint\n",
        "\n",
        "print(\"The best parameters are:\")\n",
        "pprint(model_random_search.best_params_)"
      ],
      "metadata": {
        "colab": {
          "base_uri": "https://localhost:8080/"
        },
        "id": "Qk59lKKwRzZD",
        "outputId": "28e40322-3599-4638-9914-bbaed544d5cc"
      },
      "execution_count": 8,
      "outputs": [
        {
          "output_type": "stream",
          "name": "stdout",
          "text": [
            "The best parameters are:\n",
            "{'classifier__C': 0.24851639207507104,\n",
            " 'preprocessor__standard-scaler__with_mean': False,\n",
            " 'preprocessor__standard-scaler__with_std': True}\n"
          ]
        }
      ]
    },
    {
      "cell_type": "code",
      "source": [
        "from sklearn.model_selection import cross_validate, KFold\n",
        "\n",
        "\n",
        "cv = KFold(n_splits=10, shuffle=True, random_state=42)\n",
        "\n",
        "cv_res = cross_validate(model_random_search,\n",
        "                            X_train,\n",
        "                            y_train,\n",
        "                            cv=cv,\n",
        "                            n_jobs=-1,\n",
        "                            return_estimator=True)"
      ],
      "metadata": {
        "id": "VNuiHdTXR1zl"
      },
      "execution_count": 9,
      "outputs": []
    },
    {
      "cell_type": "code",
      "source": [
        "scores = cv_res[\"test_score\"]\n",
        "print(f\"Accuracy score by cross-validation combined with hyperparameters \"\n",
        "      f\"search:\\n{scores.mean():.3f} +/- {scores.std():.3f}\")"
      ],
      "metadata": {
        "colab": {
          "base_uri": "https://localhost:8080/"
        },
        "id": "QnKLqQAWSjFT",
        "outputId": "0203db01-becf-4a58-ac54-766093972bdd"
      },
      "execution_count": 10,
      "outputs": [
        {
          "output_type": "stream",
          "name": "stdout",
          "text": [
            "Accuracy score by cross-validation combined with hyperparameters search:\n",
            "0.851 +/- 0.007\n"
          ]
        }
      ]
    },
    {
      "cell_type": "code",
      "source": [
        "for fold_idx, estimator in enumerate(cv_res[\"estimator\"]):\n",
        "    print(f\"Best parameter found on fold #{fold_idx + 1}\")\n",
        "    print(f\"{estimator.best_params_}\")"
      ],
      "metadata": {
        "colab": {
          "base_uri": "https://localhost:8080/"
        },
        "id": "MwjeO8l2SoKd",
        "outputId": "3eb67e68-a7bc-47db-afb6-ec501a400175"
      },
      "execution_count": 11,
      "outputs": [
        {
          "output_type": "stream",
          "name": "stdout",
          "text": [
            "Best parameter found on fold #1\n",
            "{'classifier__C': 0.14773993784221434, 'preprocessor__standard-scaler__with_mean': True, 'preprocessor__standard-scaler__with_std': True}\n",
            "Best parameter found on fold #2\n",
            "{'classifier__C': 9.652058909869588, 'preprocessor__standard-scaler__with_mean': True, 'preprocessor__standard-scaler__with_std': True}\n",
            "Best parameter found on fold #3\n",
            "{'classifier__C': 9.956447678929921, 'preprocessor__standard-scaler__with_mean': True, 'preprocessor__standard-scaler__with_std': True}\n",
            "Best parameter found on fold #4\n",
            "{'classifier__C': 0.1177306598697333, 'preprocessor__standard-scaler__with_mean': True, 'preprocessor__standard-scaler__with_std': True}\n",
            "Best parameter found on fold #5\n",
            "{'classifier__C': 3.1947560241376323, 'preprocessor__standard-scaler__with_mean': True, 'preprocessor__standard-scaler__with_std': True}\n",
            "Best parameter found on fold #6\n",
            "{'classifier__C': 0.11164462798002081, 'preprocessor__standard-scaler__with_mean': True, 'preprocessor__standard-scaler__with_std': True}\n",
            "Best parameter found on fold #7\n",
            "{'classifier__C': 1.3394270247668971, 'preprocessor__standard-scaler__with_mean': True, 'preprocessor__standard-scaler__with_std': True}\n",
            "Best parameter found on fold #8\n",
            "{'classifier__C': 1.5758632437747104, 'preprocessor__standard-scaler__with_mean': True, 'preprocessor__standard-scaler__with_std': True}\n",
            "Best parameter found on fold #9\n",
            "{'classifier__C': 0.28533044505790317, 'preprocessor__standard-scaler__with_mean': False, 'preprocessor__standard-scaler__with_std': True}\n",
            "Best parameter found on fold #10\n",
            "{'classifier__C': 4.214016540196786, 'preprocessor__standard-scaler__with_mean': False, 'preprocessor__standard-scaler__with_std': True}\n"
          ]
        }
      ]
    },
    {
      "cell_type": "code",
      "source": [
        "cv_res = pd.DataFrame(cv_res)"
      ],
      "metadata": {
        "id": "R6-saOfKSrcZ"
      },
      "execution_count": 12,
      "outputs": []
    },
    {
      "cell_type": "code",
      "source": [
        "cv_res.to_csv('cv_res.csv')"
      ],
      "metadata": {
        "id": "WjNK1rfuaIKX"
      },
      "execution_count": 13,
      "outputs": []
    },
    {
      "cell_type": "code",
      "source": [
        "cv_res = pd.read_csv('cv_res.csv')\n",
        "cv_res.drop('Unnamed: 0', axis=1, inplace=True)\n",
        "cv_res.head()"
      ],
      "metadata": {
        "id": "8dKa23b5alv_",
        "colab": {
          "base_uri": "https://localhost:8080/",
          "height": 206
        },
        "outputId": "c98911c0-cf2c-495e-b49e-fd37afbf9120"
      },
      "execution_count": 14,
      "outputs": [
        {
          "output_type": "execute_result",
          "data": {
            "text/html": [
              "\n",
              "  <div id=\"df-cf8e5cc0-83d7-4ad4-aa96-c8032b72d441\">\n",
              "    <div class=\"colab-df-container\">\n",
              "      <div>\n",
              "<style scoped>\n",
              "    .dataframe tbody tr th:only-of-type {\n",
              "        vertical-align: middle;\n",
              "    }\n",
              "\n",
              "    .dataframe tbody tr th {\n",
              "        vertical-align: top;\n",
              "    }\n",
              "\n",
              "    .dataframe thead th {\n",
              "        text-align: right;\n",
              "    }\n",
              "</style>\n",
              "<table border=\"1\" class=\"dataframe\">\n",
              "  <thead>\n",
              "    <tr style=\"text-align: right;\">\n",
              "      <th></th>\n",
              "      <th>fit_time</th>\n",
              "      <th>score_time</th>\n",
              "      <th>estimator</th>\n",
              "      <th>test_score</th>\n",
              "    </tr>\n",
              "  </thead>\n",
              "  <tbody>\n",
              "    <tr>\n",
              "      <th>0</th>\n",
              "      <td>296.142516</td>\n",
              "      <td>0.036671</td>\n",
              "      <td>RandomizedSearchCV(cv=10,\\n                   ...</td>\n",
              "      <td>0.846981</td>\n",
              "    </tr>\n",
              "    <tr>\n",
              "      <th>1</th>\n",
              "      <td>316.958745</td>\n",
              "      <td>0.051523</td>\n",
              "      <td>RandomizedSearchCV(cv=10,\\n                   ...</td>\n",
              "      <td>0.847492</td>\n",
              "    </tr>\n",
              "    <tr>\n",
              "      <th>2</th>\n",
              "      <td>261.556571</td>\n",
              "      <td>0.034958</td>\n",
              "      <td>RandomizedSearchCV(cv=10,\\n                   ...</td>\n",
              "      <td>0.839048</td>\n",
              "    </tr>\n",
              "    <tr>\n",
              "      <th>3</th>\n",
              "      <td>297.887637</td>\n",
              "      <td>0.034838</td>\n",
              "      <td>RandomizedSearchCV(cv=10,\\n                   ...</td>\n",
              "      <td>0.848989</td>\n",
              "    </tr>\n",
              "    <tr>\n",
              "      <th>4</th>\n",
              "      <td>322.163099</td>\n",
              "      <td>0.048613</td>\n",
              "      <td>RandomizedSearchCV(cv=10,\\n                   ...</td>\n",
              "      <td>0.854620</td>\n",
              "    </tr>\n",
              "  </tbody>\n",
              "</table>\n",
              "</div>\n",
              "      <button class=\"colab-df-convert\" onclick=\"convertToInteractive('df-cf8e5cc0-83d7-4ad4-aa96-c8032b72d441')\"\n",
              "              title=\"Convert this dataframe to an interactive table.\"\n",
              "              style=\"display:none;\">\n",
              "        \n",
              "  <svg xmlns=\"http://www.w3.org/2000/svg\" height=\"24px\"viewBox=\"0 0 24 24\"\n",
              "       width=\"24px\">\n",
              "    <path d=\"M0 0h24v24H0V0z\" fill=\"none\"/>\n",
              "    <path d=\"M18.56 5.44l.94 2.06.94-2.06 2.06-.94-2.06-.94-.94-2.06-.94 2.06-2.06.94zm-11 1L8.5 8.5l.94-2.06 2.06-.94-2.06-.94L8.5 2.5l-.94 2.06-2.06.94zm10 10l.94 2.06.94-2.06 2.06-.94-2.06-.94-.94-2.06-.94 2.06-2.06.94z\"/><path d=\"M17.41 7.96l-1.37-1.37c-.4-.4-.92-.59-1.43-.59-.52 0-1.04.2-1.43.59L10.3 9.45l-7.72 7.72c-.78.78-.78 2.05 0 2.83L4 21.41c.39.39.9.59 1.41.59.51 0 1.02-.2 1.41-.59l7.78-7.78 2.81-2.81c.8-.78.8-2.07 0-2.86zM5.41 20L4 18.59l7.72-7.72 1.47 1.35L5.41 20z\"/>\n",
              "  </svg>\n",
              "      </button>\n",
              "      \n",
              "  <style>\n",
              "    .colab-df-container {\n",
              "      display:flex;\n",
              "      flex-wrap:wrap;\n",
              "      gap: 12px;\n",
              "    }\n",
              "\n",
              "    .colab-df-convert {\n",
              "      background-color: #E8F0FE;\n",
              "      border: none;\n",
              "      border-radius: 50%;\n",
              "      cursor: pointer;\n",
              "      display: none;\n",
              "      fill: #1967D2;\n",
              "      height: 32px;\n",
              "      padding: 0 0 0 0;\n",
              "      width: 32px;\n",
              "    }\n",
              "\n",
              "    .colab-df-convert:hover {\n",
              "      background-color: #E2EBFA;\n",
              "      box-shadow: 0px 1px 2px rgba(60, 64, 67, 0.3), 0px 1px 3px 1px rgba(60, 64, 67, 0.15);\n",
              "      fill: #174EA6;\n",
              "    }\n",
              "\n",
              "    [theme=dark] .colab-df-convert {\n",
              "      background-color: #3B4455;\n",
              "      fill: #D2E3FC;\n",
              "    }\n",
              "\n",
              "    [theme=dark] .colab-df-convert:hover {\n",
              "      background-color: #434B5C;\n",
              "      box-shadow: 0px 1px 3px 1px rgba(0, 0, 0, 0.15);\n",
              "      filter: drop-shadow(0px 1px 2px rgba(0, 0, 0, 0.3));\n",
              "      fill: #FFFFFF;\n",
              "    }\n",
              "  </style>\n",
              "\n",
              "      <script>\n",
              "        const buttonEl =\n",
              "          document.querySelector('#df-cf8e5cc0-83d7-4ad4-aa96-c8032b72d441 button.colab-df-convert');\n",
              "        buttonEl.style.display =\n",
              "          google.colab.kernel.accessAllowed ? 'block' : 'none';\n",
              "\n",
              "        async function convertToInteractive(key) {\n",
              "          const element = document.querySelector('#df-cf8e5cc0-83d7-4ad4-aa96-c8032b72d441');\n",
              "          const dataTable =\n",
              "            await google.colab.kernel.invokeFunction('convertToInteractive',\n",
              "                                                     [key], {});\n",
              "          if (!dataTable) return;\n",
              "\n",
              "          const docLinkHtml = 'Like what you see? Visit the ' +\n",
              "            '<a target=\"_blank\" href=https://colab.research.google.com/notebooks/data_table.ipynb>data table notebook</a>'\n",
              "            + ' to learn more about interactive tables.';\n",
              "          element.innerHTML = '';\n",
              "          dataTable['output_type'] = 'display_data';\n",
              "          await google.colab.output.renderOutput(dataTable, element);\n",
              "          const docLink = document.createElement('div');\n",
              "          docLink.innerHTML = docLinkHtml;\n",
              "          element.appendChild(docLink);\n",
              "        }\n",
              "      </script>\n",
              "    </div>\n",
              "  </div>\n",
              "  "
            ],
            "text/plain": [
              "     fit_time  ...  test_score\n",
              "0  296.142516  ...    0.846981\n",
              "1  316.958745  ...    0.847492\n",
              "2  261.556571  ...    0.839048\n",
              "3  297.887637  ...    0.848989\n",
              "4  322.163099  ...    0.854620\n",
              "\n",
              "[5 rows x 4 columns]"
            ]
          },
          "metadata": {},
          "execution_count": 14
        }
      ]
    },
    {
      "cell_type": "code",
      "source": [
        "cv_results = pd.DataFrame(model_random_search.cv_results_)\n",
        "\n",
        "cv_results.to_csv('cv_results.csv')\n",
        "cv_results = pd.read_csv('cv_results.csv')\n",
        "cv_results.head()"
      ],
      "metadata": {
        "colab": {
          "base_uri": "https://localhost:8080/",
          "height": 461
        },
        "id": "UomzLoCX-GWo",
        "outputId": "b07da442-4c74-43c6-cb87-6858176d2693"
      },
      "execution_count": 17,
      "outputs": [
        {
          "output_type": "execute_result",
          "data": {
            "text/html": [
              "\n",
              "  <div id=\"df-83d6ee82-0cd3-4279-ab24-7c5cb1632842\">\n",
              "    <div class=\"colab-df-container\">\n",
              "      <div>\n",
              "<style scoped>\n",
              "    .dataframe tbody tr th:only-of-type {\n",
              "        vertical-align: middle;\n",
              "    }\n",
              "\n",
              "    .dataframe tbody tr th {\n",
              "        vertical-align: top;\n",
              "    }\n",
              "\n",
              "    .dataframe thead th {\n",
              "        text-align: right;\n",
              "    }\n",
              "</style>\n",
              "<table border=\"1\" class=\"dataframe\">\n",
              "  <thead>\n",
              "    <tr style=\"text-align: right;\">\n",
              "      <th></th>\n",
              "      <th>Unnamed: 0</th>\n",
              "      <th>mean_fit_time</th>\n",
              "      <th>std_fit_time</th>\n",
              "      <th>mean_score_time</th>\n",
              "      <th>std_score_time</th>\n",
              "      <th>param_classifier__C</th>\n",
              "      <th>param_preprocessor__standard-scaler__with_mean</th>\n",
              "      <th>param_preprocessor__standard-scaler__with_std</th>\n",
              "      <th>params</th>\n",
              "      <th>split0_test_score</th>\n",
              "      <th>split1_test_score</th>\n",
              "      <th>split2_test_score</th>\n",
              "      <th>split3_test_score</th>\n",
              "      <th>split4_test_score</th>\n",
              "      <th>split5_test_score</th>\n",
              "      <th>split6_test_score</th>\n",
              "      <th>split7_test_score</th>\n",
              "      <th>split8_test_score</th>\n",
              "      <th>split9_test_score</th>\n",
              "      <th>mean_test_score</th>\n",
              "      <th>std_test_score</th>\n",
              "      <th>rank_test_score</th>\n",
              "    </tr>\n",
              "  </thead>\n",
              "  <tbody>\n",
              "    <tr>\n",
              "      <th>0</th>\n",
              "      <td>0</td>\n",
              "      <td>2.737492</td>\n",
              "      <td>0.800403</td>\n",
              "      <td>0.085691</td>\n",
              "      <td>0.014671</td>\n",
              "      <td>9.832512</td>\n",
              "      <td>True</td>\n",
              "      <td>False</td>\n",
              "      <td>{'classifier__C': 9.832511885948751, 'preproce...</td>\n",
              "      <td>0.780962</td>\n",
              "      <td>0.808086</td>\n",
              "      <td>0.782497</td>\n",
              "      <td>0.783466</td>\n",
              "      <td>0.801638</td>\n",
              "      <td>0.785513</td>\n",
              "      <td>0.775531</td>\n",
              "      <td>0.770668</td>\n",
              "      <td>0.779370</td>\n",
              "      <td>0.779370</td>\n",
              "      <td>0.784710</td>\n",
              "      <td>0.010921</td>\n",
              "      <td>18</td>\n",
              "    </tr>\n",
              "    <tr>\n",
              "      <th>1</th>\n",
              "      <td>1</td>\n",
              "      <td>2.967874</td>\n",
              "      <td>0.912570</td>\n",
              "      <td>0.080524</td>\n",
              "      <td>0.037659</td>\n",
              "      <td>0.035763</td>\n",
              "      <td>True</td>\n",
              "      <td>False</td>\n",
              "      <td>{'classifier__C': 0.03576254771847586, 'prepro...</td>\n",
              "      <td>0.805015</td>\n",
              "      <td>0.817042</td>\n",
              "      <td>0.795036</td>\n",
              "      <td>0.785001</td>\n",
              "      <td>0.773483</td>\n",
              "      <td>0.785513</td>\n",
              "      <td>0.775531</td>\n",
              "      <td>0.771692</td>\n",
              "      <td>0.804454</td>\n",
              "      <td>0.779370</td>\n",
              "      <td>0.789214</td>\n",
              "      <td>0.014698</td>\n",
              "      <td>16</td>\n",
              "    </tr>\n",
              "    <tr>\n",
              "      <th>2</th>\n",
              "      <td>2</td>\n",
              "      <td>1.972833</td>\n",
              "      <td>0.105130</td>\n",
              "      <td>0.035776</td>\n",
              "      <td>0.003354</td>\n",
              "      <td>0.116381</td>\n",
              "      <td>False</td>\n",
              "      <td>True</td>\n",
              "      <td>{'classifier__C': 0.1163811664663427, 'preproc...</td>\n",
              "      <td>0.856704</td>\n",
              "      <td>0.850051</td>\n",
              "      <td>0.846213</td>\n",
              "      <td>0.853340</td>\n",
              "      <td>0.858715</td>\n",
              "      <td>0.852316</td>\n",
              "      <td>0.848989</td>\n",
              "      <td>0.846429</td>\n",
              "      <td>0.851037</td>\n",
              "      <td>0.851293</td>\n",
              "      <td>0.851509</td>\n",
              "      <td>0.003815</td>\n",
              "      <td>4</td>\n",
              "    </tr>\n",
              "    <tr>\n",
              "      <th>3</th>\n",
              "      <td>3</td>\n",
              "      <td>1.276877</td>\n",
              "      <td>0.220017</td>\n",
              "      <td>0.035645</td>\n",
              "      <td>0.002404</td>\n",
              "      <td>0.001590</td>\n",
              "      <td>False</td>\n",
              "      <td>False</td>\n",
              "      <td>{'classifier__C': 0.0015901326740022466, 'prep...</td>\n",
              "      <td>0.798874</td>\n",
              "      <td>0.807318</td>\n",
              "      <td>0.794524</td>\n",
              "      <td>0.798567</td>\n",
              "      <td>0.794216</td>\n",
              "      <td>0.799079</td>\n",
              "      <td>0.793192</td>\n",
              "      <td>0.793448</td>\n",
              "      <td>0.795239</td>\n",
              "      <td>0.793704</td>\n",
              "      <td>0.796816</td>\n",
              "      <td>0.004140</td>\n",
              "      <td>11</td>\n",
              "    </tr>\n",
              "    <tr>\n",
              "      <th>4</th>\n",
              "      <td>4</td>\n",
              "      <td>1.314041</td>\n",
              "      <td>0.228484</td>\n",
              "      <td>0.036354</td>\n",
              "      <td>0.004174</td>\n",
              "      <td>1.581154</td>\n",
              "      <td>False</td>\n",
              "      <td>False</td>\n",
              "      <td>{'classifier__C': 1.5811541454722464, 'preproc...</td>\n",
              "      <td>0.798874</td>\n",
              "      <td>0.806295</td>\n",
              "      <td>0.794524</td>\n",
              "      <td>0.798567</td>\n",
              "      <td>0.794216</td>\n",
              "      <td>0.799079</td>\n",
              "      <td>0.791144</td>\n",
              "      <td>0.793448</td>\n",
              "      <td>0.795239</td>\n",
              "      <td>0.793704</td>\n",
              "      <td>0.796509</td>\n",
              "      <td>0.004111</td>\n",
              "      <td>12</td>\n",
              "    </tr>\n",
              "  </tbody>\n",
              "</table>\n",
              "</div>\n",
              "      <button class=\"colab-df-convert\" onclick=\"convertToInteractive('df-83d6ee82-0cd3-4279-ab24-7c5cb1632842')\"\n",
              "              title=\"Convert this dataframe to an interactive table.\"\n",
              "              style=\"display:none;\">\n",
              "        \n",
              "  <svg xmlns=\"http://www.w3.org/2000/svg\" height=\"24px\"viewBox=\"0 0 24 24\"\n",
              "       width=\"24px\">\n",
              "    <path d=\"M0 0h24v24H0V0z\" fill=\"none\"/>\n",
              "    <path d=\"M18.56 5.44l.94 2.06.94-2.06 2.06-.94-2.06-.94-.94-2.06-.94 2.06-2.06.94zm-11 1L8.5 8.5l.94-2.06 2.06-.94-2.06-.94L8.5 2.5l-.94 2.06-2.06.94zm10 10l.94 2.06.94-2.06 2.06-.94-2.06-.94-.94-2.06-.94 2.06-2.06.94z\"/><path d=\"M17.41 7.96l-1.37-1.37c-.4-.4-.92-.59-1.43-.59-.52 0-1.04.2-1.43.59L10.3 9.45l-7.72 7.72c-.78.78-.78 2.05 0 2.83L4 21.41c.39.39.9.59 1.41.59.51 0 1.02-.2 1.41-.59l7.78-7.78 2.81-2.81c.8-.78.8-2.07 0-2.86zM5.41 20L4 18.59l7.72-7.72 1.47 1.35L5.41 20z\"/>\n",
              "  </svg>\n",
              "      </button>\n",
              "      \n",
              "  <style>\n",
              "    .colab-df-container {\n",
              "      display:flex;\n",
              "      flex-wrap:wrap;\n",
              "      gap: 12px;\n",
              "    }\n",
              "\n",
              "    .colab-df-convert {\n",
              "      background-color: #E8F0FE;\n",
              "      border: none;\n",
              "      border-radius: 50%;\n",
              "      cursor: pointer;\n",
              "      display: none;\n",
              "      fill: #1967D2;\n",
              "      height: 32px;\n",
              "      padding: 0 0 0 0;\n",
              "      width: 32px;\n",
              "    }\n",
              "\n",
              "    .colab-df-convert:hover {\n",
              "      background-color: #E2EBFA;\n",
              "      box-shadow: 0px 1px 2px rgba(60, 64, 67, 0.3), 0px 1px 3px 1px rgba(60, 64, 67, 0.15);\n",
              "      fill: #174EA6;\n",
              "    }\n",
              "\n",
              "    [theme=dark] .colab-df-convert {\n",
              "      background-color: #3B4455;\n",
              "      fill: #D2E3FC;\n",
              "    }\n",
              "\n",
              "    [theme=dark] .colab-df-convert:hover {\n",
              "      background-color: #434B5C;\n",
              "      box-shadow: 0px 1px 3px 1px rgba(0, 0, 0, 0.15);\n",
              "      filter: drop-shadow(0px 1px 2px rgba(0, 0, 0, 0.3));\n",
              "      fill: #FFFFFF;\n",
              "    }\n",
              "  </style>\n",
              "\n",
              "      <script>\n",
              "        const buttonEl =\n",
              "          document.querySelector('#df-83d6ee82-0cd3-4279-ab24-7c5cb1632842 button.colab-df-convert');\n",
              "        buttonEl.style.display =\n",
              "          google.colab.kernel.accessAllowed ? 'block' : 'none';\n",
              "\n",
              "        async function convertToInteractive(key) {\n",
              "          const element = document.querySelector('#df-83d6ee82-0cd3-4279-ab24-7c5cb1632842');\n",
              "          const dataTable =\n",
              "            await google.colab.kernel.invokeFunction('convertToInteractive',\n",
              "                                                     [key], {});\n",
              "          if (!dataTable) return;\n",
              "\n",
              "          const docLinkHtml = 'Like what you see? Visit the ' +\n",
              "            '<a target=\"_blank\" href=https://colab.research.google.com/notebooks/data_table.ipynb>data table notebook</a>'\n",
              "            + ' to learn more about interactive tables.';\n",
              "          element.innerHTML = '';\n",
              "          dataTable['output_type'] = 'display_data';\n",
              "          await google.colab.output.renderOutput(dataTable, element);\n",
              "          const docLink = document.createElement('div');\n",
              "          docLink.innerHTML = docLinkHtml;\n",
              "          element.appendChild(docLink);\n",
              "        }\n",
              "      </script>\n",
              "    </div>\n",
              "  </div>\n",
              "  "
            ],
            "text/plain": [
              "   Unnamed: 0  mean_fit_time  ...  std_test_score  rank_test_score\n",
              "0           0       2.737492  ...        0.010921               18\n",
              "1           1       2.967874  ...        0.014698               16\n",
              "2           2       1.972833  ...        0.003815                4\n",
              "3           3       1.276877  ...        0.004140               11\n",
              "4           4       1.314041  ...        0.004111               12\n",
              "\n",
              "[5 rows x 22 columns]"
            ]
          },
          "metadata": {},
          "execution_count": 17
        }
      ]
    },
    {
      "cell_type": "code",
      "source": [
        "column_name_mapping = {\n",
        "    \"param_classifier__C\": \"C\",\n",
        "    \"param_preprocessor__standard-scaler__with_mean\": \"centering\",\n",
        "    \"param_preprocessor__standard-scaler__with_std\": \"scaling\",\n",
        "    \"mean_test_score\": \"mean test accuracy\",\n",
        "}\n",
        "\n",
        "cv_results = cv_results.rename(columns=column_name_mapping)\n",
        "cv_results = cv_results[column_name_mapping.values()].sort_values(\n",
        "    \"mean test accuracy\", ascending=False)"
      ],
      "metadata": {
        "id": "qIW_b1IjMk2J"
      },
      "execution_count": 18,
      "outputs": []
    },
    {
      "cell_type": "code",
      "source": [
        "column_scaler = [\"centering\", \"scaling\"]\n",
        "cv_results[column_scaler] = cv_results[column_scaler].astype(np.int64)\n",
        "cv_results['log C'] = np.log10(cv_results['C'])"
      ],
      "metadata": {
        "id": "BRfF7jORL0tI"
      },
      "execution_count": 19,
      "outputs": []
    },
    {
      "cell_type": "code",
      "source": [
        "column_scaler = [\"centering\", \"scaling\"]\n",
        "cv_results[column_scaler] = cv_results[column_scaler].astype(np.int64)\n",
        "cv_results['log C'] = np.log10(cv_results['C'])"
      ],
      "metadata": {
        "id": "KtQvFFaeOXF0"
      },
      "execution_count": 20,
      "outputs": []
    },
    {
      "cell_type": "code",
      "source": [
        "import plotly.express as px\n",
        "\n",
        "fig = px.parallel_coordinates(\n",
        "    cv_results,\n",
        "    color=\"mean test accuracy\",\n",
        "    dimensions=[\"log C\", \"centering\", \"scaling\", \"mean test accuracy\"],\n",
        "    color_continuous_scale=px.colors.diverging.Tealrose,\n",
        ")\n",
        "fig.show()"
      ],
      "metadata": {
        "colab": {
          "base_uri": "https://localhost:8080/",
          "height": 542
        },
        "id": "QiPyA69TOYLX",
        "outputId": "abbe1af4-a196-4cba-e079-0a4134c6daa4"
      },
      "execution_count": 21,
      "outputs": [
        {
          "output_type": "display_data",
          "data": {
            "text/html": [
              "<html>\n",
              "<head><meta charset=\"utf-8\" /></head>\n",
              "<body>\n",
              "    <div>            <script src=\"https://cdnjs.cloudflare.com/ajax/libs/mathjax/2.7.5/MathJax.js?config=TeX-AMS-MML_SVG\"></script><script type=\"text/javascript\">if (window.MathJax) {MathJax.Hub.Config({SVG: {font: \"STIX-Web\"}});}</script>                <script type=\"text/javascript\">window.PlotlyConfig = {MathJaxConfig: 'local'};</script>\n",
              "        <script src=\"https://cdn.plot.ly/plotly-2.8.3.min.js\"></script>                <div id=\"459a2aa3-9025-4434-bec7-1e85f7c7fbee\" class=\"plotly-graph-div\" style=\"height:525px; width:100%;\"></div>            <script type=\"text/javascript\">                                    window.PLOTLYENV=window.PLOTLYENV || {};                                    if (document.getElementById(\"459a2aa3-9025-4434-bec7-1e85f7c7fbee\")) {                    Plotly.newPlot(                        \"459a2aa3-9025-4434-bec7-1e85f7c7fbee\",                        [{\"dimensions\":[{\"label\":\"log C\",\"values\":[-0.6046449600374424,-1.0392510504101948,-0.5974369847504795,-0.9341172942696296,-0.1996021336113474,-0.07651700227464399,0.11568177794031877,-1.2104123900105397,0.19583698448953427,-2.133581837043055,-2.7985666384574026,0.1989742110231112,-2.304523698671754,-2.1163317557520283,-2.0832740877553753,-1.4465715497009934,-0.19371409842936815,0.9926644800753094,-1.1592514432743395,0.47589560939193465]},{\"label\":\"centering\",\"values\":[0,0,0,0,1,0,0,0,1,1,0,0,1,1,1,1,1,1,1,1]},{\"label\":\"scaling\",\"values\":[1,1,1,1,1,1,1,1,1,1,0,0,0,0,0,0,0,0,0,0]},{\"label\":\"mean test accuracy\",\"values\":[0.8518158233168872,0.8516879133822478,0.8516367428589842,0.8515087543314509,0.8514319428765891,0.8513295887312461,0.851201659148383,0.8510480558868828,0.8510224935481784,0.8474905027037265,0.7968159529951622,0.796508838163871,0.7917229042484436,0.7901358844935957,0.7897267036909057,0.7892137933672314,0.7859382969810635,0.7847102240709599,0.784018711396153,0.782535113340122]}],\"domain\":{\"x\":[0.0,1.0],\"y\":[0.0,1.0]},\"line\":{\"color\":[0.8518158233168872,0.8516879133822478,0.8516367428589842,0.8515087543314509,0.8514319428765891,0.8513295887312461,0.851201659148383,0.8510480558868828,0.8510224935481784,0.8474905027037265,0.7968159529951622,0.796508838163871,0.7917229042484436,0.7901358844935957,0.7897267036909057,0.7892137933672314,0.7859382969810635,0.7847102240709599,0.784018711396153,0.782535113340122],\"coloraxis\":\"coloraxis\"},\"name\":\"\",\"type\":\"parcoords\"}],                        {\"template\":{\"data\":{\"bar\":[{\"error_x\":{\"color\":\"#2a3f5f\"},\"error_y\":{\"color\":\"#2a3f5f\"},\"marker\":{\"line\":{\"color\":\"#E5ECF6\",\"width\":0.5},\"pattern\":{\"fillmode\":\"overlay\",\"size\":10,\"solidity\":0.2}},\"type\":\"bar\"}],\"barpolar\":[{\"marker\":{\"line\":{\"color\":\"#E5ECF6\",\"width\":0.5},\"pattern\":{\"fillmode\":\"overlay\",\"size\":10,\"solidity\":0.2}},\"type\":\"barpolar\"}],\"carpet\":[{\"aaxis\":{\"endlinecolor\":\"#2a3f5f\",\"gridcolor\":\"white\",\"linecolor\":\"white\",\"minorgridcolor\":\"white\",\"startlinecolor\":\"#2a3f5f\"},\"baxis\":{\"endlinecolor\":\"#2a3f5f\",\"gridcolor\":\"white\",\"linecolor\":\"white\",\"minorgridcolor\":\"white\",\"startlinecolor\":\"#2a3f5f\"},\"type\":\"carpet\"}],\"choropleth\":[{\"colorbar\":{\"outlinewidth\":0,\"ticks\":\"\"},\"type\":\"choropleth\"}],\"contour\":[{\"colorbar\":{\"outlinewidth\":0,\"ticks\":\"\"},\"colorscale\":[[0.0,\"#0d0887\"],[0.1111111111111111,\"#46039f\"],[0.2222222222222222,\"#7201a8\"],[0.3333333333333333,\"#9c179e\"],[0.4444444444444444,\"#bd3786\"],[0.5555555555555556,\"#d8576b\"],[0.6666666666666666,\"#ed7953\"],[0.7777777777777778,\"#fb9f3a\"],[0.8888888888888888,\"#fdca26\"],[1.0,\"#f0f921\"]],\"type\":\"contour\"}],\"contourcarpet\":[{\"colorbar\":{\"outlinewidth\":0,\"ticks\":\"\"},\"type\":\"contourcarpet\"}],\"heatmap\":[{\"colorbar\":{\"outlinewidth\":0,\"ticks\":\"\"},\"colorscale\":[[0.0,\"#0d0887\"],[0.1111111111111111,\"#46039f\"],[0.2222222222222222,\"#7201a8\"],[0.3333333333333333,\"#9c179e\"],[0.4444444444444444,\"#bd3786\"],[0.5555555555555556,\"#d8576b\"],[0.6666666666666666,\"#ed7953\"],[0.7777777777777778,\"#fb9f3a\"],[0.8888888888888888,\"#fdca26\"],[1.0,\"#f0f921\"]],\"type\":\"heatmap\"}],\"heatmapgl\":[{\"colorbar\":{\"outlinewidth\":0,\"ticks\":\"\"},\"colorscale\":[[0.0,\"#0d0887\"],[0.1111111111111111,\"#46039f\"],[0.2222222222222222,\"#7201a8\"],[0.3333333333333333,\"#9c179e\"],[0.4444444444444444,\"#bd3786\"],[0.5555555555555556,\"#d8576b\"],[0.6666666666666666,\"#ed7953\"],[0.7777777777777778,\"#fb9f3a\"],[0.8888888888888888,\"#fdca26\"],[1.0,\"#f0f921\"]],\"type\":\"heatmapgl\"}],\"histogram\":[{\"marker\":{\"pattern\":{\"fillmode\":\"overlay\",\"size\":10,\"solidity\":0.2}},\"type\":\"histogram\"}],\"histogram2d\":[{\"colorbar\":{\"outlinewidth\":0,\"ticks\":\"\"},\"colorscale\":[[0.0,\"#0d0887\"],[0.1111111111111111,\"#46039f\"],[0.2222222222222222,\"#7201a8\"],[0.3333333333333333,\"#9c179e\"],[0.4444444444444444,\"#bd3786\"],[0.5555555555555556,\"#d8576b\"],[0.6666666666666666,\"#ed7953\"],[0.7777777777777778,\"#fb9f3a\"],[0.8888888888888888,\"#fdca26\"],[1.0,\"#f0f921\"]],\"type\":\"histogram2d\"}],\"histogram2dcontour\":[{\"colorbar\":{\"outlinewidth\":0,\"ticks\":\"\"},\"colorscale\":[[0.0,\"#0d0887\"],[0.1111111111111111,\"#46039f\"],[0.2222222222222222,\"#7201a8\"],[0.3333333333333333,\"#9c179e\"],[0.4444444444444444,\"#bd3786\"],[0.5555555555555556,\"#d8576b\"],[0.6666666666666666,\"#ed7953\"],[0.7777777777777778,\"#fb9f3a\"],[0.8888888888888888,\"#fdca26\"],[1.0,\"#f0f921\"]],\"type\":\"histogram2dcontour\"}],\"mesh3d\":[{\"colorbar\":{\"outlinewidth\":0,\"ticks\":\"\"},\"type\":\"mesh3d\"}],\"parcoords\":[{\"line\":{\"colorbar\":{\"outlinewidth\":0,\"ticks\":\"\"}},\"type\":\"parcoords\"}],\"pie\":[{\"automargin\":true,\"type\":\"pie\"}],\"scatter\":[{\"marker\":{\"colorbar\":{\"outlinewidth\":0,\"ticks\":\"\"}},\"type\":\"scatter\"}],\"scatter3d\":[{\"line\":{\"colorbar\":{\"outlinewidth\":0,\"ticks\":\"\"}},\"marker\":{\"colorbar\":{\"outlinewidth\":0,\"ticks\":\"\"}},\"type\":\"scatter3d\"}],\"scattercarpet\":[{\"marker\":{\"colorbar\":{\"outlinewidth\":0,\"ticks\":\"\"}},\"type\":\"scattercarpet\"}],\"scattergeo\":[{\"marker\":{\"colorbar\":{\"outlinewidth\":0,\"ticks\":\"\"}},\"type\":\"scattergeo\"}],\"scattergl\":[{\"marker\":{\"colorbar\":{\"outlinewidth\":0,\"ticks\":\"\"}},\"type\":\"scattergl\"}],\"scattermapbox\":[{\"marker\":{\"colorbar\":{\"outlinewidth\":0,\"ticks\":\"\"}},\"type\":\"scattermapbox\"}],\"scatterpolar\":[{\"marker\":{\"colorbar\":{\"outlinewidth\":0,\"ticks\":\"\"}},\"type\":\"scatterpolar\"}],\"scatterpolargl\":[{\"marker\":{\"colorbar\":{\"outlinewidth\":0,\"ticks\":\"\"}},\"type\":\"scatterpolargl\"}],\"scatterternary\":[{\"marker\":{\"colorbar\":{\"outlinewidth\":0,\"ticks\":\"\"}},\"type\":\"scatterternary\"}],\"surface\":[{\"colorbar\":{\"outlinewidth\":0,\"ticks\":\"\"},\"colorscale\":[[0.0,\"#0d0887\"],[0.1111111111111111,\"#46039f\"],[0.2222222222222222,\"#7201a8\"],[0.3333333333333333,\"#9c179e\"],[0.4444444444444444,\"#bd3786\"],[0.5555555555555556,\"#d8576b\"],[0.6666666666666666,\"#ed7953\"],[0.7777777777777778,\"#fb9f3a\"],[0.8888888888888888,\"#fdca26\"],[1.0,\"#f0f921\"]],\"type\":\"surface\"}],\"table\":[{\"cells\":{\"fill\":{\"color\":\"#EBF0F8\"},\"line\":{\"color\":\"white\"}},\"header\":{\"fill\":{\"color\":\"#C8D4E3\"},\"line\":{\"color\":\"white\"}},\"type\":\"table\"}]},\"layout\":{\"annotationdefaults\":{\"arrowcolor\":\"#2a3f5f\",\"arrowhead\":0,\"arrowwidth\":1},\"autotypenumbers\":\"strict\",\"coloraxis\":{\"colorbar\":{\"outlinewidth\":0,\"ticks\":\"\"}},\"colorscale\":{\"diverging\":[[0,\"#8e0152\"],[0.1,\"#c51b7d\"],[0.2,\"#de77ae\"],[0.3,\"#f1b6da\"],[0.4,\"#fde0ef\"],[0.5,\"#f7f7f7\"],[0.6,\"#e6f5d0\"],[0.7,\"#b8e186\"],[0.8,\"#7fbc41\"],[0.9,\"#4d9221\"],[1,\"#276419\"]],\"sequential\":[[0.0,\"#0d0887\"],[0.1111111111111111,\"#46039f\"],[0.2222222222222222,\"#7201a8\"],[0.3333333333333333,\"#9c179e\"],[0.4444444444444444,\"#bd3786\"],[0.5555555555555556,\"#d8576b\"],[0.6666666666666666,\"#ed7953\"],[0.7777777777777778,\"#fb9f3a\"],[0.8888888888888888,\"#fdca26\"],[1.0,\"#f0f921\"]],\"sequentialminus\":[[0.0,\"#0d0887\"],[0.1111111111111111,\"#46039f\"],[0.2222222222222222,\"#7201a8\"],[0.3333333333333333,\"#9c179e\"],[0.4444444444444444,\"#bd3786\"],[0.5555555555555556,\"#d8576b\"],[0.6666666666666666,\"#ed7953\"],[0.7777777777777778,\"#fb9f3a\"],[0.8888888888888888,\"#fdca26\"],[1.0,\"#f0f921\"]]},\"colorway\":[\"#636efa\",\"#EF553B\",\"#00cc96\",\"#ab63fa\",\"#FFA15A\",\"#19d3f3\",\"#FF6692\",\"#B6E880\",\"#FF97FF\",\"#FECB52\"],\"font\":{\"color\":\"#2a3f5f\"},\"geo\":{\"bgcolor\":\"white\",\"lakecolor\":\"white\",\"landcolor\":\"#E5ECF6\",\"showlakes\":true,\"showland\":true,\"subunitcolor\":\"white\"},\"hoverlabel\":{\"align\":\"left\"},\"hovermode\":\"closest\",\"mapbox\":{\"style\":\"light\"},\"paper_bgcolor\":\"white\",\"plot_bgcolor\":\"#E5ECF6\",\"polar\":{\"angularaxis\":{\"gridcolor\":\"white\",\"linecolor\":\"white\",\"ticks\":\"\"},\"bgcolor\":\"#E5ECF6\",\"radialaxis\":{\"gridcolor\":\"white\",\"linecolor\":\"white\",\"ticks\":\"\"}},\"scene\":{\"xaxis\":{\"backgroundcolor\":\"#E5ECF6\",\"gridcolor\":\"white\",\"gridwidth\":2,\"linecolor\":\"white\",\"showbackground\":true,\"ticks\":\"\",\"zerolinecolor\":\"white\"},\"yaxis\":{\"backgroundcolor\":\"#E5ECF6\",\"gridcolor\":\"white\",\"gridwidth\":2,\"linecolor\":\"white\",\"showbackground\":true,\"ticks\":\"\",\"zerolinecolor\":\"white\"},\"zaxis\":{\"backgroundcolor\":\"#E5ECF6\",\"gridcolor\":\"white\",\"gridwidth\":2,\"linecolor\":\"white\",\"showbackground\":true,\"ticks\":\"\",\"zerolinecolor\":\"white\"}},\"shapedefaults\":{\"line\":{\"color\":\"#2a3f5f\"}},\"ternary\":{\"aaxis\":{\"gridcolor\":\"white\",\"linecolor\":\"white\",\"ticks\":\"\"},\"baxis\":{\"gridcolor\":\"white\",\"linecolor\":\"white\",\"ticks\":\"\"},\"bgcolor\":\"#E5ECF6\",\"caxis\":{\"gridcolor\":\"white\",\"linecolor\":\"white\",\"ticks\":\"\"}},\"title\":{\"x\":0.05},\"xaxis\":{\"automargin\":true,\"gridcolor\":\"white\",\"linecolor\":\"white\",\"ticks\":\"\",\"title\":{\"standoff\":15},\"zerolinecolor\":\"white\",\"zerolinewidth\":2},\"yaxis\":{\"automargin\":true,\"gridcolor\":\"white\",\"linecolor\":\"white\",\"ticks\":\"\",\"title\":{\"standoff\":15},\"zerolinecolor\":\"white\",\"zerolinewidth\":2}}},\"coloraxis\":{\"colorbar\":{\"title\":{\"text\":\"mean test accuracy\"}},\"colorscale\":[[0.0,\"rgb(0, 147, 146)\"],[0.16666666666666666,\"rgb(114, 170, 161)\"],[0.3333333333333333,\"rgb(177, 199, 179)\"],[0.5,\"rgb(241, 234, 200)\"],[0.6666666666666666,\"rgb(229, 185, 173)\"],[0.8333333333333334,\"rgb(217, 137, 148)\"],[1.0,\"rgb(208, 88, 126)\"]]},\"legend\":{\"tracegroupgap\":0},\"margin\":{\"t\":60}},                        {\"responsive\": true}                    ).then(function(){\n",
              "                            \n",
              "var gd = document.getElementById('459a2aa3-9025-4434-bec7-1e85f7c7fbee');\n",
              "var x = new MutationObserver(function (mutations, observer) {{\n",
              "        var display = window.getComputedStyle(gd).display;\n",
              "        if (!display || display === 'none') {{\n",
              "            console.log([gd, 'removed!']);\n",
              "            Plotly.purge(gd);\n",
              "            observer.disconnect();\n",
              "        }}\n",
              "}});\n",
              "\n",
              "// Listen for the removal of the full notebook cells\n",
              "var notebookContainer = gd.closest('#notebook-container');\n",
              "if (notebookContainer) {{\n",
              "    x.observe(notebookContainer, {childList: true});\n",
              "}}\n",
              "\n",
              "// Listen for the clearing of the current output cell\n",
              "var outputEl = gd.closest('.output');\n",
              "if (outputEl) {{\n",
              "    x.observe(outputEl, {childList: true});\n",
              "}}\n",
              "\n",
              "                        })                };                            </script>        </div>\n",
              "</body>\n",
              "</html>"
            ]
          },
          "metadata": {}
        }
      ]
    },
    {
      "cell_type": "markdown",
      "source": [
        "We recall that it is possible to select a range of results by clicking and holding on any axis of the parallel coordinate plot. You can then slide (move) the range selection and cross two selections to see the intersections.\n",
        "\n",
        "Selecting the best performing models (i.e. above an accuracy of ~0.845), we observe the following pattern:\n",
        "\n",
        "scaling the data is important. All the best performing models are scaling the data;\n",
        "\n",
        "centering the data does not have a strong impact. Both approaches, centering and not centering, can lead to good models;\n",
        "\n",
        "using some regularization is fine but using too much is a problem. Recall that a smaller value of C means a stronger regularization. In particular no pipeline with C lower than 0.001 can be found among the best models."
      ],
      "metadata": {
        "id": "SzQFBgRyObrd"
      }
    }
  ]
}